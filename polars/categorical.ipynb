{
 "cells": [
  {
   "cell_type": "markdown",
   "id": "109394cd-70c5-428c-b0b1-395340af05a4",
   "metadata": {},
   "source": [
    "# Categorical"
   ]
  },
  {
   "cell_type": "code",
   "execution_count": 1,
   "id": "8fe452eb-0fb3-449b-9f39-0a92ab3a7c78",
   "metadata": {},
   "outputs": [],
   "source": [
    "import polars as pl"
   ]
  },
  {
   "cell_type": "code",
   "execution_count": 2,
   "id": "d6d06aa6-cc43-4c0a-8be3-1d94d6bdbe80",
   "metadata": {},
   "outputs": [
    {
     "data": {
      "text/html": [
       "<div><style>\n",
       ".dataframe > thead > tr,\n",
       ".dataframe > tbody > tr {\n",
       "  text-align: right;\n",
       "  white-space: pre-wrap;\n",
       "}\n",
       "</style>\n",
       "<small>shape: (4, 1)</small><table border=\"1\" class=\"dataframe\"><thead><tr><th>text</th></tr><tr><td>str</td></tr></thead><tbody><tr><td>&quot;cat&quot;</td></tr><tr><td>&quot;dog&quot;</td></tr><tr><td>&quot;rabbit&quot;</td></tr><tr><td>&quot;cat&quot;</td></tr></tbody></table></div>"
      ],
      "text/plain": [
       "shape: (4, 1)\n",
       "┌────────┐\n",
       "│ text   │\n",
       "│ ---    │\n",
       "│ str    │\n",
       "╞════════╡\n",
       "│ cat    │\n",
       "│ dog    │\n",
       "│ rabbit │\n",
       "│ cat    │\n",
       "└────────┘"
      ]
     },
     "execution_count": 2,
     "metadata": {},
     "output_type": "execute_result"
    }
   ],
   "source": [
    "df = (\n",
    "    pl.DataFrame(\n",
    "        {\n",
    "            \"text\": [\"cat\", \"dog\", \"rabbit\", \"cat\"]\n",
    "        }\n",
    "    )\n",
    ")\n",
    "df"
   ]
  },
  {
   "cell_type": "code",
   "execution_count": 3,
   "id": "1952f957-9b18-4a97-9963-6372578fac1b",
   "metadata": {},
   "outputs": [
    {
     "data": {
      "text/html": [
       "<div><style>\n",
       ".dataframe > thead > tr,\n",
       ".dataframe > tbody > tr {\n",
       "  text-align: right;\n",
       "  white-space: pre-wrap;\n",
       "}\n",
       "</style>\n",
       "<small>shape: (4, 2)</small><table border=\"1\" class=\"dataframe\"><thead><tr><th>text</th><th>text_cat</th></tr><tr><td>str</td><td>cat</td></tr></thead><tbody><tr><td>&quot;cat&quot;</td><td>&quot;cat&quot;</td></tr><tr><td>&quot;dog&quot;</td><td>&quot;dog&quot;</td></tr><tr><td>&quot;rabbit&quot;</td><td>&quot;rabbit&quot;</td></tr><tr><td>&quot;cat&quot;</td><td>&quot;cat&quot;</td></tr></tbody></table></div>"
      ],
      "text/plain": [
       "shape: (4, 2)\n",
       "┌────────┬──────────┐\n",
       "│ text   ┆ text_cat │\n",
       "│ ---    ┆ ---      │\n",
       "│ str    ┆ cat      │\n",
       "╞════════╪══════════╡\n",
       "│ cat    ┆ cat      │\n",
       "│ dog    ┆ dog      │\n",
       "│ rabbit ┆ rabbit   │\n",
       "│ cat    ┆ cat      │\n",
       "└────────┴──────────┘"
      ]
     },
     "execution_count": 3,
     "metadata": {},
     "output_type": "execute_result"
    }
   ],
   "source": [
    "(\n",
    "    df\n",
    "    .with_columns(\n",
    "        pl.col(\"text\").cast(pl.Categorical).alias(\"text_cat\")\n",
    "    )\n",
    ")"
   ]
  },
  {
   "cell_type": "code",
   "execution_count": 4,
   "id": "59488495-3db1-47de-857b-9438665bd5ca",
   "metadata": {},
   "outputs": [
    {
     "data": {
      "text/html": [
       "<div><style>\n",
       ".dataframe > thead > tr,\n",
       ".dataframe > tbody > tr {\n",
       "  text-align: right;\n",
       "  white-space: pre-wrap;\n",
       "}\n",
       "</style>\n",
       "<small>shape: (4, 3)</small><table border=\"1\" class=\"dataframe\"><thead><tr><th>strings</th><th>values</th><th>cats</th></tr><tr><td>str</td><td>i64</td><td>cat</td></tr></thead><tbody><tr><td>&quot;c&quot;</td><td>0</td><td>&quot;c&quot;</td></tr><tr><td>&quot;b&quot;</td><td>1</td><td>&quot;b&quot;</td></tr><tr><td>&quot;a&quot;</td><td>2</td><td>&quot;a&quot;</td></tr><tr><td>&quot;c&quot;</td><td>3</td><td>&quot;c&quot;</td></tr></tbody></table></div>"
      ],
      "text/plain": [
       "shape: (4, 3)\n",
       "┌─────────┬────────┬──────┐\n",
       "│ strings ┆ values ┆ cats │\n",
       "│ ---     ┆ ---    ┆ ---  │\n",
       "│ str     ┆ i64    ┆ cat  │\n",
       "╞═════════╪════════╪══════╡\n",
       "│ c       ┆ 0      ┆ c    │\n",
       "│ b       ┆ 1      ┆ b    │\n",
       "│ a       ┆ 2      ┆ a    │\n",
       "│ c       ┆ 3      ┆ c    │\n",
       "└─────────┴────────┴──────┘"
      ]
     },
     "execution_count": 4,
     "metadata": {},
     "output_type": "execute_result"
    }
   ],
   "source": [
    "df_physical = (\n",
    "    pl.DataFrame(\n",
    "        {\"strings\": [\"c\", \"b\", \"a\", \"c\"], \"values\": [0, 1, 2, 3]}\n",
    "    )\n",
    "    .with_columns(\n",
    "        pl.col(\"strings\").cast(pl.Categorical).alias(\"cats\")\n",
    "    )\n",
    ")\n",
    "df_physical"
   ]
  },
  {
   "cell_type": "code",
   "execution_count": 7,
   "id": "f743003f-bec9-4d33-893a-b3224f2c90dd",
   "metadata": {},
   "outputs": [
    {
     "data": {
      "text/html": [
       "<div><style>\n",
       ".dataframe > thead > tr,\n",
       ".dataframe > tbody > tr {\n",
       "  text-align: right;\n",
       "  white-space: pre-wrap;\n",
       "}\n",
       "</style>\n",
       "<small>shape: (4, 3)</small><table border=\"1\" class=\"dataframe\"><thead><tr><th>strings</th><th>values</th><th>cats</th></tr><tr><td>str</td><td>i64</td><td>cat</td></tr></thead><tbody><tr><td>&quot;c&quot;</td><td>0</td><td>&quot;c&quot;</td></tr><tr><td>&quot;c&quot;</td><td>3</td><td>&quot;c&quot;</td></tr><tr><td>&quot;b&quot;</td><td>1</td><td>&quot;b&quot;</td></tr><tr><td>&quot;a&quot;</td><td>2</td><td>&quot;a&quot;</td></tr></tbody></table></div>"
      ],
      "text/plain": [
       "shape: (4, 3)\n",
       "┌─────────┬────────┬──────┐\n",
       "│ strings ┆ values ┆ cats │\n",
       "│ ---     ┆ ---    ┆ ---  │\n",
       "│ str     ┆ i64    ┆ cat  │\n",
       "╞═════════╪════════╪══════╡\n",
       "│ c       ┆ 0      ┆ c    │\n",
       "│ c       ┆ 3      ┆ c    │\n",
       "│ b       ┆ 1      ┆ b    │\n",
       "│ a       ┆ 2      ┆ a    │\n",
       "└─────────┴────────┴──────┘"
      ]
     },
     "execution_count": 7,
     "metadata": {},
     "output_type": "execute_result"
    }
   ],
   "source": [
    "(\n",
    "    df_physical\n",
    "    .with_columns(\n",
    "        pl.col(\"cats\").to_physical().alias(\"cat_physical\")\n",
    "    )\n",
    ")\n",
    "df_physical.sort(\"cats\")"
   ]
  },
  {
   "cell_type": "code",
   "execution_count": 11,
   "id": "67f371c8-5c78-47b9-bc1c-eb7c9d598350",
   "metadata": {},
   "outputs": [],
   "source": [
    "# df_lexical = (\n",
    "#     df_physical\n",
    "#     .with_columns(\n",
    "#         pl.col(\"cats\").cat.set_ordering(\"lexical\")\n",
    "#     )\n",
    "# )\n",
    "# df_lexical.sort(\"cats\")"
   ]
  },
  {
   "cell_type": "code",
   "execution_count": 13,
   "id": "c3335aad-f2a7-46ea-af59-0fc8c1854e2a",
   "metadata": {},
   "outputs": [
    {
     "data": {
      "text/html": [
       "<div><style>\n",
       ".dataframe > thead > tr,\n",
       ".dataframe > tbody > tr {\n",
       "  text-align: right;\n",
       "  white-space: pre-wrap;\n",
       "}\n",
       "</style>\n",
       "<small>shape: (4, 3)</small><table border=\"1\" class=\"dataframe\"><thead><tr><th>strings</th><th>values</th><th>cats</th></tr><tr><td>str</td><td>i64</td><td>cat</td></tr></thead><tbody><tr><td>&quot;c&quot;</td><td>1</td><td>&quot;c&quot;</td></tr><tr><td>&quot;b&quot;</td><td>2</td><td>&quot;b&quot;</td></tr><tr><td>&quot;a&quot;</td><td>3</td><td>&quot;a&quot;</td></tr><tr><td>&quot;c&quot;</td><td>4</td><td>&quot;c&quot;</td></tr></tbody></table></div>"
      ],
      "text/plain": [
       "shape: (4, 3)\n",
       "┌─────────┬────────┬──────┐\n",
       "│ strings ┆ values ┆ cats │\n",
       "│ ---     ┆ ---    ┆ ---  │\n",
       "│ str     ┆ i64    ┆ cat  │\n",
       "╞═════════╪════════╪══════╡\n",
       "│ c       ┆ 1      ┆ c    │\n",
       "│ b       ┆ 2      ┆ b    │\n",
       "│ a       ┆ 3      ┆ a    │\n",
       "│ c       ┆ 4      ┆ c    │\n",
       "└─────────┴────────┴──────┘"
      ]
     },
     "execution_count": 13,
     "metadata": {},
     "output_type": "execute_result"
    }
   ],
   "source": [
    "df = (\n",
    "    pl.DataFrame(\n",
    "        {\n",
    "            \"strings\": [\"c\", \"b\", \"a\", \"c\"],\n",
    "            \"values\":[1, 2, 3, 4]\n",
    "        }\n",
    "    )\n",
    "    .with_columns(\n",
    "        pl.col(\"strings\").cast(pl.Categorical).alias(\"cats\")\n",
    "    )\n",
    ")\n",
    "df"
   ]
  },
  {
   "cell_type": "code",
   "execution_count": 15,
   "id": "c9cbeff2-e627-46dc-8f2b-94fe4b77cc37",
   "metadata": {},
   "outputs": [
    {
     "data": {
      "text/html": [
       "<div><style>\n",
       ".dataframe > thead > tr,\n",
       ".dataframe > tbody > tr {\n",
       "  text-align: right;\n",
       "  white-space: pre-wrap;\n",
       "}\n",
       "</style>\n",
       "<small>shape: (1, 3)</small><table border=\"1\" class=\"dataframe\"><thead><tr><th>strings</th><th>values</th><th>cats</th></tr><tr><td>str</td><td>i64</td><td>cat</td></tr></thead><tbody><tr><td>&quot;b&quot;</td><td>2</td><td>&quot;b&quot;</td></tr></tbody></table></div>"
      ],
      "text/plain": [
       "shape: (1, 3)\n",
       "┌─────────┬────────┬──────┐\n",
       "│ strings ┆ values ┆ cats │\n",
       "│ ---     ┆ ---    ┆ ---  │\n",
       "│ str     ┆ i64    ┆ cat  │\n",
       "╞═════════╪════════╪══════╡\n",
       "│ b       ┆ 2      ┆ b    │\n",
       "└─────────┴────────┴──────┘"
      ]
     },
     "execution_count": 15,
     "metadata": {},
     "output_type": "execute_result"
    }
   ],
   "source": [
    "(\n",
    "    df\n",
    "    .filter(\n",
    "        cats=\"b\"\n",
    "    )\n",
    ")"
   ]
  },
  {
   "cell_type": "code",
   "execution_count": 16,
   "id": "22024908-f994-4ac2-a492-1a258f255c06",
   "metadata": {},
   "outputs": [
    {
     "data": {
      "text/html": [
       "<div><style>\n",
       ".dataframe > thead > tr,\n",
       ".dataframe > tbody > tr {\n",
       "  text-align: right;\n",
       "  white-space: pre-wrap;\n",
       "}\n",
       "</style>\n",
       "<small>shape: (3, 3)</small><table border=\"1\" class=\"dataframe\"><thead><tr><th>strings</th><th>values</th><th>cats</th></tr><tr><td>str</td><td>i64</td><td>cat</td></tr></thead><tbody><tr><td>&quot;c&quot;</td><td>1</td><td>&quot;c&quot;</td></tr><tr><td>&quot;b&quot;</td><td>2</td><td>&quot;b&quot;</td></tr><tr><td>&quot;c&quot;</td><td>4</td><td>&quot;c&quot;</td></tr></tbody></table></div>"
      ],
      "text/plain": [
       "shape: (3, 3)\n",
       "┌─────────┬────────┬──────┐\n",
       "│ strings ┆ values ┆ cats │\n",
       "│ ---     ┆ ---    ┆ ---  │\n",
       "│ str     ┆ i64    ┆ cat  │\n",
       "╞═════════╪════════╪══════╡\n",
       "│ c       ┆ 1      ┆ c    │\n",
       "│ b       ┆ 2      ┆ b    │\n",
       "│ c       ┆ 4      ┆ c    │\n",
       "└─────────┴────────┴──────┘"
      ]
     },
     "execution_count": 16,
     "metadata": {},
     "output_type": "execute_result"
    }
   ],
   "source": [
    "with pl.StringCache():\n",
    "    df = (\n",
    "        pl.DataFrame(\n",
    "            {\n",
    "                \"strings\": [\"c\", \"b\", \"a\", \"c\"],\n",
    "                \"values\":[1, 2, 3, 4]\n",
    "            }\n",
    "        )\n",
    "        .with_columns(\n",
    "            pl.col(\"strings\").cast(pl.Categorical).alias(\"cats\")\n",
    "        )\n",
    "        .filter(\n",
    "            pl.col(\"cats\").is_in([\"b\", \"c\"])\n",
    "        )\n",
    "    )\n",
    "df"
   ]
  },
  {
   "cell_type": "code",
   "execution_count": 17,
   "id": "e49529f3-3729-4098-b687-9b26064ac04d",
   "metadata": {},
   "outputs": [],
   "source": [
    "pl.enable_string_cache()"
   ]
  },
  {
   "cell_type": "code",
   "execution_count": 18,
   "id": "f9757113-607a-42eb-94d7-7f5bf982020e",
   "metadata": {},
   "outputs": [
    {
     "data": {
      "text/plain": [
       "True"
      ]
     },
     "execution_count": 18,
     "metadata": {},
     "output_type": "execute_result"
    }
   ],
   "source": [
    "pl.using_string_cache()"
   ]
  },
  {
   "cell_type": "code",
   "execution_count": 20,
   "id": "6897ca5d-a7bc-4dc4-9bda-85440a6d7bec",
   "metadata": {},
   "outputs": [],
   "source": [
    "pl.disable_string_cache()"
   ]
  }
 ],
 "metadata": {
  "kernelspec": {
   "display_name": "Python 3 (ipykernel)",
   "language": "python",
   "name": "python3"
  },
  "language_info": {
   "codemirror_mode": {
    "name": "ipython",
    "version": 3
   },
   "file_extension": ".py",
   "mimetype": "text/x-python",
   "name": "python",
   "nbconvert_exporter": "python",
   "pygments_lexer": "ipython3",
   "version": "3.11.9"
  }
 },
 "nbformat": 4,
 "nbformat_minor": 5
}
