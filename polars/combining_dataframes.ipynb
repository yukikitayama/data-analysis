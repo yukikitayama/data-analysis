{
 "cells": [
  {
   "cell_type": "markdown",
   "id": "6998aca2-a538-4bf2-bff4-8d4bb18231a4",
   "metadata": {},
   "source": [
    "# Combining Dataframes"
   ]
  },
  {
   "cell_type": "code",
   "execution_count": 1,
   "id": "dc52b815-ab94-4a29-b875-9d893697a9af",
   "metadata": {},
   "outputs": [],
   "source": [
    "import polars as pl"
   ]
  },
  {
   "cell_type": "markdown",
   "id": "18c141f4-bb0e-48f8-8098-b6f80274c6b6",
   "metadata": {
    "jp-MarkdownHeadingCollapsed": true
   },
   "source": [
    "## Concatenating"
   ]
  },
  {
   "cell_type": "code",
   "execution_count": 2,
   "id": "aff8a45c-a3a4-4aa4-9921-941db6a03042",
   "metadata": {},
   "outputs": [
    {
     "data": {
      "text/html": [
       "<div><style>\n",
       ".dataframe > thead > tr,\n",
       ".dataframe > tbody > tr {\n",
       "  text-align: right;\n",
       "  white-space: pre-wrap;\n",
       "}\n",
       "</style>\n",
       "<small>shape: (2, 4)</small><table border=\"1\" class=\"dataframe\"><thead><tr><th>year</th><th>exporter</th><th>importer</th><th>quantity</th></tr><tr><td>i64</td><td>str</td><td>str</td><td>i64</td></tr></thead><tbody><tr><td>2000</td><td>&quot;India&quot;</td><td>&quot;USA&quot;</td><td>0</td></tr><tr><td>2000</td><td>&quot;India&quot;</td><td>&quot;USA&quot;</td><td>1</td></tr></tbody></table></div>"
      ],
      "text/plain": [
       "shape: (2, 4)\n",
       "┌──────┬──────────┬──────────┬──────────┐\n",
       "│ year ┆ exporter ┆ importer ┆ quantity │\n",
       "│ ---  ┆ ---      ┆ ---      ┆ ---      │\n",
       "│ i64  ┆ str      ┆ str      ┆ i64      │\n",
       "╞══════╪══════════╪══════════╪══════════╡\n",
       "│ 2000 ┆ India    ┆ USA      ┆ 0        │\n",
       "│ 2000 ┆ India    ┆ USA      ┆ 1        │\n",
       "└──────┴──────────┴──────────┴──────────┘"
      ]
     },
     "execution_count": 2,
     "metadata": {},
     "output_type": "execute_result"
    }
   ],
   "source": [
    "df_2000 = pl.DataFrame([\n",
    "    {\"year\": 2000, \"exporter\": \"India\", \"importer\": \"USA\", \"quantity\": 0},\n",
    "    {\"year\": 2000, \"exporter\": \"India\", \"importer\": \"USA\", \"quantity\": 1},\n",
    "])\n",
    "df_2000"
   ]
  },
  {
   "cell_type": "code",
   "execution_count": 3,
   "id": "4960c792-92d8-414e-8e67-050a475d5ded",
   "metadata": {},
   "outputs": [
    {
     "data": {
      "text/html": [
       "<div><style>\n",
       ".dataframe > thead > tr,\n",
       ".dataframe > tbody > tr {\n",
       "  text-align: right;\n",
       "  white-space: pre-wrap;\n",
       "}\n",
       "</style>\n",
       "<small>shape: (2, 4)</small><table border=\"1\" class=\"dataframe\"><thead><tr><th>year</th><th>exporter</th><th>importer</th><th>quantity</th></tr><tr><td>i64</td><td>str</td><td>str</td><td>i64</td></tr></thead><tbody><tr><td>2001</td><td>&quot;India&quot;</td><td>&quot;USA&quot;</td><td>2</td></tr><tr><td>2001</td><td>&quot;India&quot;</td><td>&quot;USA&quot;</td><td>3</td></tr></tbody></table></div>"
      ],
      "text/plain": [
       "shape: (2, 4)\n",
       "┌──────┬──────────┬──────────┬──────────┐\n",
       "│ year ┆ exporter ┆ importer ┆ quantity │\n",
       "│ ---  ┆ ---      ┆ ---      ┆ ---      │\n",
       "│ i64  ┆ str      ┆ str      ┆ i64      │\n",
       "╞══════╪══════════╪══════════╪══════════╡\n",
       "│ 2001 ┆ India    ┆ USA      ┆ 2        │\n",
       "│ 2001 ┆ India    ┆ USA      ┆ 3        │\n",
       "└──────┴──────────┴──────────┴──────────┘"
      ]
     },
     "execution_count": 3,
     "metadata": {},
     "output_type": "execute_result"
    }
   ],
   "source": [
    "df_2001 = pl.DataFrame([\n",
    "    {\"year\": 2001, \"exporter\": \"India\", \"importer\": \"USA\", \"quantity\": 2},\n",
    "    {\"year\": 2001, \"exporter\": \"India\", \"importer\": \"USA\", \"quantity\": 3},\n",
    "])\n",
    "df_2001"
   ]
  },
  {
   "cell_type": "code",
   "execution_count": 4,
   "id": "3743cba3-7260-4104-8e15-aaf18b51d374",
   "metadata": {},
   "outputs": [
    {
     "data": {
      "text/html": [
       "<div><style>\n",
       ".dataframe > thead > tr,\n",
       ".dataframe > tbody > tr {\n",
       "  text-align: right;\n",
       "  white-space: pre-wrap;\n",
       "}\n",
       "</style>\n",
       "<small>shape: (4, 4)</small><table border=\"1\" class=\"dataframe\"><thead><tr><th>year</th><th>exporter</th><th>importer</th><th>quantity</th></tr><tr><td>i64</td><td>str</td><td>str</td><td>i64</td></tr></thead><tbody><tr><td>2000</td><td>&quot;India&quot;</td><td>&quot;USA&quot;</td><td>0</td></tr><tr><td>2000</td><td>&quot;India&quot;</td><td>&quot;USA&quot;</td><td>1</td></tr><tr><td>2001</td><td>&quot;India&quot;</td><td>&quot;USA&quot;</td><td>2</td></tr><tr><td>2001</td><td>&quot;India&quot;</td><td>&quot;USA&quot;</td><td>3</td></tr></tbody></table></div>"
      ],
      "text/plain": [
       "shape: (4, 4)\n",
       "┌──────┬──────────┬──────────┬──────────┐\n",
       "│ year ┆ exporter ┆ importer ┆ quantity │\n",
       "│ ---  ┆ ---      ┆ ---      ┆ ---      │\n",
       "│ i64  ┆ str      ┆ str      ┆ i64      │\n",
       "╞══════╪══════════╪══════════╪══════════╡\n",
       "│ 2000 ┆ India    ┆ USA      ┆ 0        │\n",
       "│ 2000 ┆ India    ┆ USA      ┆ 1        │\n",
       "│ 2001 ┆ India    ┆ USA      ┆ 2        │\n",
       "│ 2001 ┆ India    ┆ USA      ┆ 3        │\n",
       "└──────┴──────────┴──────────┴──────────┘"
      ]
     },
     "execution_count": 4,
     "metadata": {},
     "output_type": "execute_result"
    }
   ],
   "source": [
    "(\n",
    "    df_2000\n",
    "    .vstack(\n",
    "        df_2001\n",
    "    )\n",
    ")"
   ]
  },
  {
   "cell_type": "code",
   "execution_count": 5,
   "id": "222d73b1-8fc1-4359-9d48-b6ac1bdf9931",
   "metadata": {},
   "outputs": [
    {
     "data": {
      "text/html": [
       "<div><style>\n",
       ".dataframe > thead > tr,\n",
       ".dataframe > tbody > tr {\n",
       "  text-align: right;\n",
       "  white-space: pre-wrap;\n",
       "}\n",
       "</style>\n",
       "<small>shape: (4, 4)</small><table border=\"1\" class=\"dataframe\"><thead><tr><th>year</th><th>exporter</th><th>importer</th><th>quantity</th></tr><tr><td>i64</td><td>str</td><td>str</td><td>i64</td></tr></thead><tbody><tr><td>2000</td><td>&quot;India&quot;</td><td>&quot;USA&quot;</td><td>0</td></tr><tr><td>2000</td><td>&quot;India&quot;</td><td>&quot;USA&quot;</td><td>1</td></tr><tr><td>2001</td><td>&quot;India&quot;</td><td>&quot;USA&quot;</td><td>2</td></tr><tr><td>2001</td><td>&quot;India&quot;</td><td>&quot;USA&quot;</td><td>3</td></tr></tbody></table></div>"
      ],
      "text/plain": [
       "shape: (4, 4)\n",
       "┌──────┬──────────┬──────────┬──────────┐\n",
       "│ year ┆ exporter ┆ importer ┆ quantity │\n",
       "│ ---  ┆ ---      ┆ ---      ┆ ---      │\n",
       "│ i64  ┆ str      ┆ str      ┆ i64      │\n",
       "╞══════╪══════════╪══════════╪══════════╡\n",
       "│ 2000 ┆ India    ┆ USA      ┆ 0        │\n",
       "│ 2000 ┆ India    ┆ USA      ┆ 1        │\n",
       "│ 2001 ┆ India    ┆ USA      ┆ 2        │\n",
       "│ 2001 ┆ India    ┆ USA      ┆ 3        │\n",
       "└──────┴──────────┴──────────┴──────────┘"
      ]
     },
     "execution_count": 5,
     "metadata": {},
     "output_type": "execute_result"
    }
   ],
   "source": [
    "(\n",
    "    df_2000\n",
    "    .vstack(\n",
    "        df_2001\n",
    "    )\n",
    "    .rechunk()\n",
    ")"
   ]
  },
  {
   "cell_type": "code",
   "execution_count": 6,
   "id": "8655da58-6a90-45a3-9f19-bb84d13cf07d",
   "metadata": {},
   "outputs": [
    {
     "data": {
      "text/html": [
       "<div><style>\n",
       ".dataframe > thead > tr,\n",
       ".dataframe > tbody > tr {\n",
       "  text-align: right;\n",
       "  white-space: pre-wrap;\n",
       "}\n",
       "</style>\n",
       "<small>shape: (4, 4)</small><table border=\"1\" class=\"dataframe\"><thead><tr><th>year</th><th>exporter</th><th>importer</th><th>quantity</th></tr><tr><td>i64</td><td>str</td><td>str</td><td>i64</td></tr></thead><tbody><tr><td>2000</td><td>&quot;India&quot;</td><td>&quot;USA&quot;</td><td>0</td></tr><tr><td>2000</td><td>&quot;India&quot;</td><td>&quot;USA&quot;</td><td>1</td></tr><tr><td>2001</td><td>&quot;India&quot;</td><td>&quot;USA&quot;</td><td>2</td></tr><tr><td>2001</td><td>&quot;India&quot;</td><td>&quot;USA&quot;</td><td>3</td></tr></tbody></table></div>"
      ],
      "text/plain": [
       "shape: (4, 4)\n",
       "┌──────┬──────────┬──────────┬──────────┐\n",
       "│ year ┆ exporter ┆ importer ┆ quantity │\n",
       "│ ---  ┆ ---      ┆ ---      ┆ ---      │\n",
       "│ i64  ┆ str      ┆ str      ┆ i64      │\n",
       "╞══════╪══════════╪══════════╪══════════╡\n",
       "│ 2000 ┆ India    ┆ USA      ┆ 0        │\n",
       "│ 2000 ┆ India    ┆ USA      ┆ 1        │\n",
       "│ 2001 ┆ India    ┆ USA      ┆ 2        │\n",
       "│ 2001 ┆ India    ┆ USA      ┆ 3        │\n",
       "└──────┴──────────┴──────────┴──────────┘"
      ]
     },
     "execution_count": 6,
     "metadata": {},
     "output_type": "execute_result"
    }
   ],
   "source": [
    "(\n",
    "    df_2000\n",
    "    .extend(\n",
    "        df_2001\n",
    "    )\n",
    ")"
   ]
  },
  {
   "cell_type": "code",
   "execution_count": 7,
   "id": "c95d3e8c-a66b-4826-b139-1a25ade379ca",
   "metadata": {},
   "outputs": [
    {
     "data": {
      "text/html": [
       "<div><style>\n",
       ".dataframe > thead > tr,\n",
       ".dataframe > tbody > tr {\n",
       "  text-align: right;\n",
       "  white-space: pre-wrap;\n",
       "}\n",
       "</style>\n",
       "<small>shape: (4, 4)</small><table border=\"1\" class=\"dataframe\"><thead><tr><th>year</th><th>exporter</th><th>importer</th><th>quantity</th></tr><tr><td>i64</td><td>str</td><td>str</td><td>i64</td></tr></thead><tbody><tr><td>2000</td><td>&quot;India&quot;</td><td>&quot;USA&quot;</td><td>0</td></tr><tr><td>2000</td><td>&quot;India&quot;</td><td>&quot;USA&quot;</td><td>1</td></tr><tr><td>2001</td><td>&quot;India&quot;</td><td>&quot;USA&quot;</td><td>2</td></tr><tr><td>2001</td><td>&quot;India&quot;</td><td>&quot;USA&quot;</td><td>3</td></tr></tbody></table></div>"
      ],
      "text/plain": [
       "shape: (4, 4)\n",
       "┌──────┬──────────┬──────────┬──────────┐\n",
       "│ year ┆ exporter ┆ importer ┆ quantity │\n",
       "│ ---  ┆ ---      ┆ ---      ┆ ---      │\n",
       "│ i64  ┆ str      ┆ str      ┆ i64      │\n",
       "╞══════╪══════════╪══════════╪══════════╡\n",
       "│ 2000 ┆ India    ┆ USA      ┆ 0        │\n",
       "│ 2000 ┆ India    ┆ USA      ┆ 1        │\n",
       "│ 2001 ┆ India    ┆ USA      ┆ 2        │\n",
       "│ 2001 ┆ India    ┆ USA      ┆ 3        │\n",
       "└──────┴──────────┴──────────┴──────────┘"
      ]
     },
     "execution_count": 7,
     "metadata": {},
     "output_type": "execute_result"
    }
   ],
   "source": [
    "df_2000"
   ]
  },
  {
   "cell_type": "code",
   "execution_count": 8,
   "id": "58b55ef0-465d-4518-b00f-01033488f3f1",
   "metadata": {},
   "outputs": [
    {
     "data": {
      "text/html": [
       "<div><style>\n",
       ".dataframe > thead > tr,\n",
       ".dataframe > tbody > tr {\n",
       "  text-align: right;\n",
       "  white-space: pre-wrap;\n",
       "}\n",
       "</style>\n",
       "<small>shape: (2, 4)</small><table border=\"1\" class=\"dataframe\"><thead><tr><th>year</th><th>exporter</th><th>importer</th><th>quantity</th></tr><tr><td>i64</td><td>str</td><td>str</td><td>i64</td></tr></thead><tbody><tr><td>2000</td><td>&quot;India&quot;</td><td>&quot;USA&quot;</td><td>0</td></tr><tr><td>2000</td><td>&quot;India&quot;</td><td>&quot;USA&quot;</td><td>1</td></tr></tbody></table></div>"
      ],
      "text/plain": [
       "shape: (2, 4)\n",
       "┌──────┬──────────┬──────────┬──────────┐\n",
       "│ year ┆ exporter ┆ importer ┆ quantity │\n",
       "│ ---  ┆ ---      ┆ ---      ┆ ---      │\n",
       "│ i64  ┆ str      ┆ str      ┆ i64      │\n",
       "╞══════╪══════════╪══════════╪══════════╡\n",
       "│ 2000 ┆ India    ┆ USA      ┆ 0        │\n",
       "│ 2000 ┆ India    ┆ USA      ┆ 1        │\n",
       "└──────┴──────────┴──────────┴──────────┘"
      ]
     },
     "execution_count": 8,
     "metadata": {},
     "output_type": "execute_result"
    }
   ],
   "source": [
    "df_2000 = pl.DataFrame([\n",
    "    {\"year\": 2000, \"exporter\": \"India\", \"importer\": \"USA\", \"quantity\": 0},\n",
    "    {\"year\": 2000, \"exporter\": \"India\", \"importer\": \"USA\", \"quantity\": 1},\n",
    "])\n",
    "df_2000"
   ]
  },
  {
   "cell_type": "code",
   "execution_count": 9,
   "id": "b4aaa6bd-6fa8-4e86-a4e2-7d551a856fd0",
   "metadata": {},
   "outputs": [
    {
     "data": {
      "text/html": [
       "<div><style>\n",
       ".dataframe > thead > tr,\n",
       ".dataframe > tbody > tr {\n",
       "  text-align: right;\n",
       "  white-space: pre-wrap;\n",
       "}\n",
       "</style>\n",
       "<small>shape: (4, 4)</small><table border=\"1\" class=\"dataframe\"><thead><tr><th>year</th><th>exporter</th><th>importer</th><th>quantity</th></tr><tr><td>i64</td><td>str</td><td>str</td><td>i64</td></tr></thead><tbody><tr><td>2000</td><td>&quot;India&quot;</td><td>&quot;USA&quot;</td><td>0</td></tr><tr><td>2000</td><td>&quot;India&quot;</td><td>&quot;USA&quot;</td><td>1</td></tr><tr><td>2001</td><td>&quot;India&quot;</td><td>&quot;USA&quot;</td><td>2</td></tr><tr><td>2001</td><td>&quot;India&quot;</td><td>&quot;USA&quot;</td><td>3</td></tr></tbody></table></div>"
      ],
      "text/plain": [
       "shape: (4, 4)\n",
       "┌──────┬──────────┬──────────┬──────────┐\n",
       "│ year ┆ exporter ┆ importer ┆ quantity │\n",
       "│ ---  ┆ ---      ┆ ---      ┆ ---      │\n",
       "│ i64  ┆ str      ┆ str      ┆ i64      │\n",
       "╞══════╪══════════╪══════════╪══════════╡\n",
       "│ 2000 ┆ India    ┆ USA      ┆ 0        │\n",
       "│ 2000 ┆ India    ┆ USA      ┆ 1        │\n",
       "│ 2001 ┆ India    ┆ USA      ┆ 2        │\n",
       "│ 2001 ┆ India    ┆ USA      ┆ 3        │\n",
       "└──────┴──────────┴──────────┴──────────┘"
      ]
     },
     "execution_count": 9,
     "metadata": {},
     "output_type": "execute_result"
    }
   ],
   "source": [
    "(\n",
    "    pl.concat(\n",
    "        [df_2000, df_2001],\n",
    "        how=\"vertical\"\n",
    "    )\n",
    ")"
   ]
  },
  {
   "cell_type": "code",
   "execution_count": 10,
   "id": "fd4ba016-5346-46d8-a5f8-16afa72afe45",
   "metadata": {},
   "outputs": [
    {
     "data": {
      "text/html": [
       "<div><style>\n",
       ".dataframe > thead > tr,\n",
       ".dataframe > tbody > tr {\n",
       "  text-align: right;\n",
       "  white-space: pre-wrap;\n",
       "}\n",
       "</style>\n",
       "<small>shape: (4, 4)</small><table border=\"1\" class=\"dataframe\"><thead><tr><th>year</th><th>exporter</th><th>importer</th><th>quantity</th></tr><tr><td>i64</td><td>str</td><td>str</td><td>i64</td></tr></thead><tbody><tr><td>2000</td><td>&quot;India&quot;</td><td>&quot;USA&quot;</td><td>0</td></tr><tr><td>2000</td><td>&quot;India&quot;</td><td>&quot;USA&quot;</td><td>1</td></tr><tr><td>2001</td><td>&quot;India&quot;</td><td>&quot;USA&quot;</td><td>2</td></tr><tr><td>2001</td><td>&quot;India&quot;</td><td>&quot;USA&quot;</td><td>3</td></tr></tbody></table></div>"
      ],
      "text/plain": [
       "shape: (4, 4)\n",
       "┌──────┬──────────┬──────────┬──────────┐\n",
       "│ year ┆ exporter ┆ importer ┆ quantity │\n",
       "│ ---  ┆ ---      ┆ ---      ┆ ---      │\n",
       "│ i64  ┆ str      ┆ str      ┆ i64      │\n",
       "╞══════╪══════════╪══════════╪══════════╡\n",
       "│ 2000 ┆ India    ┆ USA      ┆ 0        │\n",
       "│ 2000 ┆ India    ┆ USA      ┆ 1        │\n",
       "│ 2001 ┆ India    ┆ USA      ┆ 2        │\n",
       "│ 2001 ┆ India    ┆ USA      ┆ 3        │\n",
       "└──────┴──────────┴──────────┴──────────┘"
      ]
     },
     "execution_count": 10,
     "metadata": {},
     "output_type": "execute_result"
    }
   ],
   "source": [
    "df_vertical = (\n",
    "    pl.concat(\n",
    "        [df_2000, df_2001],\n",
    "        rechunk=False\n",
    "    )\n",
    ")\n",
    "df_vertical"
   ]
  },
  {
   "cell_type": "code",
   "execution_count": 11,
   "id": "75424e99-928c-4985-91c9-af76a250f68d",
   "metadata": {},
   "outputs": [
    {
     "data": {
      "text/html": [
       "<div><style>\n",
       ".dataframe > thead > tr,\n",
       ".dataframe > tbody > tr {\n",
       "  text-align: right;\n",
       "  white-space: pre-wrap;\n",
       "}\n",
       "</style>\n",
       "<small>shape: (2, 4)</small><table border=\"1\" class=\"dataframe\"><thead><tr><th>year</th><th>exporter</th><th>importer</th><th>quantity</th></tr><tr><td>i64</td><td>str</td><td>str</td><td>f64</td></tr></thead><tbody><tr><td>2001</td><td>&quot;India&quot;</td><td>&quot;USA&quot;</td><td>2.0</td></tr><tr><td>2001</td><td>&quot;India&quot;</td><td>&quot;USA&quot;</td><td>3.0</td></tr></tbody></table></div>"
      ],
      "text/plain": [
       "shape: (2, 4)\n",
       "┌──────┬──────────┬──────────┬──────────┐\n",
       "│ year ┆ exporter ┆ importer ┆ quantity │\n",
       "│ ---  ┆ ---      ┆ ---      ┆ ---      │\n",
       "│ i64  ┆ str      ┆ str      ┆ f64      │\n",
       "╞══════╪══════════╪══════════╪══════════╡\n",
       "│ 2001 ┆ India    ┆ USA      ┆ 2.0      │\n",
       "│ 2001 ┆ India    ┆ USA      ┆ 3.0      │\n",
       "└──────┴──────────┴──────────┴──────────┘"
      ]
     },
     "execution_count": 11,
     "metadata": {},
     "output_type": "execute_result"
    }
   ],
   "source": [
    "df_2001_float = (\n",
    "    df_2001\n",
    "    .with_columns(\n",
    "        pl.col(\"quantity\").cast(pl.Float64)\n",
    "    )\n",
    ")\n",
    "df_2001_float"
   ]
  },
  {
   "cell_type": "code",
   "execution_count": 12,
   "id": "469b360c-2ced-4430-b29c-afa5a7a0ed6f",
   "metadata": {},
   "outputs": [
    {
     "data": {
      "text/html": [
       "<div><style>\n",
       ".dataframe > thead > tr,\n",
       ".dataframe > tbody > tr {\n",
       "  text-align: right;\n",
       "  white-space: pre-wrap;\n",
       "}\n",
       "</style>\n",
       "<small>shape: (4, 4)</small><table border=\"1\" class=\"dataframe\"><thead><tr><th>year</th><th>exporter</th><th>importer</th><th>quantity</th></tr><tr><td>i64</td><td>str</td><td>str</td><td>i64</td></tr></thead><tbody><tr><td>2000</td><td>&quot;India&quot;</td><td>&quot;USA&quot;</td><td>0</td></tr><tr><td>2000</td><td>&quot;India&quot;</td><td>&quot;USA&quot;</td><td>1</td></tr><tr><td>2001</td><td>&quot;India&quot;</td><td>&quot;USA&quot;</td><td>2</td></tr><tr><td>2001</td><td>&quot;India&quot;</td><td>&quot;USA&quot;</td><td>3</td></tr></tbody></table></div>"
      ],
      "text/plain": [
       "shape: (4, 4)\n",
       "┌──────┬──────────┬──────────┬──────────┐\n",
       "│ year ┆ exporter ┆ importer ┆ quantity │\n",
       "│ ---  ┆ ---      ┆ ---      ┆ ---      │\n",
       "│ i64  ┆ str      ┆ str      ┆ i64      │\n",
       "╞══════╪══════════╪══════════╪══════════╡\n",
       "│ 2000 ┆ India    ┆ USA      ┆ 0        │\n",
       "│ 2000 ┆ India    ┆ USA      ┆ 1        │\n",
       "│ 2001 ┆ India    ┆ USA      ┆ 2        │\n",
       "│ 2001 ┆ India    ┆ USA      ┆ 3        │\n",
       "└──────┴──────────┴──────────┴──────────┘"
      ]
     },
     "execution_count": 12,
     "metadata": {},
     "output_type": "execute_result"
    }
   ],
   "source": [
    "(\n",
    "    pl.concat(\n",
    "        [\n",
    "            df_2000,\n",
    "            df_2001_float.with_columns(\n",
    "                pl.col(\"quantity\").cast(pl.Int64)\n",
    "            )\n",
    "        ]\n",
    "    )\n",
    ")"
   ]
  },
  {
   "cell_type": "code",
   "execution_count": 13,
   "id": "f660b3f0-f18a-474d-ae53-1ade041483ce",
   "metadata": {},
   "outputs": [
    {
     "data": {
      "text/html": [
       "<div><style>\n",
       ".dataframe > thead > tr,\n",
       ".dataframe > tbody > tr {\n",
       "  text-align: right;\n",
       "  white-space: pre-wrap;\n",
       "}\n",
       "</style>\n",
       "<small>shape: (4, 4)</small><table border=\"1\" class=\"dataframe\"><thead><tr><th>year</th><th>exporter</th><th>importer</th><th>quantity</th></tr><tr><td>i64</td><td>str</td><td>str</td><td>f64</td></tr></thead><tbody><tr><td>2000</td><td>&quot;India&quot;</td><td>&quot;USA&quot;</td><td>0.0</td></tr><tr><td>2000</td><td>&quot;India&quot;</td><td>&quot;USA&quot;</td><td>1.0</td></tr><tr><td>2001</td><td>&quot;India&quot;</td><td>&quot;USA&quot;</td><td>2.0</td></tr><tr><td>2001</td><td>&quot;India&quot;</td><td>&quot;USA&quot;</td><td>3.0</td></tr></tbody></table></div>"
      ],
      "text/plain": [
       "shape: (4, 4)\n",
       "┌──────┬──────────┬──────────┬──────────┐\n",
       "│ year ┆ exporter ┆ importer ┆ quantity │\n",
       "│ ---  ┆ ---      ┆ ---      ┆ ---      │\n",
       "│ i64  ┆ str      ┆ str      ┆ f64      │\n",
       "╞══════╪══════════╪══════════╪══════════╡\n",
       "│ 2000 ┆ India    ┆ USA      ┆ 0.0      │\n",
       "│ 2000 ┆ India    ┆ USA      ┆ 1.0      │\n",
       "│ 2001 ┆ India    ┆ USA      ┆ 2.0      │\n",
       "│ 2001 ┆ India    ┆ USA      ┆ 3.0      │\n",
       "└──────┴──────────┴──────────┴──────────┘"
      ]
     },
     "execution_count": 13,
     "metadata": {},
     "output_type": "execute_result"
    }
   ],
   "source": [
    "(\n",
    "    pl.concat(\n",
    "        [\n",
    "            df_2000,\n",
    "            df_2001_float\n",
    "        ],\n",
    "        how=\"vertical_relaxed\"\n",
    "    )\n",
    ")"
   ]
  },
  {
   "cell_type": "code",
   "execution_count": 14,
   "id": "6d8124f1-6da4-4f02-927a-7a6171482db4",
   "metadata": {},
   "outputs": [
    {
     "data": {
      "text/html": [
       "<div><style>\n",
       ".dataframe > thead > tr,\n",
       ".dataframe > tbody > tr {\n",
       "  text-align: right;\n",
       "  white-space: pre-wrap;\n",
       "}\n",
       "</style>\n",
       "<small>shape: (2, 2)</small><table border=\"1\" class=\"dataframe\"><thead><tr><th>item</th><th>value</th></tr><tr><td>str</td><td>i64</td></tr></thead><tbody><tr><td>&quot;Clothes&quot;</td><td>10</td></tr><tr><td>&quot;Machinery&quot;</td><td>100</td></tr></tbody></table></div>"
      ],
      "text/plain": [
       "shape: (2, 2)\n",
       "┌───────────┬───────┐\n",
       "│ item      ┆ value │\n",
       "│ ---       ┆ ---   │\n",
       "│ str       ┆ i64   │\n",
       "╞═══════════╪═══════╡\n",
       "│ Clothes   ┆ 10    │\n",
       "│ Machinery ┆ 100   │\n",
       "└───────────┴───────┘"
      ]
     },
     "execution_count": 14,
     "metadata": {},
     "output_type": "execute_result"
    }
   ],
   "source": [
    "df_2000_details = pl.DataFrame(\n",
    "    [\n",
    "        {\"item\": \"Clothes\", \"value\": 10},\n",
    "        {\"item\": \"Machinery\", \"value\": 100},\n",
    "    ]\n",
    ")\n",
    "df_2000_details"
   ]
  },
  {
   "cell_type": "code",
   "execution_count": 15,
   "id": "be74a0e1-637c-4899-b567-741f49beb5ee",
   "metadata": {},
   "outputs": [
    {
     "data": {
      "text/html": [
       "<div><style>\n",
       ".dataframe > thead > tr,\n",
       ".dataframe > tbody > tr {\n",
       "  text-align: right;\n",
       "  white-space: pre-wrap;\n",
       "}\n",
       "</style>\n",
       "<small>shape: (2, 6)</small><table border=\"1\" class=\"dataframe\"><thead><tr><th>year</th><th>exporter</th><th>importer</th><th>quantity</th><th>item</th><th>value</th></tr><tr><td>i64</td><td>str</td><td>str</td><td>i64</td><td>str</td><td>i64</td></tr></thead><tbody><tr><td>2000</td><td>&quot;India&quot;</td><td>&quot;USA&quot;</td><td>0</td><td>&quot;Clothes&quot;</td><td>10</td></tr><tr><td>2000</td><td>&quot;India&quot;</td><td>&quot;USA&quot;</td><td>1</td><td>&quot;Machinery&quot;</td><td>100</td></tr></tbody></table></div>"
      ],
      "text/plain": [
       "shape: (2, 6)\n",
       "┌──────┬──────────┬──────────┬──────────┬───────────┬───────┐\n",
       "│ year ┆ exporter ┆ importer ┆ quantity ┆ item      ┆ value │\n",
       "│ ---  ┆ ---      ┆ ---      ┆ ---      ┆ ---       ┆ ---   │\n",
       "│ i64  ┆ str      ┆ str      ┆ i64      ┆ str       ┆ i64   │\n",
       "╞══════╪══════════╪══════════╪══════════╪═══════════╪═══════╡\n",
       "│ 2000 ┆ India    ┆ USA      ┆ 0        ┆ Clothes   ┆ 10    │\n",
       "│ 2000 ┆ India    ┆ USA      ┆ 1        ┆ Machinery ┆ 100   │\n",
       "└──────┴──────────┴──────────┴──────────┴───────────┴───────┘"
      ]
     },
     "execution_count": 15,
     "metadata": {},
     "output_type": "execute_result"
    }
   ],
   "source": [
    "(\n",
    "    df_2000\n",
    "    .hstack(\n",
    "        df_2000_details\n",
    "    )\n",
    ")"
   ]
  },
  {
   "cell_type": "code",
   "execution_count": 16,
   "id": "b3de8467-0070-4dec-8831-6547c3ac35d0",
   "metadata": {},
   "outputs": [
    {
     "data": {
      "text/html": [
       "<div><style>\n",
       ".dataframe > thead > tr,\n",
       ".dataframe > tbody > tr {\n",
       "  text-align: right;\n",
       "  white-space: pre-wrap;\n",
       "}\n",
       "</style>\n",
       "<small>shape: (2, 6)</small><table border=\"1\" class=\"dataframe\"><thead><tr><th>year</th><th>exporter</th><th>importer</th><th>quantity</th><th>item</th><th>value</th></tr><tr><td>i64</td><td>str</td><td>str</td><td>i64</td><td>str</td><td>i64</td></tr></thead><tbody><tr><td>2000</td><td>&quot;India&quot;</td><td>&quot;USA&quot;</td><td>0</td><td>&quot;Clothes&quot;</td><td>10</td></tr><tr><td>2000</td><td>&quot;India&quot;</td><td>&quot;USA&quot;</td><td>1</td><td>&quot;Machinery&quot;</td><td>100</td></tr></tbody></table></div>"
      ],
      "text/plain": [
       "shape: (2, 6)\n",
       "┌──────┬──────────┬──────────┬──────────┬───────────┬───────┐\n",
       "│ year ┆ exporter ┆ importer ┆ quantity ┆ item      ┆ value │\n",
       "│ ---  ┆ ---      ┆ ---      ┆ ---      ┆ ---       ┆ ---   │\n",
       "│ i64  ┆ str      ┆ str      ┆ i64      ┆ str       ┆ i64   │\n",
       "╞══════╪══════════╪══════════╪══════════╪═══════════╪═══════╡\n",
       "│ 2000 ┆ India    ┆ USA      ┆ 0        ┆ Clothes   ┆ 10    │\n",
       "│ 2000 ┆ India    ┆ USA      ┆ 1        ┆ Machinery ┆ 100   │\n",
       "└──────┴──────────┴──────────┴──────────┴───────────┴───────┘"
      ]
     },
     "execution_count": 16,
     "metadata": {},
     "output_type": "execute_result"
    }
   ],
   "source": [
    "(\n",
    "    df_2000\n",
    "    .hstack(\n",
    "        [\n",
    "            df_2000_details[\"item\"],\n",
    "            df_2000_details[\"value\"]\n",
    "        ]\n",
    "    )\n",
    ")"
   ]
  },
  {
   "cell_type": "code",
   "execution_count": 17,
   "id": "d29f5ea4-c08d-4730-b625-f95594f68659",
   "metadata": {},
   "outputs": [
    {
     "data": {
      "text/html": [
       "<div><style>\n",
       ".dataframe > thead > tr,\n",
       ".dataframe > tbody > tr {\n",
       "  text-align: right;\n",
       "  white-space: pre-wrap;\n",
       "}\n",
       "</style>\n",
       "<small>shape: (2, 6)</small><table border=\"1\" class=\"dataframe\"><thead><tr><th>year</th><th>exporter</th><th>importer</th><th>quantity</th><th>item</th><th>value</th></tr><tr><td>i64</td><td>str</td><td>str</td><td>i64</td><td>str</td><td>i64</td></tr></thead><tbody><tr><td>2000</td><td>&quot;India&quot;</td><td>&quot;USA&quot;</td><td>0</td><td>&quot;Clothes&quot;</td><td>10</td></tr><tr><td>2000</td><td>&quot;India&quot;</td><td>&quot;USA&quot;</td><td>1</td><td>&quot;Machinery&quot;</td><td>100</td></tr></tbody></table></div>"
      ],
      "text/plain": [
       "shape: (2, 6)\n",
       "┌──────┬──────────┬──────────┬──────────┬───────────┬───────┐\n",
       "│ year ┆ exporter ┆ importer ┆ quantity ┆ item      ┆ value │\n",
       "│ ---  ┆ ---      ┆ ---      ┆ ---      ┆ ---       ┆ ---   │\n",
       "│ i64  ┆ str      ┆ str      ┆ i64      ┆ str       ┆ i64   │\n",
       "╞══════╪══════════╪══════════╪══════════╪═══════════╪═══════╡\n",
       "│ 2000 ┆ India    ┆ USA      ┆ 0        ┆ Clothes   ┆ 10    │\n",
       "│ 2000 ┆ India    ┆ USA      ┆ 1        ┆ Machinery ┆ 100   │\n",
       "└──────┴──────────┴──────────┴──────────┴───────────┴───────┘"
      ]
     },
     "execution_count": 17,
     "metadata": {},
     "output_type": "execute_result"
    }
   ],
   "source": [
    "(\n",
    "    pl.concat(\n",
    "        [\n",
    "            df_2000,\n",
    "            df_2000_details\n",
    "        ],\n",
    "        how=\"horizontal\"\n",
    "    )\n",
    ")"
   ]
  },
  {
   "cell_type": "code",
   "execution_count": 18,
   "id": "8da95626-48fe-44ad-9c80-eaf41a5ef9c6",
   "metadata": {},
   "outputs": [],
   "source": [
    "df_2000 = pl.DataFrame([\n",
    "    {\"year\": 2000, \"exporter\": \"China\", \"importer\": \"USA\", \"quantity\": 0},\n",
    "    {\"year\": 2000, \"exporter\": \"China\", \"importer\": \"USA\", \"quantity\": 1},\n",
    "])\n",
    "df_2001 = pl.DataFrame([\n",
    "    {\"year\": 2001, \"exporter\": \"China\", \"importer\": \"USA\", \"quantity\": 2, \"item\": \"Clothes\", \"value\": 10},\n",
    "    {\"year\": 2001, \"exporter\": \"China\", \"importer\": \"USA\", \"quantity\": 3, \"item\": \"Machinery\", \"value\": 100},\n",
    "])"
   ]
  },
  {
   "cell_type": "code",
   "execution_count": 19,
   "id": "15fdbc7a-2fec-4e07-b745-115ead57f6b0",
   "metadata": {},
   "outputs": [
    {
     "data": {
      "text/html": [
       "<div><style>\n",
       ".dataframe > thead > tr,\n",
       ".dataframe > tbody > tr {\n",
       "  text-align: right;\n",
       "  white-space: pre-wrap;\n",
       "}\n",
       "</style>\n",
       "<small>shape: (4, 6)</small><table border=\"1\" class=\"dataframe\"><thead><tr><th>year</th><th>exporter</th><th>importer</th><th>quantity</th><th>item</th><th>value</th></tr><tr><td>i64</td><td>str</td><td>str</td><td>i64</td><td>str</td><td>i64</td></tr></thead><tbody><tr><td>2000</td><td>&quot;China&quot;</td><td>&quot;USA&quot;</td><td>0</td><td>null</td><td>null</td></tr><tr><td>2000</td><td>&quot;China&quot;</td><td>&quot;USA&quot;</td><td>1</td><td>null</td><td>null</td></tr><tr><td>2001</td><td>&quot;China&quot;</td><td>&quot;USA&quot;</td><td>2</td><td>&quot;Clothes&quot;</td><td>10</td></tr><tr><td>2001</td><td>&quot;China&quot;</td><td>&quot;USA&quot;</td><td>3</td><td>&quot;Machinery&quot;</td><td>100</td></tr></tbody></table></div>"
      ],
      "text/plain": [
       "shape: (4, 6)\n",
       "┌──────┬──────────┬──────────┬──────────┬───────────┬───────┐\n",
       "│ year ┆ exporter ┆ importer ┆ quantity ┆ item      ┆ value │\n",
       "│ ---  ┆ ---      ┆ ---      ┆ ---      ┆ ---       ┆ ---   │\n",
       "│ i64  ┆ str      ┆ str      ┆ i64      ┆ str       ┆ i64   │\n",
       "╞══════╪══════════╪══════════╪══════════╪═══════════╪═══════╡\n",
       "│ 2000 ┆ China    ┆ USA      ┆ 0        ┆ null      ┆ null  │\n",
       "│ 2000 ┆ China    ┆ USA      ┆ 1        ┆ null      ┆ null  │\n",
       "│ 2001 ┆ China    ┆ USA      ┆ 2        ┆ Clothes   ┆ 10    │\n",
       "│ 2001 ┆ China    ┆ USA      ┆ 3        ┆ Machinery ┆ 100   │\n",
       "└──────┴──────────┴──────────┴──────────┴───────────┴───────┘"
      ]
     },
     "execution_count": 19,
     "metadata": {},
     "output_type": "execute_result"
    }
   ],
   "source": [
    "(\n",
    "    pl.concat(\n",
    "        [\n",
    "            df_2000,\n",
    "            df_2001\n",
    "        ],\n",
    "        how=\"diagonal\"\n",
    "    )\n",
    ")"
   ]
  },
  {
   "cell_type": "markdown",
   "id": "494739f5-e02f-422a-aafc-9fcb25da6c87",
   "metadata": {
    "jp-MarkdownHeadingCollapsed": true
   },
   "source": [
    "## Join"
   ]
  },
  {
   "cell_type": "code",
   "execution_count": 20,
   "id": "0ebf4f09-3f45-4247-81a4-f59be345bde7",
   "metadata": {},
   "outputs": [
    {
     "data": {
      "text/html": [
       "<div><style>\n",
       ".dataframe > thead > tr,\n",
       ".dataframe > tbody > tr {\n",
       "  text-align: right;\n",
       "  white-space: pre-wrap;\n",
       "}\n",
       "</style>\n",
       "<small>shape: (4, 2)</small><table border=\"1\" class=\"dataframe\"><thead><tr><th>id</th><th>val</th></tr><tr><td>str</td><td>i64</td></tr></thead><tbody><tr><td>&quot;A&quot;</td><td>0</td></tr><tr><td>&quot;B&quot;</td><td>1</td></tr><tr><td>&quot;C&quot;</td><td>2</td></tr><tr><td>null</td><td>3</td></tr></tbody></table></div>"
      ],
      "text/plain": [
       "shape: (4, 2)\n",
       "┌──────┬─────┐\n",
       "│ id   ┆ val │\n",
       "│ ---  ┆ --- │\n",
       "│ str  ┆ i64 │\n",
       "╞══════╪═════╡\n",
       "│ A    ┆ 0   │\n",
       "│ B    ┆ 1   │\n",
       "│ C    ┆ 2   │\n",
       "│ null ┆ 3   │\n",
       "└──────┴─────┘"
      ]
     },
     "execution_count": 20,
     "metadata": {},
     "output_type": "execute_result"
    }
   ],
   "source": [
    "df_left = pl.DataFrame(\n",
    "    {\n",
    "        \"id\": [\"A\", \"B\", \"C\", None],\n",
    "        \"val\": [0, 1, 2, 3]\n",
    "    }\n",
    ")\n",
    "df_left"
   ]
  },
  {
   "cell_type": "code",
   "execution_count": 21,
   "id": "0ad64ee1-3ef4-4bfa-8c1f-8fea0e98d36d",
   "metadata": {},
   "outputs": [
    {
     "data": {
      "text/html": [
       "<div><style>\n",
       ".dataframe > thead > tr,\n",
       ".dataframe > tbody > tr {\n",
       "  text-align: right;\n",
       "  white-space: pre-wrap;\n",
       "}\n",
       "</style>\n",
       "<small>shape: (4, 2)</small><table border=\"1\" class=\"dataframe\"><thead><tr><th>id</th><th>val</th></tr><tr><td>str</td><td>i64</td></tr></thead><tbody><tr><td>&quot;A&quot;</td><td>10</td></tr><tr><td>&quot;C&quot;</td><td>11</td></tr><tr><td>null</td><td>12</td></tr><tr><td>&quot;D&quot;</td><td>13</td></tr></tbody></table></div>"
      ],
      "text/plain": [
       "shape: (4, 2)\n",
       "┌──────┬─────┐\n",
       "│ id   ┆ val │\n",
       "│ ---  ┆ --- │\n",
       "│ str  ┆ i64 │\n",
       "╞══════╪═════╡\n",
       "│ A    ┆ 10  │\n",
       "│ C    ┆ 11  │\n",
       "│ null ┆ 12  │\n",
       "│ D    ┆ 13  │\n",
       "└──────┴─────┘"
      ]
     },
     "execution_count": 21,
     "metadata": {},
     "output_type": "execute_result"
    }
   ],
   "source": [
    "df_right = pl.DataFrame(\n",
    "    {\n",
    "        \"id\": [\"A\", \"C\", None, \"D\"],\n",
    "        \"val\": [10, 11, 12, 13]\n",
    "    }\n",
    ")\n",
    "df_right"
   ]
  },
  {
   "cell_type": "code",
   "execution_count": 22,
   "id": "8d0cb13d-31b8-44d9-9054-736430802c3b",
   "metadata": {},
   "outputs": [
    {
     "data": {
      "text/html": [
       "<div><style>\n",
       ".dataframe > thead > tr,\n",
       ".dataframe > tbody > tr {\n",
       "  text-align: right;\n",
       "  white-space: pre-wrap;\n",
       "}\n",
       "</style>\n",
       "<small>shape: (4, 3)</small><table border=\"1\" class=\"dataframe\"><thead><tr><th>id</th><th>val</th><th>val_right</th></tr><tr><td>str</td><td>i64</td><td>i64</td></tr></thead><tbody><tr><td>&quot;A&quot;</td><td>0</td><td>10</td></tr><tr><td>&quot;B&quot;</td><td>1</td><td>null</td></tr><tr><td>&quot;C&quot;</td><td>2</td><td>11</td></tr><tr><td>null</td><td>3</td><td>null</td></tr></tbody></table></div>"
      ],
      "text/plain": [
       "shape: (4, 3)\n",
       "┌──────┬─────┬───────────┐\n",
       "│ id   ┆ val ┆ val_right │\n",
       "│ ---  ┆ --- ┆ ---       │\n",
       "│ str  ┆ i64 ┆ i64       │\n",
       "╞══════╪═════╪═══════════╡\n",
       "│ A    ┆ 0   ┆ 10        │\n",
       "│ B    ┆ 1   ┆ null      │\n",
       "│ C    ┆ 2   ┆ 11        │\n",
       "│ null ┆ 3   ┆ null      │\n",
       "└──────┴─────┴───────────┘"
      ]
     },
     "execution_count": 22,
     "metadata": {},
     "output_type": "execute_result"
    }
   ],
   "source": [
    "(\n",
    "    df_left\n",
    "    .join(\n",
    "        df_right,\n",
    "        on=\"id\",\n",
    "        how=\"left\"\n",
    "    )\n",
    ")"
   ]
  },
  {
   "cell_type": "code",
   "execution_count": 24,
   "id": "19ecc5d7-3cb2-4867-a2ce-8b020de4ea67",
   "metadata": {},
   "outputs": [
    {
     "data": {
      "text/html": [
       "<div><style>\n",
       ".dataframe > thead > tr,\n",
       ".dataframe > tbody > tr {\n",
       "  text-align: right;\n",
       "  white-space: pre-wrap;\n",
       "}\n",
       "</style>\n",
       "<small>shape: (4, 3)</small><table border=\"1\" class=\"dataframe\"><thead><tr><th>id</th><th>val</th><th>val_right</th></tr><tr><td>str</td><td>i64</td><td>i64</td></tr></thead><tbody><tr><td>&quot;A&quot;</td><td>0</td><td>10</td></tr><tr><td>&quot;B&quot;</td><td>1</td><td>null</td></tr><tr><td>&quot;C&quot;</td><td>2</td><td>11</td></tr><tr><td>null</td><td>3</td><td>12</td></tr></tbody></table></div>"
      ],
      "text/plain": [
       "shape: (4, 3)\n",
       "┌──────┬─────┬───────────┐\n",
       "│ id   ┆ val ┆ val_right │\n",
       "│ ---  ┆ --- ┆ ---       │\n",
       "│ str  ┆ i64 ┆ i64       │\n",
       "╞══════╪═════╪═══════════╡\n",
       "│ A    ┆ 0   ┆ 10        │\n",
       "│ B    ┆ 1   ┆ null      │\n",
       "│ C    ┆ 2   ┆ 11        │\n",
       "│ null ┆ 3   ┆ 12        │\n",
       "└──────┴─────┴───────────┘"
      ]
     },
     "execution_count": 24,
     "metadata": {},
     "output_type": "execute_result"
    }
   ],
   "source": [
    "(\n",
    "    df_left\n",
    "    .join(\n",
    "        df_right,\n",
    "        on=\"id\",\n",
    "        how=\"left\",\n",
    "        nulls_equal=True\n",
    "    )\n",
    ")"
   ]
  },
  {
   "cell_type": "code",
   "execution_count": 25,
   "id": "092bd94a-27fc-4866-bf83-e0395d3a56ff",
   "metadata": {},
   "outputs": [
    {
     "data": {
      "text/html": [
       "<div><style>\n",
       ".dataframe > thead > tr,\n",
       ".dataframe > tbody > tr {\n",
       "  text-align: right;\n",
       "  white-space: pre-wrap;\n",
       "}\n",
       "</style>\n",
       "<small>shape: (4, 3)</small><table border=\"1\" class=\"dataframe\"><thead><tr><th>id</th><th>val</th><th>val_r</th></tr><tr><td>str</td><td>i64</td><td>i64</td></tr></thead><tbody><tr><td>&quot;A&quot;</td><td>0</td><td>10</td></tr><tr><td>&quot;B&quot;</td><td>1</td><td>null</td></tr><tr><td>&quot;C&quot;</td><td>2</td><td>11</td></tr><tr><td>null</td><td>3</td><td>null</td></tr></tbody></table></div>"
      ],
      "text/plain": [
       "shape: (4, 3)\n",
       "┌──────┬─────┬───────┐\n",
       "│ id   ┆ val ┆ val_r │\n",
       "│ ---  ┆ --- ┆ ---   │\n",
       "│ str  ┆ i64 ┆ i64   │\n",
       "╞══════╪═════╪═══════╡\n",
       "│ A    ┆ 0   ┆ 10    │\n",
       "│ B    ┆ 1   ┆ null  │\n",
       "│ C    ┆ 2   ┆ 11    │\n",
       "│ null ┆ 3   ┆ null  │\n",
       "└──────┴─────┴───────┘"
      ]
     },
     "execution_count": 25,
     "metadata": {},
     "output_type": "execute_result"
    }
   ],
   "source": [
    "(\n",
    "    df_left\n",
    "    .join(\n",
    "        df_right,\n",
    "        on=\"id\",\n",
    "        how=\"left\",\n",
    "        suffix=\"_r\"\n",
    "    )\n",
    ")"
   ]
  },
  {
   "cell_type": "code",
   "execution_count": 26,
   "id": "aa1061e8-2f45-402f-a449-9d7a6fc8f945",
   "metadata": {},
   "outputs": [
    {
     "data": {
      "text/html": [
       "<div><style>\n",
       ".dataframe > thead > tr,\n",
       ".dataframe > tbody > tr {\n",
       "  text-align: right;\n",
       "  white-space: pre-wrap;\n",
       "}\n",
       "</style>\n",
       "<small>shape: (2, 3)</small><table border=\"1\" class=\"dataframe\"><thead><tr><th>id</th><th>val</th><th>val_right</th></tr><tr><td>str</td><td>i64</td><td>i64</td></tr></thead><tbody><tr><td>&quot;A&quot;</td><td>0</td><td>10</td></tr><tr><td>&quot;C&quot;</td><td>2</td><td>11</td></tr></tbody></table></div>"
      ],
      "text/plain": [
       "shape: (2, 3)\n",
       "┌─────┬─────┬───────────┐\n",
       "│ id  ┆ val ┆ val_right │\n",
       "│ --- ┆ --- ┆ ---       │\n",
       "│ str ┆ i64 ┆ i64       │\n",
       "╞═════╪═════╪═══════════╡\n",
       "│ A   ┆ 0   ┆ 10        │\n",
       "│ C   ┆ 2   ┆ 11        │\n",
       "└─────┴─────┴───────────┘"
      ]
     },
     "execution_count": 26,
     "metadata": {},
     "output_type": "execute_result"
    }
   ],
   "source": [
    "(\n",
    "    df_left\n",
    "    .join(\n",
    "        df_right,\n",
    "        on=\"id\"\n",
    "    )\n",
    ")"
   ]
  },
  {
   "cell_type": "code",
   "execution_count": 27,
   "id": "d46006e8-b8b5-40a2-868a-63fade250805",
   "metadata": {},
   "outputs": [
    {
     "data": {
      "text/html": [
       "<div><style>\n",
       ".dataframe > thead > tr,\n",
       ".dataframe > tbody > tr {\n",
       "  text-align: right;\n",
       "  white-space: pre-wrap;\n",
       "}\n",
       "</style>\n",
       "<small>shape: (3, 3)</small><table border=\"1\" class=\"dataframe\"><thead><tr><th>id</th><th>val</th><th>val_right</th></tr><tr><td>str</td><td>i64</td><td>i64</td></tr></thead><tbody><tr><td>&quot;A&quot;</td><td>0</td><td>10</td></tr><tr><td>&quot;C&quot;</td><td>2</td><td>11</td></tr><tr><td>null</td><td>3</td><td>12</td></tr></tbody></table></div>"
      ],
      "text/plain": [
       "shape: (3, 3)\n",
       "┌──────┬─────┬───────────┐\n",
       "│ id   ┆ val ┆ val_right │\n",
       "│ ---  ┆ --- ┆ ---       │\n",
       "│ str  ┆ i64 ┆ i64       │\n",
       "╞══════╪═════╪═══════════╡\n",
       "│ A    ┆ 0   ┆ 10        │\n",
       "│ C    ┆ 2   ┆ 11        │\n",
       "│ null ┆ 3   ┆ 12        │\n",
       "└──────┴─────┴───────────┘"
      ]
     },
     "execution_count": 27,
     "metadata": {},
     "output_type": "execute_result"
    }
   ],
   "source": [
    "(\n",
    "    df_left\n",
    "    .join(\n",
    "        df_right,\n",
    "        on=\"id\",\n",
    "        nulls_equal=True\n",
    "    )\n",
    ")"
   ]
  },
  {
   "cell_type": "code",
   "execution_count": 28,
   "id": "9f2dbe6e-8252-4e08-ae8e-9cda73638926",
   "metadata": {},
   "outputs": [
    {
     "data": {
      "text/html": [
       "<div><style>\n",
       ".dataframe > thead > tr,\n",
       ".dataframe > tbody > tr {\n",
       "  text-align: right;\n",
       "  white-space: pre-wrap;\n",
       "}\n",
       "</style>\n",
       "<small>shape: (16, 4)</small><table border=\"1\" class=\"dataframe\"><thead><tr><th>id</th><th>val</th><th>id_right</th><th>val_right</th></tr><tr><td>str</td><td>i64</td><td>str</td><td>i64</td></tr></thead><tbody><tr><td>&quot;A&quot;</td><td>0</td><td>&quot;A&quot;</td><td>10</td></tr><tr><td>&quot;A&quot;</td><td>0</td><td>&quot;C&quot;</td><td>11</td></tr><tr><td>&quot;A&quot;</td><td>0</td><td>null</td><td>12</td></tr><tr><td>&quot;A&quot;</td><td>0</td><td>&quot;D&quot;</td><td>13</td></tr><tr><td>&quot;B&quot;</td><td>1</td><td>&quot;A&quot;</td><td>10</td></tr><tr><td>&hellip;</td><td>&hellip;</td><td>&hellip;</td><td>&hellip;</td></tr><tr><td>&quot;C&quot;</td><td>2</td><td>&quot;D&quot;</td><td>13</td></tr><tr><td>null</td><td>3</td><td>&quot;A&quot;</td><td>10</td></tr><tr><td>null</td><td>3</td><td>&quot;C&quot;</td><td>11</td></tr><tr><td>null</td><td>3</td><td>null</td><td>12</td></tr><tr><td>null</td><td>3</td><td>&quot;D&quot;</td><td>13</td></tr></tbody></table></div>"
      ],
      "text/plain": [
       "shape: (16, 4)\n",
       "┌──────┬─────┬──────────┬───────────┐\n",
       "│ id   ┆ val ┆ id_right ┆ val_right │\n",
       "│ ---  ┆ --- ┆ ---      ┆ ---       │\n",
       "│ str  ┆ i64 ┆ str      ┆ i64       │\n",
       "╞══════╪═════╪══════════╪═══════════╡\n",
       "│ A    ┆ 0   ┆ A        ┆ 10        │\n",
       "│ A    ┆ 0   ┆ C        ┆ 11        │\n",
       "│ A    ┆ 0   ┆ null     ┆ 12        │\n",
       "│ A    ┆ 0   ┆ D        ┆ 13        │\n",
       "│ B    ┆ 1   ┆ A        ┆ 10        │\n",
       "│ …    ┆ …   ┆ …        ┆ …         │\n",
       "│ C    ┆ 2   ┆ D        ┆ 13        │\n",
       "│ null ┆ 3   ┆ A        ┆ 10        │\n",
       "│ null ┆ 3   ┆ C        ┆ 11        │\n",
       "│ null ┆ 3   ┆ null     ┆ 12        │\n",
       "│ null ┆ 3   ┆ D        ┆ 13        │\n",
       "└──────┴─────┴──────────┴───────────┘"
      ]
     },
     "execution_count": 28,
     "metadata": {},
     "output_type": "execute_result"
    }
   ],
   "source": [
    "(\n",
    "    df_left\n",
    "    .join(\n",
    "        df_right,\n",
    "        how=\"cross\"\n",
    "    )\n",
    ")"
   ]
  },
  {
   "cell_type": "code",
   "execution_count": 30,
   "id": "67a6c5ef-c6f9-4935-b8d0-770a79d513dc",
   "metadata": {},
   "outputs": [
    {
     "data": {
      "text/html": [
       "<div><style>\n",
       ".dataframe > thead > tr,\n",
       ".dataframe > tbody > tr {\n",
       "  text-align: right;\n",
       "  white-space: pre-wrap;\n",
       "}\n",
       "</style>\n",
       "<small>shape: (6, 4)</small><table border=\"1\" class=\"dataframe\"><thead><tr><th>id</th><th>val</th><th>id_right</th><th>val_right</th></tr><tr><td>str</td><td>i64</td><td>str</td><td>i64</td></tr></thead><tbody><tr><td>&quot;A&quot;</td><td>0</td><td>&quot;A&quot;</td><td>10</td></tr><tr><td>&quot;C&quot;</td><td>2</td><td>&quot;C&quot;</td><td>11</td></tr><tr><td>null</td><td>null</td><td>null</td><td>12</td></tr><tr><td>null</td><td>null</td><td>&quot;D&quot;</td><td>13</td></tr><tr><td>null</td><td>3</td><td>null</td><td>null</td></tr><tr><td>&quot;B&quot;</td><td>1</td><td>null</td><td>null</td></tr></tbody></table></div>"
      ],
      "text/plain": [
       "shape: (6, 4)\n",
       "┌──────┬──────┬──────────┬───────────┐\n",
       "│ id   ┆ val  ┆ id_right ┆ val_right │\n",
       "│ ---  ┆ ---  ┆ ---      ┆ ---       │\n",
       "│ str  ┆ i64  ┆ str      ┆ i64       │\n",
       "╞══════╪══════╪══════════╪═══════════╡\n",
       "│ A    ┆ 0    ┆ A        ┆ 10        │\n",
       "│ C    ┆ 2    ┆ C        ┆ 11        │\n",
       "│ null ┆ null ┆ null     ┆ 12        │\n",
       "│ null ┆ null ┆ D        ┆ 13        │\n",
       "│ null ┆ 3    ┆ null     ┆ null      │\n",
       "│ B    ┆ 1    ┆ null     ┆ null      │\n",
       "└──────┴──────┴──────────┴───────────┘"
      ]
     },
     "execution_count": 30,
     "metadata": {},
     "output_type": "execute_result"
    }
   ],
   "source": [
    "(\n",
    "    df_left\n",
    "    .join(\n",
    "        df_right,\n",
    "        on=\"id\",\n",
    "        how=\"full\"\n",
    "    )\n",
    ")"
   ]
  },
  {
   "cell_type": "code",
   "execution_count": 31,
   "id": "125ffdcc-4cfc-43bf-a754-a24e29c7428b",
   "metadata": {},
   "outputs": [
    {
     "data": {
      "text/html": [
       "<div><style>\n",
       ".dataframe > thead > tr,\n",
       ".dataframe > tbody > tr {\n",
       "  text-align: right;\n",
       "  white-space: pre-wrap;\n",
       "}\n",
       "</style>\n",
       "<small>shape: (5, 4)</small><table border=\"1\" class=\"dataframe\"><thead><tr><th>id</th><th>val</th><th>id_right</th><th>val_right</th></tr><tr><td>str</td><td>i64</td><td>str</td><td>i64</td></tr></thead><tbody><tr><td>&quot;A&quot;</td><td>0</td><td>&quot;A&quot;</td><td>10</td></tr><tr><td>&quot;C&quot;</td><td>2</td><td>&quot;C&quot;</td><td>11</td></tr><tr><td>null</td><td>3</td><td>null</td><td>12</td></tr><tr><td>null</td><td>null</td><td>&quot;D&quot;</td><td>13</td></tr><tr><td>&quot;B&quot;</td><td>1</td><td>null</td><td>null</td></tr></tbody></table></div>"
      ],
      "text/plain": [
       "shape: (5, 4)\n",
       "┌──────┬──────┬──────────┬───────────┐\n",
       "│ id   ┆ val  ┆ id_right ┆ val_right │\n",
       "│ ---  ┆ ---  ┆ ---      ┆ ---       │\n",
       "│ str  ┆ i64  ┆ str      ┆ i64       │\n",
       "╞══════╪══════╪══════════╪═══════════╡\n",
       "│ A    ┆ 0    ┆ A        ┆ 10        │\n",
       "│ C    ┆ 2    ┆ C        ┆ 11        │\n",
       "│ null ┆ 3    ┆ null     ┆ 12        │\n",
       "│ null ┆ null ┆ D        ┆ 13        │\n",
       "│ B    ┆ 1    ┆ null     ┆ null      │\n",
       "└──────┴──────┴──────────┴───────────┘"
      ]
     },
     "execution_count": 31,
     "metadata": {},
     "output_type": "execute_result"
    }
   ],
   "source": [
    "(\n",
    "    df_left\n",
    "    .join(\n",
    "        df_right,\n",
    "        on=\"id\",\n",
    "        how=\"full\",\n",
    "        nulls_equal=True\n",
    "    )\n",
    ")"
   ]
  },
  {
   "cell_type": "code",
   "execution_count": 33,
   "id": "69a7e643-d3a0-422a-9c9f-961b29632e24",
   "metadata": {},
   "outputs": [
    {
     "data": {
      "text/html": [
       "<div><style>\n",
       ".dataframe > thead > tr,\n",
       ".dataframe > tbody > tr {\n",
       "  text-align: right;\n",
       "  white-space: pre-wrap;\n",
       "}\n",
       "</style>\n",
       "<small>shape: (6, 3)</small><table border=\"1\" class=\"dataframe\"><thead><tr><th>id</th><th>val</th><th>val_right</th></tr><tr><td>str</td><td>i64</td><td>i64</td></tr></thead><tbody><tr><td>&quot;A&quot;</td><td>0</td><td>10</td></tr><tr><td>&quot;C&quot;</td><td>2</td><td>11</td></tr><tr><td>null</td><td>null</td><td>12</td></tr><tr><td>&quot;D&quot;</td><td>null</td><td>13</td></tr><tr><td>null</td><td>3</td><td>null</td></tr><tr><td>&quot;B&quot;</td><td>1</td><td>null</td></tr></tbody></table></div>"
      ],
      "text/plain": [
       "shape: (6, 3)\n",
       "┌──────┬──────┬───────────┐\n",
       "│ id   ┆ val  ┆ val_right │\n",
       "│ ---  ┆ ---  ┆ ---       │\n",
       "│ str  ┆ i64  ┆ i64       │\n",
       "╞══════╪══════╪═══════════╡\n",
       "│ A    ┆ 0    ┆ 10        │\n",
       "│ C    ┆ 2    ┆ 11        │\n",
       "│ null ┆ null ┆ 12        │\n",
       "│ D    ┆ null ┆ 13        │\n",
       "│ null ┆ 3    ┆ null      │\n",
       "│ B    ┆ 1    ┆ null      │\n",
       "└──────┴──────┴───────────┘"
      ]
     },
     "execution_count": 33,
     "metadata": {},
     "output_type": "execute_result"
    }
   ],
   "source": [
    "(\n",
    "    df_left\n",
    "    .join(\n",
    "        df_right,\n",
    "        on=\"id\",\n",
    "        how=\"full\",\n",
    "        coalesce=True\n",
    "    )\n",
    ")"
   ]
  },
  {
   "cell_type": "code",
   "execution_count": 34,
   "id": "70a9f38d-48e5-4d35-943f-bd3272ae6323",
   "metadata": {},
   "outputs": [
    {
     "data": {
      "text/html": [
       "<div><style>\n",
       ".dataframe > thead > tr,\n",
       ".dataframe > tbody > tr {\n",
       "  text-align: right;\n",
       "  white-space: pre-wrap;\n",
       "}\n",
       "</style>\n",
       "<small>shape: (4, 2)</small><table border=\"1\" class=\"dataframe\"><thead><tr><th>id</th><th>val</th></tr><tr><td>str</td><td>i64</td></tr></thead><tbody><tr><td>&quot;A&quot;</td><td>0</td></tr><tr><td>&quot;B&quot;</td><td>1</td></tr><tr><td>&quot;C&quot;</td><td>2</td></tr><tr><td>null</td><td>3</td></tr></tbody></table></div>"
      ],
      "text/plain": [
       "shape: (4, 2)\n",
       "┌──────┬─────┐\n",
       "│ id   ┆ val │\n",
       "│ ---  ┆ --- │\n",
       "│ str  ┆ i64 │\n",
       "╞══════╪═════╡\n",
       "│ A    ┆ 0   │\n",
       "│ B    ┆ 1   │\n",
       "│ C    ┆ 2   │\n",
       "│ null ┆ 3   │\n",
       "└──────┴─────┘"
      ]
     },
     "execution_count": 34,
     "metadata": {},
     "output_type": "execute_result"
    }
   ],
   "source": [
    "df_left_valid = pl.DataFrame(\n",
    "    {\n",
    "        \"id\": [\"A\", \"B\", \"C\", None],\n",
    "        \"val\": [0, 1, 2, 3]\n",
    "    }\n",
    ")\n",
    "df_left_valid"
   ]
  },
  {
   "cell_type": "code",
   "execution_count": 35,
   "id": "cf0da87c-e1ba-4cdf-94f9-27cf73a543fa",
   "metadata": {},
   "outputs": [
    {
     "data": {
      "text/html": [
       "<div><style>\n",
       ".dataframe > thead > tr,\n",
       ".dataframe > tbody > tr {\n",
       "  text-align: right;\n",
       "  white-space: pre-wrap;\n",
       "}\n",
       "</style>\n",
       "<small>shape: (4, 2)</small><table border=\"1\" class=\"dataframe\"><thead><tr><th>id</th><th>val</th></tr><tr><td>str</td><td>i64</td></tr></thead><tbody><tr><td>&quot;A&quot;</td><td>10</td></tr><tr><td>&quot;C&quot;</td><td>11</td></tr><tr><td>null</td><td>12</td></tr><tr><td>&quot;D&quot;</td><td>13</td></tr></tbody></table></div>"
      ],
      "text/plain": [
       "shape: (4, 2)\n",
       "┌──────┬─────┐\n",
       "│ id   ┆ val │\n",
       "│ ---  ┆ --- │\n",
       "│ str  ┆ i64 │\n",
       "╞══════╪═════╡\n",
       "│ A    ┆ 10  │\n",
       "│ C    ┆ 11  │\n",
       "│ null ┆ 12  │\n",
       "│ D    ┆ 13  │\n",
       "└──────┴─────┘"
      ]
     },
     "execution_count": 35,
     "metadata": {},
     "output_type": "execute_result"
    }
   ],
   "source": [
    "df_right_valid = pl.DataFrame(\n",
    "    {\n",
    "        \"id\": [\"A\", \"C\", None, \"D\"],\n",
    "        \"val\": [10, 11, 12, 13]\n",
    "    }\n",
    ")\n",
    "df_right_valid"
   ]
  },
  {
   "cell_type": "code",
   "execution_count": 37,
   "id": "936d5aa3-ed3d-406e-825d-c4befac70e7f",
   "metadata": {},
   "outputs": [
    {
     "data": {
      "text/html": [
       "<div><style>\n",
       ".dataframe > thead > tr,\n",
       ".dataframe > tbody > tr {\n",
       "  text-align: right;\n",
       "  white-space: pre-wrap;\n",
       "}\n",
       "</style>\n",
       "<small>shape: (4, 3)</small><table border=\"1\" class=\"dataframe\"><thead><tr><th>id</th><th>val</th><th>val_right</th></tr><tr><td>str</td><td>i64</td><td>i64</td></tr></thead><tbody><tr><td>&quot;A&quot;</td><td>0</td><td>10</td></tr><tr><td>&quot;B&quot;</td><td>1</td><td>null</td></tr><tr><td>&quot;C&quot;</td><td>2</td><td>11</td></tr><tr><td>null</td><td>3</td><td>null</td></tr></tbody></table></div>"
      ],
      "text/plain": [
       "shape: (4, 3)\n",
       "┌──────┬─────┬───────────┐\n",
       "│ id   ┆ val ┆ val_right │\n",
       "│ ---  ┆ --- ┆ ---       │\n",
       "│ str  ┆ i64 ┆ i64       │\n",
       "╞══════╪═════╪═══════════╡\n",
       "│ A    ┆ 0   ┆ 10        │\n",
       "│ B    ┆ 1   ┆ null      │\n",
       "│ C    ┆ 2   ┆ 11        │\n",
       "│ null ┆ 3   ┆ null      │\n",
       "└──────┴─────┴───────────┘"
      ]
     },
     "execution_count": 37,
     "metadata": {},
     "output_type": "execute_result"
    }
   ],
   "source": [
    "(\n",
    "    df_left_valid\n",
    "    .join(\n",
    "        df_right_valid,\n",
    "        on=\"id\",\n",
    "        how=\"left\",\n",
    "        validate=\"1:1\"\n",
    "    )\n",
    ")"
   ]
  },
  {
   "cell_type": "code",
   "execution_count": 38,
   "id": "75a725d3-b064-4734-8a2a-ede94c4a8060",
   "metadata": {},
   "outputs": [
    {
     "data": {
      "text/html": [
       "<div><style>\n",
       ".dataframe > thead > tr,\n",
       ".dataframe > tbody > tr {\n",
       "  text-align: right;\n",
       "  white-space: pre-wrap;\n",
       "}\n",
       "</style>\n",
       "<small>shape: (2, 2)</small><table border=\"1\" class=\"dataframe\"><thead><tr><th>id</th><th>val</th></tr><tr><td>str</td><td>i64</td></tr></thead><tbody><tr><td>&quot;A&quot;</td><td>0</td></tr><tr><td>&quot;A&quot;</td><td>1</td></tr></tbody></table></div>"
      ],
      "text/plain": [
       "shape: (2, 2)\n",
       "┌─────┬─────┐\n",
       "│ id  ┆ val │\n",
       "│ --- ┆ --- │\n",
       "│ str ┆ i64 │\n",
       "╞═════╪═════╡\n",
       "│ A   ┆ 0   │\n",
       "│ A   ┆ 1   │\n",
       "└─────┴─────┘"
      ]
     },
     "execution_count": 38,
     "metadata": {},
     "output_type": "execute_result"
    }
   ],
   "source": [
    "df_left_m = pl.DataFrame(\n",
    "    {\n",
    "        \"id\": [\"A\", \"A\"],\n",
    "        \"val\": [0, 1]\n",
    "    }\n",
    ")\n",
    "df_left_m"
   ]
  },
  {
   "cell_type": "code",
   "execution_count": 39,
   "id": "9013ff57-3d85-43fb-b97c-2011245eb43b",
   "metadata": {},
   "outputs": [
    {
     "data": {
      "text/html": [
       "<div><style>\n",
       ".dataframe > thead > tr,\n",
       ".dataframe > tbody > tr {\n",
       "  text-align: right;\n",
       "  white-space: pre-wrap;\n",
       "}\n",
       "</style>\n",
       "<small>shape: (2, 2)</small><table border=\"1\" class=\"dataframe\"><thead><tr><th>id</th><th>val</th></tr><tr><td>str</td><td>i64</td></tr></thead><tbody><tr><td>&quot;A&quot;</td><td>10</td></tr><tr><td>&quot;B&quot;</td><td>11</td></tr></tbody></table></div>"
      ],
      "text/plain": [
       "shape: (2, 2)\n",
       "┌─────┬─────┐\n",
       "│ id  ┆ val │\n",
       "│ --- ┆ --- │\n",
       "│ str ┆ i64 │\n",
       "╞═════╪═════╡\n",
       "│ A   ┆ 10  │\n",
       "│ B   ┆ 11  │\n",
       "└─────┴─────┘"
      ]
     },
     "execution_count": 39,
     "metadata": {},
     "output_type": "execute_result"
    }
   ],
   "source": [
    "df_right_m = pl.DataFrame(\n",
    "    {\n",
    "        \"id\": [\"A\", \"B\"],\n",
    "        \"val\": [10, 11]\n",
    "    }\n",
    ")\n",
    "df_right_m"
   ]
  },
  {
   "cell_type": "code",
   "execution_count": 40,
   "id": "6fb1ff88-265e-49de-8424-e49e724c578c",
   "metadata": {},
   "outputs": [
    {
     "data": {
      "text/html": [
       "<div><style>\n",
       ".dataframe > thead > tr,\n",
       ".dataframe > tbody > tr {\n",
       "  text-align: right;\n",
       "  white-space: pre-wrap;\n",
       "}\n",
       "</style>\n",
       "<small>shape: (2, 3)</small><table border=\"1\" class=\"dataframe\"><thead><tr><th>id</th><th>val</th><th>val_right</th></tr><tr><td>str</td><td>i64</td><td>i64</td></tr></thead><tbody><tr><td>&quot;A&quot;</td><td>0</td><td>10</td></tr><tr><td>&quot;A&quot;</td><td>1</td><td>10</td></tr></tbody></table></div>"
      ],
      "text/plain": [
       "shape: (2, 3)\n",
       "┌─────┬─────┬───────────┐\n",
       "│ id  ┆ val ┆ val_right │\n",
       "│ --- ┆ --- ┆ ---       │\n",
       "│ str ┆ i64 ┆ i64       │\n",
       "╞═════╪═════╪═══════════╡\n",
       "│ A   ┆ 0   ┆ 10        │\n",
       "│ A   ┆ 1   ┆ 10        │\n",
       "└─────┴─────┴───────────┘"
      ]
     },
     "execution_count": 40,
     "metadata": {},
     "output_type": "execute_result"
    }
   ],
   "source": [
    "(\n",
    "    df_left_m\n",
    "    .join(\n",
    "        df_right_m,\n",
    "        on=\"id\",\n",
    "        how=\"left\",\n",
    "        validate=\"m:1\"\n",
    "    )\n",
    ")"
   ]
  },
  {
   "cell_type": "code",
   "execution_count": 41,
   "id": "05023525-7866-41e2-812e-f78b31a44fd8",
   "metadata": {},
   "outputs": [
    {
     "data": {
      "text/html": [
       "<div><style>\n",
       ".dataframe > thead > tr,\n",
       ".dataframe > tbody > tr {\n",
       "  text-align: right;\n",
       "  white-space: pre-wrap;\n",
       "}\n",
       "</style>\n",
       "<small>shape: (4, 3)</small><table border=\"1\" class=\"dataframe\"><thead><tr><th>id</th><th>year</th><th>val</th></tr><tr><td>str</td><td>i64</td><td>i64</td></tr></thead><tbody><tr><td>&quot;A&quot;</td><td>2020</td><td>0</td></tr><tr><td>&quot;B&quot;</td><td>2020</td><td>1</td></tr><tr><td>&quot;A&quot;</td><td>2021</td><td>2</td></tr><tr><td>&quot;B&quot;</td><td>2021</td><td>3</td></tr></tbody></table></div>"
      ],
      "text/plain": [
       "shape: (4, 3)\n",
       "┌─────┬──────┬─────┐\n",
       "│ id  ┆ year ┆ val │\n",
       "│ --- ┆ ---  ┆ --- │\n",
       "│ str ┆ i64  ┆ i64 │\n",
       "╞═════╪══════╪═════╡\n",
       "│ A   ┆ 2020 ┆ 0   │\n",
       "│ B   ┆ 2020 ┆ 1   │\n",
       "│ A   ┆ 2021 ┆ 2   │\n",
       "│ B   ┆ 2021 ┆ 3   │\n",
       "└─────┴──────┴─────┘"
      ]
     },
     "execution_count": 41,
     "metadata": {},
     "output_type": "execute_result"
    }
   ],
   "source": [
    "df_left_multiple = pl.DataFrame(\n",
    "    {\n",
    "        \"id\": [\"A\", \"B\", \"A\", \"B\"],\n",
    "        \"year\": [2020, 2020, 2021, 2021],\n",
    "        \"val\": [0, 1, 2, 3]\n",
    "    }\n",
    ")\n",
    "df_left_multiple"
   ]
  },
  {
   "cell_type": "code",
   "execution_count": 42,
   "id": "18ef20db-976a-4440-8d0e-373fe4fb25a4",
   "metadata": {},
   "outputs": [
    {
     "data": {
      "text/html": [
       "<div><style>\n",
       ".dataframe > thead > tr,\n",
       ".dataframe > tbody > tr {\n",
       "  text-align: right;\n",
       "  white-space: pre-wrap;\n",
       "}\n",
       "</style>\n",
       "<small>shape: (4, 3)</small><table border=\"1\" class=\"dataframe\"><thead><tr><th>id</th><th>year</th><th>val</th></tr><tr><td>str</td><td>i64</td><td>i64</td></tr></thead><tbody><tr><td>&quot;a&quot;</td><td>2020</td><td>10</td></tr><tr><td>&quot;b&quot;</td><td>2020</td><td>11</td></tr><tr><td>&quot;a&quot;</td><td>2021</td><td>12</td></tr><tr><td>&quot;b&quot;</td><td>2021</td><td>13</td></tr></tbody></table></div>"
      ],
      "text/plain": [
       "shape: (4, 3)\n",
       "┌─────┬──────┬─────┐\n",
       "│ id  ┆ year ┆ val │\n",
       "│ --- ┆ ---  ┆ --- │\n",
       "│ str ┆ i64  ┆ i64 │\n",
       "╞═════╪══════╪═════╡\n",
       "│ a   ┆ 2020 ┆ 10  │\n",
       "│ b   ┆ 2020 ┆ 11  │\n",
       "│ a   ┆ 2021 ┆ 12  │\n",
       "│ b   ┆ 2021 ┆ 13  │\n",
       "└─────┴──────┴─────┘"
      ]
     },
     "execution_count": 42,
     "metadata": {},
     "output_type": "execute_result"
    }
   ],
   "source": [
    "df_right_multiple = pl.DataFrame(\n",
    "    {\n",
    "        \"id\": [\"a\", \"b\", \"a\", \"b\"],\n",
    "        \"year\": [2020, 2020, 2021, 2021],\n",
    "        \"val\": [10, 11, 12, 13]\n",
    "    }\n",
    ")\n",
    "df_right_multiple"
   ]
  },
  {
   "cell_type": "code",
   "execution_count": 43,
   "id": "8ceea64a-5151-4cf2-ab1f-1699e3dc8e5d",
   "metadata": {},
   "outputs": [
    {
     "data": {
      "text/html": [
       "<div><style>\n",
       ".dataframe > thead > tr,\n",
       ".dataframe > tbody > tr {\n",
       "  text-align: right;\n",
       "  white-space: pre-wrap;\n",
       "}\n",
       "</style>\n",
       "<small>shape: (4, 6)</small><table border=\"1\" class=\"dataframe\"><thead><tr><th>id</th><th>year</th><th>val</th><th>id_right</th><th>year_right</th><th>val_right</th></tr><tr><td>str</td><td>i64</td><td>i64</td><td>str</td><td>i64</td><td>i64</td></tr></thead><tbody><tr><td>&quot;A&quot;</td><td>2020</td><td>0</td><td>&quot;a&quot;</td><td>2020</td><td>10</td></tr><tr><td>&quot;B&quot;</td><td>2020</td><td>1</td><td>&quot;b&quot;</td><td>2020</td><td>11</td></tr><tr><td>&quot;A&quot;</td><td>2021</td><td>2</td><td>&quot;a&quot;</td><td>2021</td><td>12</td></tr><tr><td>&quot;B&quot;</td><td>2021</td><td>3</td><td>&quot;b&quot;</td><td>2021</td><td>13</td></tr></tbody></table></div>"
      ],
      "text/plain": [
       "shape: (4, 6)\n",
       "┌─────┬──────┬─────┬──────────┬────────────┬───────────┐\n",
       "│ id  ┆ year ┆ val ┆ id_right ┆ year_right ┆ val_right │\n",
       "│ --- ┆ ---  ┆ --- ┆ ---      ┆ ---        ┆ ---       │\n",
       "│ str ┆ i64  ┆ i64 ┆ str      ┆ i64        ┆ i64       │\n",
       "╞═════╪══════╪═════╪══════════╪════════════╪═══════════╡\n",
       "│ A   ┆ 2020 ┆ 0   ┆ a        ┆ 2020       ┆ 10        │\n",
       "│ B   ┆ 2020 ┆ 1   ┆ b        ┆ 2020       ┆ 11        │\n",
       "│ A   ┆ 2021 ┆ 2   ┆ a        ┆ 2021       ┆ 12        │\n",
       "│ B   ┆ 2021 ┆ 3   ┆ b        ┆ 2021       ┆ 13        │\n",
       "└─────┴──────┴─────┴──────────┴────────────┴───────────┘"
      ]
     },
     "execution_count": 43,
     "metadata": {},
     "output_type": "execute_result"
    }
   ],
   "source": [
    "(\n",
    "    df_left_multiple\n",
    "    .join(\n",
    "        df_right_multiple,\n",
    "        on=[\n",
    "            pl.col(\"id\").str.to_uppercase(),\n",
    "            \"year\"\n",
    "        ],\n",
    "        how=\"inner\"\n",
    "    )\n",
    ")"
   ]
  },
  {
   "cell_type": "code",
   "execution_count": 44,
   "id": "67a8c4c5-50e9-4648-b62a-350841e6df16",
   "metadata": {},
   "outputs": [
    {
     "data": {
      "text/html": [
       "<div><style>\n",
       ".dataframe > thead > tr,\n",
       ".dataframe > tbody > tr {\n",
       "  text-align: right;\n",
       "  white-space: pre-wrap;\n",
       "}\n",
       "</style>\n",
       "<small>shape: (2, 2)</small><table border=\"1\" class=\"dataframe\"><thead><tr><th>id</th><th>val_right</th></tr><tr><td>str</td><td>i64</td></tr></thead><tbody><tr><td>&quot;A&quot;</td><td>10</td></tr><tr><td>&quot;C&quot;</td><td>11</td></tr></tbody></table></div>"
      ],
      "text/plain": [
       "shape: (2, 2)\n",
       "┌─────┬───────────┐\n",
       "│ id  ┆ val_right │\n",
       "│ --- ┆ ---       │\n",
       "│ str ┆ i64       │\n",
       "╞═════╪═══════════╡\n",
       "│ A   ┆ 10        │\n",
       "│ C   ┆ 11        │\n",
       "└─────┴───────────┘"
      ]
     },
     "execution_count": 44,
     "metadata": {},
     "output_type": "execute_result"
    }
   ],
   "source": [
    "(\n",
    "    df_left\n",
    "    .lazy()\n",
    "    .join(\n",
    "        df_right.lazy(),\n",
    "        on=\"id\",\n",
    "        how=\"inner\"\n",
    "    )\n",
    "    .select(\"id\", \"val_right\")\n",
    "    .collect()\n",
    ")"
   ]
  },
  {
   "cell_type": "markdown",
   "id": "8650b8da-c6a6-4151-9252-f196f095f6e6",
   "metadata": {},
   "source": [
    "## Join on strings"
   ]
  },
  {
   "cell_type": "code",
   "execution_count": 45,
   "id": "754082c2-729f-4d30-b25f-c43e00a55ded",
   "metadata": {},
   "outputs": [
    {
     "data": {
      "text/html": [
       "<div><style>\n",
       ".dataframe > thead > tr,\n",
       ".dataframe > tbody > tr {\n",
       "  text-align: right;\n",
       "  white-space: pre-wrap;\n",
       "}\n",
       "</style>\n",
       "<small>shape: (4, 2)</small><table border=\"1\" class=\"dataframe\"><thead><tr><th>id</th><th>values</th></tr><tr><td>str</td><td>i64</td></tr></thead><tbody><tr><td>&quot;id3&quot;</td><td>3</td></tr><tr><td>&quot;id3&quot;</td><td>3</td></tr><tr><td>&quot;id1&quot;</td><td>1</td></tr><tr><td>&quot;id2&quot;</td><td>2</td></tr></tbody></table></div>"
      ],
      "text/plain": [
       "shape: (4, 2)\n",
       "┌─────┬────────┐\n",
       "│ id  ┆ values │\n",
       "│ --- ┆ ---    │\n",
       "│ str ┆ i64    │\n",
       "╞═════╪════════╡\n",
       "│ id3 ┆ 3      │\n",
       "│ id3 ┆ 3      │\n",
       "│ id1 ┆ 1      │\n",
       "│ id2 ┆ 2      │\n",
       "└─────┴────────┘"
      ]
     },
     "execution_count": 45,
     "metadata": {},
     "output_type": "execute_result"
    }
   ],
   "source": [
    "df_left = (\n",
    "    pl.DataFrame(\n",
    "        {\n",
    "            \"id\": [\"id3\", \"id3\", \"id1\", \"id2\"],\n",
    "            \"values\": [3,3,1,2]\n",
    "        }\n",
    "    )\n",
    ")\n",
    "df_left"
   ]
  },
  {
   "cell_type": "code",
   "execution_count": 46,
   "id": "125eb257-5e23-49e9-a206-58240c963d89",
   "metadata": {},
   "outputs": [
    {
     "data": {
      "text/html": [
       "<div><style>\n",
       ".dataframe > thead > tr,\n",
       ".dataframe > tbody > tr {\n",
       "  text-align: right;\n",
       "  white-space: pre-wrap;\n",
       "}\n",
       "</style>\n",
       "<small>shape: (3, 2)</small><table border=\"1\" class=\"dataframe\"><thead><tr><th>id</th><th>metadata</th></tr><tr><td>str</td><td>i64</td></tr></thead><tbody><tr><td>&quot;id1&quot;</td><td>1</td></tr><tr><td>&quot;id2&quot;</td><td>2</td></tr><tr><td>&quot;id3&quot;</td><td>3</td></tr></tbody></table></div>"
      ],
      "text/plain": [
       "shape: (3, 2)\n",
       "┌─────┬──────────┐\n",
       "│ id  ┆ metadata │\n",
       "│ --- ┆ ---      │\n",
       "│ str ┆ i64      │\n",
       "╞═════╪══════════╡\n",
       "│ id1 ┆ 1        │\n",
       "│ id2 ┆ 2        │\n",
       "│ id3 ┆ 3        │\n",
       "└─────┴──────────┘"
      ]
     },
     "execution_count": 46,
     "metadata": {},
     "output_type": "execute_result"
    }
   ],
   "source": [
    "df_right = (\n",
    "    pl.DataFrame(\n",
    "        {\n",
    "            \"id\": [\"id1\", \"id2\", \"id3\"],\n",
    "            \"metadata\": [1,2,3]\n",
    "        }\n",
    "    )\n",
    ")\n",
    "df_right"
   ]
  },
  {
   "cell_type": "code",
   "execution_count": 47,
   "id": "4bfc6412-d89c-4e8d-b3f0-52e021c3a95b",
   "metadata": {},
   "outputs": [
    {
     "data": {
      "text/html": [
       "<div><style>\n",
       ".dataframe > thead > tr,\n",
       ".dataframe > tbody > tr {\n",
       "  text-align: right;\n",
       "  white-space: pre-wrap;\n",
       "}\n",
       "</style>\n",
       "<small>shape: (4, 3)</small><table border=\"1\" class=\"dataframe\"><thead><tr><th>id</th><th>values</th><th>metadata</th></tr><tr><td>str</td><td>i64</td><td>i64</td></tr></thead><tbody><tr><td>&quot;id3&quot;</td><td>3</td><td>3</td></tr><tr><td>&quot;id3&quot;</td><td>3</td><td>3</td></tr><tr><td>&quot;id1&quot;</td><td>1</td><td>1</td></tr><tr><td>&quot;id2&quot;</td><td>2</td><td>2</td></tr></tbody></table></div>"
      ],
      "text/plain": [
       "shape: (4, 3)\n",
       "┌─────┬────────┬──────────┐\n",
       "│ id  ┆ values ┆ metadata │\n",
       "│ --- ┆ ---    ┆ ---      │\n",
       "│ str ┆ i64    ┆ i64      │\n",
       "╞═════╪════════╪══════════╡\n",
       "│ id3 ┆ 3      ┆ 3        │\n",
       "│ id3 ┆ 3      ┆ 3        │\n",
       "│ id1 ┆ 1      ┆ 1        │\n",
       "│ id2 ┆ 2      ┆ 2        │\n",
       "└─────┴────────┴──────────┘"
      ]
     },
     "execution_count": 47,
     "metadata": {},
     "output_type": "execute_result"
    }
   ],
   "source": [
    "(\n",
    "    df_left\n",
    "    .join(\n",
    "        df_right,\n",
    "        on=\"id\"\n",
    "    )\n",
    ")"
   ]
  },
  {
   "cell_type": "code",
   "execution_count": 48,
   "id": "d78a0599-3a4e-40f9-8dc7-5c028143f480",
   "metadata": {},
   "outputs": [
    {
     "data": {
      "text/html": [
       "<div><style>\n",
       ".dataframe > thead > tr,\n",
       ".dataframe > tbody > tr {\n",
       "  text-align: right;\n",
       "  white-space: pre-wrap;\n",
       "}\n",
       "</style>\n",
       "<small>shape: (4, 2)</small><table border=\"1\" class=\"dataframe\"><thead><tr><th>id</th><th>values</th></tr><tr><td>cat</td><td>i64</td></tr></thead><tbody><tr><td>&quot;id3&quot;</td><td>3</td></tr><tr><td>&quot;id3&quot;</td><td>3</td></tr><tr><td>&quot;id1&quot;</td><td>1</td></tr><tr><td>&quot;id2&quot;</td><td>2</td></tr></tbody></table></div>"
      ],
      "text/plain": [
       "shape: (4, 2)\n",
       "┌─────┬────────┐\n",
       "│ id  ┆ values │\n",
       "│ --- ┆ ---    │\n",
       "│ cat ┆ i64    │\n",
       "╞═════╪════════╡\n",
       "│ id3 ┆ 3      │\n",
       "│ id3 ┆ 3      │\n",
       "│ id1 ┆ 1      │\n",
       "│ id2 ┆ 2      │\n",
       "└─────┴────────┘"
      ]
     },
     "execution_count": 48,
     "metadata": {},
     "output_type": "execute_result"
    }
   ],
   "source": [
    "df_left_cat = (\n",
    "    df_left\n",
    "    .with_columns(\n",
    "        pl.col(\"id\").cast(pl.Categorical)\n",
    "    )\n",
    ")\n",
    "df_left_cat"
   ]
  },
  {
   "cell_type": "code",
   "execution_count": 49,
   "id": "305b1a2d-76b5-4ed2-a65e-d8b5dc7b0c44",
   "metadata": {},
   "outputs": [
    {
     "data": {
      "text/html": [
       "<div><style>\n",
       ".dataframe > thead > tr,\n",
       ".dataframe > tbody > tr {\n",
       "  text-align: right;\n",
       "  white-space: pre-wrap;\n",
       "}\n",
       "</style>\n",
       "<small>shape: (3, 2)</small><table border=\"1\" class=\"dataframe\"><thead><tr><th>id</th><th>metadata</th></tr><tr><td>cat</td><td>i64</td></tr></thead><tbody><tr><td>&quot;id1&quot;</td><td>1</td></tr><tr><td>&quot;id2&quot;</td><td>2</td></tr><tr><td>&quot;id3&quot;</td><td>3</td></tr></tbody></table></div>"
      ],
      "text/plain": [
       "shape: (3, 2)\n",
       "┌─────┬──────────┐\n",
       "│ id  ┆ metadata │\n",
       "│ --- ┆ ---      │\n",
       "│ cat ┆ i64      │\n",
       "╞═════╪══════════╡\n",
       "│ id1 ┆ 1        │\n",
       "│ id2 ┆ 2        │\n",
       "│ id3 ┆ 3        │\n",
       "└─────┴──────────┘"
      ]
     },
     "execution_count": 49,
     "metadata": {},
     "output_type": "execute_result"
    }
   ],
   "source": [
    "df_right_cat = (\n",
    "    df_right\n",
    "    .with_columns(\n",
    "        pl.col(\"id\").cast(pl.Categorical)\n",
    "    )\n",
    ")\n",
    "df_right_cat"
   ]
  },
  {
   "cell_type": "code",
   "execution_count": 50,
   "id": "ac133cf0-c23e-4898-b867-a734aab229f8",
   "metadata": {},
   "outputs": [
    {
     "name": "stderr",
     "output_type": "stream",
     "text": [
      "C:\\Users\\yk279\\AppData\\Local\\Temp\\ipykernel_37600\\2007590129.py:3: CategoricalRemappingWarning: Local categoricals have different encodings, expensive re-encoding is done to perform this merge operation. Consider using a StringCache or an Enum type if the categories are known in advance\n",
      "  .join(\n"
     ]
    },
    {
     "data": {
      "text/html": [
       "<div><style>\n",
       ".dataframe > thead > tr,\n",
       ".dataframe > tbody > tr {\n",
       "  text-align: right;\n",
       "  white-space: pre-wrap;\n",
       "}\n",
       "</style>\n",
       "<small>shape: (4, 3)</small><table border=\"1\" class=\"dataframe\"><thead><tr><th>id</th><th>values</th><th>metadata</th></tr><tr><td>cat</td><td>i64</td><td>i64</td></tr></thead><tbody><tr><td>&quot;id3&quot;</td><td>3</td><td>3</td></tr><tr><td>&quot;id3&quot;</td><td>3</td><td>3</td></tr><tr><td>&quot;id1&quot;</td><td>1</td><td>1</td></tr><tr><td>&quot;id2&quot;</td><td>2</td><td>2</td></tr></tbody></table></div>"
      ],
      "text/plain": [
       "shape: (4, 3)\n",
       "┌─────┬────────┬──────────┐\n",
       "│ id  ┆ values ┆ metadata │\n",
       "│ --- ┆ ---    ┆ ---      │\n",
       "│ cat ┆ i64    ┆ i64      │\n",
       "╞═════╪════════╪══════════╡\n",
       "│ id3 ┆ 3      ┆ 3        │\n",
       "│ id3 ┆ 3      ┆ 3        │\n",
       "│ id1 ┆ 1      ┆ 1        │\n",
       "│ id2 ┆ 2      ┆ 2        │\n",
       "└─────┴────────┴──────────┘"
      ]
     },
     "execution_count": 50,
     "metadata": {},
     "output_type": "execute_result"
    }
   ],
   "source": [
    "(\n",
    "    df_left_cat\n",
    "    .join(\n",
    "        df_right_cat,\n",
    "        on=\"id\"\n",
    "    )\n",
    ")"
   ]
  },
  {
   "cell_type": "code",
   "execution_count": 51,
   "id": "36a39752-d7ee-4f45-bd3f-63adc1243d15",
   "metadata": {},
   "outputs": [
    {
     "data": {
      "text/html": [
       "<div><style>\n",
       ".dataframe > thead > tr,\n",
       ".dataframe > tbody > tr {\n",
       "  text-align: right;\n",
       "  white-space: pre-wrap;\n",
       "}\n",
       "</style>\n",
       "<small>shape: (4, 3)</small><table border=\"1\" class=\"dataframe\"><thead><tr><th>id</th><th>values</th><th>metadata</th></tr><tr><td>cat</td><td>i64</td><td>i64</td></tr></thead><tbody><tr><td>&quot;id3&quot;</td><td>3</td><td>3</td></tr><tr><td>&quot;id3&quot;</td><td>3</td><td>3</td></tr><tr><td>&quot;id1&quot;</td><td>1</td><td>1</td></tr><tr><td>&quot;id2&quot;</td><td>2</td><td>2</td></tr></tbody></table></div>"
      ],
      "text/plain": [
       "shape: (4, 3)\n",
       "┌─────┬────────┬──────────┐\n",
       "│ id  ┆ values ┆ metadata │\n",
       "│ --- ┆ ---    ┆ ---      │\n",
       "│ cat ┆ i64    ┆ i64      │\n",
       "╞═════╪════════╪══════════╡\n",
       "│ id3 ┆ 3      ┆ 3        │\n",
       "│ id3 ┆ 3      ┆ 3        │\n",
       "│ id1 ┆ 1      ┆ 1        │\n",
       "│ id2 ┆ 2      ┆ 2        │\n",
       "└─────┴────────┴──────────┘"
      ]
     },
     "execution_count": 51,
     "metadata": {},
     "output_type": "execute_result"
    }
   ],
   "source": [
    "with pl.StringCache():\n",
    "\n",
    "    df_left_cat = (\n",
    "        df_left\n",
    "        .with_columns(\n",
    "            pl.col(\"id\").cast(pl.Categorical)\n",
    "        )\n",
    "    )\n",
    "\n",
    "    df_right_cat = (\n",
    "        df_right\n",
    "        .with_columns(\n",
    "            pl.col(\"id\").cast(pl.Categorical)\n",
    "        )\n",
    "    )\n",
    "\n",
    "(\n",
    "    df_left_cat\n",
    "    .join(\n",
    "        df_right_cat,\n",
    "        on=\"id\"\n",
    "    )\n",
    ")"
   ]
  },
  {
   "cell_type": "code",
   "execution_count": 53,
   "id": "a29386f6-5ad0-417e-9500-7a1babe52a61",
   "metadata": {},
   "outputs": [],
   "source": [
    "enum_dtype = pl.Enum([\"id1\", \"id2\", \"id3\"])"
   ]
  },
  {
   "cell_type": "code",
   "execution_count": 54,
   "id": "3719f3a5-a38e-440f-b389-9aca0e5c6bde",
   "metadata": {},
   "outputs": [
    {
     "data": {
      "text/html": [
       "<div><style>\n",
       ".dataframe > thead > tr,\n",
       ".dataframe > tbody > tr {\n",
       "  text-align: right;\n",
       "  white-space: pre-wrap;\n",
       "}\n",
       "</style>\n",
       "<small>shape: (4, 2)</small><table border=\"1\" class=\"dataframe\"><thead><tr><th>id</th><th>values</th></tr><tr><td>enum</td><td>i64</td></tr></thead><tbody><tr><td>&quot;id3&quot;</td><td>3</td></tr><tr><td>&quot;id3&quot;</td><td>3</td></tr><tr><td>&quot;id1&quot;</td><td>1</td></tr><tr><td>&quot;id2&quot;</td><td>2</td></tr></tbody></table></div>"
      ],
      "text/plain": [
       "shape: (4, 2)\n",
       "┌──────┬────────┐\n",
       "│ id   ┆ values │\n",
       "│ ---  ┆ ---    │\n",
       "│ enum ┆ i64    │\n",
       "╞══════╪════════╡\n",
       "│ id3  ┆ 3      │\n",
       "│ id3  ┆ 3      │\n",
       "│ id1  ┆ 1      │\n",
       "│ id2  ┆ 2      │\n",
       "└──────┴────────┘"
      ]
     },
     "execution_count": 54,
     "metadata": {},
     "output_type": "execute_result"
    }
   ],
   "source": [
    "df_left_enum = (\n",
    "    df_left\n",
    "    .with_columns(\n",
    "        pl.col(\"id\").cast(enum_dtype)\n",
    "    )\n",
    ")\n",
    "df_left_enum"
   ]
  },
  {
   "cell_type": "code",
   "execution_count": 55,
   "id": "3dcdf0d5-b9e9-4c46-95a9-59bddcf6d0a1",
   "metadata": {},
   "outputs": [
    {
     "data": {
      "text/html": [
       "<div><style>\n",
       ".dataframe > thead > tr,\n",
       ".dataframe > tbody > tr {\n",
       "  text-align: right;\n",
       "  white-space: pre-wrap;\n",
       "}\n",
       "</style>\n",
       "<small>shape: (3, 2)</small><table border=\"1\" class=\"dataframe\"><thead><tr><th>id</th><th>metadata</th></tr><tr><td>enum</td><td>i64</td></tr></thead><tbody><tr><td>&quot;id1&quot;</td><td>1</td></tr><tr><td>&quot;id2&quot;</td><td>2</td></tr><tr><td>&quot;id3&quot;</td><td>3</td></tr></tbody></table></div>"
      ],
      "text/plain": [
       "shape: (3, 2)\n",
       "┌──────┬──────────┐\n",
       "│ id   ┆ metadata │\n",
       "│ ---  ┆ ---      │\n",
       "│ enum ┆ i64      │\n",
       "╞══════╪══════════╡\n",
       "│ id1  ┆ 1        │\n",
       "│ id2  ┆ 2        │\n",
       "│ id3  ┆ 3        │\n",
       "└──────┴──────────┘"
      ]
     },
     "execution_count": 55,
     "metadata": {},
     "output_type": "execute_result"
    }
   ],
   "source": [
    "df_right_enum = (\n",
    "    df_right\n",
    "    .with_columns(\n",
    "        pl.col(\"id\").cast(enum_dtype)\n",
    "    )\n",
    ")\n",
    "df_right_enum"
   ]
  },
  {
   "cell_type": "code",
   "execution_count": 56,
   "id": "058f530e-1b7e-43c8-a496-240a0a5fa70b",
   "metadata": {},
   "outputs": [
    {
     "data": {
      "text/html": [
       "<div><style>\n",
       ".dataframe > thead > tr,\n",
       ".dataframe > tbody > tr {\n",
       "  text-align: right;\n",
       "  white-space: pre-wrap;\n",
       "}\n",
       "</style>\n",
       "<small>shape: (4, 3)</small><table border=\"1\" class=\"dataframe\"><thead><tr><th>id</th><th>values</th><th>metadata</th></tr><tr><td>enum</td><td>i64</td><td>i64</td></tr></thead><tbody><tr><td>&quot;id3&quot;</td><td>3</td><td>3</td></tr><tr><td>&quot;id3&quot;</td><td>3</td><td>3</td></tr><tr><td>&quot;id1&quot;</td><td>1</td><td>1</td></tr><tr><td>&quot;id2&quot;</td><td>2</td><td>2</td></tr></tbody></table></div>"
      ],
      "text/plain": [
       "shape: (4, 3)\n",
       "┌──────┬────────┬──────────┐\n",
       "│ id   ┆ values ┆ metadata │\n",
       "│ ---  ┆ ---    ┆ ---      │\n",
       "│ enum ┆ i64    ┆ i64      │\n",
       "╞══════╪════════╪══════════╡\n",
       "│ id3  ┆ 3      ┆ 3        │\n",
       "│ id3  ┆ 3      ┆ 3        │\n",
       "│ id1  ┆ 1      ┆ 1        │\n",
       "│ id2  ┆ 2      ┆ 2        │\n",
       "└──────┴────────┴──────────┘"
      ]
     },
     "execution_count": 56,
     "metadata": {},
     "output_type": "execute_result"
    }
   ],
   "source": [
    "(\n",
    "    df_left_enum\n",
    "    .join(\n",
    "        df_right_enum,\n",
    "        on=\"id\"\n",
    "    )\n",
    ")"
   ]
  },
  {
   "cell_type": "markdown",
   "id": "1ca1dc5e-b155-4269-8c3d-b8dca72ba732",
   "metadata": {},
   "source": [
    "# Filter DataFrame by another DataFrame"
   ]
  },
  {
   "cell_type": "code",
   "execution_count": 57,
   "id": "fcf13666-fecd-4335-9613-d3369365b5a7",
   "metadata": {},
   "outputs": [
    {
     "data": {
      "text/html": [
       "<div><style>\n",
       ".dataframe > thead > tr,\n",
       ".dataframe > tbody > tr {\n",
       "  text-align: right;\n",
       "  white-space: pre-wrap;\n",
       "}\n",
       "</style>\n",
       "<small>shape: (4, 2)</small><table border=\"1\" class=\"dataframe\"><thead><tr><th>id</th><th>values</th></tr><tr><td>str</td><td>i64</td></tr></thead><tbody><tr><td>&quot;id1&quot;</td><td>1</td></tr><tr><td>&quot;id2&quot;</td><td>2</td></tr><tr><td>&quot;id3&quot;</td><td>3</td></tr><tr><td>&quot;id4&quot;</td><td>4</td></tr></tbody></table></div>"
      ],
      "text/plain": [
       "shape: (4, 2)\n",
       "┌─────┬────────┐\n",
       "│ id  ┆ values │\n",
       "│ --- ┆ ---    │\n",
       "│ str ┆ i64    │\n",
       "╞═════╪════════╡\n",
       "│ id1 ┆ 1      │\n",
       "│ id2 ┆ 2      │\n",
       "│ id3 ┆ 3      │\n",
       "│ id4 ┆ 4      │\n",
       "└─────┴────────┘"
      ]
     },
     "execution_count": 57,
     "metadata": {},
     "output_type": "execute_result"
    }
   ],
   "source": [
    "df_left = (\n",
    "    pl.DataFrame(\n",
    "        {\n",
    "            \"id\": [\"id1\", \"id2\", \"id3\", \"id4\"],\n",
    "            \"values\": [1,2,3,4]\n",
    "        }\n",
    "    )\n",
    ")\n",
    "df_left"
   ]
  },
  {
   "cell_type": "code",
   "execution_count": 59,
   "id": "23b53e9d-0ef1-41a9-8c69-88f4dc368121",
   "metadata": {},
   "outputs": [
    {
     "data": {
      "text/html": [
       "<div><style>\n",
       ".dataframe > thead > tr,\n",
       ".dataframe > tbody > tr {\n",
       "  text-align: right;\n",
       "  white-space: pre-wrap;\n",
       "}\n",
       "</style>\n",
       "<small>shape: (3, 2)</small><table border=\"1\" class=\"dataframe\"><thead><tr><th>id</th><th>metadata</th></tr><tr><td>str</td><td>i64</td></tr></thead><tbody><tr><td>&quot;id1&quot;</td><td>1</td></tr><tr><td>&quot;id2&quot;</td><td>2</td></tr><tr><td>&quot;id3&quot;</td><td>3</td></tr></tbody></table></div>"
      ],
      "text/plain": [
       "shape: (3, 2)\n",
       "┌─────┬──────────┐\n",
       "│ id  ┆ metadata │\n",
       "│ --- ┆ ---      │\n",
       "│ str ┆ i64      │\n",
       "╞═════╪══════════╡\n",
       "│ id1 ┆ 1        │\n",
       "│ id2 ┆ 2        │\n",
       "│ id3 ┆ 3        │\n",
       "└─────┴──────────┘"
      ]
     },
     "execution_count": 59,
     "metadata": {},
     "output_type": "execute_result"
    }
   ],
   "source": [
    "df_right = (\n",
    "    pl.DataFrame(\n",
    "        {\n",
    "            \"id\": [\"id1\", \"id2\", \"id3\"],\n",
    "            \"metadata\": [1,2,3]\n",
    "        }\n",
    "    )\n",
    ")\n",
    "df_right"
   ]
  },
  {
   "cell_type": "code",
   "execution_count": 60,
   "id": "e0887fb1-d97f-4355-b18b-d83a2ec36bd2",
   "metadata": {},
   "outputs": [
    {
     "data": {
      "text/html": [
       "<div><style>\n",
       ".dataframe > thead > tr,\n",
       ".dataframe > tbody > tr {\n",
       "  text-align: right;\n",
       "  white-space: pre-wrap;\n",
       "}\n",
       "</style>\n",
       "<small>shape: (3, 2)</small><table border=\"1\" class=\"dataframe\"><thead><tr><th>id</th><th>values</th></tr><tr><td>str</td><td>i64</td></tr></thead><tbody><tr><td>&quot;id1&quot;</td><td>1</td></tr><tr><td>&quot;id2&quot;</td><td>2</td></tr><tr><td>&quot;id3&quot;</td><td>3</td></tr></tbody></table></div>"
      ],
      "text/plain": [
       "shape: (3, 2)\n",
       "┌─────┬────────┐\n",
       "│ id  ┆ values │\n",
       "│ --- ┆ ---    │\n",
       "│ str ┆ i64    │\n",
       "╞═════╪════════╡\n",
       "│ id1 ┆ 1      │\n",
       "│ id2 ┆ 2      │\n",
       "│ id3 ┆ 3      │\n",
       "└─────┴────────┘"
      ]
     },
     "execution_count": 60,
     "metadata": {},
     "output_type": "execute_result"
    }
   ],
   "source": [
    "(\n",
    "    df_left\n",
    "    .join(\n",
    "        df_right,\n",
    "        how=\"semi\",\n",
    "        on=\"id\"\n",
    "    )\n",
    ")"
   ]
  },
  {
   "cell_type": "code",
   "execution_count": 61,
   "id": "da6970a6-ffec-4fc8-9bac-8e0ad8b93773",
   "metadata": {},
   "outputs": [
    {
     "data": {
      "text/html": [
       "<div><style>\n",
       ".dataframe > thead > tr,\n",
       ".dataframe > tbody > tr {\n",
       "  text-align: right;\n",
       "  white-space: pre-wrap;\n",
       "}\n",
       "</style>\n",
       "<small>shape: (1, 2)</small><table border=\"1\" class=\"dataframe\"><thead><tr><th>id</th><th>values</th></tr><tr><td>str</td><td>i64</td></tr></thead><tbody><tr><td>&quot;id4&quot;</td><td>4</td></tr></tbody></table></div>"
      ],
      "text/plain": [
       "shape: (1, 2)\n",
       "┌─────┬────────┐\n",
       "│ id  ┆ values │\n",
       "│ --- ┆ ---    │\n",
       "│ str ┆ i64    │\n",
       "╞═════╪════════╡\n",
       "│ id4 ┆ 4      │\n",
       "└─────┴────────┘"
      ]
     },
     "execution_count": 61,
     "metadata": {},
     "output_type": "execute_result"
    }
   ],
   "source": [
    "(\n",
    "    df_left\n",
    "    .join(\n",
    "        df_right,\n",
    "        how=\"anti\",\n",
    "        on=\"id\"\n",
    "    )\n",
    ")"
   ]
  }
 ],
 "metadata": {
  "kernelspec": {
   "display_name": "Python 3 (ipykernel)",
   "language": "python",
   "name": "python3"
  },
  "language_info": {
   "codemirror_mode": {
    "name": "ipython",
    "version": 3
   },
   "file_extension": ".py",
   "mimetype": "text/x-python",
   "name": "python",
   "nbconvert_exporter": "python",
   "pygments_lexer": "ipython3",
   "version": "3.11.9"
  }
 },
 "nbformat": 4,
 "nbformat_minor": 5
}
