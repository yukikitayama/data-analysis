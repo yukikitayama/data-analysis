{
 "cells": [
  {
   "cell_type": "markdown",
   "id": "c10be3bb-3ad1-4663-bb49-01f5fab5e637",
   "metadata": {},
   "source": [
    "# Selecting columns"
   ]
  },
  {
   "cell_type": "code",
   "execution_count": 1,
   "id": "ec43e438-bad2-4069-8c04-a73c12cd4388",
   "metadata": {},
   "outputs": [],
   "source": [
    "import polars as pl\n",
    "import polars.selectors as cs"
   ]
  },
  {
   "cell_type": "code",
   "execution_count": 4,
   "id": "07446bc2-460c-4319-b5a0-7326ce4b0624",
   "metadata": {},
   "outputs": [],
   "source": [
    "csvFile = \"data/titanic.csv\""
   ]
  },
  {
   "cell_type": "code",
   "execution_count": 5,
   "id": "f9347537-b21d-45c2-9c28-33bb9bcf0bdb",
   "metadata": {},
   "outputs": [
    {
     "data": {
      "text/html": [
       "<div><style>\n",
       ".dataframe > thead > tr,\n",
       ".dataframe > tbody > tr {\n",
       "  text-align: right;\n",
       "  white-space: pre-wrap;\n",
       "}\n",
       "</style>\n",
       "<small>shape: (3, 12)</small><table border=\"1\" class=\"dataframe\"><thead><tr><th>PassengerId</th><th>Survived</th><th>Pclass</th><th>Name</th><th>Sex</th><th>Age</th><th>SibSp</th><th>Parch</th><th>Ticket</th><th>Fare</th><th>Cabin</th><th>Embarked</th></tr><tr><td>i64</td><td>i64</td><td>i64</td><td>str</td><td>str</td><td>f64</td><td>i64</td><td>i64</td><td>str</td><td>f64</td><td>str</td><td>str</td></tr></thead><tbody><tr><td>1</td><td>0</td><td>3</td><td>&quot;Braund, Mr. Owen Harris&quot;</td><td>&quot;male&quot;</td><td>22.0</td><td>1</td><td>0</td><td>&quot;A/5 21171&quot;</td><td>7.25</td><td>null</td><td>&quot;S&quot;</td></tr><tr><td>2</td><td>1</td><td>1</td><td>&quot;Cumings, Mrs. John Bradley (Fl…</td><td>&quot;female&quot;</td><td>38.0</td><td>1</td><td>0</td><td>&quot;PC 17599&quot;</td><td>71.2833</td><td>&quot;C85&quot;</td><td>&quot;C&quot;</td></tr><tr><td>3</td><td>1</td><td>3</td><td>&quot;Heikkinen, Miss. Laina&quot;</td><td>&quot;female&quot;</td><td>26.0</td><td>0</td><td>0</td><td>&quot;STON/O2. 3101282&quot;</td><td>7.925</td><td>null</td><td>&quot;S&quot;</td></tr></tbody></table></div>"
      ],
      "text/plain": [
       "shape: (3, 12)\n",
       "┌─────────────┬──────────┬────────┬─────────────────────────────────┬───┬──────────────────┬─────────┬───────┬──────────┐\n",
       "│ PassengerId ┆ Survived ┆ Pclass ┆ Name                            ┆ … ┆ Ticket           ┆ Fare    ┆ Cabin ┆ Embarked │\n",
       "│ ---         ┆ ---      ┆ ---    ┆ ---                             ┆   ┆ ---              ┆ ---     ┆ ---   ┆ ---      │\n",
       "│ i64         ┆ i64      ┆ i64    ┆ str                             ┆   ┆ str              ┆ f64     ┆ str   ┆ str      │\n",
       "╞═════════════╪══════════╪════════╪═════════════════════════════════╪═══╪══════════════════╪═════════╪═══════╪══════════╡\n",
       "│ 1           ┆ 0        ┆ 3      ┆ Braund, Mr. Owen Harris         ┆ … ┆ A/5 21171        ┆ 7.25    ┆ null  ┆ S        │\n",
       "│ 2           ┆ 1        ┆ 1      ┆ Cumings, Mrs. John Bradley (Fl… ┆ … ┆ PC 17599         ┆ 71.2833 ┆ C85   ┆ C        │\n",
       "│ 3           ┆ 1        ┆ 3      ┆ Heikkinen, Miss. Laina          ┆ … ┆ STON/O2. 3101282 ┆ 7.925   ┆ null  ┆ S        │\n",
       "└─────────────┴──────────┴────────┴─────────────────────────────────┴───┴──────────────────┴─────────┴───────┴──────────┘"
      ]
     },
     "execution_count": 5,
     "metadata": {},
     "output_type": "execute_result"
    }
   ],
   "source": [
    "df = pl.read_csv(csvFile)\n",
    "df.head(3)"
   ]
  },
  {
   "cell_type": "code",
   "execution_count": 4,
   "id": "dbb7c9e5-7228-4c87-a64f-16e254e3a271",
   "metadata": {},
   "outputs": [
    {
     "data": {
      "text/html": [
       "<div><style>\n",
       ".dataframe > thead > tr,\n",
       ".dataframe > tbody > tr {\n",
       "  text-align: right;\n",
       "  white-space: pre-wrap;\n",
       "}\n",
       "</style>\n",
       "<small>shape: (3,)</small><table border=\"1\" class=\"dataframe\"><thead><tr><th>Age</th></tr><tr><td>f64</td></tr></thead><tbody><tr><td>22.0</td></tr><tr><td>38.0</td></tr><tr><td>26.0</td></tr></tbody></table></div>"
      ],
      "text/plain": [
       "shape: (3,)\n",
       "Series: 'Age' [f64]\n",
       "[\n",
       "\t22.0\n",
       "\t38.0\n",
       "\t26.0\n",
       "]"
      ]
     },
     "execution_count": 4,
     "metadata": {},
     "output_type": "execute_result"
    }
   ],
   "source": [
    "df[\"Age\"].head(3)"
   ]
  },
  {
   "cell_type": "code",
   "execution_count": 5,
   "id": "4d774bef-8fae-4b5d-8c0d-432cfb1e7411",
   "metadata": {},
   "outputs": [
    {
     "data": {
      "text/plain": [
       "polars.series.series.Series"
      ]
     },
     "execution_count": 5,
     "metadata": {},
     "output_type": "execute_result"
    }
   ],
   "source": [
    "type(df[\"Age\"].head(3))"
   ]
  },
  {
   "cell_type": "code",
   "execution_count": 6,
   "id": "6a7b61a8-4a3d-4767-9c08-876b74ec3263",
   "metadata": {},
   "outputs": [
    {
     "data": {
      "text/html": [
       "<div><style>\n",
       ".dataframe > thead > tr,\n",
       ".dataframe > tbody > tr {\n",
       "  text-align: right;\n",
       "  white-space: pre-wrap;\n",
       "}\n",
       "</style>\n",
       "<small>shape: (3, 2)</small><table border=\"1\" class=\"dataframe\"><thead><tr><th>Survived</th><th>Age</th></tr><tr><td>i64</td><td>f64</td></tr></thead><tbody><tr><td>0</td><td>22.0</td></tr><tr><td>1</td><td>38.0</td></tr><tr><td>1</td><td>26.0</td></tr></tbody></table></div>"
      ],
      "text/plain": [
       "shape: (3, 2)\n",
       "┌──────────┬──────┐\n",
       "│ Survived ┆ Age  │\n",
       "│ ---      ┆ ---  │\n",
       "│ i64      ┆ f64  │\n",
       "╞══════════╪══════╡\n",
       "│ 0        ┆ 22.0 │\n",
       "│ 1        ┆ 38.0 │\n",
       "│ 1        ┆ 26.0 │\n",
       "└──────────┴──────┘"
      ]
     },
     "execution_count": 6,
     "metadata": {},
     "output_type": "execute_result"
    }
   ],
   "source": [
    "df[[\"Survived\", \"Age\"]].head(3)"
   ]
  },
  {
   "cell_type": "code",
   "execution_count": 7,
   "id": "ad62872e-9619-40a4-b49f-eda932f82e8c",
   "metadata": {},
   "outputs": [
    {
     "data": {
      "text/plain": [
       "polars.dataframe.frame.DataFrame"
      ]
     },
     "execution_count": 7,
     "metadata": {},
     "output_type": "execute_result"
    }
   ],
   "source": [
    "type(df[[\"Survived\", \"Age\"]].head(3))"
   ]
  },
  {
   "cell_type": "code",
   "execution_count": 8,
   "id": "69949290-3149-48c4-8d86-f32bbb01e881",
   "metadata": {},
   "outputs": [
    {
     "data": {
      "text/plain": [
       "22.0"
      ]
     },
     "execution_count": 8,
     "metadata": {},
     "output_type": "execute_result"
    }
   ],
   "source": [
    "df[0, \"Age\"]"
   ]
  },
  {
   "cell_type": "code",
   "execution_count": 9,
   "id": "8dfd5667-0f65-424c-a78b-1be1dd4b7041",
   "metadata": {},
   "outputs": [
    {
     "data": {
      "text/plain": [
       "22.0"
      ]
     },
     "execution_count": 9,
     "metadata": {},
     "output_type": "execute_result"
    }
   ],
   "source": [
    "df[(0, \"Age\")]"
   ]
  },
  {
   "cell_type": "code",
   "execution_count": 10,
   "id": "795763e3-09c0-4e2c-b9f7-9de07c2e3423",
   "metadata": {},
   "outputs": [
    {
     "data": {
      "text/html": [
       "<div><style>\n",
       ".dataframe > thead > tr,\n",
       ".dataframe > tbody > tr {\n",
       "  text-align: right;\n",
       "  white-space: pre-wrap;\n",
       "}\n",
       "</style>\n",
       "<small>shape: (2, 2)</small><table border=\"1\" class=\"dataframe\"><thead><tr><th>Age</th><th>Fare</th></tr><tr><td>f64</td><td>f64</td></tr></thead><tbody><tr><td>22.0</td><td>7.25</td></tr><tr><td>38.0</td><td>71.2833</td></tr></tbody></table></div>"
      ],
      "text/plain": [
       "shape: (2, 2)\n",
       "┌──────┬─────────┐\n",
       "│ Age  ┆ Fare    │\n",
       "│ ---  ┆ ---     │\n",
       "│ f64  ┆ f64     │\n",
       "╞══════╪═════════╡\n",
       "│ 22.0 ┆ 7.25    │\n",
       "│ 38.0 ┆ 71.2833 │\n",
       "└──────┴─────────┘"
      ]
     },
     "execution_count": 10,
     "metadata": {},
     "output_type": "execute_result"
    }
   ],
   "source": [
    "df[[0, 1], [\"Age\", \"Fare\"]]"
   ]
  },
  {
   "cell_type": "code",
   "execution_count": 11,
   "id": "59cd58cb-4084-4fb1-b9ce-e67f2753bf00",
   "metadata": {},
   "outputs": [
    {
     "data": {
      "text/html": [
       "<div><style>\n",
       ".dataframe > thead > tr,\n",
       ".dataframe > tbody > tr {\n",
       "  text-align: right;\n",
       "  white-space: pre-wrap;\n",
       "}\n",
       "</style>\n",
       "<small>shape: (3, 5)</small><table border=\"1\" class=\"dataframe\"><thead><tr><th>Survived</th><th>Pclass</th><th>Name</th><th>Sex</th><th>Age</th></tr><tr><td>i64</td><td>i64</td><td>str</td><td>str</td><td>f64</td></tr></thead><tbody><tr><td>0</td><td>3</td><td>&quot;Braund, Mr. Owen Harris&quot;</td><td>&quot;male&quot;</td><td>22.0</td></tr><tr><td>1</td><td>1</td><td>&quot;Cumings, Mrs. John Bradley (Fl…</td><td>&quot;female&quot;</td><td>38.0</td></tr><tr><td>1</td><td>3</td><td>&quot;Heikkinen, Miss. Laina&quot;</td><td>&quot;female&quot;</td><td>26.0</td></tr></tbody></table></div>"
      ],
      "text/plain": [
       "shape: (3, 5)\n",
       "┌──────────┬────────┬─────────────────────────────────┬────────┬──────┐\n",
       "│ Survived ┆ Pclass ┆ Name                            ┆ Sex    ┆ Age  │\n",
       "│ ---      ┆ ---    ┆ ---                             ┆ ---    ┆ ---  │\n",
       "│ i64      ┆ i64    ┆ str                             ┆ str    ┆ f64  │\n",
       "╞══════════╪════════╪═════════════════════════════════╪════════╪══════╡\n",
       "│ 0        ┆ 3      ┆ Braund, Mr. Owen Harris         ┆ male   ┆ 22.0 │\n",
       "│ 1        ┆ 1      ┆ Cumings, Mrs. John Bradley (Fl… ┆ female ┆ 38.0 │\n",
       "│ 1        ┆ 3      ┆ Heikkinen, Miss. Laina          ┆ female ┆ 26.0 │\n",
       "└──────────┴────────┴─────────────────────────────────┴────────┴──────┘"
      ]
     },
     "execution_count": 11,
     "metadata": {},
     "output_type": "execute_result"
    }
   ],
   "source": [
    "df[:, 1:6].head(3)"
   ]
  },
  {
   "cell_type": "code",
   "execution_count": 12,
   "id": "7f9f2423-0f9d-4daa-98c6-4de9ce0bcb9a",
   "metadata": {},
   "outputs": [
    {
     "data": {
      "text/html": [
       "<div><style>\n",
       ".dataframe > thead > tr,\n",
       ".dataframe > tbody > tr {\n",
       "  text-align: right;\n",
       "  white-space: pre-wrap;\n",
       "}\n",
       "</style>\n",
       "<small>shape: (2, 4)</small><table border=\"1\" class=\"dataframe\"><thead><tr><th>Survived</th><th>Pclass</th><th>Name</th><th>Sex</th></tr><tr><td>i64</td><td>i64</td><td>str</td><td>str</td></tr></thead><tbody><tr><td>0</td><td>3</td><td>&quot;Braund, Mr. Owen Harris&quot;</td><td>&quot;male&quot;</td></tr><tr><td>1</td><td>1</td><td>&quot;Cumings, Mrs. John Bradley (Fl…</td><td>&quot;female&quot;</td></tr></tbody></table></div>"
      ],
      "text/plain": [
       "shape: (2, 4)\n",
       "┌──────────┬────────┬─────────────────────────────────┬────────┐\n",
       "│ Survived ┆ Pclass ┆ Name                            ┆ Sex    │\n",
       "│ ---      ┆ ---    ┆ ---                             ┆ ---    │\n",
       "│ i64      ┆ i64    ┆ str                             ┆ str    │\n",
       "╞══════════╪════════╪═════════════════════════════════╪════════╡\n",
       "│ 0        ┆ 3      ┆ Braund, Mr. Owen Harris         ┆ male   │\n",
       "│ 1        ┆ 1      ┆ Cumings, Mrs. John Bradley (Fl… ┆ female │\n",
       "└──────────┴────────┴─────────────────────────────────┴────────┘"
      ]
     },
     "execution_count": 12,
     "metadata": {},
     "output_type": "execute_result"
    }
   ],
   "source": [
    "df[:2, \"Survived\": \"Sex\"]"
   ]
  },
  {
   "cell_type": "code",
   "execution_count": 13,
   "id": "779108d5-5bfe-4ae0-8aa9-acd372e49a9d",
   "metadata": {},
   "outputs": [
    {
     "data": {
      "text/html": [
       "<div><style>\n",
       ".dataframe > thead > tr,\n",
       ".dataframe > tbody > tr {\n",
       "  text-align: right;\n",
       "  white-space: pre-wrap;\n",
       "}\n",
       "</style>\n",
       "<small>shape: (3, 1)</small><table border=\"1\" class=\"dataframe\"><thead><tr><th>Age</th></tr><tr><td>f64</td></tr></thead><tbody><tr><td>22.0</td></tr><tr><td>38.0</td></tr><tr><td>26.0</td></tr></tbody></table></div>"
      ],
      "text/plain": [
       "shape: (3, 1)\n",
       "┌──────┐\n",
       "│ Age  │\n",
       "│ ---  │\n",
       "│ f64  │\n",
       "╞══════╡\n",
       "│ 22.0 │\n",
       "│ 38.0 │\n",
       "│ 26.0 │\n",
       "└──────┘"
      ]
     },
     "execution_count": 13,
     "metadata": {},
     "output_type": "execute_result"
    }
   ],
   "source": [
    "(\n",
    "    df\n",
    "    .select(\"Age\")\n",
    "    .head(3)\n",
    ")"
   ]
  },
  {
   "cell_type": "code",
   "execution_count": 14,
   "id": "5b7c0f7a-310e-4ada-abf6-57e49773ff6a",
   "metadata": {},
   "outputs": [
    {
     "data": {
      "text/html": [
       "<div><style>\n",
       ".dataframe > thead > tr,\n",
       ".dataframe > tbody > tr {\n",
       "  text-align: right;\n",
       "  white-space: pre-wrap;\n",
       "}\n",
       "</style>\n",
       "<small>shape: (3,)</small><table border=\"1\" class=\"dataframe\"><thead><tr><th>Age</th></tr><tr><td>f64</td></tr></thead><tbody><tr><td>22.0</td></tr><tr><td>38.0</td></tr><tr><td>26.0</td></tr></tbody></table></div>"
      ],
      "text/plain": [
       "shape: (3,)\n",
       "Series: 'Age' [f64]\n",
       "[\n",
       "\t22.0\n",
       "\t38.0\n",
       "\t26.0\n",
       "]"
      ]
     },
     "execution_count": 14,
     "metadata": {},
     "output_type": "execute_result"
    }
   ],
   "source": [
    "(\n",
    "    df\n",
    "    .select(\"Age\")\n",
    "    .to_series()\n",
    "    .head(3)\n",
    ")"
   ]
  },
  {
   "cell_type": "code",
   "execution_count": 15,
   "id": "b04dcc42-0c74-4ebd-9db9-6096f345d152",
   "metadata": {},
   "outputs": [
    {
     "data": {
      "text/html": [
       "<div><style>\n",
       ".dataframe > thead > tr,\n",
       ".dataframe > tbody > tr {\n",
       "  text-align: right;\n",
       "  white-space: pre-wrap;\n",
       "}\n",
       "</style>\n",
       "<small>shape: (3, 2)</small><table border=\"1\" class=\"dataframe\"><thead><tr><th>Survived</th><th>Age</th></tr><tr><td>i64</td><td>f64</td></tr></thead><tbody><tr><td>0</td><td>22.0</td></tr><tr><td>1</td><td>38.0</td></tr><tr><td>1</td><td>26.0</td></tr></tbody></table></div>"
      ],
      "text/plain": [
       "shape: (3, 2)\n",
       "┌──────────┬──────┐\n",
       "│ Survived ┆ Age  │\n",
       "│ ---      ┆ ---  │\n",
       "│ i64      ┆ f64  │\n",
       "╞══════════╪══════╡\n",
       "│ 0        ┆ 22.0 │\n",
       "│ 1        ┆ 38.0 │\n",
       "│ 1        ┆ 26.0 │\n",
       "└──────────┴──────┘"
      ]
     },
     "execution_count": 15,
     "metadata": {},
     "output_type": "execute_result"
    }
   ],
   "source": [
    "(\n",
    "    df\n",
    "    .select([\"Survived\", \"Age\"])\n",
    "    .head(3)\n",
    ")"
   ]
  },
  {
   "cell_type": "code",
   "execution_count": 16,
   "id": "9a79a510-9194-4a57-bd67-4b4f547ea7ea",
   "metadata": {},
   "outputs": [
    {
     "data": {
      "text/html": [
       "<div><style>\n",
       ".dataframe > thead > tr,\n",
       ".dataframe > tbody > tr {\n",
       "  text-align: right;\n",
       "  white-space: pre-wrap;\n",
       "}\n",
       "</style>\n",
       "<small>shape: (3, 1)</small><table border=\"1\" class=\"dataframe\"><thead><tr><th>Age</th></tr><tr><td>f64</td></tr></thead><tbody><tr><td>22.0</td></tr><tr><td>38.0</td></tr><tr><td>26.0</td></tr></tbody></table></div>"
      ],
      "text/plain": [
       "shape: (3, 1)\n",
       "┌──────┐\n",
       "│ Age  │\n",
       "│ ---  │\n",
       "│ f64  │\n",
       "╞══════╡\n",
       "│ 22.0 │\n",
       "│ 38.0 │\n",
       "│ 26.0 │\n",
       "└──────┘"
      ]
     },
     "execution_count": 16,
     "metadata": {},
     "output_type": "execute_result"
    }
   ],
   "source": [
    "(\n",
    "    df\n",
    "    .select(\n",
    "        pl.col(\"Age\")\n",
    "    )\n",
    "    .head(3)\n",
    ")"
   ]
  },
  {
   "cell_type": "markdown",
   "id": "762728f3-5c64-4705-a006-8a46420616ad",
   "metadata": {},
   "source": [
    "# Selecting and transforming a column with an expression"
   ]
  },
  {
   "cell_type": "code",
   "execution_count": 17,
   "id": "65087807-da0a-4cea-865e-44ec61f9c047",
   "metadata": {},
   "outputs": [
    {
     "data": {
      "text/html": [
       "<div><style>\n",
       ".dataframe > thead > tr,\n",
       ".dataframe > tbody > tr {\n",
       "  text-align: right;\n",
       "  white-space: pre-wrap;\n",
       "}\n",
       "</style>\n",
       "<small>shape: (3, 1)</small><table border=\"1\" class=\"dataframe\"><thead><tr><th>Fare</th></tr><tr><td>f64</td></tr></thead><tbody><tr><td>7.0</td></tr><tr><td>71.0</td></tr><tr><td>8.0</td></tr></tbody></table></div>"
      ],
      "text/plain": [
       "shape: (3, 1)\n",
       "┌──────┐\n",
       "│ Fare │\n",
       "│ ---  │\n",
       "│ f64  │\n",
       "╞══════╡\n",
       "│ 7.0  │\n",
       "│ 71.0 │\n",
       "│ 8.0  │\n",
       "└──────┘"
      ]
     },
     "execution_count": 17,
     "metadata": {},
     "output_type": "execute_result"
    }
   ],
   "source": [
    "(\n",
    "    df\n",
    "    .select(\n",
    "        pl.col(\"Fare\").round(0)\n",
    "    )\n",
    "    .head(3)\n",
    ")"
   ]
  },
  {
   "cell_type": "code",
   "execution_count": 18,
   "id": "d07960b1-c7bf-43c8-970a-aad96563e64b",
   "metadata": {},
   "outputs": [
    {
     "data": {
      "text/html": [
       "<div><style>\n",
       ".dataframe > thead > tr,\n",
       ".dataframe > tbody > tr {\n",
       "  text-align: right;\n",
       "  white-space: pre-wrap;\n",
       "}\n",
       "</style>\n",
       "<small>shape: (3, 2)</small><table border=\"1\" class=\"dataframe\"><thead><tr><th>Fare</th><th>roundedFare</th></tr><tr><td>f64</td><td>f64</td></tr></thead><tbody><tr><td>7.25</td><td>7.0</td></tr><tr><td>71.2833</td><td>71.0</td></tr><tr><td>7.925</td><td>8.0</td></tr></tbody></table></div>"
      ],
      "text/plain": [
       "shape: (3, 2)\n",
       "┌─────────┬─────────────┐\n",
       "│ Fare    ┆ roundedFare │\n",
       "│ ---     ┆ ---         │\n",
       "│ f64     ┆ f64         │\n",
       "╞═════════╪═════════════╡\n",
       "│ 7.25    ┆ 7.0         │\n",
       "│ 71.2833 ┆ 71.0        │\n",
       "│ 7.925   ┆ 8.0         │\n",
       "└─────────┴─────────────┘"
      ]
     },
     "execution_count": 18,
     "metadata": {},
     "output_type": "execute_result"
    }
   ],
   "source": [
    "(\n",
    "    df\n",
    "    .select(\n",
    "        [\n",
    "            pl.col(\"Fare\"),\n",
    "            pl.col(\"Fare\").round(0).alias(\"roundedFare\")\n",
    "        ]\n",
    "    )\n",
    "    .head(3)\n",
    ")"
   ]
  },
  {
   "cell_type": "code",
   "execution_count": 19,
   "id": "3af3c2f7-b315-4902-b4db-feca547b662a",
   "metadata": {},
   "outputs": [
    {
     "name": "stdout",
     "output_type": "stream",
     "text": [
      "Csv SCAN [data/titanic.csv] [id: 3973248587088]\n",
      "PROJECT 2/12 COLUMNS\n"
     ]
    }
   ],
   "source": [
    "df = (\n",
    "    pl.scan_csv(csvFile)\n",
    "    .select([\"Survived\", \"Age\"])\n",
    ")\n",
    "print(df.explain())"
   ]
  },
  {
   "cell_type": "code",
   "execution_count": 20,
   "id": "56f508ca-51f6-4c18-9731-f05a3cffa2da",
   "metadata": {},
   "outputs": [],
   "source": [
    "csvFile = \"data/titanic.csv\""
   ]
  },
  {
   "cell_type": "code",
   "execution_count": 21,
   "id": "58e340e1-7513-4a8b-8af7-d8a71ff4adbc",
   "metadata": {},
   "outputs": [
    {
     "data": {
      "text/html": [
       "<div><style>\n",
       ".dataframe > thead > tr,\n",
       ".dataframe > tbody > tr {\n",
       "  text-align: right;\n",
       "  white-space: pre-wrap;\n",
       "}\n",
       "</style>\n",
       "<small>shape: (3, 12)</small><table border=\"1\" class=\"dataframe\"><thead><tr><th>PassengerId</th><th>Survived</th><th>Pclass</th><th>Name</th><th>Sex</th><th>Age</th><th>SibSp</th><th>Parch</th><th>Ticket</th><th>Fare</th><th>Cabin</th><th>Embarked</th></tr><tr><td>i64</td><td>i64</td><td>i64</td><td>str</td><td>str</td><td>f64</td><td>i64</td><td>i64</td><td>str</td><td>f64</td><td>str</td><td>str</td></tr></thead><tbody><tr><td>1</td><td>0</td><td>3</td><td>&quot;Braund, Mr. Owen Harris&quot;</td><td>&quot;male&quot;</td><td>22.0</td><td>1</td><td>0</td><td>&quot;A/5 21171&quot;</td><td>7.25</td><td>null</td><td>&quot;S&quot;</td></tr><tr><td>2</td><td>1</td><td>1</td><td>&quot;Cumings, Mrs. John Bradley (Fl…</td><td>&quot;female&quot;</td><td>38.0</td><td>1</td><td>0</td><td>&quot;PC 17599&quot;</td><td>71.2833</td><td>&quot;C85&quot;</td><td>&quot;C&quot;</td></tr><tr><td>3</td><td>1</td><td>3</td><td>&quot;Heikkinen, Miss. Laina&quot;</td><td>&quot;female&quot;</td><td>26.0</td><td>0</td><td>0</td><td>&quot;STON/O2. 3101282&quot;</td><td>7.925</td><td>null</td><td>&quot;S&quot;</td></tr></tbody></table></div>"
      ],
      "text/plain": [
       "shape: (3, 12)\n",
       "┌─────────────┬──────────┬────────┬─────────────────────────────────┬───┬──────────────────┬─────────┬───────┬──────────┐\n",
       "│ PassengerId ┆ Survived ┆ Pclass ┆ Name                            ┆ … ┆ Ticket           ┆ Fare    ┆ Cabin ┆ Embarked │\n",
       "│ ---         ┆ ---      ┆ ---    ┆ ---                             ┆   ┆ ---              ┆ ---     ┆ ---   ┆ ---      │\n",
       "│ i64         ┆ i64      ┆ i64    ┆ str                             ┆   ┆ str              ┆ f64     ┆ str   ┆ str      │\n",
       "╞═════════════╪══════════╪════════╪═════════════════════════════════╪═══╪══════════════════╪═════════╪═══════╪══════════╡\n",
       "│ 1           ┆ 0        ┆ 3      ┆ Braund, Mr. Owen Harris         ┆ … ┆ A/5 21171        ┆ 7.25    ┆ null  ┆ S        │\n",
       "│ 2           ┆ 1        ┆ 1      ┆ Cumings, Mrs. John Bradley (Fl… ┆ … ┆ PC 17599         ┆ 71.2833 ┆ C85   ┆ C        │\n",
       "│ 3           ┆ 1        ┆ 3      ┆ Heikkinen, Miss. Laina          ┆ … ┆ STON/O2. 3101282 ┆ 7.925   ┆ null  ┆ S        │\n",
       "└─────────────┴──────────┴────────┴─────────────────────────────────┴───┴──────────────────┴─────────┴───────┴──────────┘"
      ]
     },
     "execution_count": 21,
     "metadata": {},
     "output_type": "execute_result"
    }
   ],
   "source": [
    "df = pl.read_csv(csvFile)\n",
    "df.head(3)"
   ]
  },
  {
   "cell_type": "code",
   "execution_count": 22,
   "id": "c65221e6-7416-4822-8aed-00e151840ea8",
   "metadata": {},
   "outputs": [
    {
     "data": {
      "text/html": [
       "<div><style>\n",
       ".dataframe > thead > tr,\n",
       ".dataframe > tbody > tr {\n",
       "  text-align: right;\n",
       "  white-space: pre-wrap;\n",
       "}\n",
       "</style>\n",
       "<small>shape: (3, 12)</small><table border=\"1\" class=\"dataframe\"><thead><tr><th>PassengerId</th><th>Survived</th><th>Pclass</th><th>Name</th><th>Sex</th><th>Age</th><th>SibSp</th><th>Parch</th><th>Ticket</th><th>Fare</th><th>Cabin</th><th>Embarked</th></tr><tr><td>i64</td><td>i64</td><td>i64</td><td>str</td><td>str</td><td>f64</td><td>i64</td><td>i64</td><td>str</td><td>f64</td><td>str</td><td>str</td></tr></thead><tbody><tr><td>1</td><td>0</td><td>3</td><td>&quot;Braund, Mr. Owen Harris&quot;</td><td>&quot;male&quot;</td><td>22.0</td><td>1</td><td>0</td><td>&quot;A/5 21171&quot;</td><td>7.25</td><td>null</td><td>&quot;S&quot;</td></tr><tr><td>2</td><td>1</td><td>1</td><td>&quot;Cumings, Mrs. John Bradley (Fl…</td><td>&quot;female&quot;</td><td>38.0</td><td>1</td><td>0</td><td>&quot;PC 17599&quot;</td><td>71.2833</td><td>&quot;C85&quot;</td><td>&quot;C&quot;</td></tr><tr><td>3</td><td>1</td><td>3</td><td>&quot;Heikkinen, Miss. Laina&quot;</td><td>&quot;female&quot;</td><td>26.0</td><td>0</td><td>0</td><td>&quot;STON/O2. 3101282&quot;</td><td>7.925</td><td>null</td><td>&quot;S&quot;</td></tr></tbody></table></div>"
      ],
      "text/plain": [
       "shape: (3, 12)\n",
       "┌─────────────┬──────────┬────────┬─────────────────────────────────┬───┬──────────────────┬─────────┬───────┬──────────┐\n",
       "│ PassengerId ┆ Survived ┆ Pclass ┆ Name                            ┆ … ┆ Ticket           ┆ Fare    ┆ Cabin ┆ Embarked │\n",
       "│ ---         ┆ ---      ┆ ---    ┆ ---                             ┆   ┆ ---              ┆ ---     ┆ ---   ┆ ---      │\n",
       "│ i64         ┆ i64      ┆ i64    ┆ str                             ┆   ┆ str              ┆ f64     ┆ str   ┆ str      │\n",
       "╞═════════════╪══════════╪════════╪═════════════════════════════════╪═══╪══════════════════╪═════════╪═══════╪══════════╡\n",
       "│ 1           ┆ 0        ┆ 3      ┆ Braund, Mr. Owen Harris         ┆ … ┆ A/5 21171        ┆ 7.25    ┆ null  ┆ S        │\n",
       "│ 2           ┆ 1        ┆ 1      ┆ Cumings, Mrs. John Bradley (Fl… ┆ … ┆ PC 17599         ┆ 71.2833 ┆ C85   ┆ C        │\n",
       "│ 3           ┆ 1        ┆ 3      ┆ Heikkinen, Miss. Laina          ┆ … ┆ STON/O2. 3101282 ┆ 7.925   ┆ null  ┆ S        │\n",
       "└─────────────┴──────────┴────────┴─────────────────────────────────┴───┴──────────────────┴─────────┴───────┴──────────┘"
      ]
     },
     "execution_count": 22,
     "metadata": {},
     "output_type": "execute_result"
    }
   ],
   "source": [
    "(\n",
    "    df\n",
    "    .select(\n",
    "        pl.all()\n",
    "    )\n",
    "    .head(3)\n",
    ")"
   ]
  },
  {
   "cell_type": "code",
   "execution_count": 23,
   "id": "4e01e78b-23b5-41e3-9535-b3a62c07d43c",
   "metadata": {},
   "outputs": [
    {
     "data": {
      "text/html": [
       "<div><style>\n",
       ".dataframe > thead > tr,\n",
       ".dataframe > tbody > tr {\n",
       "  text-align: right;\n",
       "  white-space: pre-wrap;\n",
       "}\n",
       "</style>\n",
       "<small>shape: (3, 9)</small><table border=\"1\" class=\"dataframe\"><thead><tr><th>Name</th><th>Sex</th><th>Age</th><th>SibSp</th><th>Parch</th><th>Ticket</th><th>Fare</th><th>Cabin</th><th>Embarked</th></tr><tr><td>str</td><td>str</td><td>f64</td><td>i64</td><td>i64</td><td>str</td><td>f64</td><td>str</td><td>str</td></tr></thead><tbody><tr><td>&quot;Braund, Mr. Owen Harris&quot;</td><td>&quot;male&quot;</td><td>22.0</td><td>1</td><td>0</td><td>&quot;A/5 21171&quot;</td><td>7.25</td><td>null</td><td>&quot;S&quot;</td></tr><tr><td>&quot;Cumings, Mrs. John Bradley (Fl…</td><td>&quot;female&quot;</td><td>38.0</td><td>1</td><td>0</td><td>&quot;PC 17599&quot;</td><td>71.2833</td><td>&quot;C85&quot;</td><td>&quot;C&quot;</td></tr><tr><td>&quot;Heikkinen, Miss. Laina&quot;</td><td>&quot;female&quot;</td><td>26.0</td><td>0</td><td>0</td><td>&quot;STON/O2. 3101282&quot;</td><td>7.925</td><td>null</td><td>&quot;S&quot;</td></tr></tbody></table></div>"
      ],
      "text/plain": [
       "shape: (3, 9)\n",
       "┌─────────────────────────────────┬────────┬──────┬───────┬───┬──────────────────┬─────────┬───────┬──────────┐\n",
       "│ Name                            ┆ Sex    ┆ Age  ┆ SibSp ┆ … ┆ Ticket           ┆ Fare    ┆ Cabin ┆ Embarked │\n",
       "│ ---                             ┆ ---    ┆ ---  ┆ ---   ┆   ┆ ---              ┆ ---     ┆ ---   ┆ ---      │\n",
       "│ str                             ┆ str    ┆ f64  ┆ i64   ┆   ┆ str              ┆ f64     ┆ str   ┆ str      │\n",
       "╞═════════════════════════════════╪════════╪══════╪═══════╪═══╪══════════════════╪═════════╪═══════╪══════════╡\n",
       "│ Braund, Mr. Owen Harris         ┆ male   ┆ 22.0 ┆ 1     ┆ … ┆ A/5 21171        ┆ 7.25    ┆ null  ┆ S        │\n",
       "│ Cumings, Mrs. John Bradley (Fl… ┆ female ┆ 38.0 ┆ 1     ┆ … ┆ PC 17599         ┆ 71.2833 ┆ C85   ┆ C        │\n",
       "│ Heikkinen, Miss. Laina          ┆ female ┆ 26.0 ┆ 0     ┆ … ┆ STON/O2. 3101282 ┆ 7.925   ┆ null  ┆ S        │\n",
       "└─────────────────────────────────┴────────┴──────┴───────┴───┴──────────────────┴─────────┴───────┴──────────┘"
      ]
     },
     "execution_count": 23,
     "metadata": {},
     "output_type": "execute_result"
    }
   ],
   "source": [
    "(\n",
    "    df\n",
    "    .select(\n",
    "        pl.exclude([\"PassengerId\", \"Survived\", \"Pclass\"])\n",
    "    )\n",
    "    .head(3)\n",
    ")"
   ]
  },
  {
   "cell_type": "code",
   "execution_count": 24,
   "id": "4390b556-e037-45f7-b036-a4ec7d58850a",
   "metadata": {},
   "outputs": [
    {
     "data": {
      "text/html": [
       "<div><style>\n",
       ".dataframe > thead > tr,\n",
       ".dataframe > tbody > tr {\n",
       "  text-align: right;\n",
       "  white-space: pre-wrap;\n",
       "}\n",
       "</style>\n",
       "<small>shape: (3, 3)</small><table border=\"1\" class=\"dataframe\"><thead><tr><th>PassengerId</th><th>Pclass</th><th>Parch</th></tr><tr><td>i64</td><td>i64</td><td>i64</td></tr></thead><tbody><tr><td>1</td><td>3</td><td>0</td></tr><tr><td>2</td><td>1</td><td>0</td></tr><tr><td>3</td><td>3</td><td>0</td></tr></tbody></table></div>"
      ],
      "text/plain": [
       "shape: (3, 3)\n",
       "┌─────────────┬────────┬───────┐\n",
       "│ PassengerId ┆ Pclass ┆ Parch │\n",
       "│ ---         ┆ ---    ┆ ---   │\n",
       "│ i64         ┆ i64    ┆ i64   │\n",
       "╞═════════════╪════════╪═══════╡\n",
       "│ 1           ┆ 3      ┆ 0     │\n",
       "│ 2           ┆ 1      ┆ 0     │\n",
       "│ 3           ┆ 3      ┆ 0     │\n",
       "└─────────────┴────────┴───────┘"
      ]
     },
     "execution_count": 24,
     "metadata": {},
     "output_type": "execute_result"
    }
   ],
   "source": [
    "(\n",
    "    df\n",
    "    .select(\"^P.*$\")\n",
    "    .head(3)\n",
    ")"
   ]
  },
  {
   "cell_type": "code",
   "execution_count": 25,
   "id": "0e3a6419-d3c1-4a0f-b1da-422752acf648",
   "metadata": {},
   "outputs": [
    {
     "data": {
      "text/html": [
       "<div><style>\n",
       ".dataframe > thead > tr,\n",
       ".dataframe > tbody > tr {\n",
       "  text-align: right;\n",
       "  white-space: pre-wrap;\n",
       "}\n",
       "</style>\n",
       "<small>shape: (3, 5)</small><table border=\"1\" class=\"dataframe\"><thead><tr><th>Name</th><th>Sex</th><th>Ticket</th><th>Cabin</th><th>Embarked</th></tr><tr><td>str</td><td>str</td><td>str</td><td>str</td><td>str</td></tr></thead><tbody><tr><td>&quot;Braund, Mr. Owen Harris&quot;</td><td>&quot;male&quot;</td><td>&quot;A/5 21171&quot;</td><td>null</td><td>&quot;S&quot;</td></tr><tr><td>&quot;Cumings, Mrs. John Bradley (Fl…</td><td>&quot;female&quot;</td><td>&quot;PC 17599&quot;</td><td>&quot;C85&quot;</td><td>&quot;C&quot;</td></tr><tr><td>&quot;Heikkinen, Miss. Laina&quot;</td><td>&quot;female&quot;</td><td>&quot;STON/O2. 3101282&quot;</td><td>null</td><td>&quot;S&quot;</td></tr></tbody></table></div>"
      ],
      "text/plain": [
       "shape: (3, 5)\n",
       "┌─────────────────────────────────┬────────┬──────────────────┬───────┬──────────┐\n",
       "│ Name                            ┆ Sex    ┆ Ticket           ┆ Cabin ┆ Embarked │\n",
       "│ ---                             ┆ ---    ┆ ---              ┆ ---   ┆ ---      │\n",
       "│ str                             ┆ str    ┆ str              ┆ str   ┆ str      │\n",
       "╞═════════════════════════════════╪════════╪══════════════════╪═══════╪══════════╡\n",
       "│ Braund, Mr. Owen Harris         ┆ male   ┆ A/5 21171        ┆ null  ┆ S        │\n",
       "│ Cumings, Mrs. John Bradley (Fl… ┆ female ┆ PC 17599         ┆ C85   ┆ C        │\n",
       "│ Heikkinen, Miss. Laina          ┆ female ┆ STON/O2. 3101282 ┆ null  ┆ S        │\n",
       "└─────────────────────────────────┴────────┴──────────────────┴───────┴──────────┘"
      ]
     },
     "execution_count": 25,
     "metadata": {},
     "output_type": "execute_result"
    }
   ],
   "source": [
    "(\n",
    "    df\n",
    "    .select(\n",
    "        pl.col(pl.Utf8)\n",
    "    )\n",
    "    .head(3)\n",
    ")"
   ]
  },
  {
   "cell_type": "code",
   "execution_count": 26,
   "id": "fe20947e-ab51-4ddf-911c-1c850472def2",
   "metadata": {},
   "outputs": [
    {
     "data": {
      "text/html": [
       "<div><style>\n",
       ".dataframe > thead > tr,\n",
       ".dataframe > tbody > tr {\n",
       "  text-align: right;\n",
       "  white-space: pre-wrap;\n",
       "}\n",
       "</style>\n",
       "<small>shape: (3, 7)</small><table border=\"1\" class=\"dataframe\"><thead><tr><th>PassengerId</th><th>Survived</th><th>Pclass</th><th>Age</th><th>SibSp</th><th>Parch</th><th>Fare</th></tr><tr><td>i64</td><td>i64</td><td>i64</td><td>f64</td><td>i64</td><td>i64</td><td>f64</td></tr></thead><tbody><tr><td>1</td><td>0</td><td>3</td><td>22.0</td><td>1</td><td>0</td><td>7.25</td></tr><tr><td>2</td><td>1</td><td>1</td><td>38.0</td><td>1</td><td>0</td><td>71.2833</td></tr><tr><td>3</td><td>1</td><td>3</td><td>26.0</td><td>0</td><td>0</td><td>7.925</td></tr></tbody></table></div>"
      ],
      "text/plain": [
       "shape: (3, 7)\n",
       "┌─────────────┬──────────┬────────┬──────┬───────┬───────┬─────────┐\n",
       "│ PassengerId ┆ Survived ┆ Pclass ┆ Age  ┆ SibSp ┆ Parch ┆ Fare    │\n",
       "│ ---         ┆ ---      ┆ ---    ┆ ---  ┆ ---   ┆ ---   ┆ ---     │\n",
       "│ i64         ┆ i64      ┆ i64    ┆ f64  ┆ i64   ┆ i64   ┆ f64     │\n",
       "╞═════════════╪══════════╪════════╪══════╪═══════╪═══════╪═════════╡\n",
       "│ 1           ┆ 0        ┆ 3      ┆ 22.0 ┆ 1     ┆ 0     ┆ 7.25    │\n",
       "│ 2           ┆ 1        ┆ 1      ┆ 38.0 ┆ 1     ┆ 0     ┆ 71.2833 │\n",
       "│ 3           ┆ 1        ┆ 3      ┆ 26.0 ┆ 0     ┆ 0     ┆ 7.925   │\n",
       "└─────────────┴──────────┴────────┴──────┴───────┴───────┴─────────┘"
      ]
     },
     "execution_count": 26,
     "metadata": {},
     "output_type": "execute_result"
    }
   ],
   "source": [
    "(\n",
    "    df\n",
    "    .select(\n",
    "        pl.col([pl.Int64, pl.Float64])\n",
    "    )\n",
    "    .head(3)\n",
    ")"
   ]
  },
  {
   "cell_type": "code",
   "execution_count": 27,
   "id": "e6a1b90a-bc59-4075-9c17-21e2916bc1a7",
   "metadata": {},
   "outputs": [
    {
     "name": "stderr",
     "output_type": "stream",
     "text": [
      "C:\\Users\\yk279\\AppData\\Local\\Temp\\ipykernel_37364\\1461848519.py:4: DeprecationWarning: `NUMERIC_DTYPES` was deprecated in version 1.0.0. Define your own data type groups or use the `polars.selectors` module for selecting columns of a certain data type.\n",
      "  pl.col(pl.NUMERIC_DTYPES)\n"
     ]
    },
    {
     "data": {
      "text/html": [
       "<div><style>\n",
       ".dataframe > thead > tr,\n",
       ".dataframe > tbody > tr {\n",
       "  text-align: right;\n",
       "  white-space: pre-wrap;\n",
       "}\n",
       "</style>\n",
       "<small>shape: (3, 7)</small><table border=\"1\" class=\"dataframe\"><thead><tr><th>PassengerId</th><th>Survived</th><th>Pclass</th><th>Age</th><th>SibSp</th><th>Parch</th><th>Fare</th></tr><tr><td>i64</td><td>i64</td><td>i64</td><td>f64</td><td>i64</td><td>i64</td><td>f64</td></tr></thead><tbody><tr><td>1</td><td>0</td><td>3</td><td>22.0</td><td>1</td><td>0</td><td>7.25</td></tr><tr><td>2</td><td>1</td><td>1</td><td>38.0</td><td>1</td><td>0</td><td>71.2833</td></tr><tr><td>3</td><td>1</td><td>3</td><td>26.0</td><td>0</td><td>0</td><td>7.925</td></tr></tbody></table></div>"
      ],
      "text/plain": [
       "shape: (3, 7)\n",
       "┌─────────────┬──────────┬────────┬──────┬───────┬───────┬─────────┐\n",
       "│ PassengerId ┆ Survived ┆ Pclass ┆ Age  ┆ SibSp ┆ Parch ┆ Fare    │\n",
       "│ ---         ┆ ---      ┆ ---    ┆ ---  ┆ ---   ┆ ---   ┆ ---     │\n",
       "│ i64         ┆ i64      ┆ i64    ┆ f64  ┆ i64   ┆ i64   ┆ f64     │\n",
       "╞═════════════╪══════════╪════════╪══════╪═══════╪═══════╪═════════╡\n",
       "│ 1           ┆ 0        ┆ 3      ┆ 22.0 ┆ 1     ┆ 0     ┆ 7.25    │\n",
       "│ 2           ┆ 1        ┆ 1      ┆ 38.0 ┆ 1     ┆ 0     ┆ 71.2833 │\n",
       "│ 3           ┆ 1        ┆ 3      ┆ 26.0 ┆ 0     ┆ 0     ┆ 7.925   │\n",
       "└─────────────┴──────────┴────────┴──────┴───────┴───────┴─────────┘"
      ]
     },
     "execution_count": 27,
     "metadata": {},
     "output_type": "execute_result"
    }
   ],
   "source": [
    "(\n",
    "    df\n",
    "    .select(\n",
    "        pl.col(pl.NUMERIC_DTYPES)\n",
    "    )\n",
    "    .head(3)\n",
    ")"
   ]
  },
  {
   "cell_type": "code",
   "execution_count": 28,
   "id": "00c8b82e-97ad-4fd3-a809-0364fccd7062",
   "metadata": {},
   "outputs": [
    {
     "name": "stderr",
     "output_type": "stream",
     "text": [
      "C:\\Users\\yk279\\AppData\\Local\\Temp\\ipykernel_37364\\560888827.py:1: DeprecationWarning: `NUMERIC_DTYPES` was deprecated in version 1.0.0. Define your own data type groups or use the `polars.selectors` module for selecting columns of a certain data type.\n",
      "  pl.NUMERIC_DTYPES\n"
     ]
    },
    {
     "data": {
      "text/plain": [
       "frozenset({Decimal,\n",
       "           Float32,\n",
       "           Float64,\n",
       "           Int128,\n",
       "           Int16,\n",
       "           Int32,\n",
       "           Int64,\n",
       "           Int8,\n",
       "           UInt16,\n",
       "           UInt32,\n",
       "           UInt64,\n",
       "           UInt8})"
      ]
     },
     "execution_count": 28,
     "metadata": {},
     "output_type": "execute_result"
    }
   ],
   "source": [
    "pl.NUMERIC_DTYPES"
   ]
  },
  {
   "cell_type": "code",
   "execution_count": 29,
   "id": "9137805a-9cdb-45cf-adda-f64b83dd0e9f",
   "metadata": {},
   "outputs": [
    {
     "data": {
      "text/plain": [
       "[]"
      ]
     },
     "execution_count": 29,
     "metadata": {},
     "output_type": "execute_result"
    }
   ],
   "source": [
    "[el for el in dir(pl) if \"_DTYPES\" in el]"
   ]
  },
  {
   "cell_type": "code",
   "execution_count": 30,
   "id": "11f67cf4-5ceb-4639-9ba1-7dc5de271095",
   "metadata": {},
   "outputs": [
    {
     "data": {
      "text/html": [
       "<div><style>\n",
       ".dataframe > thead > tr,\n",
       ".dataframe > tbody > tr {\n",
       "  text-align: right;\n",
       "  white-space: pre-wrap;\n",
       "}\n",
       "</style>\n",
       "<small>shape: (3, 12)</small><table border=\"1\" class=\"dataframe\"><thead><tr><th>PassengerId</th><th>Survived</th><th>Pclass</th><th>Name</th><th>Sex</th><th>Age</th><th>SibSp</th><th>Parch</th><th>Ticket</th><th>Fare</th><th>Cabin</th><th>Embarked</th></tr><tr><td>i64</td><td>i64</td><td>i64</td><td>str</td><td>str</td><td>f64</td><td>i64</td><td>i64</td><td>str</td><td>f64</td><td>str</td><td>str</td></tr></thead><tbody><tr><td>1</td><td>0</td><td>3</td><td>&quot;Braund, Mr. Owen Harris&quot;</td><td>&quot;male&quot;</td><td>22.0</td><td>1</td><td>0</td><td>&quot;A/5 21171&quot;</td><td>7.25</td><td>null</td><td>&quot;S&quot;</td></tr><tr><td>2</td><td>1</td><td>1</td><td>&quot;Cumings, Mrs. John Bradley (Fl…</td><td>&quot;female&quot;</td><td>38.0</td><td>1</td><td>0</td><td>&quot;PC 17599&quot;</td><td>71.2833</td><td>&quot;C85&quot;</td><td>&quot;C&quot;</td></tr><tr><td>3</td><td>1</td><td>3</td><td>&quot;Heikkinen, Miss. Laina&quot;</td><td>&quot;female&quot;</td><td>26.0</td><td>0</td><td>0</td><td>&quot;STON/O2. 3101282&quot;</td><td>7.925</td><td>null</td><td>&quot;S&quot;</td></tr></tbody></table></div>"
      ],
      "text/plain": [
       "shape: (3, 12)\n",
       "┌─────────────┬──────────┬────────┬─────────────────────────────────┬───┬──────────────────┬─────────┬───────┬──────────┐\n",
       "│ PassengerId ┆ Survived ┆ Pclass ┆ Name                            ┆ … ┆ Ticket           ┆ Fare    ┆ Cabin ┆ Embarked │\n",
       "│ ---         ┆ ---      ┆ ---    ┆ ---                             ┆   ┆ ---              ┆ ---     ┆ ---   ┆ ---      │\n",
       "│ i64         ┆ i64      ┆ i64    ┆ str                             ┆   ┆ str              ┆ f64     ┆ str   ┆ str      │\n",
       "╞═════════════╪══════════╪════════╪═════════════════════════════════╪═══╪══════════════════╪═════════╪═══════╪══════════╡\n",
       "│ 1           ┆ 0        ┆ 3      ┆ Braund, Mr. Owen Harris         ┆ … ┆ A/5 21171        ┆ 7.25    ┆ null  ┆ S        │\n",
       "│ 2           ┆ 1        ┆ 1      ┆ Cumings, Mrs. John Bradley (Fl… ┆ … ┆ PC 17599         ┆ 71.2833 ┆ C85   ┆ C        │\n",
       "│ 3           ┆ 1        ┆ 3      ┆ Heikkinen, Miss. Laina          ┆ … ┆ STON/O2. 3101282 ┆ 7.925   ┆ null  ┆ S        │\n",
       "└─────────────┴──────────┴────────┴─────────────────────────────────┴───┴──────────────────┴─────────┴───────┴──────────┘"
      ]
     },
     "execution_count": 30,
     "metadata": {},
     "output_type": "execute_result"
    }
   ],
   "source": [
    "(\n",
    "    df\n",
    "    .select(\n",
    "        cs.all()\n",
    "    )\n",
    "    .head(3)\n",
    ")"
   ]
  },
  {
   "cell_type": "code",
   "execution_count": 31,
   "id": "24d1df6b-08ab-420c-83b5-b0688f490716",
   "metadata": {},
   "outputs": [
    {
     "data": {
      "text/html": [
       "<div><style>\n",
       ".dataframe > thead > tr,\n",
       ".dataframe > tbody > tr {\n",
       "  text-align: right;\n",
       "  white-space: pre-wrap;\n",
       "}\n",
       "</style>\n",
       "<small>shape: (3, 1)</small><table border=\"1\" class=\"dataframe\"><thead><tr><th>PassengerId</th></tr><tr><td>i64</td></tr></thead><tbody><tr><td>1</td></tr><tr><td>2</td></tr><tr><td>3</td></tr></tbody></table></div>"
      ],
      "text/plain": [
       "shape: (3, 1)\n",
       "┌─────────────┐\n",
       "│ PassengerId │\n",
       "│ ---         │\n",
       "│ i64         │\n",
       "╞═════════════╡\n",
       "│ 1           │\n",
       "│ 2           │\n",
       "│ 3           │\n",
       "└─────────────┘"
      ]
     },
     "execution_count": 31,
     "metadata": {},
     "output_type": "execute_result"
    }
   ],
   "source": [
    "(\n",
    "    df\n",
    "    .select(\n",
    "        cs.first()\n",
    "    )\n",
    "    .head(3)\n",
    ")"
   ]
  },
  {
   "cell_type": "code",
   "execution_count": 32,
   "id": "203eae71-db30-4109-90d9-a7ba5027534b",
   "metadata": {},
   "outputs": [
    {
     "data": {
      "text/html": [
       "<div><style>\n",
       ".dataframe > thead > tr,\n",
       ".dataframe > tbody > tr {\n",
       "  text-align: right;\n",
       "  white-space: pre-wrap;\n",
       "}\n",
       "</style>\n",
       "<small>shape: (1, 12)</small><table border=\"1\" class=\"dataframe\"><thead><tr><th>PassengerId</th><th>Survived</th><th>Pclass</th><th>Name</th><th>Sex</th><th>Age</th><th>SibSp</th><th>Parch</th><th>Ticket</th><th>Fare</th><th>Cabin</th><th>Embarked</th></tr><tr><td>i64</td><td>i64</td><td>i64</td><td>str</td><td>str</td><td>f64</td><td>i64</td><td>i64</td><td>str</td><td>f64</td><td>str</td><td>str</td></tr></thead><tbody><tr><td>891</td><td>1</td><td>3</td><td>&quot;van Melkebeke, Mr. Philemon&quot;</td><td>&quot;male&quot;</td><td>80.0</td><td>8</td><td>6</td><td>&quot;WE/P 5735&quot;</td><td>512.3292</td><td>&quot;T&quot;</td><td>&quot;S&quot;</td></tr></tbody></table></div>"
      ],
      "text/plain": [
       "shape: (1, 12)\n",
       "┌─────────────┬──────────┬────────┬─────────────────────────────┬───┬───────────┬──────────┬───────┬──────────┐\n",
       "│ PassengerId ┆ Survived ┆ Pclass ┆ Name                        ┆ … ┆ Ticket    ┆ Fare     ┆ Cabin ┆ Embarked │\n",
       "│ ---         ┆ ---      ┆ ---    ┆ ---                         ┆   ┆ ---       ┆ ---      ┆ ---   ┆ ---      │\n",
       "│ i64         ┆ i64      ┆ i64    ┆ str                         ┆   ┆ str       ┆ f64      ┆ str   ┆ str      │\n",
       "╞═════════════╪══════════╪════════╪═════════════════════════════╪═══╪═══════════╪══════════╪═══════╪══════════╡\n",
       "│ 891         ┆ 1        ┆ 3      ┆ van Melkebeke, Mr. Philemon ┆ … ┆ WE/P 5735 ┆ 512.3292 ┆ T     ┆ S        │\n",
       "└─────────────┴──────────┴────────┴─────────────────────────────┴───┴───────────┴──────────┴───────┴──────────┘"
      ]
     },
     "execution_count": 32,
     "metadata": {},
     "output_type": "execute_result"
    }
   ],
   "source": [
    "(\n",
    "    df\n",
    "    .select(\n",
    "        cs.all().max()\n",
    "    )\n",
    ")"
   ]
  },
  {
   "cell_type": "code",
   "execution_count": 33,
   "id": "2e136299-f758-4f87-8055-eb16914f6f17",
   "metadata": {},
   "outputs": [
    {
     "data": {
      "text/html": [
       "<div><style>\n",
       ".dataframe > thead > tr,\n",
       ".dataframe > tbody > tr {\n",
       "  text-align: right;\n",
       "  white-space: pre-wrap;\n",
       "}\n",
       "</style>\n",
       "<small>shape: (3, 7)</small><table border=\"1\" class=\"dataframe\"><thead><tr><th>PassengerId</th><th>Survived</th><th>Pclass</th><th>Age</th><th>SibSp</th><th>Parch</th><th>Fare</th></tr><tr><td>i64</td><td>i64</td><td>i64</td><td>f64</td><td>i64</td><td>i64</td><td>f64</td></tr></thead><tbody><tr><td>1</td><td>0</td><td>3</td><td>22.0</td><td>1</td><td>0</td><td>7.25</td></tr><tr><td>2</td><td>1</td><td>1</td><td>38.0</td><td>1</td><td>0</td><td>71.2833</td></tr><tr><td>3</td><td>1</td><td>3</td><td>26.0</td><td>0</td><td>0</td><td>7.925</td></tr></tbody></table></div>"
      ],
      "text/plain": [
       "shape: (3, 7)\n",
       "┌─────────────┬──────────┬────────┬──────┬───────┬───────┬─────────┐\n",
       "│ PassengerId ┆ Survived ┆ Pclass ┆ Age  ┆ SibSp ┆ Parch ┆ Fare    │\n",
       "│ ---         ┆ ---      ┆ ---    ┆ ---  ┆ ---   ┆ ---   ┆ ---     │\n",
       "│ i64         ┆ i64      ┆ i64    ┆ f64  ┆ i64   ┆ i64   ┆ f64     │\n",
       "╞═════════════╪══════════╪════════╪══════╪═══════╪═══════╪═════════╡\n",
       "│ 1           ┆ 0        ┆ 3      ┆ 22.0 ┆ 1     ┆ 0     ┆ 7.25    │\n",
       "│ 2           ┆ 1        ┆ 1      ┆ 38.0 ┆ 1     ┆ 0     ┆ 71.2833 │\n",
       "│ 3           ┆ 1        ┆ 3      ┆ 26.0 ┆ 0     ┆ 0     ┆ 7.925   │\n",
       "└─────────────┴──────────┴────────┴──────┴───────┴───────┴─────────┘"
      ]
     },
     "execution_count": 33,
     "metadata": {},
     "output_type": "execute_result"
    }
   ],
   "source": [
    "(\n",
    "    df\n",
    "    .select(\n",
    "        cs.numeric()\n",
    "    )\n",
    "    .head(3)\n",
    ")"
   ]
  },
  {
   "cell_type": "code",
   "execution_count": 34,
   "id": "2fdc9b6b-4ecf-491d-9b0a-66b238653f1a",
   "metadata": {},
   "outputs": [
    {
     "data": {
      "text/html": [
       "<div><style>\n",
       ".dataframe > thead > tr,\n",
       ".dataframe > tbody > tr {\n",
       "  text-align: right;\n",
       "  white-space: pre-wrap;\n",
       "}\n",
       "</style>\n",
       "<small>shape: (3, 10)</small><table border=\"1\" class=\"dataframe\"><thead><tr><th>PassengerId</th><th>Survived</th><th>Name</th><th>Sex</th><th>SibSp</th><th>Parch</th><th>Ticket</th><th>Fare</th><th>Cabin</th><th>Embarked</th></tr><tr><td>i64</td><td>i64</td><td>str</td><td>str</td><td>i64</td><td>i64</td><td>str</td><td>f64</td><td>str</td><td>str</td></tr></thead><tbody><tr><td>1</td><td>0</td><td>&quot;Braund, Mr. Owen Harris&quot;</td><td>&quot;male&quot;</td><td>1</td><td>0</td><td>&quot;A/5 21171&quot;</td><td>7.25</td><td>null</td><td>&quot;S&quot;</td></tr><tr><td>2</td><td>1</td><td>&quot;Cumings, Mrs. John Bradley (Fl…</td><td>&quot;female&quot;</td><td>1</td><td>0</td><td>&quot;PC 17599&quot;</td><td>71.2833</td><td>&quot;C85&quot;</td><td>&quot;C&quot;</td></tr><tr><td>3</td><td>1</td><td>&quot;Heikkinen, Miss. Laina&quot;</td><td>&quot;female&quot;</td><td>0</td><td>0</td><td>&quot;STON/O2. 3101282&quot;</td><td>7.925</td><td>null</td><td>&quot;S&quot;</td></tr></tbody></table></div>"
      ],
      "text/plain": [
       "shape: (3, 10)\n",
       "┌─────────────┬──────────┬─────────────────────────────────┬────────┬───┬──────────────────┬─────────┬───────┬──────────┐\n",
       "│ PassengerId ┆ Survived ┆ Name                            ┆ Sex    ┆ … ┆ Ticket           ┆ Fare    ┆ Cabin ┆ Embarked │\n",
       "│ ---         ┆ ---      ┆ ---                             ┆ ---    ┆   ┆ ---              ┆ ---     ┆ ---   ┆ ---      │\n",
       "│ i64         ┆ i64      ┆ str                             ┆ str    ┆   ┆ str              ┆ f64     ┆ str   ┆ str      │\n",
       "╞═════════════╪══════════╪═════════════════════════════════╪════════╪═══╪══════════════════╪═════════╪═══════╪══════════╡\n",
       "│ 1           ┆ 0        ┆ Braund, Mr. Owen Harris         ┆ male   ┆ … ┆ A/5 21171        ┆ 7.25    ┆ null  ┆ S        │\n",
       "│ 2           ┆ 1        ┆ Cumings, Mrs. John Bradley (Fl… ┆ female ┆ … ┆ PC 17599         ┆ 71.2833 ┆ C85   ┆ C        │\n",
       "│ 3           ┆ 1        ┆ Heikkinen, Miss. Laina          ┆ female ┆ … ┆ STON/O2. 3101282 ┆ 7.925   ┆ null  ┆ S        │\n",
       "└─────────────┴──────────┴─────────────────────────────────┴────────┴───┴──────────────────┴─────────┴───────┴──────────┘"
      ]
     },
     "execution_count": 34,
     "metadata": {},
     "output_type": "execute_result"
    }
   ],
   "source": [
    "(\n",
    "    df\n",
    "    .select(\n",
    "        ~cs.by_name(\"Pclass\", \"Age\")\n",
    "    )\n",
    "    .head(3)\n",
    ")"
   ]
  },
  {
   "cell_type": "code",
   "execution_count": 35,
   "id": "c108299d-aa15-4322-8dbf-490276287e1a",
   "metadata": {},
   "outputs": [
    {
     "data": {
      "text/html": [
       "<div><style>\n",
       ".dataframe > thead > tr,\n",
       ".dataframe > tbody > tr {\n",
       "  text-align: right;\n",
       "  white-space: pre-wrap;\n",
       "}\n",
       "</style>\n",
       "<small>shape: (3, 3)</small><table border=\"1\" class=\"dataframe\"><thead><tr><th>PassengerId</th><th>Pclass</th><th>Parch</th></tr><tr><td>i64</td><td>i64</td><td>i64</td></tr></thead><tbody><tr><td>1</td><td>3</td><td>0</td></tr><tr><td>2</td><td>1</td><td>0</td></tr><tr><td>3</td><td>3</td><td>0</td></tr></tbody></table></div>"
      ],
      "text/plain": [
       "shape: (3, 3)\n",
       "┌─────────────┬────────┬───────┐\n",
       "│ PassengerId ┆ Pclass ┆ Parch │\n",
       "│ ---         ┆ ---    ┆ ---   │\n",
       "│ i64         ┆ i64    ┆ i64   │\n",
       "╞═════════════╪════════╪═══════╡\n",
       "│ 1           ┆ 3      ┆ 0     │\n",
       "│ 2           ┆ 1      ┆ 0     │\n",
       "│ 3           ┆ 3      ┆ 0     │\n",
       "└─────────────┴────────┴───────┘"
      ]
     },
     "execution_count": 35,
     "metadata": {},
     "output_type": "execute_result"
    }
   ],
   "source": [
    "(\n",
    "    df\n",
    "    .select(\n",
    "        cs.starts_with(\"P\")\n",
    "    )\n",
    "    .head(3)\n",
    ")"
   ]
  },
  {
   "cell_type": "code",
   "execution_count": 36,
   "id": "87a3c7d7-0130-435d-be2d-fe69c3e8b2ce",
   "metadata": {},
   "outputs": [
    {
     "data": {
      "text/plain": [
       "['PassengerId', 'Pclass', 'Age', 'Parch']"
      ]
     },
     "execution_count": 36,
     "metadata": {},
     "output_type": "execute_result"
    }
   ],
   "source": [
    "(\n",
    "    df\n",
    "    .select(\n",
    "        cs.starts_with(\"P\", \"A\")\n",
    "    )\n",
    "    .head(3)\n",
    ").columns"
   ]
  },
  {
   "cell_type": "code",
   "execution_count": 37,
   "id": "776809ec-3b44-492b-accd-00e764a5471b",
   "metadata": {},
   "outputs": [
    {
     "data": {
      "text/html": [
       "<div><style>\n",
       ".dataframe > thead > tr,\n",
       ".dataframe > tbody > tr {\n",
       "  text-align: right;\n",
       "  white-space: pre-wrap;\n",
       "}\n",
       "</style>\n",
       "<small>shape: (3, 2)</small><table border=\"1\" class=\"dataframe\"><thead><tr><th>Age</th><th>Fare</th></tr><tr><td>f64</td><td>f64</td></tr></thead><tbody><tr><td>22.0</td><td>7.25</td></tr><tr><td>38.0</td><td>71.2833</td></tr><tr><td>26.0</td><td>7.925</td></tr></tbody></table></div>"
      ],
      "text/plain": [
       "shape: (3, 2)\n",
       "┌──────┬─────────┐\n",
       "│ Age  ┆ Fare    │\n",
       "│ ---  ┆ ---     │\n",
       "│ f64  ┆ f64     │\n",
       "╞══════╪═════════╡\n",
       "│ 22.0 ┆ 7.25    │\n",
       "│ 38.0 ┆ 71.2833 │\n",
       "│ 26.0 ┆ 7.925   │\n",
       "└──────┴─────────┘"
      ]
     },
     "execution_count": 37,
     "metadata": {},
     "output_type": "execute_result"
    }
   ],
   "source": [
    "(\n",
    "    df\n",
    "    .select(\n",
    "        cs.matches(\"Age|Fare\")\n",
    "    )\n",
    "    .head(3)\n",
    ")"
   ]
  },
  {
   "cell_type": "code",
   "execution_count": 38,
   "id": "3fe16eb3-711e-4659-9913-75a04b06f978",
   "metadata": {},
   "outputs": [
    {
     "data": {
      "text/html": [
       "<div><style>\n",
       ".dataframe > thead > tr,\n",
       ".dataframe > tbody > tr {\n",
       "  text-align: right;\n",
       "  white-space: pre-wrap;\n",
       "}\n",
       "</style>\n",
       "<small>shape: (3, 1)</small><table border=\"1\" class=\"dataframe\"><thead><tr><th>Age</th></tr><tr><td>f64</td></tr></thead><tbody><tr><td>22.0</td></tr><tr><td>38.0</td></tr><tr><td>26.0</td></tr></tbody></table></div>"
      ],
      "text/plain": [
       "shape: (3, 1)\n",
       "┌──────┐\n",
       "│ Age  │\n",
       "│ ---  │\n",
       "│ f64  │\n",
       "╞══════╡\n",
       "│ 22.0 │\n",
       "│ 38.0 │\n",
       "│ 26.0 │\n",
       "└──────┘"
      ]
     },
     "execution_count": 38,
     "metadata": {},
     "output_type": "execute_result"
    }
   ],
   "source": [
    "(\n",
    "    df\n",
    "    .select(\n",
    "        cs.numeric() & cs.contains(\"A\")\n",
    "    )\n",
    "    .head(3)\n",
    ")"
   ]
  },
  {
   "cell_type": "code",
   "execution_count": 39,
   "id": "0ded6a31-93f6-4e0d-9495-2007bd305969",
   "metadata": {},
   "outputs": [
    {
     "data": {
      "text/html": [
       "<div><style>\n",
       ".dataframe > thead > tr,\n",
       ".dataframe > tbody > tr {\n",
       "  text-align: right;\n",
       "  white-space: pre-wrap;\n",
       "}\n",
       "</style>\n",
       "<small>shape: (3, 8)</small><table border=\"1\" class=\"dataframe\"><thead><tr><th>PassengerId</th><th>Pclass</th><th>Name</th><th>Sex</th><th>Parch</th><th>Ticket</th><th>Cabin</th><th>Embarked</th></tr><tr><td>i64</td><td>i64</td><td>str</td><td>str</td><td>i64</td><td>str</td><td>str</td><td>str</td></tr></thead><tbody><tr><td>1</td><td>3</td><td>&quot;Braund, Mr. Owen Harris&quot;</td><td>&quot;male&quot;</td><td>0</td><td>&quot;A/5 21171&quot;</td><td>null</td><td>&quot;S&quot;</td></tr><tr><td>2</td><td>1</td><td>&quot;Cumings, Mrs. John Bradley (Fl…</td><td>&quot;female&quot;</td><td>0</td><td>&quot;PC 17599&quot;</td><td>&quot;C85&quot;</td><td>&quot;C&quot;</td></tr><tr><td>3</td><td>3</td><td>&quot;Heikkinen, Miss. Laina&quot;</td><td>&quot;female&quot;</td><td>0</td><td>&quot;STON/O2. 3101282&quot;</td><td>null</td><td>&quot;S&quot;</td></tr></tbody></table></div>"
      ],
      "text/plain": [
       "shape: (3, 8)\n",
       "┌─────────────┬────────┬─────────────────────────────────┬────────┬───────┬──────────────────┬───────┬──────────┐\n",
       "│ PassengerId ┆ Pclass ┆ Name                            ┆ Sex    ┆ Parch ┆ Ticket           ┆ Cabin ┆ Embarked │\n",
       "│ ---         ┆ ---    ┆ ---                             ┆ ---    ┆ ---   ┆ ---              ┆ ---   ┆ ---      │\n",
       "│ i64         ┆ i64    ┆ str                             ┆ str    ┆ i64   ┆ str              ┆ str   ┆ str      │\n",
       "╞═════════════╪════════╪═════════════════════════════════╪════════╪═══════╪══════════════════╪═══════╪══════════╡\n",
       "│ 1           ┆ 3      ┆ Braund, Mr. Owen Harris         ┆ male   ┆ 0     ┆ A/5 21171        ┆ null  ┆ S        │\n",
       "│ 2           ┆ 1      ┆ Cumings, Mrs. John Bradley (Fl… ┆ female ┆ 0     ┆ PC 17599         ┆ C85   ┆ C        │\n",
       "│ 3           ┆ 3      ┆ Heikkinen, Miss. Laina          ┆ female ┆ 0     ┆ STON/O2. 3101282 ┆ null  ┆ S        │\n",
       "└─────────────┴────────┴─────────────────────────────────┴────────┴───────┴──────────────────┴───────┴──────────┘"
      ]
     },
     "execution_count": 39,
     "metadata": {},
     "output_type": "execute_result"
    }
   ],
   "source": [
    "(\n",
    "    df\n",
    "    .select(\n",
    "        cs.string() | cs.contains(\"P\")\n",
    "    )\n",
    "    .head(3)\n",
    ")"
   ]
  },
  {
   "cell_type": "code",
   "execution_count": 40,
   "id": "cabed781-82d5-435f-b013-bef83f0c9859",
   "metadata": {},
   "outputs": [
    {
     "data": {
      "text/html": [
       "<div><style>\n",
       ".dataframe > thead > tr,\n",
       ".dataframe > tbody > tr {\n",
       "  text-align: right;\n",
       "  white-space: pre-wrap;\n",
       "}\n",
       "</style>\n",
       "<small>shape: (3, 4)</small><table border=\"1\" class=\"dataframe\"><thead><tr><th>Name</th><th>Sex</th><th>Cabin</th><th>Embarked</th></tr><tr><td>str</td><td>str</td><td>str</td><td>str</td></tr></thead><tbody><tr><td>&quot;Braund, Mr. Owen Harris&quot;</td><td>&quot;male&quot;</td><td>null</td><td>&quot;S&quot;</td></tr><tr><td>&quot;Cumings, Mrs. John Bradley (Fl…</td><td>&quot;female&quot;</td><td>&quot;C85&quot;</td><td>&quot;C&quot;</td></tr><tr><td>&quot;Heikkinen, Miss. Laina&quot;</td><td>&quot;female&quot;</td><td>null</td><td>&quot;S&quot;</td></tr></tbody></table></div>"
      ],
      "text/plain": [
       "shape: (3, 4)\n",
       "┌─────────────────────────────────┬────────┬───────┬──────────┐\n",
       "│ Name                            ┆ Sex    ┆ Cabin ┆ Embarked │\n",
       "│ ---                             ┆ ---    ┆ ---   ┆ ---      │\n",
       "│ str                             ┆ str    ┆ str   ┆ str      │\n",
       "╞═════════════════════════════════╪════════╪═══════╪══════════╡\n",
       "│ Braund, Mr. Owen Harris         ┆ male   ┆ null  ┆ S        │\n",
       "│ Cumings, Mrs. John Bradley (Fl… ┆ female ┆ C85   ┆ C        │\n",
       "│ Heikkinen, Miss. Laina          ┆ female ┆ null  ┆ S        │\n",
       "└─────────────────────────────────┴────────┴───────┴──────────┘"
      ]
     },
     "execution_count": 40,
     "metadata": {},
     "output_type": "execute_result"
    }
   ],
   "source": [
    "(\n",
    "    df\n",
    "    .select(\n",
    "        cs.string() - cs.starts_with(\"T\")\n",
    "    )\n",
    "    .head(3)\n",
    ")"
   ]
  },
  {
   "cell_type": "code",
   "execution_count": 41,
   "id": "44c10589-af28-4884-b5a9-21308df8c1ec",
   "metadata": {},
   "outputs": [],
   "source": [
    "df = pl.read_csv(csvFile)"
   ]
  },
  {
   "cell_type": "code",
   "execution_count": 42,
   "id": "99c5a157-ed6d-4fa6-bf7c-0d7444ca1e0c",
   "metadata": {},
   "outputs": [
    {
     "data": {
      "text/html": [
       "<div><style>\n",
       ".dataframe > thead > tr,\n",
       ".dataframe > tbody > tr {\n",
       "  text-align: right;\n",
       "  white-space: pre-wrap;\n",
       "}\n",
       "</style>\n",
       "<small>shape: (3, 12)</small><table border=\"1\" class=\"dataframe\"><thead><tr><th>PassengerId</th><th>Survived</th><th>Pclass</th><th>Name</th><th>Sex</th><th>Age</th><th>SibSp</th><th>Parch</th><th>Ticket</th><th>Fare</th><th>Cabin</th><th>Embarked</th></tr><tr><td>i64</td><td>i64</td><td>i64</td><td>str</td><td>str</td><td>f64</td><td>i64</td><td>i64</td><td>str</td><td>f64</td><td>str</td><td>str</td></tr></thead><tbody><tr><td>1</td><td>0</td><td>3</td><td>&quot;Braund, Mr. Owen Harris&quot;</td><td>&quot;male&quot;</td><td>22.0</td><td>1</td><td>0</td><td>&quot;A/5 21171&quot;</td><td>7.0</td><td>null</td><td>&quot;S&quot;</td></tr><tr><td>2</td><td>1</td><td>1</td><td>&quot;Cumings, Mrs. John Bradley (Fl…</td><td>&quot;female&quot;</td><td>38.0</td><td>1</td><td>0</td><td>&quot;PC 17599&quot;</td><td>71.0</td><td>&quot;C85&quot;</td><td>&quot;C&quot;</td></tr><tr><td>3</td><td>1</td><td>3</td><td>&quot;Heikkinen, Miss. Laina&quot;</td><td>&quot;female&quot;</td><td>26.0</td><td>0</td><td>0</td><td>&quot;STON/O2. 3101282&quot;</td><td>8.0</td><td>null</td><td>&quot;S&quot;</td></tr></tbody></table></div>"
      ],
      "text/plain": [
       "shape: (3, 12)\n",
       "┌─────────────┬──────────┬────────┬─────────────────────────────────┬───┬──────────────────┬──────┬───────┬──────────┐\n",
       "│ PassengerId ┆ Survived ┆ Pclass ┆ Name                            ┆ … ┆ Ticket           ┆ Fare ┆ Cabin ┆ Embarked │\n",
       "│ ---         ┆ ---      ┆ ---    ┆ ---                             ┆   ┆ ---              ┆ ---  ┆ ---   ┆ ---      │\n",
       "│ i64         ┆ i64      ┆ i64    ┆ str                             ┆   ┆ str              ┆ f64  ┆ str   ┆ str      │\n",
       "╞═════════════╪══════════╪════════╪═════════════════════════════════╪═══╪══════════════════╪══════╪═══════╪══════════╡\n",
       "│ 1           ┆ 0        ┆ 3      ┆ Braund, Mr. Owen Harris         ┆ … ┆ A/5 21171        ┆ 7.0  ┆ null  ┆ S        │\n",
       "│ 2           ┆ 1        ┆ 1      ┆ Cumings, Mrs. John Bradley (Fl… ┆ … ┆ PC 17599         ┆ 71.0 ┆ C85   ┆ C        │\n",
       "│ 3           ┆ 1        ┆ 3      ┆ Heikkinen, Miss. Laina          ┆ … ┆ STON/O2. 3101282 ┆ 8.0  ┆ null  ┆ S        │\n",
       "└─────────────┴──────────┴────────┴─────────────────────────────────┴───┴──────────────────┴──────┴───────┴──────────┘"
      ]
     },
     "execution_count": 42,
     "metadata": {},
     "output_type": "execute_result"
    }
   ],
   "source": [
    "(\n",
    "    df\n",
    "    .with_columns(\n",
    "        pl.col(\"Fare\").round(0)\n",
    "    )\n",
    "    .head(3)\n",
    ")"
   ]
  },
  {
   "cell_type": "code",
   "execution_count": 43,
   "id": "4e7b4057-37fe-4355-9428-f889a4520218",
   "metadata": {},
   "outputs": [
    {
     "data": {
      "text/html": [
       "<div><style>\n",
       ".dataframe > thead > tr,\n",
       ".dataframe > tbody > tr {\n",
       "  text-align: right;\n",
       "  white-space: pre-wrap;\n",
       "}\n",
       "</style>\n",
       "<small>shape: (3, 13)</small><table border=\"1\" class=\"dataframe\"><thead><tr><th>PassengerId</th><th>Survived</th><th>Pclass</th><th>Name</th><th>Sex</th><th>Age</th><th>SibSp</th><th>Parch</th><th>Ticket</th><th>Fare</th><th>Cabin</th><th>Embarked</th><th>roundFare</th></tr><tr><td>i64</td><td>i64</td><td>i64</td><td>str</td><td>str</td><td>f64</td><td>i64</td><td>i64</td><td>str</td><td>f64</td><td>str</td><td>str</td><td>f64</td></tr></thead><tbody><tr><td>1</td><td>0</td><td>3</td><td>&quot;Braund, Mr. Owen Harris&quot;</td><td>&quot;male&quot;</td><td>22.0</td><td>1</td><td>0</td><td>&quot;A/5 21171&quot;</td><td>7.25</td><td>null</td><td>&quot;S&quot;</td><td>7.0</td></tr><tr><td>2</td><td>1</td><td>1</td><td>&quot;Cumings, Mrs. John Bradley (Fl…</td><td>&quot;female&quot;</td><td>38.0</td><td>1</td><td>0</td><td>&quot;PC 17599&quot;</td><td>71.2833</td><td>&quot;C85&quot;</td><td>&quot;C&quot;</td><td>71.0</td></tr><tr><td>3</td><td>1</td><td>3</td><td>&quot;Heikkinen, Miss. Laina&quot;</td><td>&quot;female&quot;</td><td>26.0</td><td>0</td><td>0</td><td>&quot;STON/O2. 3101282&quot;</td><td>7.925</td><td>null</td><td>&quot;S&quot;</td><td>8.0</td></tr></tbody></table></div>"
      ],
      "text/plain": [
       "shape: (3, 13)\n",
       "┌─────────────┬──────────┬────────┬─────────────────────────────────┬───┬─────────┬───────┬──────────┬───────────┐\n",
       "│ PassengerId ┆ Survived ┆ Pclass ┆ Name                            ┆ … ┆ Fare    ┆ Cabin ┆ Embarked ┆ roundFare │\n",
       "│ ---         ┆ ---      ┆ ---    ┆ ---                             ┆   ┆ ---     ┆ ---   ┆ ---      ┆ ---       │\n",
       "│ i64         ┆ i64      ┆ i64    ┆ str                             ┆   ┆ f64     ┆ str   ┆ str      ┆ f64       │\n",
       "╞═════════════╪══════════╪════════╪═════════════════════════════════╪═══╪═════════╪═══════╪══════════╪═══════════╡\n",
       "│ 1           ┆ 0        ┆ 3      ┆ Braund, Mr. Owen Harris         ┆ … ┆ 7.25    ┆ null  ┆ S        ┆ 7.0       │\n",
       "│ 2           ┆ 1        ┆ 1      ┆ Cumings, Mrs. John Bradley (Fl… ┆ … ┆ 71.2833 ┆ C85   ┆ C        ┆ 71.0      │\n",
       "│ 3           ┆ 1        ┆ 3      ┆ Heikkinen, Miss. Laina          ┆ … ┆ 7.925   ┆ null  ┆ S        ┆ 8.0       │\n",
       "└─────────────┴──────────┴────────┴─────────────────────────────────┴───┴─────────┴───────┴──────────┴───────────┘"
      ]
     },
     "execution_count": 43,
     "metadata": {},
     "output_type": "execute_result"
    }
   ],
   "source": [
    "df = pl.read_csv(csvFile)\n",
    "(\n",
    "    df\n",
    "    .with_columns(\n",
    "        pl.col(\"Fare\").round(0).alias(\"roundFare\")\n",
    "    )\n",
    "    .head(3)\n",
    ")"
   ]
  },
  {
   "cell_type": "code",
   "execution_count": 44,
   "id": "d0fdcd72-ed1c-4c17-9f0b-c81a22a77c20",
   "metadata": {},
   "outputs": [
    {
     "data": {
      "text/html": [
       "<div><style>\n",
       ".dataframe > thead > tr,\n",
       ".dataframe > tbody > tr {\n",
       "  text-align: right;\n",
       "  white-space: pre-wrap;\n",
       "}\n",
       "</style>\n",
       "<small>shape: (3, 13)</small><table border=\"1\" class=\"dataframe\"><thead><tr><th>PassengerId</th><th>Survived</th><th>Pclass</th><th>Name</th><th>Sex</th><th>Age</th><th>SibSp</th><th>Parch</th><th>Ticket</th><th>Fare</th><th>Cabin</th><th>Embarked</th><th>doubleFare</th></tr><tr><td>i64</td><td>i64</td><td>i64</td><td>str</td><td>str</td><td>f64</td><td>i64</td><td>i64</td><td>str</td><td>f64</td><td>str</td><td>str</td><td>f64</td></tr></thead><tbody><tr><td>1</td><td>0</td><td>3</td><td>&quot;Braund, Mr. Owen Harris&quot;</td><td>&quot;male&quot;</td><td>22.0</td><td>1</td><td>0</td><td>&quot;A/5 21171&quot;</td><td>7.25</td><td>null</td><td>&quot;S&quot;</td><td>14.5</td></tr><tr><td>2</td><td>1</td><td>1</td><td>&quot;Cumings, Mrs. John Bradley (Fl…</td><td>&quot;female&quot;</td><td>38.0</td><td>1</td><td>0</td><td>&quot;PC 17599&quot;</td><td>71.2833</td><td>&quot;C85&quot;</td><td>&quot;C&quot;</td><td>142.5666</td></tr><tr><td>3</td><td>1</td><td>3</td><td>&quot;Heikkinen, Miss. Laina&quot;</td><td>&quot;female&quot;</td><td>26.0</td><td>0</td><td>0</td><td>&quot;STON/O2. 3101282&quot;</td><td>7.925</td><td>null</td><td>&quot;S&quot;</td><td>15.85</td></tr></tbody></table></div>"
      ],
      "text/plain": [
       "shape: (3, 13)\n",
       "┌─────────────┬──────────┬────────┬─────────────────────────────────┬───┬─────────┬───────┬──────────┬────────────┐\n",
       "│ PassengerId ┆ Survived ┆ Pclass ┆ Name                            ┆ … ┆ Fare    ┆ Cabin ┆ Embarked ┆ doubleFare │\n",
       "│ ---         ┆ ---      ┆ ---    ┆ ---                             ┆   ┆ ---     ┆ ---   ┆ ---      ┆ ---        │\n",
       "│ i64         ┆ i64      ┆ i64    ┆ str                             ┆   ┆ f64     ┆ str   ┆ str      ┆ f64        │\n",
       "╞═════════════╪══════════╪════════╪═════════════════════════════════╪═══╪═════════╪═══════╪══════════╪════════════╡\n",
       "│ 1           ┆ 0        ┆ 3      ┆ Braund, Mr. Owen Harris         ┆ … ┆ 7.25    ┆ null  ┆ S        ┆ 14.5       │\n",
       "│ 2           ┆ 1        ┆ 1      ┆ Cumings, Mrs. John Bradley (Fl… ┆ … ┆ 71.2833 ┆ C85   ┆ C        ┆ 142.5666   │\n",
       "│ 3           ┆ 1        ┆ 3      ┆ Heikkinen, Miss. Laina          ┆ … ┆ 7.925   ┆ null  ┆ S        ┆ 15.85      │\n",
       "└─────────────┴──────────┴────────┴─────────────────────────────────┴───┴─────────┴───────┴──────────┴────────────┘"
      ]
     },
     "execution_count": 44,
     "metadata": {},
     "output_type": "execute_result"
    }
   ],
   "source": [
    "df = pl.read_csv(csvFile)\n",
    "(\n",
    "    df\n",
    "    .with_columns(\n",
    "        (pl.col(\"Fare\") * 2).alias(\"doubleFare\")\n",
    "    )\n",
    "    .head(3)\n",
    ")"
   ]
  },
  {
   "cell_type": "code",
   "execution_count": 45,
   "id": "b4a9c5b8-b8d8-477e-9d87-74434abb435b",
   "metadata": {},
   "outputs": [
    {
     "data": {
      "text/html": [
       "<div><style>\n",
       ".dataframe > thead > tr,\n",
       ".dataframe > tbody > tr {\n",
       "  text-align: right;\n",
       "  white-space: pre-wrap;\n",
       "}\n",
       "</style>\n",
       "<small>shape: (3, 13)</small><table border=\"1\" class=\"dataframe\"><thead><tr><th>PassengerId</th><th>Survived</th><th>Pclass</th><th>Name</th><th>Sex</th><th>Age</th><th>SibSp</th><th>Parch</th><th>Ticket</th><th>Fare</th><th>Cabin</th><th>Embarked</th><th>farePlusAge</th></tr><tr><td>i64</td><td>i64</td><td>i64</td><td>str</td><td>str</td><td>f64</td><td>i64</td><td>i64</td><td>str</td><td>f64</td><td>str</td><td>str</td><td>f64</td></tr></thead><tbody><tr><td>1</td><td>0</td><td>3</td><td>&quot;Braund, Mr. Owen Harris&quot;</td><td>&quot;male&quot;</td><td>22.0</td><td>1</td><td>0</td><td>&quot;A/5 21171&quot;</td><td>7.25</td><td>null</td><td>&quot;S&quot;</td><td>29.25</td></tr><tr><td>2</td><td>1</td><td>1</td><td>&quot;Cumings, Mrs. John Bradley (Fl…</td><td>&quot;female&quot;</td><td>38.0</td><td>1</td><td>0</td><td>&quot;PC 17599&quot;</td><td>71.2833</td><td>&quot;C85&quot;</td><td>&quot;C&quot;</td><td>109.2833</td></tr><tr><td>3</td><td>1</td><td>3</td><td>&quot;Heikkinen, Miss. Laina&quot;</td><td>&quot;female&quot;</td><td>26.0</td><td>0</td><td>0</td><td>&quot;STON/O2. 3101282&quot;</td><td>7.925</td><td>null</td><td>&quot;S&quot;</td><td>33.925</td></tr></tbody></table></div>"
      ],
      "text/plain": [
       "shape: (3, 13)\n",
       "┌─────────────┬──────────┬────────┬─────────────────────────────────┬───┬─────────┬───────┬──────────┬─────────────┐\n",
       "│ PassengerId ┆ Survived ┆ Pclass ┆ Name                            ┆ … ┆ Fare    ┆ Cabin ┆ Embarked ┆ farePlusAge │\n",
       "│ ---         ┆ ---      ┆ ---    ┆ ---                             ┆   ┆ ---     ┆ ---   ┆ ---      ┆ ---         │\n",
       "│ i64         ┆ i64      ┆ i64    ┆ str                             ┆   ┆ f64     ┆ str   ┆ str      ┆ f64         │\n",
       "╞═════════════╪══════════╪════════╪═════════════════════════════════╪═══╪═════════╪═══════╪══════════╪═════════════╡\n",
       "│ 1           ┆ 0        ┆ 3      ┆ Braund, Mr. Owen Harris         ┆ … ┆ 7.25    ┆ null  ┆ S        ┆ 29.25       │\n",
       "│ 2           ┆ 1        ┆ 1      ┆ Cumings, Mrs. John Bradley (Fl… ┆ … ┆ 71.2833 ┆ C85   ┆ C        ┆ 109.2833    │\n",
       "│ 3           ┆ 1        ┆ 3      ┆ Heikkinen, Miss. Laina          ┆ … ┆ 7.925   ┆ null  ┆ S        ┆ 33.925      │\n",
       "└─────────────┴──────────┴────────┴─────────────────────────────────┴───┴─────────┴───────┴──────────┴─────────────┘"
      ]
     },
     "execution_count": 45,
     "metadata": {},
     "output_type": "execute_result"
    }
   ],
   "source": [
    "df = pl.read_csv(csvFile)\n",
    "(\n",
    "    df\n",
    "    .with_columns(\n",
    "        (pl.col(\"Fare\") + pl.col(\"Age\")).alias(\"farePlusAge\")\n",
    "    )\n",
    "    .head(3)\n",
    ")"
   ]
  },
  {
   "cell_type": "code",
   "execution_count": 46,
   "id": "a080d5cd-8c6c-4406-a3ff-c8f49c141b83",
   "metadata": {},
   "outputs": [
    {
     "data": {
      "text/html": [
       "<div><style>\n",
       ".dataframe > thead > tr,\n",
       ".dataframe > tbody > tr {\n",
       "  text-align: right;\n",
       "  white-space: pre-wrap;\n",
       "}\n",
       "</style>\n",
       "<small>shape: (3, 2)</small><table border=\"1\" class=\"dataframe\"><thead><tr><th>Name</th><th>Aboard</th></tr><tr><td>str</td><td>str</td></tr></thead><tbody><tr><td>&quot;Braund, Mr. Owen Harris&quot;</td><td>&quot;yes&quot;</td></tr><tr><td>&quot;Cumings, Mrs. John Bradley (Fl…</td><td>&quot;yes&quot;</td></tr><tr><td>&quot;Heikkinen, Miss. Laina&quot;</td><td>&quot;yes&quot;</td></tr></tbody></table></div>"
      ],
      "text/plain": [
       "shape: (3, 2)\n",
       "┌─────────────────────────────────┬────────┐\n",
       "│ Name                            ┆ Aboard │\n",
       "│ ---                             ┆ ---    │\n",
       "│ str                             ┆ str    │\n",
       "╞═════════════════════════════════╪════════╡\n",
       "│ Braund, Mr. Owen Harris         ┆ yes    │\n",
       "│ Cumings, Mrs. John Bradley (Fl… ┆ yes    │\n",
       "│ Heikkinen, Miss. Laina          ┆ yes    │\n",
       "└─────────────────────────────────┴────────┘"
      ]
     },
     "execution_count": 46,
     "metadata": {},
     "output_type": "execute_result"
    }
   ],
   "source": [
    "df = pl.read_csv(csvFile)\n",
    "(\n",
    "    df\n",
    "    .with_columns(\n",
    "        pl.lit(\"yes\").alias(\"Aboard\")\n",
    "    )\n",
    "    .select([\"Name\", \"Aboard\"])\n",
    "    .head(3)\n",
    ")"
   ]
  },
  {
   "cell_type": "code",
   "execution_count": 47,
   "id": "fcb9fbe2-f634-44b6-9e84-22a1fb169d41",
   "metadata": {},
   "outputs": [],
   "source": [
    "df = pl.read_csv(csvFile)"
   ]
  },
  {
   "cell_type": "code",
   "execution_count": 48,
   "id": "e7d3e5ea-19a5-41c6-b98a-e8b96a03c834",
   "metadata": {},
   "outputs": [
    {
     "data": {
      "text/html": [
       "<div><style>\n",
       ".dataframe > thead > tr,\n",
       ".dataframe > tbody > tr {\n",
       "  text-align: right;\n",
       "  white-space: pre-wrap;\n",
       "}\n",
       "</style>\n",
       "<small>shape: (3, 2)</small><table border=\"1\" class=\"dataframe\"><thead><tr><th>Pclass</th><th>firstClass</th></tr><tr><td>i64</td><td>i32</td></tr></thead><tbody><tr><td>3</td><td>0</td></tr><tr><td>1</td><td>1</td></tr><tr><td>3</td><td>0</td></tr></tbody></table></div>"
      ],
      "text/plain": [
       "shape: (3, 2)\n",
       "┌────────┬────────────┐\n",
       "│ Pclass ┆ firstClass │\n",
       "│ ---    ┆ ---        │\n",
       "│ i64    ┆ i32        │\n",
       "╞════════╪════════════╡\n",
       "│ 3      ┆ 0          │\n",
       "│ 1      ┆ 1          │\n",
       "│ 3      ┆ 0          │\n",
       "└────────┴────────────┘"
      ]
     },
     "execution_count": 48,
     "metadata": {},
     "output_type": "execute_result"
    }
   ],
   "source": [
    "(\n",
    "    df\n",
    "    .select(\n",
    "        [\n",
    "            pl.col(\"Pclass\"),\n",
    "            pl.when(\n",
    "                pl.col(\"Pclass\") == 1\n",
    "            )\n",
    "            .then(1)\n",
    "            .otherwise(0)\n",
    "            .alias(\"firstClass\")\n",
    "        ]\n",
    "    )\n",
    "    .head(3)\n",
    ")"
   ]
  },
  {
   "cell_type": "code",
   "execution_count": 49,
   "id": "7f92fc8a-8e0a-40c3-a9c9-b9784cde050a",
   "metadata": {},
   "outputs": [
    {
     "data": {
      "text/html": [
       "<div><style>\n",
       ".dataframe > thead > tr,\n",
       ".dataframe > tbody > tr {\n",
       "  text-align: right;\n",
       "  white-space: pre-wrap;\n",
       "}\n",
       "</style>\n",
       "<small>shape: (5, 3)</small><table border=\"1\" class=\"dataframe\"><thead><tr><th>Pclass</th><th>Age</th><th>youngFirstClass</th></tr><tr><td>i64</td><td>f64</td><td>i32</td></tr></thead><tbody><tr><td>2</td><td>27.0</td><td>0</td></tr><tr><td>1</td><td>19.0</td><td>1</td></tr><tr><td>3</td><td>null</td><td>0</td></tr><tr><td>1</td><td>26.0</td><td>1</td></tr><tr><td>3</td><td>32.0</td><td>0</td></tr></tbody></table></div>"
      ],
      "text/plain": [
       "shape: (5, 3)\n",
       "┌────────┬──────┬─────────────────┐\n",
       "│ Pclass ┆ Age  ┆ youngFirstClass │\n",
       "│ ---    ┆ ---  ┆ ---             │\n",
       "│ i64    ┆ f64  ┆ i32             │\n",
       "╞════════╪══════╪═════════════════╡\n",
       "│ 2      ┆ 27.0 ┆ 0               │\n",
       "│ 1      ┆ 19.0 ┆ 1               │\n",
       "│ 3      ┆ null ┆ 0               │\n",
       "│ 1      ┆ 26.0 ┆ 1               │\n",
       "│ 3      ┆ 32.0 ┆ 0               │\n",
       "└────────┴──────┴─────────────────┘"
      ]
     },
     "execution_count": 49,
     "metadata": {},
     "output_type": "execute_result"
    }
   ],
   "source": [
    "(\n",
    "    df\n",
    "    .select(\n",
    "        [\n",
    "            pl.col(\"Pclass\"),\n",
    "            pl.col(\"Age\"),\n",
    "            pl.when(\n",
    "                (pl.col(\"Pclass\") == 1) & (pl.col(\"Age\") < 30)\n",
    "            )\n",
    "            .then(1)\n",
    "            .otherwise(0)\n",
    "            .alias(\"youngFirstClass\")\n",
    "        ]\n",
    "    )\n",
    "    .tail(5)\n",
    ")"
   ]
  },
  {
   "cell_type": "code",
   "execution_count": 50,
   "id": "43416ca2-7ae9-4356-b928-4974f3fa8c62",
   "metadata": {},
   "outputs": [
    {
     "data": {
      "text/html": [
       "<div><style>\n",
       ".dataframe > thead > tr,\n",
       ".dataframe > tbody > tr {\n",
       "  text-align: right;\n",
       "  white-space: pre-wrap;\n",
       "}\n",
       "</style>\n",
       "<small>shape: (5, 3)</small><table border=\"1\" class=\"dataframe\"><thead><tr><th>Pclass</th><th>Age</th><th>ageClass</th></tr><tr><td>i64</td><td>f64</td><td>i32</td></tr></thead><tbody><tr><td>3</td><td>22.0</td><td>0</td></tr><tr><td>1</td><td>38.0</td><td>2</td></tr><tr><td>3</td><td>26.0</td><td>0</td></tr><tr><td>1</td><td>35.0</td><td>2</td></tr><tr><td>3</td><td>35.0</td><td>0</td></tr></tbody></table></div>"
      ],
      "text/plain": [
       "shape: (5, 3)\n",
       "┌────────┬──────┬──────────┐\n",
       "│ Pclass ┆ Age  ┆ ageClass │\n",
       "│ ---    ┆ ---  ┆ ---      │\n",
       "│ i64    ┆ f64  ┆ i32      │\n",
       "╞════════╪══════╪══════════╡\n",
       "│ 3      ┆ 22.0 ┆ 0        │\n",
       "│ 1      ┆ 38.0 ┆ 2        │\n",
       "│ 3      ┆ 26.0 ┆ 0        │\n",
       "│ 1      ┆ 35.0 ┆ 2        │\n",
       "│ 3      ┆ 35.0 ┆ 0        │\n",
       "└────────┴──────┴──────────┘"
      ]
     },
     "execution_count": 50,
     "metadata": {},
     "output_type": "execute_result"
    }
   ],
   "source": [
    "(\n",
    "    df\n",
    "    .select(\n",
    "        [\n",
    "            pl.col(\"Pclass\"),\n",
    "            pl.col(\"Age\"),\n",
    "            pl.when(\n",
    "                (pl.col(\"Pclass\") == 1) & (pl.col(\"Age\") < 30)\n",
    "            )\n",
    "            .then(1)\n",
    "            .when(\n",
    "                (pl.col(\"Pclass\") == 1) & (pl.col(\"Age\") >= 30)\n",
    "            )\n",
    "            .then(2)\n",
    "            .otherwise(0)\n",
    "            .alias(\"ageClass\")\n",
    "        ]\n",
    "    )\n",
    "    .head(5)\n",
    ")"
   ]
  },
  {
   "cell_type": "code",
   "execution_count": 51,
   "id": "500b0111-76af-43d8-8228-6600fbef7bdd",
   "metadata": {},
   "outputs": [
    {
     "data": {
      "text/plain": [
       "polars.config.Config"
      ]
     },
     "execution_count": 51,
     "metadata": {},
     "output_type": "execute_result"
    }
   ],
   "source": [
    "pl.Config.set_tbl_rows(4)"
   ]
  },
  {
   "cell_type": "code",
   "execution_count": 52,
   "id": "b74da411-3d7d-4b87-a641-45fa1c0b2cd7",
   "metadata": {},
   "outputs": [
    {
     "data": {
      "text/html": [
       "<div><style>\n",
       ".dataframe > thead > tr,\n",
       ".dataframe > tbody > tr {\n",
       "  text-align: right;\n",
       "  white-space: pre-wrap;\n",
       "}\n",
       "</style>\n",
       "<small>shape: (891, 12)</small><table border=\"1\" class=\"dataframe\"><thead><tr><th>PassengerId</th><th>Survived</th><th>Pclass</th><th>Name</th><th>Sex</th><th>Age</th><th>SibSp</th><th>Parch</th><th>Ticket</th><th>Fare</th><th>Cabin</th><th>Embarked</th></tr><tr><td>i64</td><td>i64</td><td>i64</td><td>str</td><td>str</td><td>f64</td><td>i64</td><td>i64</td><td>str</td><td>f64</td><td>str</td><td>str</td></tr></thead><tbody><tr><td>6</td><td>0</td><td>3</td><td>&quot;Moran, Mr. James&quot;</td><td>&quot;male&quot;</td><td>null</td><td>0</td><td>0</td><td>&quot;330877&quot;</td><td>8.4583</td><td>null</td><td>&quot;Q&quot;</td></tr><tr><td>18</td><td>1</td><td>2</td><td>&quot;Williams, Mr. Charles Eugene&quot;</td><td>&quot;male&quot;</td><td>null</td><td>0</td><td>0</td><td>&quot;244373&quot;</td><td>13.0</td><td>null</td><td>&quot;S&quot;</td></tr><tr><td>&hellip;</td><td>&hellip;</td><td>&hellip;</td><td>&hellip;</td><td>&hellip;</td><td>&hellip;</td><td>&hellip;</td><td>&hellip;</td><td>&hellip;</td><td>&hellip;</td><td>&hellip;</td><td>&hellip;</td></tr><tr><td>852</td><td>0</td><td>3</td><td>&quot;Svensson, Mr. Johan&quot;</td><td>&quot;male&quot;</td><td>74.0</td><td>0</td><td>0</td><td>&quot;347060&quot;</td><td>7.775</td><td>null</td><td>&quot;S&quot;</td></tr><tr><td>631</td><td>1</td><td>1</td><td>&quot;Barkworth, Mr. Algernon Henry …</td><td>&quot;male&quot;</td><td>80.0</td><td>0</td><td>0</td><td>&quot;27042&quot;</td><td>30.0</td><td>&quot;A23&quot;</td><td>&quot;S&quot;</td></tr></tbody></table></div>"
      ],
      "text/plain": [
       "shape: (891, 12)\n",
       "┌─────────────┬──────────┬────────┬─────────────────────────────────┬───┬────────┬────────┬───────┬──────────┐\n",
       "│ PassengerId ┆ Survived ┆ Pclass ┆ Name                            ┆ … ┆ Ticket ┆ Fare   ┆ Cabin ┆ Embarked │\n",
       "│ ---         ┆ ---      ┆ ---    ┆ ---                             ┆   ┆ ---    ┆ ---    ┆ ---   ┆ ---      │\n",
       "│ i64         ┆ i64      ┆ i64    ┆ str                             ┆   ┆ str    ┆ f64    ┆ str   ┆ str      │\n",
       "╞═════════════╪══════════╪════════╪═════════════════════════════════╪═══╪════════╪════════╪═══════╪══════════╡\n",
       "│ 6           ┆ 0        ┆ 3      ┆ Moran, Mr. James                ┆ … ┆ 330877 ┆ 8.4583 ┆ null  ┆ Q        │\n",
       "│ 18          ┆ 1        ┆ 2      ┆ Williams, Mr. Charles Eugene    ┆ … ┆ 244373 ┆ 13.0   ┆ null  ┆ S        │\n",
       "│ …           ┆ …        ┆ …      ┆ …                               ┆ … ┆ …      ┆ …      ┆ …     ┆ …        │\n",
       "│ 852         ┆ 0        ┆ 3      ┆ Svensson, Mr. Johan             ┆ … ┆ 347060 ┆ 7.775  ┆ null  ┆ S        │\n",
       "│ 631         ┆ 1        ┆ 1      ┆ Barkworth, Mr. Algernon Henry … ┆ … ┆ 27042  ┆ 30.0   ┆ A23   ┆ S        │\n",
       "└─────────────┴──────────┴────────┴─────────────────────────────────┴───┴────────┴────────┴───────┴──────────┘"
      ]
     },
     "execution_count": 52,
     "metadata": {},
     "output_type": "execute_result"
    }
   ],
   "source": [
    "df.sort(\"Age\")"
   ]
  },
  {
   "cell_type": "code",
   "execution_count": 53,
   "id": "ca977600-8fda-4e94-a462-9dce531b4bdd",
   "metadata": {},
   "outputs": [
    {
     "data": {
      "text/html": [
       "<div><style>\n",
       ".dataframe > thead > tr,\n",
       ".dataframe > tbody > tr {\n",
       "  text-align: right;\n",
       "  white-space: pre-wrap;\n",
       "}\n",
       "</style>\n",
       "<small>shape: (891, 12)</small><table border=\"1\" class=\"dataframe\"><thead><tr><th>PassengerId</th><th>Survived</th><th>Pclass</th><th>Name</th><th>Sex</th><th>Age</th><th>SibSp</th><th>Parch</th><th>Ticket</th><th>Fare</th><th>Cabin</th><th>Embarked</th></tr><tr><td>i64</td><td>i64</td><td>i64</td><td>str</td><td>str</td><td>f64</td><td>i64</td><td>i64</td><td>str</td><td>f64</td><td>str</td><td>str</td></tr></thead><tbody><tr><td>296</td><td>0</td><td>1</td><td>&quot;Lewy, Mr. Ervin G&quot;</td><td>&quot;male&quot;</td><td>null</td><td>0</td><td>0</td><td>&quot;PC 17612&quot;</td><td>27.7208</td><td>null</td><td>&quot;C&quot;</td></tr><tr><td>603</td><td>0</td><td>1</td><td>&quot;Harrington, Mr. Charles H&quot;</td><td>&quot;male&quot;</td><td>null</td><td>0</td><td>0</td><td>&quot;113796&quot;</td><td>42.4</td><td>null</td><td>&quot;S&quot;</td></tr><tr><td>&hellip;</td><td>&hellip;</td><td>&hellip;</td><td>&hellip;</td><td>&hellip;</td><td>&hellip;</td><td>&hellip;</td><td>&hellip;</td><td>&hellip;</td><td>&hellip;</td><td>&hellip;</td><td>&hellip;</td></tr><tr><td>117</td><td>0</td><td>3</td><td>&quot;Connors, Mr. Patrick&quot;</td><td>&quot;male&quot;</td><td>70.5</td><td>0</td><td>0</td><td>&quot;370369&quot;</td><td>7.75</td><td>null</td><td>&quot;Q&quot;</td></tr><tr><td>852</td><td>0</td><td>3</td><td>&quot;Svensson, Mr. Johan&quot;</td><td>&quot;male&quot;</td><td>74.0</td><td>0</td><td>0</td><td>&quot;347060&quot;</td><td>7.775</td><td>null</td><td>&quot;S&quot;</td></tr></tbody></table></div>"
      ],
      "text/plain": [
       "shape: (891, 12)\n",
       "┌─────────────┬──────────┬────────┬───────────────────────────┬───┬──────────┬─────────┬───────┬──────────┐\n",
       "│ PassengerId ┆ Survived ┆ Pclass ┆ Name                      ┆ … ┆ Ticket   ┆ Fare    ┆ Cabin ┆ Embarked │\n",
       "│ ---         ┆ ---      ┆ ---    ┆ ---                       ┆   ┆ ---      ┆ ---     ┆ ---   ┆ ---      │\n",
       "│ i64         ┆ i64      ┆ i64    ┆ str                       ┆   ┆ str      ┆ f64     ┆ str   ┆ str      │\n",
       "╞═════════════╪══════════╪════════╪═══════════════════════════╪═══╪══════════╪═════════╪═══════╪══════════╡\n",
       "│ 296         ┆ 0        ┆ 1      ┆ Lewy, Mr. Ervin G         ┆ … ┆ PC 17612 ┆ 27.7208 ┆ null  ┆ C        │\n",
       "│ 603         ┆ 0        ┆ 1      ┆ Harrington, Mr. Charles H ┆ … ┆ 113796   ┆ 42.4    ┆ null  ┆ S        │\n",
       "│ …           ┆ …        ┆ …      ┆ …                         ┆ … ┆ …        ┆ …       ┆ …     ┆ …        │\n",
       "│ 117         ┆ 0        ┆ 3      ┆ Connors, Mr. Patrick      ┆ … ┆ 370369   ┆ 7.75    ┆ null  ┆ Q        │\n",
       "│ 852         ┆ 0        ┆ 3      ┆ Svensson, Mr. Johan       ┆ … ┆ 347060   ┆ 7.775   ┆ null  ┆ S        │\n",
       "└─────────────┴──────────┴────────┴───────────────────────────┴───┴──────────┴─────────┴───────┴──────────┘"
      ]
     },
     "execution_count": 53,
     "metadata": {},
     "output_type": "execute_result"
    }
   ],
   "source": [
    "df.sort([\"Pclass\", \"Age\"])"
   ]
  },
  {
   "cell_type": "code",
   "execution_count": 54,
   "id": "dfa3b399-ef3c-4de0-bd6d-1cd296caf603",
   "metadata": {},
   "outputs": [
    {
     "data": {
      "text/html": [
       "<div><style>\n",
       ".dataframe > thead > tr,\n",
       ".dataframe > tbody > tr {\n",
       "  text-align: right;\n",
       "  white-space: pre-wrap;\n",
       "}\n",
       "</style>\n",
       "<small>shape: (891, 12)</small><table border=\"1\" class=\"dataframe\"><thead><tr><th>PassengerId</th><th>Survived</th><th>Pclass</th><th>Name</th><th>Sex</th><th>Age</th><th>SibSp</th><th>Parch</th><th>Ticket</th><th>Fare</th><th>Cabin</th><th>Embarked</th></tr><tr><td>i64</td><td>i64</td><td>i64</td><td>str</td><td>str</td><td>f64</td><td>i64</td><td>i64</td><td>str</td><td>f64</td><td>str</td><td>str</td></tr></thead><tbody><tr><td>1</td><td>0</td><td>1</td><td>&quot;Abbing, Mr. Anthony&quot;</td><td>&quot;female&quot;</td><td>null</td><td>0</td><td>0</td><td>&quot;110152&quot;</td><td>0.0</td><td>null</td><td>null</td></tr><tr><td>2</td><td>0</td><td>1</td><td>&quot;Abbott, Mr. Rossmore Edward&quot;</td><td>&quot;female&quot;</td><td>null</td><td>0</td><td>0</td><td>&quot;110152&quot;</td><td>0.0</td><td>null</td><td>null</td></tr><tr><td>&hellip;</td><td>&hellip;</td><td>&hellip;</td><td>&hellip;</td><td>&hellip;</td><td>&hellip;</td><td>&hellip;</td><td>&hellip;</td><td>&hellip;</td><td>&hellip;</td><td>&hellip;</td><td>&hellip;</td></tr><tr><td>890</td><td>1</td><td>3</td><td>&quot;van Billiard, Mr. Austin Blyle…</td><td>&quot;male&quot;</td><td>74.0</td><td>8</td><td>5</td><td>&quot;WE/P 5735&quot;</td><td>512.3292</td><td>&quot;G6&quot;</td><td>&quot;S&quot;</td></tr><tr><td>891</td><td>1</td><td>3</td><td>&quot;van Melkebeke, Mr. Philemon&quot;</td><td>&quot;male&quot;</td><td>80.0</td><td>8</td><td>6</td><td>&quot;WE/P 5735&quot;</td><td>512.3292</td><td>&quot;T&quot;</td><td>&quot;S&quot;</td></tr></tbody></table></div>"
      ],
      "text/plain": [
       "shape: (891, 12)\n",
       "┌─────────────┬──────────┬────────┬─────────────────────────────────┬───┬───────────┬──────────┬───────┬──────────┐\n",
       "│ PassengerId ┆ Survived ┆ Pclass ┆ Name                            ┆ … ┆ Ticket    ┆ Fare     ┆ Cabin ┆ Embarked │\n",
       "│ ---         ┆ ---      ┆ ---    ┆ ---                             ┆   ┆ ---       ┆ ---      ┆ ---   ┆ ---      │\n",
       "│ i64         ┆ i64      ┆ i64    ┆ str                             ┆   ┆ str       ┆ f64      ┆ str   ┆ str      │\n",
       "╞═════════════╪══════════╪════════╪═════════════════════════════════╪═══╪═══════════╪══════════╪═══════╪══════════╡\n",
       "│ 1           ┆ 0        ┆ 1      ┆ Abbing, Mr. Anthony             ┆ … ┆ 110152    ┆ 0.0      ┆ null  ┆ null     │\n",
       "│ 2           ┆ 0        ┆ 1      ┆ Abbott, Mr. Rossmore Edward     ┆ … ┆ 110152    ┆ 0.0      ┆ null  ┆ null     │\n",
       "│ …           ┆ …        ┆ …      ┆ …                               ┆ … ┆ …         ┆ …        ┆ …     ┆ …        │\n",
       "│ 890         ┆ 1        ┆ 3      ┆ van Billiard, Mr. Austin Blyle… ┆ … ┆ WE/P 5735 ┆ 512.3292 ┆ G6    ┆ S        │\n",
       "│ 891         ┆ 1        ┆ 3      ┆ van Melkebeke, Mr. Philemon     ┆ … ┆ WE/P 5735 ┆ 512.3292 ┆ T     ┆ S        │\n",
       "└─────────────┴──────────┴────────┴─────────────────────────────────┴───┴───────────┴──────────┴───────┴──────────┘"
      ]
     },
     "execution_count": 54,
     "metadata": {},
     "output_type": "execute_result"
    }
   ],
   "source": [
    "(\n",
    "    df\n",
    "    .select(\n",
    "        pl.all().sort()\n",
    "    )\n",
    ")"
   ]
  },
  {
   "cell_type": "code",
   "execution_count": 55,
   "id": "fcf8997e-94cf-4904-9222-361c344ad6f2",
   "metadata": {},
   "outputs": [
    {
     "data": {
      "text/plain": [
       "{'SORTED_ASC': False, 'SORTED_DESC': False}"
      ]
     },
     "execution_count": 55,
     "metadata": {},
     "output_type": "execute_result"
    }
   ],
   "source": [
    "df[\"PassengerId\"].flags"
   ]
  },
  {
   "cell_type": "code",
   "execution_count": 56,
   "id": "d4fd44f4-14af-4c8e-af6a-13ec59ac9a9b",
   "metadata": {},
   "outputs": [
    {
     "data": {
      "text/plain": [
       "{'SORTED_ASC': True, 'SORTED_DESC': False}"
      ]
     },
     "execution_count": 56,
     "metadata": {},
     "output_type": "execute_result"
    }
   ],
   "source": [
    "df = (\n",
    "    pl.read_csv(csvFile)\n",
    "    .with_columns(\n",
    "        pl.col(\"PassengerId\").set_sorted()\n",
    "    )\n",
    ")\n",
    "df[\"PassengerId\"].flags"
   ]
  },
  {
   "cell_type": "code",
   "execution_count": 57,
   "id": "20c9c8f4-d0f5-4956-88f7-6478b329de12",
   "metadata": {},
   "outputs": [
    {
     "data": {
      "text/plain": [
       "{'SORTED_ASC': True, 'SORTED_DESC': False}"
      ]
     },
     "execution_count": 57,
     "metadata": {},
     "output_type": "execute_result"
    }
   ],
   "source": [
    "df = (\n",
    "    pl.read_csv(csvFile)\n",
    "    .sort(\"PassengerId\")\n",
    ")\n",
    "df[\"PassengerId\"].flags"
   ]
  },
  {
   "cell_type": "code",
   "execution_count": 58,
   "id": "3b03f79c-d419-42fe-a23e-39cfc4bb7e70",
   "metadata": {},
   "outputs": [
    {
     "data": {
      "text/html": [
       "<div><style>\n",
       ".dataframe > thead > tr,\n",
       ".dataframe > tbody > tr {\n",
       "  text-align: right;\n",
       "  white-space: pre-wrap;\n",
       "}\n",
       "</style>\n",
       "<small>shape: (1, 1)</small><table border=\"1\" class=\"dataframe\"><thead><tr><th>PassengerId</th></tr><tr><td>i64</td></tr></thead><tbody><tr><td>891</td></tr></tbody></table></div>"
      ],
      "text/plain": [
       "shape: (1, 1)\n",
       "┌─────────────┐\n",
       "│ PassengerId │\n",
       "│ ---         │\n",
       "│ i64         │\n",
       "╞═════════════╡\n",
       "│ 891         │\n",
       "└─────────────┘"
      ]
     },
     "execution_count": 58,
     "metadata": {},
     "output_type": "execute_result"
    }
   ],
   "source": [
    "(\n",
    "    df\n",
    "    .select(\n",
    "        pl.col(\"PassengerId\").set_sorted().max()\n",
    "    )\n",
    ")"
   ]
  },
  {
   "cell_type": "code",
   "execution_count": 59,
   "id": "93cedb05-0fd4-4074-8119-dcd35b44f2a8",
   "metadata": {},
   "outputs": [
    {
     "data": {
      "text/html": [
       "<div><style>\n",
       ".dataframe > thead > tr,\n",
       ".dataframe > tbody > tr {\n",
       "  text-align: right;\n",
       "  white-space: pre-wrap;\n",
       "}\n",
       "</style>\n",
       "<small>shape: (2, 12)</small><table border=\"1\" class=\"dataframe\"><thead><tr><th>PassengerId</th><th>Survived</th><th>Pclass</th><th>Name</th><th>Sex</th><th>Age</th><th>SibSp</th><th>Parch</th><th>Ticket</th><th>Fare</th><th>Cabin</th><th>Embarked</th></tr><tr><td>i64</td><td>i64</td><td>i64</td><td>str</td><td>str</td><td>f64</td><td>i64</td><td>i64</td><td>str</td><td>f64</td><td>str</td><td>str</td></tr></thead><tbody><tr><td>1</td><td>0</td><td>3</td><td>&quot;Braund, Mr. Owen Harris&quot;</td><td>&quot;male&quot;</td><td>22.0</td><td>1</td><td>0</td><td>&quot;A/5 21171&quot;</td><td>7.25</td><td>null</td><td>&quot;S&quot;</td></tr><tr><td>2</td><td>1</td><td>1</td><td>&quot;Cumings, Mrs. John Bradley (Fl…</td><td>&quot;female&quot;</td><td>38.0</td><td>1</td><td>0</td><td>&quot;PC 17599&quot;</td><td>71.2833</td><td>&quot;C85&quot;</td><td>&quot;C&quot;</td></tr></tbody></table></div>"
      ],
      "text/plain": [
       "shape: (2, 12)\n",
       "┌─────────────┬──────────┬────────┬─────────────────────────────────┬───┬───────────┬─────────┬───────┬──────────┐\n",
       "│ PassengerId ┆ Survived ┆ Pclass ┆ Name                            ┆ … ┆ Ticket    ┆ Fare    ┆ Cabin ┆ Embarked │\n",
       "│ ---         ┆ ---      ┆ ---    ┆ ---                             ┆   ┆ ---       ┆ ---     ┆ ---   ┆ ---      │\n",
       "│ i64         ┆ i64      ┆ i64    ┆ str                             ┆   ┆ str       ┆ f64     ┆ str   ┆ str      │\n",
       "╞═════════════╪══════════╪════════╪═════════════════════════════════╪═══╪═══════════╪═════════╪═══════╪══════════╡\n",
       "│ 1           ┆ 0        ┆ 3      ┆ Braund, Mr. Owen Harris         ┆ … ┆ A/5 21171 ┆ 7.25    ┆ null  ┆ S        │\n",
       "│ 2           ┆ 1        ┆ 1      ┆ Cumings, Mrs. John Bradley (Fl… ┆ … ┆ PC 17599  ┆ 71.2833 ┆ C85   ┆ C        │\n",
       "└─────────────┴──────────┴────────┴─────────────────────────────────┴───┴───────────┴─────────┴───────┴──────────┘"
      ]
     },
     "execution_count": 59,
     "metadata": {},
     "output_type": "execute_result"
    }
   ],
   "source": [
    "pl.Config.set_tbl_rows(6)\n",
    "df = pl.read_csv(csvFile)\n",
    "df.head(2)"
   ]
  },
  {
   "cell_type": "code",
   "execution_count": 60,
   "id": "c3a1ecb4-cdd0-4479-9bad-a49213a27076",
   "metadata": {},
   "outputs": [
    {
     "data": {
      "text/html": [
       "<div><style>\n",
       ".dataframe > thead > tr,\n",
       ".dataframe > tbody > tr {\n",
       "  text-align: right;\n",
       "  white-space: pre-wrap;\n",
       "}\n",
       "</style>\n",
       "<small>shape: (2, 12)</small><table border=\"1\" class=\"dataframe\"><thead><tr><th>ID</th><th>Survived</th><th>Pclass</th><th>Name</th><th>Sex</th><th>Age</th><th>SibSp</th><th>Parch</th><th>Ticket</th><th>Fare</th><th>Cabin</th><th>Embarked</th></tr><tr><td>i64</td><td>i64</td><td>i64</td><td>str</td><td>str</td><td>f64</td><td>i64</td><td>i64</td><td>str</td><td>f64</td><td>str</td><td>str</td></tr></thead><tbody><tr><td>1</td><td>0</td><td>3</td><td>&quot;Braund, Mr. Owen Harris&quot;</td><td>&quot;male&quot;</td><td>22.0</td><td>1</td><td>0</td><td>&quot;A/5 21171&quot;</td><td>7.25</td><td>null</td><td>&quot;S&quot;</td></tr><tr><td>2</td><td>1</td><td>1</td><td>&quot;Cumings, Mrs. John Bradley (Fl…</td><td>&quot;female&quot;</td><td>38.0</td><td>1</td><td>0</td><td>&quot;PC 17599&quot;</td><td>71.2833</td><td>&quot;C85&quot;</td><td>&quot;C&quot;</td></tr></tbody></table></div>"
      ],
      "text/plain": [
       "shape: (2, 12)\n",
       "┌─────┬──────────┬────────┬─────────────────────────────────┬───┬───────────┬─────────┬───────┬──────────┐\n",
       "│ ID  ┆ Survived ┆ Pclass ┆ Name                            ┆ … ┆ Ticket    ┆ Fare    ┆ Cabin ┆ Embarked │\n",
       "│ --- ┆ ---      ┆ ---    ┆ ---                             ┆   ┆ ---       ┆ ---     ┆ ---   ┆ ---      │\n",
       "│ i64 ┆ i64      ┆ i64    ┆ str                             ┆   ┆ str       ┆ f64     ┆ str   ┆ str      │\n",
       "╞═════╪══════════╪════════╪═════════════════════════════════╪═══╪═══════════╪═════════╪═══════╪══════════╡\n",
       "│ 1   ┆ 0        ┆ 3      ┆ Braund, Mr. Owen Harris         ┆ … ┆ A/5 21171 ┆ 7.25    ┆ null  ┆ S        │\n",
       "│ 2   ┆ 1        ┆ 1      ┆ Cumings, Mrs. John Bradley (Fl… ┆ … ┆ PC 17599  ┆ 71.2833 ┆ C85   ┆ C        │\n",
       "└─────┴──────────┴────────┴─────────────────────────────────┴───┴───────────┴─────────┴───────┴──────────┘"
      ]
     },
     "execution_count": 60,
     "metadata": {},
     "output_type": "execute_result"
    }
   ],
   "source": [
    "(\n",
    "    df\n",
    "    .rename({\"PassengerId\": \"ID\"})\n",
    "    .head(2)\n",
    ")"
   ]
  },
  {
   "cell_type": "code",
   "execution_count": 61,
   "id": "66feebf4-126e-48ee-b13b-e0a858272f01",
   "metadata": {},
   "outputs": [
    {
     "data": {
      "text/html": [
       "<div><style>\n",
       ".dataframe > thead > tr,\n",
       ".dataframe > tbody > tr {\n",
       "  text-align: right;\n",
       "  white-space: pre-wrap;\n",
       "}\n",
       "</style>\n",
       "<small>shape: (2, 10)</small><table border=\"1\" class=\"dataframe\"><thead><tr><th>Survived</th><th>Name</th><th>Sex</th><th>Age</th><th>SibSp</th><th>Parch</th><th>Ticket</th><th>Fare</th><th>Cabin</th><th>Embarked</th></tr><tr><td>i64</td><td>str</td><td>str</td><td>f64</td><td>i64</td><td>i64</td><td>str</td><td>f64</td><td>str</td><td>str</td></tr></thead><tbody><tr><td>0</td><td>&quot;Braund, Mr. Owen Harris&quot;</td><td>&quot;male&quot;</td><td>22.0</td><td>1</td><td>0</td><td>&quot;A/5 21171&quot;</td><td>7.25</td><td>null</td><td>&quot;S&quot;</td></tr><tr><td>1</td><td>&quot;Cumings, Mrs. John Bradley (Fl…</td><td>&quot;female&quot;</td><td>38.0</td><td>1</td><td>0</td><td>&quot;PC 17599&quot;</td><td>71.2833</td><td>&quot;C85&quot;</td><td>&quot;C&quot;</td></tr></tbody></table></div>"
      ],
      "text/plain": [
       "shape: (2, 10)\n",
       "┌──────────┬─────────────────────────────────┬────────┬──────┬───┬───────────┬─────────┬───────┬──────────┐\n",
       "│ Survived ┆ Name                            ┆ Sex    ┆ Age  ┆ … ┆ Ticket    ┆ Fare    ┆ Cabin ┆ Embarked │\n",
       "│ ---      ┆ ---                             ┆ ---    ┆ ---  ┆   ┆ ---       ┆ ---     ┆ ---   ┆ ---      │\n",
       "│ i64      ┆ str                             ┆ str    ┆ f64  ┆   ┆ str       ┆ f64     ┆ str   ┆ str      │\n",
       "╞══════════╪═════════════════════════════════╪════════╪══════╪═══╪═══════════╪═════════╪═══════╪══════════╡\n",
       "│ 0        ┆ Braund, Mr. Owen Harris         ┆ male   ┆ 22.0 ┆ … ┆ A/5 21171 ┆ 7.25    ┆ null  ┆ S        │\n",
       "│ 1        ┆ Cumings, Mrs. John Bradley (Fl… ┆ female ┆ 38.0 ┆ … ┆ PC 17599  ┆ 71.2833 ┆ C85   ┆ C        │\n",
       "└──────────┴─────────────────────────────────┴────────┴──────┴───┴───────────┴─────────┴───────┴──────────┘"
      ]
     },
     "execution_count": 61,
     "metadata": {},
     "output_type": "execute_result"
    }
   ],
   "source": [
    "(\n",
    "    df\n",
    "    .drop([\"PassengerId\", \"Pclass\"])\n",
    "    .head(2)\n",
    ")"
   ]
  },
  {
   "cell_type": "code",
   "execution_count": 62,
   "id": "09b4596d-f81f-41ab-a008-f4cff49e92f2",
   "metadata": {},
   "outputs": [
    {
     "data": {
      "text/html": [
       "<div><style>\n",
       ".dataframe > thead > tr,\n",
       ".dataframe > tbody > tr {\n",
       "  text-align: right;\n",
       "  white-space: pre-wrap;\n",
       "}\n",
       "</style>\n",
       "<small>shape: (891, 12)</small><table border=\"1\" class=\"dataframe\"><thead><tr><th>Age</th><th>Cabin</th><th>Embarked</th><th>Fare</th><th>Name</th><th>Parch</th><th>PassengerId</th><th>Pclass</th><th>Sex</th><th>SibSp</th><th>Survived</th><th>Ticket</th></tr><tr><td>f64</td><td>str</td><td>str</td><td>f64</td><td>str</td><td>i64</td><td>i64</td><td>i64</td><td>str</td><td>i64</td><td>i64</td><td>str</td></tr></thead><tbody><tr><td>22.0</td><td>null</td><td>&quot;S&quot;</td><td>7.25</td><td>&quot;Braund, Mr. Owen Harris&quot;</td><td>0</td><td>1</td><td>3</td><td>&quot;male&quot;</td><td>1</td><td>0</td><td>&quot;A/5 21171&quot;</td></tr><tr><td>38.0</td><td>&quot;C85&quot;</td><td>&quot;C&quot;</td><td>71.2833</td><td>&quot;Cumings, Mrs. John Bradley (Fl…</td><td>0</td><td>2</td><td>1</td><td>&quot;female&quot;</td><td>1</td><td>1</td><td>&quot;PC 17599&quot;</td></tr><tr><td>26.0</td><td>null</td><td>&quot;S&quot;</td><td>7.925</td><td>&quot;Heikkinen, Miss. Laina&quot;</td><td>0</td><td>3</td><td>3</td><td>&quot;female&quot;</td><td>0</td><td>1</td><td>&quot;STON/O2. 3101282&quot;</td></tr><tr><td>&hellip;</td><td>&hellip;</td><td>&hellip;</td><td>&hellip;</td><td>&hellip;</td><td>&hellip;</td><td>&hellip;</td><td>&hellip;</td><td>&hellip;</td><td>&hellip;</td><td>&hellip;</td><td>&hellip;</td></tr><tr><td>null</td><td>null</td><td>&quot;S&quot;</td><td>23.45</td><td>&quot;Johnston, Miss. Catherine Hele…</td><td>2</td><td>889</td><td>3</td><td>&quot;female&quot;</td><td>1</td><td>0</td><td>&quot;W./C. 6607&quot;</td></tr><tr><td>26.0</td><td>&quot;C148&quot;</td><td>&quot;C&quot;</td><td>30.0</td><td>&quot;Behr, Mr. Karl Howell&quot;</td><td>0</td><td>890</td><td>1</td><td>&quot;male&quot;</td><td>0</td><td>1</td><td>&quot;111369&quot;</td></tr><tr><td>32.0</td><td>null</td><td>&quot;Q&quot;</td><td>7.75</td><td>&quot;Dooley, Mr. Patrick&quot;</td><td>0</td><td>891</td><td>3</td><td>&quot;male&quot;</td><td>0</td><td>0</td><td>&quot;370376&quot;</td></tr></tbody></table></div>"
      ],
      "text/plain": [
       "shape: (891, 12)\n",
       "┌──────┬───────┬──────────┬─────────┬───┬────────┬───────┬──────────┬──────────────────┐\n",
       "│ Age  ┆ Cabin ┆ Embarked ┆ Fare    ┆ … ┆ Sex    ┆ SibSp ┆ Survived ┆ Ticket           │\n",
       "│ ---  ┆ ---   ┆ ---      ┆ ---     ┆   ┆ ---    ┆ ---   ┆ ---      ┆ ---              │\n",
       "│ f64  ┆ str   ┆ str      ┆ f64     ┆   ┆ str    ┆ i64   ┆ i64      ┆ str              │\n",
       "╞══════╪═══════╪══════════╪═════════╪═══╪════════╪═══════╪══════════╪══════════════════╡\n",
       "│ 22.0 ┆ null  ┆ S        ┆ 7.25    ┆ … ┆ male   ┆ 1     ┆ 0        ┆ A/5 21171        │\n",
       "│ 38.0 ┆ C85   ┆ C        ┆ 71.2833 ┆ … ┆ female ┆ 1     ┆ 1        ┆ PC 17599         │\n",
       "│ 26.0 ┆ null  ┆ S        ┆ 7.925   ┆ … ┆ female ┆ 0     ┆ 1        ┆ STON/O2. 3101282 │\n",
       "│ …    ┆ …     ┆ …        ┆ …       ┆ … ┆ …      ┆ …     ┆ …        ┆ …                │\n",
       "│ null ┆ null  ┆ S        ┆ 23.45   ┆ … ┆ female ┆ 1     ┆ 0        ┆ W./C. 6607       │\n",
       "│ 26.0 ┆ C148  ┆ C        ┆ 30.0    ┆ … ┆ male   ┆ 0     ┆ 1        ┆ 111369           │\n",
       "│ 32.0 ┆ null  ┆ Q        ┆ 7.75    ┆ … ┆ male   ┆ 0     ┆ 0        ┆ 370376           │\n",
       "└──────┴───────┴──────────┴─────────┴───┴────────┴───────┴──────────┴──────────────────┘"
      ]
     },
     "execution_count": 62,
     "metadata": {},
     "output_type": "execute_result"
    }
   ],
   "source": [
    "(\n",
    "    df\n",
    "    .select(sorted(df.columns))\n",
    ")"
   ]
  },
  {
   "cell_type": "code",
   "execution_count": 63,
   "id": "ba65d16e-3a11-496d-95ce-07f0eb4a6a8f",
   "metadata": {},
   "outputs": [
    {
     "data": {
      "text/html": [
       "<div><style>\n",
       ".dataframe > thead > tr,\n",
       ".dataframe > tbody > tr {\n",
       "  text-align: right;\n",
       "  white-space: pre-wrap;\n",
       "}\n",
       "</style>\n",
       "<small>shape: (891, 12)</small><table border=\"1\" class=\"dataframe\"><thead><tr><th>PassengerId</th><th>Survived</th><th>Pclass</th><th>Name</th><th>Sex</th><th>Age</th><th>SibSp</th><th>Parch</th><th>Ticket</th><th>Fare</th><th>Cabin</th><th>Embarked</th></tr><tr><td>i64</td><td>i64</td><td>i64</td><td>str</td><td>str</td><td>f64</td><td>i64</td><td>i64</td><td>str</td><td>f64</td><td>str</td><td>str</td></tr></thead><tbody><tr><td>1</td><td>0</td><td>3</td><td>&quot;BRAUND, MR. OWEN HARRIS&quot;</td><td>&quot;MALE&quot;</td><td>22.0</td><td>1</td><td>0</td><td>&quot;A/5 21171&quot;</td><td>7.25</td><td>null</td><td>&quot;S&quot;</td></tr><tr><td>2</td><td>1</td><td>1</td><td>&quot;CUMINGS, MRS. JOHN BRADLEY (FL…</td><td>&quot;FEMALE&quot;</td><td>38.0</td><td>1</td><td>0</td><td>&quot;PC 17599&quot;</td><td>71.2833</td><td>&quot;C85&quot;</td><td>&quot;C&quot;</td></tr><tr><td>3</td><td>1</td><td>3</td><td>&quot;HEIKKINEN, MISS. LAINA&quot;</td><td>&quot;FEMALE&quot;</td><td>26.0</td><td>0</td><td>0</td><td>&quot;STON/O2. 3101282&quot;</td><td>7.925</td><td>null</td><td>&quot;S&quot;</td></tr><tr><td>&hellip;</td><td>&hellip;</td><td>&hellip;</td><td>&hellip;</td><td>&hellip;</td><td>&hellip;</td><td>&hellip;</td><td>&hellip;</td><td>&hellip;</td><td>&hellip;</td><td>&hellip;</td><td>&hellip;</td></tr><tr><td>889</td><td>0</td><td>3</td><td>&quot;JOHNSTON, MISS. CATHERINE HELE…</td><td>&quot;FEMALE&quot;</td><td>null</td><td>1</td><td>2</td><td>&quot;W./C. 6607&quot;</td><td>23.45</td><td>null</td><td>&quot;S&quot;</td></tr><tr><td>890</td><td>1</td><td>1</td><td>&quot;BEHR, MR. KARL HOWELL&quot;</td><td>&quot;MALE&quot;</td><td>26.0</td><td>0</td><td>0</td><td>&quot;111369&quot;</td><td>30.0</td><td>&quot;C148&quot;</td><td>&quot;C&quot;</td></tr><tr><td>891</td><td>0</td><td>3</td><td>&quot;DOOLEY, MR. PATRICK&quot;</td><td>&quot;MALE&quot;</td><td>32.0</td><td>0</td><td>0</td><td>&quot;370376&quot;</td><td>7.75</td><td>null</td><td>&quot;Q&quot;</td></tr></tbody></table></div>"
      ],
      "text/plain": [
       "shape: (891, 12)\n",
       "┌─────────────┬──────────┬────────┬─────────────────────────────────┬───┬──────────────────┬─────────┬───────┬──────────┐\n",
       "│ PassengerId ┆ Survived ┆ Pclass ┆ Name                            ┆ … ┆ Ticket           ┆ Fare    ┆ Cabin ┆ Embarked │\n",
       "│ ---         ┆ ---      ┆ ---    ┆ ---                             ┆   ┆ ---              ┆ ---     ┆ ---   ┆ ---      │\n",
       "│ i64         ┆ i64      ┆ i64    ┆ str                             ┆   ┆ str              ┆ f64     ┆ str   ┆ str      │\n",
       "╞═════════════╪══════════╪════════╪═════════════════════════════════╪═══╪══════════════════╪═════════╪═══════╪══════════╡\n",
       "│ 1           ┆ 0        ┆ 3      ┆ BRAUND, MR. OWEN HARRIS         ┆ … ┆ A/5 21171        ┆ 7.25    ┆ null  ┆ S        │\n",
       "│ 2           ┆ 1        ┆ 1      ┆ CUMINGS, MRS. JOHN BRADLEY (FL… ┆ … ┆ PC 17599         ┆ 71.2833 ┆ C85   ┆ C        │\n",
       "│ 3           ┆ 1        ┆ 3      ┆ HEIKKINEN, MISS. LAINA          ┆ … ┆ STON/O2. 3101282 ┆ 7.925   ┆ null  ┆ S        │\n",
       "│ …           ┆ …        ┆ …      ┆ …                               ┆ … ┆ …                ┆ …       ┆ …     ┆ …        │\n",
       "│ 889         ┆ 0        ┆ 3      ┆ JOHNSTON, MISS. CATHERINE HELE… ┆ … ┆ W./C. 6607       ┆ 23.45   ┆ null  ┆ S        │\n",
       "│ 890         ┆ 1        ┆ 1      ┆ BEHR, MR. KARL HOWELL           ┆ … ┆ 111369           ┆ 30.0    ┆ C148  ┆ C        │\n",
       "│ 891         ┆ 0        ┆ 3      ┆ DOOLEY, MR. PATRICK             ┆ … ┆ 370376           ┆ 7.75    ┆ null  ┆ Q        │\n",
       "└─────────────┴──────────┴────────┴─────────────────────────────────┴───┴──────────────────┴─────────┴───────┴──────────┘"
      ]
     },
     "execution_count": 63,
     "metadata": {},
     "output_type": "execute_result"
    }
   ],
   "source": [
    "def uppercase_all_strings(df):\n",
    "    return (\n",
    "        df\n",
    "        .with_columns(\n",
    "            pl.col(pl.Utf8).str.to_uppercase()\n",
    "        )\n",
    "    )\n",
    "\n",
    "(\n",
    "    df\n",
    "    .pipe(uppercase_all_strings)\n",
    ")"
   ]
  },
  {
   "cell_type": "code",
   "execution_count": 64,
   "id": "a8def98f-0eb8-4e12-8793-a8818a89e28d",
   "metadata": {},
   "outputs": [
    {
     "name": "stderr",
     "output_type": "stream",
     "text": [
      "C:\\Users\\yk279\\AppData\\Local\\Temp\\ipykernel_37364\\552579819.py:4: PerformanceWarning: Determining the column names of a LazyFrame requires resolving its schema, which is a potentially expensive operation. Use `LazyFrame.collect_schema().names()` to get the column names without this warning.\n",
      "  lambda temp_df: temp_df.select(sorted(temp_df.columns))\n",
      "C:\\Users\\yk279\\AppData\\Local\\Temp\\ipykernel_37364\\552579819.py:6: PerformanceWarning: Determining the column names of a LazyFrame requires resolving its schema, which is a potentially expensive operation. Use `LazyFrame.collect_schema().names()` to get the column names without this warning.\n",
      "  .columns\n"
     ]
    },
    {
     "data": {
      "text/plain": [
       "['Age',\n",
       " 'Cabin',\n",
       " 'Embarked',\n",
       " 'Fare',\n",
       " 'Name',\n",
       " 'Parch',\n",
       " 'PassengerId',\n",
       " 'Pclass',\n",
       " 'Sex',\n",
       " 'SibSp',\n",
       " 'Survived',\n",
       " 'Ticket']"
      ]
     },
     "execution_count": 64,
     "metadata": {},
     "output_type": "execute_result"
    }
   ],
   "source": [
    "(\n",
    "    pl.scan_csv(csvFile)\n",
    "    .pipe(\n",
    "        lambda temp_df: temp_df.select(sorted(temp_df.columns))\n",
    "    )\n",
    "    .columns\n",
    ")"
   ]
  },
  {
   "cell_type": "code",
   "execution_count": 65,
   "id": "3cad45a0-ca4e-404c-bb07-93eb0e469082",
   "metadata": {},
   "outputs": [
    {
     "name": "stdout",
     "output_type": "stream",
     "text": [
      "simple π 3/3 [\"PassengerId\", \"Pclass\", ... 1 other column]\n",
      "  Csv SCAN [data/titanic.csv] [id: 3973248591248]\n",
      "  PROJECT 3/12 COLUMNS\n"
     ]
    },
    {
     "name": "stderr",
     "output_type": "stream",
     "text": [
      "C:\\Users\\yk279\\AppData\\Local\\Temp\\ipykernel_37364\\38262606.py:4: PerformanceWarning: Determining the column names of a LazyFrame requires resolving its schema, which is a potentially expensive operation. Use `LazyFrame.collect_schema().names()` to get the column names without this warning.\n",
      "  lambda temp_df: temp_df.select(sorted(temp_df.columns[:3]))\n"
     ]
    }
   ],
   "source": [
    "print(\n",
    "    pl.scan_csv(csvFile)\n",
    "    .pipe(\n",
    "        lambda temp_df: temp_df.select(sorted(temp_df.columns[:3]))\n",
    "    )\n",
    "    .explain()\n",
    ")"
   ]
  },
  {
   "cell_type": "code",
   "execution_count": 67,
   "id": "1d8569aa-2cb6-4adc-bf83-a610e19e32c1",
   "metadata": {},
   "outputs": [
    {
     "data": {
      "text/html": [
       "<div><style>\n",
       ".dataframe > thead > tr,\n",
       ".dataframe > tbody > tr {\n",
       "  text-align: right;\n",
       "  white-space: pre-wrap;\n",
       "}\n",
       "</style>\n",
       "<small>shape: (3, 2)</small><table border=\"1\" class=\"dataframe\"><thead><tr><th>Age</th><th>Fare</th></tr><tr><td>f64</td><td>f64</td></tr></thead><tbody><tr><td>66.0</td><td>21.75</td></tr><tr><td>114.0</td><td>213.8499</td></tr><tr><td>78.0</td><td>23.775</td></tr></tbody></table></div>"
      ],
      "text/plain": [
       "shape: (3, 2)\n",
       "┌───────┬──────────┐\n",
       "│ Age   ┆ Fare     │\n",
       "│ ---   ┆ ---      │\n",
       "│ f64   ┆ f64      │\n",
       "╞═══════╪══════════╡\n",
       "│ 66.0  ┆ 21.75    │\n",
       "│ 114.0 ┆ 213.8499 │\n",
       "│ 78.0  ┆ 23.775   │\n",
       "└───────┴──────────┘"
      ]
     },
     "execution_count": 67,
     "metadata": {},
     "output_type": "execute_result"
    }
   ],
   "source": [
    "def _multiply_floats(df, multiplication_factor):\n",
    "    return df.select(\n",
    "        pl.col(pl.Float64)\n",
    "    ) * multiplication_factor\n",
    "\n",
    "\n",
    "(\n",
    "    df\n",
    "    .pipe(\n",
    "        _multiply_floats,\n",
    "        multiplication_factor=3\n",
    "    )\n",
    "    .head(3)\n",
    ")"
   ]
  }
 ],
 "metadata": {
  "kernelspec": {
   "display_name": "Python 3 (ipykernel)",
   "language": "python",
   "name": "python3"
  },
  "language_info": {
   "codemirror_mode": {
    "name": "ipython",
    "version": 3
   },
   "file_extension": ".py",
   "mimetype": "text/x-python",
   "name": "python",
   "nbconvert_exporter": "python",
   "pygments_lexer": "ipython3",
   "version": "3.11.9"
  }
 },
 "nbformat": 4,
 "nbformat_minor": 5
}
