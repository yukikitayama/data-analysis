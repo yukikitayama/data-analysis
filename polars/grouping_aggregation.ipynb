{
 "cells": [
  {
   "cell_type": "markdown",
   "id": "53767c11-bf03-40eb-b44f-91aa3016cc94",
   "metadata": {},
   "source": [
    "# Grouping and Aggregation"
   ]
  },
  {
   "cell_type": "code",
   "execution_count": 40,
   "id": "655be430-c7e1-49fa-9c44-8194c225b0e2",
   "metadata": {},
   "outputs": [],
   "source": [
    "import polars as pl\n",
    "import polars.selectors as cs\n",
    "import plotly.express as ex"
   ]
  },
  {
   "cell_type": "code",
   "execution_count": 2,
   "id": "bf8e24a0-9aec-434b-8a31-b8dfdb806e70",
   "metadata": {},
   "outputs": [],
   "source": [
    "CSV_FILE = \"./data/titanic.csv\""
   ]
  },
  {
   "cell_type": "markdown",
   "id": "8ea62a94-8fd0-455c-b73f-1f2122fba8e0",
   "metadata": {},
   "source": [
    "# Statistics"
   ]
  },
  {
   "cell_type": "code",
   "execution_count": 3,
   "id": "212d91dd-6ca6-4424-bf61-007646aa373c",
   "metadata": {},
   "outputs": [
    {
     "data": {
      "text/html": [
       "<div><style>\n",
       ".dataframe > thead > tr,\n",
       ".dataframe > tbody > tr {\n",
       "  text-align: right;\n",
       "  white-space: pre-wrap;\n",
       "}\n",
       "</style>\n",
       "<small>shape: (3, 12)</small><table border=\"1\" class=\"dataframe\"><thead><tr><th>PassengerId</th><th>Survived</th><th>Pclass</th><th>Name</th><th>Sex</th><th>Age</th><th>SibSp</th><th>Parch</th><th>Ticket</th><th>Fare</th><th>Cabin</th><th>Embarked</th></tr><tr><td>i64</td><td>i64</td><td>i64</td><td>str</td><td>str</td><td>f64</td><td>i64</td><td>i64</td><td>str</td><td>f64</td><td>str</td><td>str</td></tr></thead><tbody><tr><td>1</td><td>0</td><td>3</td><td>&quot;Braund, Mr. Owen Harris&quot;</td><td>&quot;male&quot;</td><td>22.0</td><td>1</td><td>0</td><td>&quot;A/5 21171&quot;</td><td>7.25</td><td>null</td><td>&quot;S&quot;</td></tr><tr><td>2</td><td>1</td><td>1</td><td>&quot;Cumings, Mrs. John Bradley (Fl…</td><td>&quot;female&quot;</td><td>38.0</td><td>1</td><td>0</td><td>&quot;PC 17599&quot;</td><td>71.2833</td><td>&quot;C85&quot;</td><td>&quot;C&quot;</td></tr><tr><td>3</td><td>1</td><td>3</td><td>&quot;Heikkinen, Miss. Laina&quot;</td><td>&quot;female&quot;</td><td>26.0</td><td>0</td><td>0</td><td>&quot;STON/O2. 3101282&quot;</td><td>7.925</td><td>null</td><td>&quot;S&quot;</td></tr></tbody></table></div>"
      ],
      "text/plain": [
       "shape: (3, 12)\n",
       "┌─────────────┬──────────┬────────┬─────────────────────────────────┬───┬──────────────────┬─────────┬───────┬──────────┐\n",
       "│ PassengerId ┆ Survived ┆ Pclass ┆ Name                            ┆ … ┆ Ticket           ┆ Fare    ┆ Cabin ┆ Embarked │\n",
       "│ ---         ┆ ---      ┆ ---    ┆ ---                             ┆   ┆ ---              ┆ ---     ┆ ---   ┆ ---      │\n",
       "│ i64         ┆ i64      ┆ i64    ┆ str                             ┆   ┆ str              ┆ f64     ┆ str   ┆ str      │\n",
       "╞═════════════╪══════════╪════════╪═════════════════════════════════╪═══╪══════════════════╪═════════╪═══════╪══════════╡\n",
       "│ 1           ┆ 0        ┆ 3      ┆ Braund, Mr. Owen Harris         ┆ … ┆ A/5 21171        ┆ 7.25    ┆ null  ┆ S        │\n",
       "│ 2           ┆ 1        ┆ 1      ┆ Cumings, Mrs. John Bradley (Fl… ┆ … ┆ PC 17599         ┆ 71.2833 ┆ C85   ┆ C        │\n",
       "│ 3           ┆ 1        ┆ 3      ┆ Heikkinen, Miss. Laina          ┆ … ┆ STON/O2. 3101282 ┆ 7.925   ┆ null  ┆ S        │\n",
       "└─────────────┴──────────┴────────┴─────────────────────────────────┴───┴──────────────────┴─────────┴───────┴──────────┘"
      ]
     },
     "execution_count": 3,
     "metadata": {},
     "output_type": "execute_result"
    }
   ],
   "source": [
    "df = pl.read_csv(CSV_FILE)\n",
    "df.head(3)"
   ]
  },
  {
   "cell_type": "code",
   "execution_count": 4,
   "id": "5254f806-3105-4b35-8898-9b56d42a15d4",
   "metadata": {},
   "outputs": [
    {
     "data": {
      "text/html": [
       "<div><style>\n",
       ".dataframe > thead > tr,\n",
       ".dataframe > tbody > tr {\n",
       "  text-align: right;\n",
       "  white-space: pre-wrap;\n",
       "}\n",
       "</style>\n",
       "<small>shape: (1, 12)</small><table border=\"1\" class=\"dataframe\"><thead><tr><th>PassengerId</th><th>Survived</th><th>Pclass</th><th>Name</th><th>Sex</th><th>Age</th><th>SibSp</th><th>Parch</th><th>Ticket</th><th>Fare</th><th>Cabin</th><th>Embarked</th></tr><tr><td>f64</td><td>f64</td><td>f64</td><td>str</td><td>str</td><td>f64</td><td>f64</td><td>f64</td><td>str</td><td>f64</td><td>str</td><td>str</td></tr></thead><tbody><tr><td>446.0</td><td>0.383838</td><td>2.308642</td><td>null</td><td>null</td><td>29.699118</td><td>0.523008</td><td>0.381594</td><td>null</td><td>32.204208</td><td>null</td><td>null</td></tr></tbody></table></div>"
      ],
      "text/plain": [
       "shape: (1, 12)\n",
       "┌─────────────┬──────────┬──────────┬──────┬───┬────────┬───────────┬───────┬──────────┐\n",
       "│ PassengerId ┆ Survived ┆ Pclass   ┆ Name ┆ … ┆ Ticket ┆ Fare      ┆ Cabin ┆ Embarked │\n",
       "│ ---         ┆ ---      ┆ ---      ┆ ---  ┆   ┆ ---    ┆ ---       ┆ ---   ┆ ---      │\n",
       "│ f64         ┆ f64      ┆ f64      ┆ str  ┆   ┆ str    ┆ f64       ┆ str   ┆ str      │\n",
       "╞═════════════╪══════════╪══════════╪══════╪═══╪════════╪═══════════╪═══════╪══════════╡\n",
       "│ 446.0       ┆ 0.383838 ┆ 2.308642 ┆ null ┆ … ┆ null   ┆ 32.204208 ┆ null  ┆ null     │\n",
       "└─────────────┴──────────┴──────────┴──────┴───┴────────┴───────────┴───────┴──────────┘"
      ]
     },
     "execution_count": 4,
     "metadata": {},
     "output_type": "execute_result"
    }
   ],
   "source": [
    "df.mean()"
   ]
  },
  {
   "cell_type": "code",
   "execution_count": 5,
   "id": "13e959fa-8e7a-4f1a-a07f-bb63d8a52b16",
   "metadata": {},
   "outputs": [
    {
     "data": {
      "text/html": [
       "<div><style>\n",
       ".dataframe > thead > tr,\n",
       ".dataframe > tbody > tr {\n",
       "  text-align: right;\n",
       "  white-space: pre-wrap;\n",
       "}\n",
       "</style>\n",
       "<small>shape: (9, 13)</small><table border=\"1\" class=\"dataframe\"><thead><tr><th>statistic</th><th>PassengerId</th><th>Survived</th><th>Pclass</th><th>Name</th><th>Sex</th><th>Age</th><th>SibSp</th><th>Parch</th><th>Ticket</th><th>Fare</th><th>Cabin</th><th>Embarked</th></tr><tr><td>str</td><td>f64</td><td>f64</td><td>f64</td><td>str</td><td>str</td><td>f64</td><td>f64</td><td>f64</td><td>str</td><td>f64</td><td>str</td><td>str</td></tr></thead><tbody><tr><td>&quot;count&quot;</td><td>891.0</td><td>891.0</td><td>891.0</td><td>&quot;891&quot;</td><td>&quot;891&quot;</td><td>714.0</td><td>891.0</td><td>891.0</td><td>&quot;891&quot;</td><td>891.0</td><td>&quot;204&quot;</td><td>&quot;889&quot;</td></tr><tr><td>&quot;null_count&quot;</td><td>0.0</td><td>0.0</td><td>0.0</td><td>&quot;0&quot;</td><td>&quot;0&quot;</td><td>177.0</td><td>0.0</td><td>0.0</td><td>&quot;0&quot;</td><td>0.0</td><td>&quot;687&quot;</td><td>&quot;2&quot;</td></tr><tr><td>&quot;mean&quot;</td><td>446.0</td><td>0.383838</td><td>2.308642</td><td>null</td><td>null</td><td>29.699118</td><td>0.523008</td><td>0.381594</td><td>null</td><td>32.204208</td><td>null</td><td>null</td></tr><tr><td>&quot;std&quot;</td><td>257.353842</td><td>0.486592</td><td>0.836071</td><td>null</td><td>null</td><td>14.526497</td><td>1.102743</td><td>0.806057</td><td>null</td><td>49.693429</td><td>null</td><td>null</td></tr><tr><td>&quot;min&quot;</td><td>1.0</td><td>0.0</td><td>1.0</td><td>&quot;Abbing, Mr. Anthony&quot;</td><td>&quot;female&quot;</td><td>0.42</td><td>0.0</td><td>0.0</td><td>&quot;110152&quot;</td><td>0.0</td><td>&quot;A10&quot;</td><td>&quot;C&quot;</td></tr><tr><td>&quot;25%&quot;</td><td>224.0</td><td>0.0</td><td>2.0</td><td>null</td><td>null</td><td>20.0</td><td>0.0</td><td>0.0</td><td>null</td><td>7.925</td><td>null</td><td>null</td></tr><tr><td>&quot;50%&quot;</td><td>446.0</td><td>0.0</td><td>3.0</td><td>null</td><td>null</td><td>28.0</td><td>0.0</td><td>0.0</td><td>null</td><td>14.4542</td><td>null</td><td>null</td></tr><tr><td>&quot;75%&quot;</td><td>669.0</td><td>1.0</td><td>3.0</td><td>null</td><td>null</td><td>38.0</td><td>1.0</td><td>0.0</td><td>null</td><td>31.0</td><td>null</td><td>null</td></tr><tr><td>&quot;max&quot;</td><td>891.0</td><td>1.0</td><td>3.0</td><td>&quot;van Melkebeke, Mr. Philemon&quot;</td><td>&quot;male&quot;</td><td>80.0</td><td>8.0</td><td>6.0</td><td>&quot;WE/P 5735&quot;</td><td>512.3292</td><td>&quot;T&quot;</td><td>&quot;S&quot;</td></tr></tbody></table></div>"
      ],
      "text/plain": [
       "shape: (9, 13)\n",
       "┌────────────┬─────────────┬──────────┬──────────┬───┬───────────┬───────────┬───────┬──────────┐\n",
       "│ statistic  ┆ PassengerId ┆ Survived ┆ Pclass   ┆ … ┆ Ticket    ┆ Fare      ┆ Cabin ┆ Embarked │\n",
       "│ ---        ┆ ---         ┆ ---      ┆ ---      ┆   ┆ ---       ┆ ---       ┆ ---   ┆ ---      │\n",
       "│ str        ┆ f64         ┆ f64      ┆ f64      ┆   ┆ str       ┆ f64       ┆ str   ┆ str      │\n",
       "╞════════════╪═════════════╪══════════╪══════════╪═══╪═══════════╪═══════════╪═══════╪══════════╡\n",
       "│ count      ┆ 891.0       ┆ 891.0    ┆ 891.0    ┆ … ┆ 891       ┆ 891.0     ┆ 204   ┆ 889      │\n",
       "│ null_count ┆ 0.0         ┆ 0.0      ┆ 0.0      ┆ … ┆ 0         ┆ 0.0       ┆ 687   ┆ 2        │\n",
       "│ mean       ┆ 446.0       ┆ 0.383838 ┆ 2.308642 ┆ … ┆ null      ┆ 32.204208 ┆ null  ┆ null     │\n",
       "│ std        ┆ 257.353842  ┆ 0.486592 ┆ 0.836071 ┆ … ┆ null      ┆ 49.693429 ┆ null  ┆ null     │\n",
       "│ min        ┆ 1.0         ┆ 0.0      ┆ 1.0      ┆ … ┆ 110152    ┆ 0.0       ┆ A10   ┆ C        │\n",
       "│ 25%        ┆ 224.0       ┆ 0.0      ┆ 2.0      ┆ … ┆ null      ┆ 7.925     ┆ null  ┆ null     │\n",
       "│ 50%        ┆ 446.0       ┆ 0.0      ┆ 3.0      ┆ … ┆ null      ┆ 14.4542   ┆ null  ┆ null     │\n",
       "│ 75%        ┆ 669.0       ┆ 1.0      ┆ 3.0      ┆ … ┆ null      ┆ 31.0      ┆ null  ┆ null     │\n",
       "│ max        ┆ 891.0       ┆ 1.0      ┆ 3.0      ┆ … ┆ WE/P 5735 ┆ 512.3292  ┆ T     ┆ S        │\n",
       "└────────────┴─────────────┴──────────┴──────────┴───┴───────────┴───────────┴───────┴──────────┘"
      ]
     },
     "execution_count": 5,
     "metadata": {},
     "output_type": "execute_result"
    }
   ],
   "source": [
    "df.describe()"
   ]
  },
  {
   "cell_type": "code",
   "execution_count": 6,
   "id": "3bddcbdb-2120-4ff6-9b68-05e9487ece9a",
   "metadata": {},
   "outputs": [
    {
     "data": {
      "text/html": [
       "<div><style>\n",
       ".dataframe > thead > tr,\n",
       ".dataframe > tbody > tr {\n",
       "  text-align: right;\n",
       "  white-space: pre-wrap;\n",
       "}\n",
       "</style>\n",
       "<small>shape: (11, 13)</small><table border=\"1\" class=\"dataframe\"><thead><tr><th>statistic</th><th>PassengerId</th><th>Survived</th><th>Pclass</th><th>Name</th><th>Sex</th><th>Age</th><th>SibSp</th><th>Parch</th><th>Ticket</th><th>Fare</th><th>Cabin</th><th>Embarked</th></tr><tr><td>str</td><td>f64</td><td>f64</td><td>f64</td><td>str</td><td>str</td><td>f64</td><td>f64</td><td>f64</td><td>str</td><td>f64</td><td>str</td><td>str</td></tr></thead><tbody><tr><td>&quot;count&quot;</td><td>891.0</td><td>891.0</td><td>891.0</td><td>&quot;891&quot;</td><td>&quot;891&quot;</td><td>714.0</td><td>891.0</td><td>891.0</td><td>&quot;891&quot;</td><td>891.0</td><td>&quot;204&quot;</td><td>&quot;889&quot;</td></tr><tr><td>&quot;null_count&quot;</td><td>0.0</td><td>0.0</td><td>0.0</td><td>&quot;0&quot;</td><td>&quot;0&quot;</td><td>177.0</td><td>0.0</td><td>0.0</td><td>&quot;0&quot;</td><td>0.0</td><td>&quot;687&quot;</td><td>&quot;2&quot;</td></tr><tr><td>&quot;mean&quot;</td><td>446.0</td><td>0.383838</td><td>2.308642</td><td>null</td><td>null</td><td>29.699118</td><td>0.523008</td><td>0.381594</td><td>null</td><td>32.204208</td><td>null</td><td>null</td></tr><tr><td>&quot;std&quot;</td><td>257.353842</td><td>0.486592</td><td>0.836071</td><td>null</td><td>null</td><td>14.526497</td><td>1.102743</td><td>0.806057</td><td>null</td><td>49.693429</td><td>null</td><td>null</td></tr><tr><td>&quot;min&quot;</td><td>1.0</td><td>0.0</td><td>1.0</td><td>&quot;Abbing, Mr. Anthony&quot;</td><td>&quot;female&quot;</td><td>0.42</td><td>0.0</td><td>0.0</td><td>&quot;110152&quot;</td><td>0.0</td><td>&quot;A10&quot;</td><td>&quot;C&quot;</td></tr><tr><td>&hellip;</td><td>&hellip;</td><td>&hellip;</td><td>&hellip;</td><td>&hellip;</td><td>&hellip;</td><td>&hellip;</td><td>&hellip;</td><td>&hellip;</td><td>&hellip;</td><td>&hellip;</td><td>&hellip;</td><td>&hellip;</td></tr><tr><td>&quot;30%&quot;</td><td>268.0</td><td>0.0</td><td>2.0</td><td>null</td><td>null</td><td>22.0</td><td>0.0</td><td>0.0</td><td>null</td><td>8.05</td><td>null</td><td>null</td></tr><tr><td>&quot;50%&quot;</td><td>446.0</td><td>0.0</td><td>3.0</td><td>null</td><td>null</td><td>28.0</td><td>0.0</td><td>0.0</td><td>null</td><td>14.4542</td><td>null</td><td>null</td></tr><tr><td>&quot;70%&quot;</td><td>624.0</td><td>1.0</td><td>3.0</td><td>null</td><td>null</td><td>36.0</td><td>1.0</td><td>0.0</td><td>null</td><td>27.0</td><td>null</td><td>null</td></tr><tr><td>&quot;90%&quot;</td><td>802.0</td><td>1.0</td><td>3.0</td><td>null</td><td>null</td><td>50.0</td><td>1.0</td><td>2.0</td><td>null</td><td>77.9583</td><td>null</td><td>null</td></tr><tr><td>&quot;max&quot;</td><td>891.0</td><td>1.0</td><td>3.0</td><td>&quot;van Melkebeke, Mr. Philemon&quot;</td><td>&quot;male&quot;</td><td>80.0</td><td>8.0</td><td>6.0</td><td>&quot;WE/P 5735&quot;</td><td>512.3292</td><td>&quot;T&quot;</td><td>&quot;S&quot;</td></tr></tbody></table></div>"
      ],
      "text/plain": [
       "shape: (11, 13)\n",
       "┌────────────┬─────────────┬──────────┬──────────┬───┬───────────┬───────────┬───────┬──────────┐\n",
       "│ statistic  ┆ PassengerId ┆ Survived ┆ Pclass   ┆ … ┆ Ticket    ┆ Fare      ┆ Cabin ┆ Embarked │\n",
       "│ ---        ┆ ---         ┆ ---      ┆ ---      ┆   ┆ ---       ┆ ---       ┆ ---   ┆ ---      │\n",
       "│ str        ┆ f64         ┆ f64      ┆ f64      ┆   ┆ str       ┆ f64       ┆ str   ┆ str      │\n",
       "╞════════════╪═════════════╪══════════╪══════════╪═══╪═══════════╪═══════════╪═══════╪══════════╡\n",
       "│ count      ┆ 891.0       ┆ 891.0    ┆ 891.0    ┆ … ┆ 891       ┆ 891.0     ┆ 204   ┆ 889      │\n",
       "│ null_count ┆ 0.0         ┆ 0.0      ┆ 0.0      ┆ … ┆ 0         ┆ 0.0       ┆ 687   ┆ 2        │\n",
       "│ mean       ┆ 446.0       ┆ 0.383838 ┆ 2.308642 ┆ … ┆ null      ┆ 32.204208 ┆ null  ┆ null     │\n",
       "│ std        ┆ 257.353842  ┆ 0.486592 ┆ 0.836071 ┆ … ┆ null      ┆ 49.693429 ┆ null  ┆ null     │\n",
       "│ min        ┆ 1.0         ┆ 0.0      ┆ 1.0      ┆ … ┆ 110152    ┆ 0.0       ┆ A10   ┆ C        │\n",
       "│ …          ┆ …           ┆ …        ┆ …        ┆ … ┆ …         ┆ …         ┆ …     ┆ …        │\n",
       "│ 30%        ┆ 268.0       ┆ 0.0      ┆ 2.0      ┆ … ┆ null      ┆ 8.05      ┆ null  ┆ null     │\n",
       "│ 50%        ┆ 446.0       ┆ 0.0      ┆ 3.0      ┆ … ┆ null      ┆ 14.4542   ┆ null  ┆ null     │\n",
       "│ 70%        ┆ 624.0       ┆ 1.0      ┆ 3.0      ┆ … ┆ null      ┆ 27.0      ┆ null  ┆ null     │\n",
       "│ 90%        ┆ 802.0       ┆ 1.0      ┆ 3.0      ┆ … ┆ null      ┆ 77.9583   ┆ null  ┆ null     │\n",
       "│ max        ┆ 891.0       ┆ 1.0      ┆ 3.0      ┆ … ┆ WE/P 5735 ┆ 512.3292  ┆ T     ┆ S        │\n",
       "└────────────┴─────────────┴──────────┴──────────┴───┴───────────┴───────────┴───────┴──────────┘"
      ]
     },
     "execution_count": 6,
     "metadata": {},
     "output_type": "execute_result"
    }
   ],
   "source": [
    "df.describe(percentiles=(0.1, 0.3, 0.5, 0.7, 0.9))"
   ]
  },
  {
   "cell_type": "code",
   "execution_count": 7,
   "id": "f4e64c01-6a8c-4fb5-9631-f41dac23a793",
   "metadata": {},
   "outputs": [
    {
     "data": {
      "text/html": [
       "<div><style>\n",
       ".dataframe > thead > tr,\n",
       ".dataframe > tbody > tr {\n",
       "  text-align: right;\n",
       "  white-space: pre-wrap;\n",
       "}\n",
       "</style>\n",
       "<small>shape: (1, 1)</small><table border=\"1\" class=\"dataframe\"><thead><tr><th>Fare</th></tr><tr><td>f64</td></tr></thead><tbody><tr><td>32.204208</td></tr></tbody></table></div>"
      ],
      "text/plain": [
       "shape: (1, 1)\n",
       "┌───────────┐\n",
       "│ Fare      │\n",
       "│ ---       │\n",
       "│ f64       │\n",
       "╞═══════════╡\n",
       "│ 32.204208 │\n",
       "└───────────┘"
      ]
     },
     "execution_count": 7,
     "metadata": {},
     "output_type": "execute_result"
    }
   ],
   "source": [
    "(\n",
    "    df\n",
    "    .select(\n",
    "        pl.col(\"Fare\").mean()\n",
    "    )\n",
    ")"
   ]
  },
  {
   "cell_type": "code",
   "execution_count": 8,
   "id": "814bed32-3d23-4da7-b775-a2d7eefa589a",
   "metadata": {},
   "outputs": [
    {
     "data": {
      "text/html": [
       "<div><style>\n",
       ".dataframe > thead > tr,\n",
       ".dataframe > tbody > tr {\n",
       "  text-align: right;\n",
       "  white-space: pre-wrap;\n",
       "}\n",
       "</style>\n",
       "<small>shape: (12, 1)</small><table border=\"1\" class=\"dataframe\"><thead><tr><th>value</th></tr><tr><td>i64</td></tr></thead><tbody><tr><td>0</td></tr><tr><td>1</td></tr><tr><td>2</td></tr><tr><td>3</td></tr><tr><td>4</td></tr><tr><td>&hellip;</td></tr><tr><td>7</td></tr><tr><td>8</td></tr><tr><td>9</td></tr><tr><td>10</td></tr><tr><td>11</td></tr></tbody></table></div>"
      ],
      "text/plain": [
       "shape: (12, 1)\n",
       "┌───────┐\n",
       "│ value │\n",
       "│ ---   │\n",
       "│ i64   │\n",
       "╞═══════╡\n",
       "│ 0     │\n",
       "│ 1     │\n",
       "│ 2     │\n",
       "│ 3     │\n",
       "│ 4     │\n",
       "│ …     │\n",
       "│ 7     │\n",
       "│ 8     │\n",
       "│ 9     │\n",
       "│ 10    │\n",
       "│ 11    │\n",
       "└───────┘"
      ]
     },
     "execution_count": 8,
     "metadata": {},
     "output_type": "execute_result"
    }
   ],
   "source": [
    "df_rolling = (\n",
    "    pl.DataFrame(\n",
    "        {\n",
    "            \"value\": range(12)\n",
    "        }\n",
    "    )\n",
    ")\n",
    "df_rolling"
   ]
  },
  {
   "cell_type": "code",
   "execution_count": 9,
   "id": "254018be-6d93-4921-b908-6ce71a0f445f",
   "metadata": {},
   "outputs": [
    {
     "data": {
      "text/html": [
       "<div><style>\n",
       ".dataframe > thead > tr,\n",
       ".dataframe > tbody > tr {\n",
       "  text-align: right;\n",
       "  white-space: pre-wrap;\n",
       "}\n",
       "</style>\n",
       "<small>shape: (12, 2)</small><table border=\"1\" class=\"dataframe\"><thead><tr><th>value</th><th>rolling_mean_value</th></tr><tr><td>i64</td><td>f64</td></tr></thead><tbody><tr><td>0</td><td>null</td></tr><tr><td>1</td><td>null</td></tr><tr><td>2</td><td>1.0</td></tr><tr><td>3</td><td>2.0</td></tr><tr><td>4</td><td>3.0</td></tr><tr><td>&hellip;</td><td>&hellip;</td></tr><tr><td>7</td><td>6.0</td></tr><tr><td>8</td><td>7.0</td></tr><tr><td>9</td><td>8.0</td></tr><tr><td>10</td><td>9.0</td></tr><tr><td>11</td><td>10.0</td></tr></tbody></table></div>"
      ],
      "text/plain": [
       "shape: (12, 2)\n",
       "┌───────┬────────────────────┐\n",
       "│ value ┆ rolling_mean_value │\n",
       "│ ---   ┆ ---                │\n",
       "│ i64   ┆ f64                │\n",
       "╞═══════╪════════════════════╡\n",
       "│ 0     ┆ null               │\n",
       "│ 1     ┆ null               │\n",
       "│ 2     ┆ 1.0                │\n",
       "│ 3     ┆ 2.0                │\n",
       "│ 4     ┆ 3.0                │\n",
       "│ …     ┆ …                  │\n",
       "│ 7     ┆ 6.0                │\n",
       "│ 8     ┆ 7.0                │\n",
       "│ 9     ┆ 8.0                │\n",
       "│ 10    ┆ 9.0                │\n",
       "│ 11    ┆ 10.0               │\n",
       "└───────┴────────────────────┘"
      ]
     },
     "execution_count": 9,
     "metadata": {},
     "output_type": "execute_result"
    }
   ],
   "source": [
    "(\n",
    "    df_rolling\n",
    "    .with_columns(\n",
    "        rolling_mean_value = pl.col(\"value\").rolling_mean(window_size=3)\n",
    "    )\n",
    ")"
   ]
  },
  {
   "cell_type": "code",
   "execution_count": 10,
   "id": "d0c860bc-a10e-43ef-8d8b-acfbe648ed14",
   "metadata": {},
   "outputs": [
    {
     "data": {
      "text/html": [
       "<div><style>\n",
       ".dataframe > thead > tr,\n",
       ".dataframe > tbody > tr {\n",
       "  text-align: right;\n",
       "  white-space: pre-wrap;\n",
       "}\n",
       "</style>\n",
       "<small>shape: (12, 3)</small><table border=\"1\" class=\"dataframe\"><thead><tr><th>value</th><th>rolling_mean_value</th><th>rolling_mean_value_min_periods</th></tr><tr><td>i64</td><td>f64</td><td>f64</td></tr></thead><tbody><tr><td>0</td><td>null</td><td>0.0</td></tr><tr><td>1</td><td>null</td><td>0.5</td></tr><tr><td>2</td><td>1.0</td><td>1.0</td></tr><tr><td>3</td><td>2.0</td><td>2.0</td></tr><tr><td>4</td><td>3.0</td><td>3.0</td></tr><tr><td>&hellip;</td><td>&hellip;</td><td>&hellip;</td></tr><tr><td>7</td><td>6.0</td><td>6.0</td></tr><tr><td>8</td><td>7.0</td><td>7.0</td></tr><tr><td>9</td><td>8.0</td><td>8.0</td></tr><tr><td>10</td><td>9.0</td><td>9.0</td></tr><tr><td>11</td><td>10.0</td><td>10.0</td></tr></tbody></table></div>"
      ],
      "text/plain": [
       "shape: (12, 3)\n",
       "┌───────┬────────────────────┬────────────────────────────────┐\n",
       "│ value ┆ rolling_mean_value ┆ rolling_mean_value_min_periods │\n",
       "│ ---   ┆ ---                ┆ ---                            │\n",
       "│ i64   ┆ f64                ┆ f64                            │\n",
       "╞═══════╪════════════════════╪════════════════════════════════╡\n",
       "│ 0     ┆ null               ┆ 0.0                            │\n",
       "│ 1     ┆ null               ┆ 0.5                            │\n",
       "│ 2     ┆ 1.0                ┆ 1.0                            │\n",
       "│ 3     ┆ 2.0                ┆ 2.0                            │\n",
       "│ 4     ┆ 3.0                ┆ 3.0                            │\n",
       "│ …     ┆ …                  ┆ …                              │\n",
       "│ 7     ┆ 6.0                ┆ 6.0                            │\n",
       "│ 8     ┆ 7.0                ┆ 7.0                            │\n",
       "│ 9     ┆ 8.0                ┆ 8.0                            │\n",
       "│ 10    ┆ 9.0                ┆ 9.0                            │\n",
       "│ 11    ┆ 10.0               ┆ 10.0                           │\n",
       "└───────┴────────────────────┴────────────────────────────────┘"
      ]
     },
     "execution_count": 10,
     "metadata": {},
     "output_type": "execute_result"
    }
   ],
   "source": [
    "(\n",
    "    df_rolling\n",
    "    .with_columns(\n",
    "        rolling_mean_value = pl.col(\"value\").rolling_mean(window_size=3),\n",
    "        rolling_mean_value_min_periods = pl.col(\"value\").rolling_mean(window_size=3, min_samples=1)\n",
    "    )\n",
    ")"
   ]
  },
  {
   "cell_type": "code",
   "execution_count": 11,
   "id": "e46ffcfd-2f65-486e-a658-52bd75dc3ad9",
   "metadata": {},
   "outputs": [
    {
     "data": {
      "text/html": [
       "<div><style>\n",
       ".dataframe > thead > tr,\n",
       ".dataframe > tbody > tr {\n",
       "  text-align: right;\n",
       "  white-space: pre-wrap;\n",
       "}\n",
       "</style>\n",
       "<small>shape: (12, 2)</small><table border=\"1\" class=\"dataframe\"><thead><tr><th>value</th><th>rolling_mean_value_center</th></tr><tr><td>i64</td><td>f64</td></tr></thead><tbody><tr><td>0</td><td>null</td></tr><tr><td>1</td><td>1.0</td></tr><tr><td>2</td><td>2.0</td></tr><tr><td>3</td><td>3.0</td></tr><tr><td>4</td><td>4.0</td></tr><tr><td>&hellip;</td><td>&hellip;</td></tr><tr><td>7</td><td>7.0</td></tr><tr><td>8</td><td>8.0</td></tr><tr><td>9</td><td>9.0</td></tr><tr><td>10</td><td>10.0</td></tr><tr><td>11</td><td>null</td></tr></tbody></table></div>"
      ],
      "text/plain": [
       "shape: (12, 2)\n",
       "┌───────┬───────────────────────────┐\n",
       "│ value ┆ rolling_mean_value_center │\n",
       "│ ---   ┆ ---                       │\n",
       "│ i64   ┆ f64                       │\n",
       "╞═══════╪═══════════════════════════╡\n",
       "│ 0     ┆ null                      │\n",
       "│ 1     ┆ 1.0                       │\n",
       "│ 2     ┆ 2.0                       │\n",
       "│ 3     ┆ 3.0                       │\n",
       "│ 4     ┆ 4.0                       │\n",
       "│ …     ┆ …                         │\n",
       "│ 7     ┆ 7.0                       │\n",
       "│ 8     ┆ 8.0                       │\n",
       "│ 9     ┆ 9.0                       │\n",
       "│ 10    ┆ 10.0                      │\n",
       "│ 11    ┆ null                      │\n",
       "└───────┴───────────────────────────┘"
      ]
     },
     "execution_count": 11,
     "metadata": {},
     "output_type": "execute_result"
    }
   ],
   "source": [
    "(\n",
    "    df_rolling\n",
    "    .with_columns(\n",
    "        rolling_mean_value_center = pl.col(\"value\").rolling_mean(window_size=3, center=True)\n",
    "    )\n",
    ")"
   ]
  },
  {
   "cell_type": "code",
   "execution_count": 12,
   "id": "4da313b2-663f-4e09-bceb-02cb86161f15",
   "metadata": {},
   "outputs": [
    {
     "data": {
      "text/html": [
       "<div><style>\n",
       ".dataframe > thead > tr,\n",
       ".dataframe > tbody > tr {\n",
       "  text-align: right;\n",
       "  white-space: pre-wrap;\n",
       "}\n",
       "</style>\n",
       "<small>shape: (12, 4)</small><table border=\"1\" class=\"dataframe\"><thead><tr><th>value</th><th>rolling_mean_value</th><th>ewm_mean_value</th><th>ewm_mean_high_span</th></tr><tr><td>i64</td><td>f64</td><td>f64</td><td>f64</td></tr></thead><tbody><tr><td>0</td><td>null</td><td>0.0</td><td>0.0</td></tr><tr><td>1</td><td>null</td><td>0.666667</td><td>0.6</td></tr><tr><td>2</td><td>1.0</td><td>1.428571</td><td>1.263158</td></tr><tr><td>3</td><td>2.0</td><td>2.266667</td><td>1.984615</td></tr><tr><td>4</td><td>3.0</td><td>3.16129</td><td>2.758294</td></tr><tr><td>&hellip;</td><td>&hellip;</td><td>&hellip;</td><td>&hellip;</td></tr><tr><td>7</td><td>6.0</td><td>6.031373</td><td>5.324822</td></tr><tr><td>8</td><td>7.0</td><td>7.017613</td><td>6.240363</td></tr><tr><td>9</td><td>8.0</td><td>8.009775</td><td>7.176476</td></tr><tr><td>10</td><td>9.0</td><td>9.005374</td><td>8.128659</td></tr><tr><td>11</td><td>10.0</td><td>10.00293</td><td>9.093207</td></tr></tbody></table></div>"
      ],
      "text/plain": [
       "shape: (12, 4)\n",
       "┌───────┬────────────────────┬────────────────┬────────────────────┐\n",
       "│ value ┆ rolling_mean_value ┆ ewm_mean_value ┆ ewm_mean_high_span │\n",
       "│ ---   ┆ ---                ┆ ---            ┆ ---                │\n",
       "│ i64   ┆ f64                ┆ f64            ┆ f64                │\n",
       "╞═══════╪════════════════════╪════════════════╪════════════════════╡\n",
       "│ 0     ┆ null               ┆ 0.0            ┆ 0.0                │\n",
       "│ 1     ┆ null               ┆ 0.666667       ┆ 0.6                │\n",
       "│ 2     ┆ 1.0                ┆ 1.428571       ┆ 1.263158           │\n",
       "│ 3     ┆ 2.0                ┆ 2.266667       ┆ 1.984615           │\n",
       "│ 4     ┆ 3.0                ┆ 3.16129        ┆ 2.758294           │\n",
       "│ …     ┆ …                  ┆ …              ┆ …                  │\n",
       "│ 7     ┆ 6.0                ┆ 6.031373       ┆ 5.324822           │\n",
       "│ 8     ┆ 7.0                ┆ 7.017613       ┆ 6.240363           │\n",
       "│ 9     ┆ 8.0                ┆ 8.009775       ┆ 7.176476           │\n",
       "│ 10    ┆ 9.0                ┆ 9.005374       ┆ 8.128659           │\n",
       "│ 11    ┆ 10.0               ┆ 10.00293       ┆ 9.093207           │\n",
       "└───────┴────────────────────┴────────────────┴────────────────────┘"
      ]
     },
     "execution_count": 12,
     "metadata": {},
     "output_type": "execute_result"
    }
   ],
   "source": [
    "(\n",
    "    df_rolling\n",
    "    .with_columns(\n",
    "        rolling_mean_value = pl.col(\"value\").rolling_mean(window_size=3),\n",
    "        ewm_mean_value = pl.col(\"value\").ewm_mean(span=3),\n",
    "        ewm_mean_high_span = pl.col(\"value\").ewm_mean(span=5)\n",
    "    )\n",
    ")"
   ]
  },
  {
   "cell_type": "code",
   "execution_count": 13,
   "id": "b714cba8-7119-4185-be27-dc6b8b35f68f",
   "metadata": {},
   "outputs": [
    {
     "data": {
      "text/html": [
       "<div><style>\n",
       ".dataframe > thead > tr,\n",
       ".dataframe > tbody > tr {\n",
       "  text-align: right;\n",
       "  white-space: pre-wrap;\n",
       "}\n",
       "</style>\n",
       "<small>shape: (1, 2)</small><table border=\"1\" class=\"dataframe\"><thead><tr><th>value_min</th><th>value_max</th></tr><tr><td>i64</td><td>i64</td></tr></thead><tbody><tr><td>0</td><td>11</td></tr></tbody></table></div>"
      ],
      "text/plain": [
       "shape: (1, 2)\n",
       "┌───────────┬───────────┐\n",
       "│ value_min ┆ value_max │\n",
       "│ ---       ┆ ---       │\n",
       "│ i64       ┆ i64       │\n",
       "╞═══════════╪═══════════╡\n",
       "│ 0         ┆ 11        │\n",
       "└───────────┴───────────┘"
      ]
     },
     "execution_count": 13,
     "metadata": {},
     "output_type": "execute_result"
    }
   ],
   "source": [
    "(\n",
    "    df_rolling\n",
    "    .select(\n",
    "        pl.col(pl.Int64).min().name.suffix(\"_min\"),\n",
    "        pl.col(pl.Int64).max().name.suffix(\"_max\")\n",
    "    )\n",
    ")"
   ]
  },
  {
   "cell_type": "code",
   "execution_count": 14,
   "id": "80fd7aed-0094-4a6a-8eb9-bede11484339",
   "metadata": {},
   "outputs": [
    {
     "data": {
      "text/html": [
       "<div><style>\n",
       ".dataframe > thead > tr,\n",
       ".dataframe > tbody > tr {\n",
       "  text-align: right;\n",
       "  white-space: pre-wrap;\n",
       "}\n",
       "</style>\n",
       "<small>shape: (891, 2)</small><table border=\"1\" class=\"dataframe\"><thead><tr><th>Fare</th><th>Fare_scaled</th></tr><tr><td>f64</td><td>f64</td></tr></thead><tbody><tr><td>512.3292</td><td>1.0</td></tr><tr><td>512.3292</td><td>1.0</td></tr><tr><td>512.3292</td><td>1.0</td></tr><tr><td>263.0</td><td>0.513342</td></tr><tr><td>263.0</td><td>0.513342</td></tr><tr><td>&hellip;</td><td>&hellip;</td></tr><tr><td>0.0</td><td>0.0</td></tr><tr><td>0.0</td><td>0.0</td></tr><tr><td>0.0</td><td>0.0</td></tr><tr><td>0.0</td><td>0.0</td></tr><tr><td>0.0</td><td>0.0</td></tr></tbody></table></div>"
      ],
      "text/plain": [
       "shape: (891, 2)\n",
       "┌──────────┬─────────────┐\n",
       "│ Fare     ┆ Fare_scaled │\n",
       "│ ---      ┆ ---         │\n",
       "│ f64      ┆ f64         │\n",
       "╞══════════╪═════════════╡\n",
       "│ 512.3292 ┆ 1.0         │\n",
       "│ 512.3292 ┆ 1.0         │\n",
       "│ 512.3292 ┆ 1.0         │\n",
       "│ 263.0    ┆ 0.513342    │\n",
       "│ 263.0    ┆ 0.513342    │\n",
       "│ …        ┆ …           │\n",
       "│ 0.0      ┆ 0.0         │\n",
       "│ 0.0      ┆ 0.0         │\n",
       "│ 0.0      ┆ 0.0         │\n",
       "│ 0.0      ┆ 0.0         │\n",
       "│ 0.0      ┆ 0.0         │\n",
       "└──────────┴─────────────┘"
      ]
     },
     "execution_count": 14,
     "metadata": {},
     "output_type": "execute_result"
    }
   ],
   "source": [
    "(\n",
    "    df\n",
    "    .with_columns(\n",
    "        ((pl.col(\"Fare\") - pl.col(\"Fare\").min()) / (pl.col(\"Fare\").max() - pl.col(\"Fare\").min())).name.suffix(\"_scaled\")\n",
    "    )\n",
    "    .select(\"Fare\", \"Fare_scaled\")\n",
    "    .sort(\"Fare\", descending=True)\n",
    ")"
   ]
  },
  {
   "cell_type": "code",
   "execution_count": 15,
   "id": "d4b69c5c-5945-4ae1-a3d9-ba1468431b8b",
   "metadata": {},
   "outputs": [
    {
     "data": {
      "text/html": [
       "<div><style>\n",
       ".dataframe > thead > tr,\n",
       ".dataframe > tbody > tr {\n",
       "  text-align: right;\n",
       "  white-space: pre-wrap;\n",
       "}\n",
       "</style>\n",
       "<small>shape: (3, 2)</small><table border=\"1\" class=\"dataframe\"><thead><tr><th>vals1</th><th>val2</th></tr><tr><td>i64</td><td>i64</td></tr></thead><tbody><tr><td>0</td><td>3</td></tr><tr><td>1</td><td>4</td></tr><tr><td>2</td><td>5</td></tr></tbody></table></div>"
      ],
      "text/plain": [
       "shape: (3, 2)\n",
       "┌───────┬──────┐\n",
       "│ vals1 ┆ val2 │\n",
       "│ ---   ┆ ---  │\n",
       "│ i64   ┆ i64  │\n",
       "╞═══════╪══════╡\n",
       "│ 0     ┆ 3    │\n",
       "│ 1     ┆ 4    │\n",
       "│ 2     ┆ 5    │\n",
       "└───────┴──────┘"
      ]
     },
     "execution_count": 15,
     "metadata": {},
     "output_type": "execute_result"
    }
   ],
   "source": [
    "df_hor = pl.DataFrame(\n",
    "    {\n",
    "        \"vals1\": [0, 1, 2],\n",
    "        \"val2\": [3, 4, 5]\n",
    "    }\n",
    ")\n",
    "df_hor"
   ]
  },
  {
   "cell_type": "code",
   "execution_count": 16,
   "id": "bb690de7-bffc-4303-afda-59e7d673d671",
   "metadata": {},
   "outputs": [
    {
     "data": {
      "text/html": [
       "<div><style>\n",
       ".dataframe > thead > tr,\n",
       ".dataframe > tbody > tr {\n",
       "  text-align: right;\n",
       "  white-space: pre-wrap;\n",
       "}\n",
       "</style>\n",
       "<small>shape: (3, 5)</small><table border=\"1\" class=\"dataframe\"><thead><tr><th>vals1</th><th>val2</th><th>max</th><th>min</th><th>sum</th></tr><tr><td>i64</td><td>i64</td><td>i64</td><td>i64</td><td>i64</td></tr></thead><tbody><tr><td>0</td><td>3</td><td>3</td><td>0</td><td>3</td></tr><tr><td>1</td><td>4</td><td>4</td><td>1</td><td>5</td></tr><tr><td>2</td><td>5</td><td>5</td><td>2</td><td>7</td></tr></tbody></table></div>"
      ],
      "text/plain": [
       "shape: (3, 5)\n",
       "┌───────┬──────┬─────┬─────┬─────┐\n",
       "│ vals1 ┆ val2 ┆ max ┆ min ┆ sum │\n",
       "│ ---   ┆ ---  ┆ --- ┆ --- ┆ --- │\n",
       "│ i64   ┆ i64  ┆ i64 ┆ i64 ┆ i64 │\n",
       "╞═══════╪══════╪═════╪═════╪═════╡\n",
       "│ 0     ┆ 3    ┆ 3   ┆ 0   ┆ 3   │\n",
       "│ 1     ┆ 4    ┆ 4   ┆ 1   ┆ 5   │\n",
       "│ 2     ┆ 5    ┆ 5   ┆ 2   ┆ 7   │\n",
       "└───────┴──────┴─────┴─────┴─────┘"
      ]
     },
     "execution_count": 16,
     "metadata": {},
     "output_type": "execute_result"
    }
   ],
   "source": [
    "(\n",
    "    df_hor\n",
    "    .with_columns(\n",
    "        pl.max_horizontal(pl.all()).alias(\"max\"),\n",
    "        pl.min_horizontal(pl.all()).alias(\"min\"),\n",
    "        pl.sum_horizontal(pl.all()).alias(\"sum\")\n",
    "    )\n",
    ")"
   ]
  },
  {
   "cell_type": "code",
   "execution_count": 17,
   "id": "b6bdf137-82e4-45df-9577-923d13febaca",
   "metadata": {},
   "outputs": [
    {
     "data": {
      "text/html": [
       "<div><style>\n",
       ".dataframe > thead > tr,\n",
       ".dataframe > tbody > tr {\n",
       "  text-align: right;\n",
       "  white-space: pre-wrap;\n",
       "}\n",
       "</style>\n",
       "<small>shape: (3,)</small><table border=\"1\" class=\"dataframe\"><thead><tr><th>max</th></tr><tr><td>i64</td></tr></thead><tbody><tr><td>3</td></tr><tr><td>4</td></tr><tr><td>5</td></tr></tbody></table></div>"
      ],
      "text/plain": [
       "shape: (3,)\n",
       "Series: 'max' [i64]\n",
       "[\n",
       "\t3\n",
       "\t4\n",
       "\t5\n",
       "]"
      ]
     },
     "execution_count": 17,
     "metadata": {},
     "output_type": "execute_result"
    }
   ],
   "source": [
    "(\n",
    "    df_hor\n",
    "    .max_horizontal()\n",
    ")"
   ]
  },
  {
   "cell_type": "code",
   "execution_count": 18,
   "id": "535d69bb-c486-4eff-a91a-e124d5dbc6ef",
   "metadata": {},
   "outputs": [
    {
     "data": {
      "text/html": [
       "<div><style>\n",
       ".dataframe > thead > tr,\n",
       ".dataframe > tbody > tr {\n",
       "  text-align: right;\n",
       "  white-space: pre-wrap;\n",
       "}\n",
       "</style>\n",
       "<small>shape: (3, 3)</small><table border=\"1\" class=\"dataframe\"><thead><tr><th>vals1</th><th>val2</th><th>cum_sum</th></tr><tr><td>i64</td><td>i64</td><td>struct[2]</td></tr></thead><tbody><tr><td>0</td><td>3</td><td>{0,3}</td></tr><tr><td>1</td><td>4</td><td>{1,5}</td></tr><tr><td>2</td><td>5</td><td>{2,7}</td></tr></tbody></table></div>"
      ],
      "text/plain": [
       "shape: (3, 3)\n",
       "┌───────┬──────┬───────────┐\n",
       "│ vals1 ┆ val2 ┆ cum_sum   │\n",
       "│ ---   ┆ ---  ┆ ---       │\n",
       "│ i64   ┆ i64  ┆ struct[2] │\n",
       "╞═══════╪══════╪═══════════╡\n",
       "│ 0     ┆ 3    ┆ {0,3}     │\n",
       "│ 1     ┆ 4    ┆ {1,5}     │\n",
       "│ 2     ┆ 5    ┆ {2,7}     │\n",
       "└───────┴──────┴───────────┘"
      ]
     },
     "execution_count": 18,
     "metadata": {},
     "output_type": "execute_result"
    }
   ],
   "source": [
    "(\n",
    "    df_hor\n",
    "    .with_columns(\n",
    "        pl.cum_sum_horizontal(pl.all())\n",
    "    )\n",
    ")"
   ]
  },
  {
   "cell_type": "code",
   "execution_count": 19,
   "id": "16ef1b46-d96a-4a40-9a1e-6a3a59b39be6",
   "metadata": {},
   "outputs": [
    {
     "data": {
      "text/html": [
       "<div><style>\n",
       ".dataframe > thead > tr,\n",
       ".dataframe > tbody > tr {\n",
       "  text-align: right;\n",
       "  white-space: pre-wrap;\n",
       "}\n",
       "</style>\n",
       "<small>shape: (3, 3)</small><table border=\"1\" class=\"dataframe\"><thead><tr><th>vals1</th><th>val2</th><th>concat</th></tr><tr><td>i64</td><td>i64</td><td>list[i64]</td></tr></thead><tbody><tr><td>0</td><td>3</td><td>[0, 3]</td></tr><tr><td>1</td><td>4</td><td>[1, 4]</td></tr><tr><td>2</td><td>5</td><td>[2, 5]</td></tr></tbody></table></div>"
      ],
      "text/plain": [
       "shape: (3, 3)\n",
       "┌───────┬──────┬───────────┐\n",
       "│ vals1 ┆ val2 ┆ concat    │\n",
       "│ ---   ┆ ---  ┆ ---       │\n",
       "│ i64   ┆ i64  ┆ list[i64] │\n",
       "╞═══════╪══════╪═══════════╡\n",
       "│ 0     ┆ 3    ┆ [0, 3]    │\n",
       "│ 1     ┆ 4    ┆ [1, 4]    │\n",
       "│ 2     ┆ 5    ┆ [2, 5]    │\n",
       "└───────┴──────┴───────────┘"
      ]
     },
     "execution_count": 19,
     "metadata": {},
     "output_type": "execute_result"
    }
   ],
   "source": [
    "(\n",
    "    df_hor\n",
    "    .with_columns(\n",
    "        pl.concat_list(pl.all()).alias(\"concat\")\n",
    "    )\n",
    ")"
   ]
  },
  {
   "cell_type": "code",
   "execution_count": 20,
   "id": "afeeff0b-1a40-4f79-ae23-a21c1747b165",
   "metadata": {},
   "outputs": [
    {
     "data": {
      "text/html": [
       "<div><style>\n",
       ".dataframe > thead > tr,\n",
       ".dataframe > tbody > tr {\n",
       "  text-align: right;\n",
       "  white-space: pre-wrap;\n",
       "}\n",
       "</style>\n",
       "<small>shape: (3, 12)</small><table border=\"1\" class=\"dataframe\"><thead><tr><th>PassengerId</th><th>Survived</th><th>Pclass</th><th>Name</th><th>Sex</th><th>Age</th><th>SibSp</th><th>Parch</th><th>Ticket</th><th>Fare</th><th>Cabin</th><th>Embarked</th></tr><tr><td>i64</td><td>i64</td><td>i64</td><td>str</td><td>str</td><td>f64</td><td>i64</td><td>i64</td><td>str</td><td>f64</td><td>str</td><td>str</td></tr></thead><tbody><tr><td>1</td><td>0</td><td>3</td><td>&quot;Braund, Mr. Owen Harris&quot;</td><td>&quot;male&quot;</td><td>22.0</td><td>1</td><td>0</td><td>&quot;A/5 21171&quot;</td><td>7.25</td><td>null</td><td>&quot;S&quot;</td></tr><tr><td>2</td><td>1</td><td>1</td><td>&quot;Cumings, Mrs. John Bradley (Fl…</td><td>&quot;female&quot;</td><td>38.0</td><td>1</td><td>0</td><td>&quot;PC 17599&quot;</td><td>71.2833</td><td>&quot;C85&quot;</td><td>&quot;C&quot;</td></tr><tr><td>3</td><td>1</td><td>3</td><td>&quot;Heikkinen, Miss. Laina&quot;</td><td>&quot;female&quot;</td><td>26.0</td><td>0</td><td>0</td><td>&quot;STON/O2. 3101282&quot;</td><td>7.925</td><td>null</td><td>&quot;S&quot;</td></tr></tbody></table></div>"
      ],
      "text/plain": [
       "shape: (3, 12)\n",
       "┌─────────────┬──────────┬────────┬─────────────────────────────────┬───┬──────────────────┬─────────┬───────┬──────────┐\n",
       "│ PassengerId ┆ Survived ┆ Pclass ┆ Name                            ┆ … ┆ Ticket           ┆ Fare    ┆ Cabin ┆ Embarked │\n",
       "│ ---         ┆ ---      ┆ ---    ┆ ---                             ┆   ┆ ---              ┆ ---     ┆ ---   ┆ ---      │\n",
       "│ i64         ┆ i64      ┆ i64    ┆ str                             ┆   ┆ str              ┆ f64     ┆ str   ┆ str      │\n",
       "╞═════════════╪══════════╪════════╪═════════════════════════════════╪═══╪══════════════════╪═════════╪═══════╪══════════╡\n",
       "│ 1           ┆ 0        ┆ 3      ┆ Braund, Mr. Owen Harris         ┆ … ┆ A/5 21171        ┆ 7.25    ┆ null  ┆ S        │\n",
       "│ 2           ┆ 1        ┆ 1      ┆ Cumings, Mrs. John Bradley (Fl… ┆ … ┆ PC 17599         ┆ 71.2833 ┆ C85   ┆ C        │\n",
       "│ 3           ┆ 1        ┆ 3      ┆ Heikkinen, Miss. Laina          ┆ … ┆ STON/O2. 3101282 ┆ 7.925   ┆ null  ┆ S        │\n",
       "└─────────────┴──────────┴────────┴─────────────────────────────────┴───┴──────────────────┴─────────┴───────┴──────────┘"
      ]
     },
     "execution_count": 20,
     "metadata": {},
     "output_type": "execute_result"
    }
   ],
   "source": [
    "df = pl.read_csv(CSV_FILE)\n",
    "df.head(3)"
   ]
  },
  {
   "cell_type": "code",
   "execution_count": 21,
   "id": "73327b92-7d49-4e99-a5d2-25b1a5cf01e8",
   "metadata": {},
   "outputs": [
    {
     "data": {
      "text/html": [
       "<div><style>\n",
       ".dataframe > thead > tr,\n",
       ".dataframe > tbody > tr {\n",
       "  text-align: right;\n",
       "  white-space: pre-wrap;\n",
       "}\n",
       "</style>\n",
       "<small>shape: (3, 2)</small><table border=\"1\" class=\"dataframe\"><thead><tr><th>Pclass</th><th>count</th></tr><tr><td>i64</td><td>u32</td></tr></thead><tbody><tr><td>2</td><td>184</td></tr><tr><td>1</td><td>216</td></tr><tr><td>3</td><td>491</td></tr></tbody></table></div>"
      ],
      "text/plain": [
       "shape: (3, 2)\n",
       "┌────────┬───────┐\n",
       "│ Pclass ┆ count │\n",
       "│ ---    ┆ ---   │\n",
       "│ i64    ┆ u32   │\n",
       "╞════════╪═══════╡\n",
       "│ 2      ┆ 184   │\n",
       "│ 1      ┆ 216   │\n",
       "│ 3      ┆ 491   │\n",
       "└────────┴───────┘"
      ]
     },
     "execution_count": 21,
     "metadata": {},
     "output_type": "execute_result"
    }
   ],
   "source": [
    "df[\"Pclass\"].value_counts()"
   ]
  },
  {
   "cell_type": "code",
   "execution_count": 22,
   "id": "10f49777-2a38-486f-b212-db0a58c75b89",
   "metadata": {},
   "outputs": [
    {
     "data": {
      "text/html": [
       "<div><style>\n",
       ".dataframe > thead > tr,\n",
       ".dataframe > tbody > tr {\n",
       "  text-align: right;\n",
       "  white-space: pre-wrap;\n",
       "}\n",
       "</style>\n",
       "<small>shape: (3, 2)</small><table border=\"1\" class=\"dataframe\"><thead><tr><th>Pclass</th><th>count</th></tr><tr><td>i64</td><td>u32</td></tr></thead><tbody><tr><td>3</td><td>491</td></tr><tr><td>1</td><td>216</td></tr><tr><td>2</td><td>184</td></tr></tbody></table></div>"
      ],
      "text/plain": [
       "shape: (3, 2)\n",
       "┌────────┬───────┐\n",
       "│ Pclass ┆ count │\n",
       "│ ---    ┆ ---   │\n",
       "│ i64    ┆ u32   │\n",
       "╞════════╪═══════╡\n",
       "│ 3      ┆ 491   │\n",
       "│ 1      ┆ 216   │\n",
       "│ 2      ┆ 184   │\n",
       "└────────┴───────┘"
      ]
     },
     "execution_count": 22,
     "metadata": {},
     "output_type": "execute_result"
    }
   ],
   "source": [
    "df[\"Pclass\"].value_counts(sort=True)"
   ]
  },
  {
   "cell_type": "code",
   "execution_count": 23,
   "id": "142febf2-0d4a-4786-a63d-eae16fa46ecb",
   "metadata": {},
   "outputs": [
    {
     "data": {
      "text/html": [
       "<div><style>\n",
       ".dataframe > thead > tr,\n",
       ".dataframe > tbody > tr {\n",
       "  text-align: right;\n",
       "  white-space: pre-wrap;\n",
       "}\n",
       "</style>\n",
       "<small>shape: (3, 2)</small><table border=\"1\" class=\"dataframe\"><thead><tr><th>Pclass</th><th>count</th></tr><tr><td>i64</td><td>u32</td></tr></thead><tbody><tr><td>1</td><td>216</td></tr><tr><td>2</td><td>184</td></tr><tr><td>3</td><td>491</td></tr></tbody></table></div>"
      ],
      "text/plain": [
       "shape: (3, 2)\n",
       "┌────────┬───────┐\n",
       "│ Pclass ┆ count │\n",
       "│ ---    ┆ ---   │\n",
       "│ i64    ┆ u32   │\n",
       "╞════════╪═══════╡\n",
       "│ 1      ┆ 216   │\n",
       "│ 2      ┆ 184   │\n",
       "│ 3      ┆ 491   │\n",
       "└────────┴───────┘"
      ]
     },
     "execution_count": 23,
     "metadata": {},
     "output_type": "execute_result"
    }
   ],
   "source": [
    "df[\"Pclass\"].value_counts().sort(\"Pclass\")"
   ]
  },
  {
   "cell_type": "code",
   "execution_count": 24,
   "id": "a0a82dc2-74e7-48cb-b1f4-429998dc3184",
   "metadata": {},
   "outputs": [
    {
     "data": {
      "text/html": [
       "<div><style>\n",
       ".dataframe > thead > tr,\n",
       ".dataframe > tbody > tr {\n",
       "  text-align: right;\n",
       "  white-space: pre-wrap;\n",
       "}\n",
       "</style>\n",
       "<small>shape: (3, 1)</small><table border=\"1\" class=\"dataframe\"><thead><tr><th>Pclass</th></tr><tr><td>struct[2]</td></tr></thead><tbody><tr><td>{2,184}</td></tr><tr><td>{1,216}</td></tr><tr><td>{3,491}</td></tr></tbody></table></div>"
      ],
      "text/plain": [
       "shape: (3, 1)\n",
       "┌───────────┐\n",
       "│ Pclass    │\n",
       "│ ---       │\n",
       "│ struct[2] │\n",
       "╞═══════════╡\n",
       "│ {2,184}   │\n",
       "│ {1,216}   │\n",
       "│ {3,491}   │\n",
       "└───────────┘"
      ]
     },
     "execution_count": 24,
     "metadata": {},
     "output_type": "execute_result"
    }
   ],
   "source": [
    "(\n",
    "    df\n",
    "    .select(\n",
    "        pl.col(\"Pclass\").value_counts()\n",
    "    )\n",
    ")"
   ]
  },
  {
   "cell_type": "code",
   "execution_count": 25,
   "id": "c9b271ca-d51a-4e8c-89f7-25c3a107cfb1",
   "metadata": {},
   "outputs": [],
   "source": [
    "# (\n",
    "#     df\n",
    "#     .select(\n",
    "#         pl.col(\"Pclass\").value_counts()\n",
    "#     )\n",
    "#     [\"Pclass\"]\n",
    "#     .struct.to_frame()\n",
    "# )"
   ]
  },
  {
   "cell_type": "code",
   "execution_count": 41,
   "id": "09b579e4-3740-4f21-b26b-9d2581397882",
   "metadata": {},
   "outputs": [
    {
     "data": {
      "application/vnd.plotly.v1+json": {
       "config": {
        "plotlyServerURL": "https://plot.ly"
       },
       "data": [
        {
         "hovertemplate": "x=%{x}<br>y=%{y}<extra></extra>",
         "legendgroup": "",
         "marker": {
          "color": "#636efa",
          "pattern": {
           "shape": ""
          }
         },
         "name": "",
         "orientation": "v",
         "showlegend": false,
         "textposition": "auto",
         "type": "bar",
         "x": [
          "1",
          "2",
          "3"
         ],
         "xaxis": "x",
         "y": {
          "bdata": "2AAAALgAAADrAQAA",
          "dtype": "u4"
         },
         "yaxis": "y"
        }
       ],
       "layout": {
        "barmode": "relative",
        "legend": {
         "tracegroupgap": 0
        },
        "margin": {
         "t": 60
        },
        "template": {
         "data": {
          "bar": [
           {
            "error_x": {
             "color": "#2a3f5f"
            },
            "error_y": {
             "color": "#2a3f5f"
            },
            "marker": {
             "line": {
              "color": "#E5ECF6",
              "width": 0.5
             },
             "pattern": {
              "fillmode": "overlay",
              "size": 10,
              "solidity": 0.2
             }
            },
            "type": "bar"
           }
          ],
          "barpolar": [
           {
            "marker": {
             "line": {
              "color": "#E5ECF6",
              "width": 0.5
             },
             "pattern": {
              "fillmode": "overlay",
              "size": 10,
              "solidity": 0.2
             }
            },
            "type": "barpolar"
           }
          ],
          "carpet": [
           {
            "aaxis": {
             "endlinecolor": "#2a3f5f",
             "gridcolor": "white",
             "linecolor": "white",
             "minorgridcolor": "white",
             "startlinecolor": "#2a3f5f"
            },
            "baxis": {
             "endlinecolor": "#2a3f5f",
             "gridcolor": "white",
             "linecolor": "white",
             "minorgridcolor": "white",
             "startlinecolor": "#2a3f5f"
            },
            "type": "carpet"
           }
          ],
          "choropleth": [
           {
            "colorbar": {
             "outlinewidth": 0,
             "ticks": ""
            },
            "type": "choropleth"
           }
          ],
          "contour": [
           {
            "colorbar": {
             "outlinewidth": 0,
             "ticks": ""
            },
            "colorscale": [
             [
              0,
              "#0d0887"
             ],
             [
              0.1111111111111111,
              "#46039f"
             ],
             [
              0.2222222222222222,
              "#7201a8"
             ],
             [
              0.3333333333333333,
              "#9c179e"
             ],
             [
              0.4444444444444444,
              "#bd3786"
             ],
             [
              0.5555555555555556,
              "#d8576b"
             ],
             [
              0.6666666666666666,
              "#ed7953"
             ],
             [
              0.7777777777777778,
              "#fb9f3a"
             ],
             [
              0.8888888888888888,
              "#fdca26"
             ],
             [
              1,
              "#f0f921"
             ]
            ],
            "type": "contour"
           }
          ],
          "contourcarpet": [
           {
            "colorbar": {
             "outlinewidth": 0,
             "ticks": ""
            },
            "type": "contourcarpet"
           }
          ],
          "heatmap": [
           {
            "colorbar": {
             "outlinewidth": 0,
             "ticks": ""
            },
            "colorscale": [
             [
              0,
              "#0d0887"
             ],
             [
              0.1111111111111111,
              "#46039f"
             ],
             [
              0.2222222222222222,
              "#7201a8"
             ],
             [
              0.3333333333333333,
              "#9c179e"
             ],
             [
              0.4444444444444444,
              "#bd3786"
             ],
             [
              0.5555555555555556,
              "#d8576b"
             ],
             [
              0.6666666666666666,
              "#ed7953"
             ],
             [
              0.7777777777777778,
              "#fb9f3a"
             ],
             [
              0.8888888888888888,
              "#fdca26"
             ],
             [
              1,
              "#f0f921"
             ]
            ],
            "type": "heatmap"
           }
          ],
          "histogram": [
           {
            "marker": {
             "pattern": {
              "fillmode": "overlay",
              "size": 10,
              "solidity": 0.2
             }
            },
            "type": "histogram"
           }
          ],
          "histogram2d": [
           {
            "colorbar": {
             "outlinewidth": 0,
             "ticks": ""
            },
            "colorscale": [
             [
              0,
              "#0d0887"
             ],
             [
              0.1111111111111111,
              "#46039f"
             ],
             [
              0.2222222222222222,
              "#7201a8"
             ],
             [
              0.3333333333333333,
              "#9c179e"
             ],
             [
              0.4444444444444444,
              "#bd3786"
             ],
             [
              0.5555555555555556,
              "#d8576b"
             ],
             [
              0.6666666666666666,
              "#ed7953"
             ],
             [
              0.7777777777777778,
              "#fb9f3a"
             ],
             [
              0.8888888888888888,
              "#fdca26"
             ],
             [
              1,
              "#f0f921"
             ]
            ],
            "type": "histogram2d"
           }
          ],
          "histogram2dcontour": [
           {
            "colorbar": {
             "outlinewidth": 0,
             "ticks": ""
            },
            "colorscale": [
             [
              0,
              "#0d0887"
             ],
             [
              0.1111111111111111,
              "#46039f"
             ],
             [
              0.2222222222222222,
              "#7201a8"
             ],
             [
              0.3333333333333333,
              "#9c179e"
             ],
             [
              0.4444444444444444,
              "#bd3786"
             ],
             [
              0.5555555555555556,
              "#d8576b"
             ],
             [
              0.6666666666666666,
              "#ed7953"
             ],
             [
              0.7777777777777778,
              "#fb9f3a"
             ],
             [
              0.8888888888888888,
              "#fdca26"
             ],
             [
              1,
              "#f0f921"
             ]
            ],
            "type": "histogram2dcontour"
           }
          ],
          "mesh3d": [
           {
            "colorbar": {
             "outlinewidth": 0,
             "ticks": ""
            },
            "type": "mesh3d"
           }
          ],
          "parcoords": [
           {
            "line": {
             "colorbar": {
              "outlinewidth": 0,
              "ticks": ""
             }
            },
            "type": "parcoords"
           }
          ],
          "pie": [
           {
            "automargin": true,
            "type": "pie"
           }
          ],
          "scatter": [
           {
            "fillpattern": {
             "fillmode": "overlay",
             "size": 10,
             "solidity": 0.2
            },
            "type": "scatter"
           }
          ],
          "scatter3d": [
           {
            "line": {
             "colorbar": {
              "outlinewidth": 0,
              "ticks": ""
             }
            },
            "marker": {
             "colorbar": {
              "outlinewidth": 0,
              "ticks": ""
             }
            },
            "type": "scatter3d"
           }
          ],
          "scattercarpet": [
           {
            "marker": {
             "colorbar": {
              "outlinewidth": 0,
              "ticks": ""
             }
            },
            "type": "scattercarpet"
           }
          ],
          "scattergeo": [
           {
            "marker": {
             "colorbar": {
              "outlinewidth": 0,
              "ticks": ""
             }
            },
            "type": "scattergeo"
           }
          ],
          "scattergl": [
           {
            "marker": {
             "colorbar": {
              "outlinewidth": 0,
              "ticks": ""
             }
            },
            "type": "scattergl"
           }
          ],
          "scattermap": [
           {
            "marker": {
             "colorbar": {
              "outlinewidth": 0,
              "ticks": ""
             }
            },
            "type": "scattermap"
           }
          ],
          "scattermapbox": [
           {
            "marker": {
             "colorbar": {
              "outlinewidth": 0,
              "ticks": ""
             }
            },
            "type": "scattermapbox"
           }
          ],
          "scatterpolar": [
           {
            "marker": {
             "colorbar": {
              "outlinewidth": 0,
              "ticks": ""
             }
            },
            "type": "scatterpolar"
           }
          ],
          "scatterpolargl": [
           {
            "marker": {
             "colorbar": {
              "outlinewidth": 0,
              "ticks": ""
             }
            },
            "type": "scatterpolargl"
           }
          ],
          "scatterternary": [
           {
            "marker": {
             "colorbar": {
              "outlinewidth": 0,
              "ticks": ""
             }
            },
            "type": "scatterternary"
           }
          ],
          "surface": [
           {
            "colorbar": {
             "outlinewidth": 0,
             "ticks": ""
            },
            "colorscale": [
             [
              0,
              "#0d0887"
             ],
             [
              0.1111111111111111,
              "#46039f"
             ],
             [
              0.2222222222222222,
              "#7201a8"
             ],
             [
              0.3333333333333333,
              "#9c179e"
             ],
             [
              0.4444444444444444,
              "#bd3786"
             ],
             [
              0.5555555555555556,
              "#d8576b"
             ],
             [
              0.6666666666666666,
              "#ed7953"
             ],
             [
              0.7777777777777778,
              "#fb9f3a"
             ],
             [
              0.8888888888888888,
              "#fdca26"
             ],
             [
              1,
              "#f0f921"
             ]
            ],
            "type": "surface"
           }
          ],
          "table": [
           {
            "cells": {
             "fill": {
              "color": "#EBF0F8"
             },
             "line": {
              "color": "white"
             }
            },
            "header": {
             "fill": {
              "color": "#C8D4E3"
             },
             "line": {
              "color": "white"
             }
            },
            "type": "table"
           }
          ]
         },
         "layout": {
          "annotationdefaults": {
           "arrowcolor": "#2a3f5f",
           "arrowhead": 0,
           "arrowwidth": 1
          },
          "autotypenumbers": "strict",
          "coloraxis": {
           "colorbar": {
            "outlinewidth": 0,
            "ticks": ""
           }
          },
          "colorscale": {
           "diverging": [
            [
             0,
             "#8e0152"
            ],
            [
             0.1,
             "#c51b7d"
            ],
            [
             0.2,
             "#de77ae"
            ],
            [
             0.3,
             "#f1b6da"
            ],
            [
             0.4,
             "#fde0ef"
            ],
            [
             0.5,
             "#f7f7f7"
            ],
            [
             0.6,
             "#e6f5d0"
            ],
            [
             0.7,
             "#b8e186"
            ],
            [
             0.8,
             "#7fbc41"
            ],
            [
             0.9,
             "#4d9221"
            ],
            [
             1,
             "#276419"
            ]
           ],
           "sequential": [
            [
             0,
             "#0d0887"
            ],
            [
             0.1111111111111111,
             "#46039f"
            ],
            [
             0.2222222222222222,
             "#7201a8"
            ],
            [
             0.3333333333333333,
             "#9c179e"
            ],
            [
             0.4444444444444444,
             "#bd3786"
            ],
            [
             0.5555555555555556,
             "#d8576b"
            ],
            [
             0.6666666666666666,
             "#ed7953"
            ],
            [
             0.7777777777777778,
             "#fb9f3a"
            ],
            [
             0.8888888888888888,
             "#fdca26"
            ],
            [
             1,
             "#f0f921"
            ]
           ],
           "sequentialminus": [
            [
             0,
             "#0d0887"
            ],
            [
             0.1111111111111111,
             "#46039f"
            ],
            [
             0.2222222222222222,
             "#7201a8"
            ],
            [
             0.3333333333333333,
             "#9c179e"
            ],
            [
             0.4444444444444444,
             "#bd3786"
            ],
            [
             0.5555555555555556,
             "#d8576b"
            ],
            [
             0.6666666666666666,
             "#ed7953"
            ],
            [
             0.7777777777777778,
             "#fb9f3a"
            ],
            [
             0.8888888888888888,
             "#fdca26"
            ],
            [
             1,
             "#f0f921"
            ]
           ]
          },
          "colorway": [
           "#636efa",
           "#EF553B",
           "#00cc96",
           "#ab63fa",
           "#FFA15A",
           "#19d3f3",
           "#FF6692",
           "#B6E880",
           "#FF97FF",
           "#FECB52"
          ],
          "font": {
           "color": "#2a3f5f"
          },
          "geo": {
           "bgcolor": "white",
           "lakecolor": "white",
           "landcolor": "#E5ECF6",
           "showlakes": true,
           "showland": true,
           "subunitcolor": "white"
          },
          "hoverlabel": {
           "align": "left"
          },
          "hovermode": "closest",
          "mapbox": {
           "style": "light"
          },
          "paper_bgcolor": "white",
          "plot_bgcolor": "#E5ECF6",
          "polar": {
           "angularaxis": {
            "gridcolor": "white",
            "linecolor": "white",
            "ticks": ""
           },
           "bgcolor": "#E5ECF6",
           "radialaxis": {
            "gridcolor": "white",
            "linecolor": "white",
            "ticks": ""
           }
          },
          "scene": {
           "xaxis": {
            "backgroundcolor": "#E5ECF6",
            "gridcolor": "white",
            "gridwidth": 2,
            "linecolor": "white",
            "showbackground": true,
            "ticks": "",
            "zerolinecolor": "white"
           },
           "yaxis": {
            "backgroundcolor": "#E5ECF6",
            "gridcolor": "white",
            "gridwidth": 2,
            "linecolor": "white",
            "showbackground": true,
            "ticks": "",
            "zerolinecolor": "white"
           },
           "zaxis": {
            "backgroundcolor": "#E5ECF6",
            "gridcolor": "white",
            "gridwidth": 2,
            "linecolor": "white",
            "showbackground": true,
            "ticks": "",
            "zerolinecolor": "white"
           }
          },
          "shapedefaults": {
           "line": {
            "color": "#2a3f5f"
           }
          },
          "ternary": {
           "aaxis": {
            "gridcolor": "white",
            "linecolor": "white",
            "ticks": ""
           },
           "baxis": {
            "gridcolor": "white",
            "linecolor": "white",
            "ticks": ""
           },
           "bgcolor": "#E5ECF6",
           "caxis": {
            "gridcolor": "white",
            "linecolor": "white",
            "ticks": ""
           }
          },
          "title": {
           "x": 0.05
          },
          "xaxis": {
           "automargin": true,
           "gridcolor": "white",
           "linecolor": "white",
           "ticks": "",
           "title": {
            "standoff": 15
           },
           "zerolinecolor": "white",
           "zerolinewidth": 2
          },
          "yaxis": {
           "automargin": true,
           "gridcolor": "white",
           "linecolor": "white",
           "ticks": "",
           "title": {
            "standoff": 15
           },
           "zerolinecolor": "white",
           "zerolinewidth": 2
          }
         }
        },
        "xaxis": {
         "anchor": "y",
         "domain": [
          0,
          1
         ],
         "title": {
          "text": "x"
         }
        },
        "yaxis": {
         "anchor": "x",
         "domain": [
          0,
          1
         ],
         "title": {
          "text": "y"
         }
        }
       }
      },
      "image/png": "[encoded data removed]"
     },
     "metadata": {},
     "output_type": "display_data"
    }
   ],
   "source": [
    "classCounts = (\n",
    "    df[\"Pclass\"]\n",
    "    .value_counts()\n",
    "    .sort(\"Pclass\")\n",
    "    .with_columns(\n",
    "        pl.col(\"Pclass\").cast(pl.Utf8)\n",
    "    )\n",
    ")\n",
    "\n",
    "px.bar(\n",
    "    x=classCounts[\"Pclass\"],\n",
    "    y=classCounts[\"count\"]\n",
    ")"
   ]
  },
  {
   "cell_type": "code",
   "execution_count": 27,
   "id": "a019fae9-ef87-4be4-b280-bc3b8da6a9fd",
   "metadata": {},
   "outputs": [
    {
     "data": {
      "text/html": [
       "<div><style>\n",
       ".dataframe > thead > tr,\n",
       ".dataframe > tbody > tr {\n",
       "  text-align: right;\n",
       "  white-space: pre-wrap;\n",
       "}\n",
       "</style>\n",
       "<small>shape: (3,)</small><table border=\"1\" class=\"dataframe\"><thead><tr><th>Pclass</th></tr><tr><td>struct[2]</td></tr></thead><tbody><tr><td>{2,184}</td></tr><tr><td>{3,491}</td></tr><tr><td>{1,216}</td></tr></tbody></table></div>"
      ],
      "text/plain": [
       "shape: (3,)\n",
       "Series: 'Pclass' [struct[2]]\n",
       "[\n",
       "\t{2,184}\n",
       "\t{3,491}\n",
       "\t{1,216}\n",
       "]"
      ]
     },
     "execution_count": 27,
     "metadata": {},
     "output_type": "execute_result"
    }
   ],
   "source": [
    "(\n",
    "    pl.scan_csv(CSV_FILE)\n",
    "    .select(\n",
    "        pl.col(\"Pclass\").value_counts()\n",
    "    )\n",
    "    .collect()\n",
    "    [\"Pclass\"]\n",
    ")"
   ]
  },
  {
   "cell_type": "code",
   "execution_count": 28,
   "id": "d3ca95b9-3d58-445d-9784-b054a1d4650f",
   "metadata": {},
   "outputs": [
    {
     "name": "stdout",
     "output_type": "stream",
     "text": [
      "SELECT [col(\"Pclass\").value_counts()]\n",
      "  Csv SCAN [./data/titanic.csv] [id: 6044597229808]\n",
      "  PROJECT 1/12 COLUMNS\n"
     ]
    }
   ],
   "source": [
    "print(\n",
    "    pl.scan_csv(CSV_FILE)\n",
    "    .select(\n",
    "        pl.col(\"Pclass\").value_counts()\n",
    "    )\n",
    "    .explain()\n",
    ")"
   ]
  },
  {
   "cell_type": "code",
   "execution_count": 29,
   "id": "954a1c80-7599-4248-bacc-94283a43e2ab",
   "metadata": {},
   "outputs": [
    {
     "data": {
      "text/html": [
       "<div><style>\n",
       ".dataframe > thead > tr,\n",
       ".dataframe > tbody > tr {\n",
       "  text-align: right;\n",
       "  white-space: pre-wrap;\n",
       "}\n",
       "</style>\n",
       "<small>shape: (3, 12)</small><table border=\"1\" class=\"dataframe\"><thead><tr><th>PassengerId</th><th>Survived</th><th>Pclass</th><th>Name</th><th>Sex</th><th>Age</th><th>SibSp</th><th>Parch</th><th>Ticket</th><th>Fare</th><th>Cabin</th><th>Embarked</th></tr><tr><td>i64</td><td>i64</td><td>i64</td><td>str</td><td>str</td><td>f64</td><td>i64</td><td>i64</td><td>str</td><td>f64</td><td>str</td><td>str</td></tr></thead><tbody><tr><td>1</td><td>0</td><td>3</td><td>&quot;Braund, Mr. Owen Harris&quot;</td><td>&quot;male&quot;</td><td>22.0</td><td>1</td><td>0</td><td>&quot;A/5 21171&quot;</td><td>7.25</td><td>null</td><td>&quot;S&quot;</td></tr><tr><td>2</td><td>1</td><td>1</td><td>&quot;Cumings, Mrs. John Bradley (Fl…</td><td>&quot;female&quot;</td><td>38.0</td><td>1</td><td>0</td><td>&quot;PC 17599&quot;</td><td>71.2833</td><td>&quot;C85&quot;</td><td>&quot;C&quot;</td></tr><tr><td>3</td><td>1</td><td>3</td><td>&quot;Heikkinen, Miss. Laina&quot;</td><td>&quot;female&quot;</td><td>26.0</td><td>0</td><td>0</td><td>&quot;STON/O2. 3101282&quot;</td><td>7.925</td><td>null</td><td>&quot;S&quot;</td></tr></tbody></table></div>"
      ],
      "text/plain": [
       "shape: (3, 12)\n",
       "┌─────────────┬──────────┬────────┬─────────────────────────────────┬───┬──────────────────┬─────────┬───────┬──────────┐\n",
       "│ PassengerId ┆ Survived ┆ Pclass ┆ Name                            ┆ … ┆ Ticket           ┆ Fare    ┆ Cabin ┆ Embarked │\n",
       "│ ---         ┆ ---      ┆ ---    ┆ ---                             ┆   ┆ ---              ┆ ---     ┆ ---   ┆ ---      │\n",
       "│ i64         ┆ i64      ┆ i64    ┆ str                             ┆   ┆ str              ┆ f64     ┆ str   ┆ str      │\n",
       "╞═════════════╪══════════╪════════╪═════════════════════════════════╪═══╪══════════════════╪═════════╪═══════╪══════════╡\n",
       "│ 1           ┆ 0        ┆ 3      ┆ Braund, Mr. Owen Harris         ┆ … ┆ A/5 21171        ┆ 7.25    ┆ null  ┆ S        │\n",
       "│ 2           ┆ 1        ┆ 1      ┆ Cumings, Mrs. John Bradley (Fl… ┆ … ┆ PC 17599         ┆ 71.2833 ┆ C85   ┆ C        │\n",
       "│ 3           ┆ 1        ┆ 3      ┆ Heikkinen, Miss. Laina          ┆ … ┆ STON/O2. 3101282 ┆ 7.925   ┆ null  ┆ S        │\n",
       "└─────────────┴──────────┴────────┴─────────────────────────────────┴───┴──────────────────┴─────────┴───────┴──────────┘"
      ]
     },
     "execution_count": 29,
     "metadata": {},
     "output_type": "execute_result"
    }
   ],
   "source": [
    "df = pl.read_csv(CSV_FILE)\n",
    "df.head(3)"
   ]
  },
  {
   "cell_type": "code",
   "execution_count": 30,
   "id": "71a8dd60-6f9f-466c-9b7e-6e2612ad03b7",
   "metadata": {},
   "outputs": [
    {
     "data": {
      "text/html": [
       "<div><style>\n",
       ".dataframe > thead > tr,\n",
       ".dataframe > tbody > tr {\n",
       "  text-align: right;\n",
       "  white-space: pre-wrap;\n",
       "}\n",
       "</style>\n",
       "<small>shape: (3, 2)</small><table border=\"1\" class=\"dataframe\"><thead><tr><th>Pclass</th><th>Fare</th></tr><tr><td>i64</td><td>f64</td></tr></thead><tbody><tr><td>2</td><td>20.662183</td></tr><tr><td>1</td><td>84.154687</td></tr><tr><td>3</td><td>13.67555</td></tr></tbody></table></div>"
      ],
      "text/plain": [
       "shape: (3, 2)\n",
       "┌────────┬───────────┐\n",
       "│ Pclass ┆ Fare      │\n",
       "│ ---    ┆ ---       │\n",
       "│ i64    ┆ f64       │\n",
       "╞════════╪═══════════╡\n",
       "│ 2      ┆ 20.662183 │\n",
       "│ 1      ┆ 84.154687 │\n",
       "│ 3      ┆ 13.67555  │\n",
       "└────────┴───────────┘"
      ]
     },
     "execution_count": 30,
     "metadata": {},
     "output_type": "execute_result"
    }
   ],
   "source": [
    "(\n",
    "    df\n",
    "    .group_by(\"Pclass\")\n",
    "    .agg(\n",
    "        pl.col(\"Fare\").mean()\n",
    "    )\n",
    ")"
   ]
  },
  {
   "cell_type": "code",
   "execution_count": 31,
   "id": "93cc4270-33b5-4c4d-b48a-86975b6ed46a",
   "metadata": {},
   "outputs": [
    {
     "data": {
      "text/html": [
       "<div><style>\n",
       ".dataframe > thead > tr,\n",
       ".dataframe > tbody > tr {\n",
       "  text-align: right;\n",
       "  white-space: pre-wrap;\n",
       "}\n",
       "</style>\n",
       "<small>shape: (3, 2)</small><table border=\"1\" class=\"dataframe\"><thead><tr><th>Pclass</th><th>Fare</th></tr><tr><td>i64</td><td>list[f64]</td></tr></thead><tbody><tr><td>1</td><td>[71.2833, 53.1, … 30.0]</td></tr><tr><td>3</td><td>[7.25, 7.925, … 7.75]</td></tr><tr><td>2</td><td>[30.0708, 16.0, … 13.0]</td></tr></tbody></table></div>"
      ],
      "text/plain": [
       "shape: (3, 2)\n",
       "┌────────┬─────────────────────────┐\n",
       "│ Pclass ┆ Fare                    │\n",
       "│ ---    ┆ ---                     │\n",
       "│ i64    ┆ list[f64]               │\n",
       "╞════════╪═════════════════════════╡\n",
       "│ 1      ┆ [71.2833, 53.1, … 30.0] │\n",
       "│ 3      ┆ [7.25, 7.925, … 7.75]   │\n",
       "│ 2      ┆ [30.0708, 16.0, … 13.0] │\n",
       "└────────┴─────────────────────────┘"
      ]
     },
     "execution_count": 31,
     "metadata": {},
     "output_type": "execute_result"
    }
   ],
   "source": [
    "(\n",
    "    df\n",
    "    .group_by(\"Pclass\")\n",
    "    .agg(\n",
    "        pl.col(\"Fare\")\n",
    "    )\n",
    ")"
   ]
  },
  {
   "cell_type": "code",
   "execution_count": 32,
   "id": "a0f1b3ee-1ca5-49e3-b849-9c1931151f59",
   "metadata": {},
   "outputs": [
    {
     "data": {
      "text/html": [
       "<div><style>\n",
       ".dataframe > thead > tr,\n",
       ".dataframe > tbody > tr {\n",
       "  text-align: right;\n",
       "  white-space: pre-wrap;\n",
       "}\n",
       "</style>\n",
       "<small>shape: (6, 3)</small><table border=\"1\" class=\"dataframe\"><thead><tr><th>Pclass</th><th>Survived</th><th>Fare</th></tr><tr><td>i64</td><td>i64</td><td>f64</td></tr></thead><tbody><tr><td>1</td><td>1</td><td>95.608029</td></tr><tr><td>1</td><td>0</td><td>64.684008</td></tr><tr><td>2</td><td>0</td><td>19.412328</td></tr><tr><td>2</td><td>1</td><td>22.0557</td></tr><tr><td>3</td><td>1</td><td>13.694887</td></tr><tr><td>3</td><td>0</td><td>13.669364</td></tr></tbody></table></div>"
      ],
      "text/plain": [
       "shape: (6, 3)\n",
       "┌────────┬──────────┬───────────┐\n",
       "│ Pclass ┆ Survived ┆ Fare      │\n",
       "│ ---    ┆ ---      ┆ ---       │\n",
       "│ i64    ┆ i64      ┆ f64       │\n",
       "╞════════╪══════════╪═══════════╡\n",
       "│ 1      ┆ 1        ┆ 95.608029 │\n",
       "│ 1      ┆ 0        ┆ 64.684008 │\n",
       "│ 2      ┆ 0        ┆ 19.412328 │\n",
       "│ 2      ┆ 1        ┆ 22.0557   │\n",
       "│ 3      ┆ 1        ┆ 13.694887 │\n",
       "│ 3      ┆ 0        ┆ 13.669364 │\n",
       "└────────┴──────────┴───────────┘"
      ]
     },
     "execution_count": 32,
     "metadata": {},
     "output_type": "execute_result"
    }
   ],
   "source": [
    "(\n",
    "    df\n",
    "    .group_by(\"Pclass\", \"Survived\")\n",
    "    .agg(\n",
    "        pl.col(\"Fare\").mean()\n",
    "    )\n",
    ")"
   ]
  },
  {
   "cell_type": "code",
   "execution_count": 33,
   "id": "e7a8efa1-4fb1-45b3-ac23-b5c79d19b8cf",
   "metadata": {},
   "outputs": [
    {
     "data": {
      "text/html": [
       "<div><style>\n",
       ".dataframe > thead > tr,\n",
       ".dataframe > tbody > tr {\n",
       "  text-align: right;\n",
       "  white-space: pre-wrap;\n",
       "}\n",
       "</style>\n",
       "<small>shape: (5, 2)</small><table border=\"1\" class=\"dataframe\"><thead><tr><th>Age</th><th>Fare</th></tr><tr><td>i64</td><td>f64</td></tr></thead><tbody><tr><td>35</td><td>89.3125</td></tr><tr><td>42</td><td>37.125646</td></tr><tr><td>21</td><td>31.565621</td></tr><tr><td>12</td><td>11.2417</td></tr><tr><td>56</td><td>43.976025</td></tr></tbody></table></div>"
      ],
      "text/plain": [
       "shape: (5, 2)\n",
       "┌─────┬───────────┐\n",
       "│ Age ┆ Fare      │\n",
       "│ --- ┆ ---       │\n",
       "│ i64 ┆ f64       │\n",
       "╞═════╪═══════════╡\n",
       "│ 35  ┆ 89.3125   │\n",
       "│ 42  ┆ 37.125646 │\n",
       "│ 21  ┆ 31.565621 │\n",
       "│ 12  ┆ 11.2417   │\n",
       "│ 56  ┆ 43.976025 │\n",
       "└─────┴───────────┘"
      ]
     },
     "execution_count": 33,
     "metadata": {},
     "output_type": "execute_result"
    }
   ],
   "source": [
    "(\n",
    "    df\n",
    "    .group_by(pl.col(\"Age\").cast(pl.Int64))\n",
    "    .agg(\n",
    "        pl.col(\"Fare\").mean()\n",
    "    )\n",
    "    .head()\n",
    ")"
   ]
  },
  {
   "cell_type": "code",
   "execution_count": 34,
   "id": "224d817d-0c6f-41b1-b3d1-e7328e21cef8",
   "metadata": {},
   "outputs": [
    {
     "data": {
      "text/html": [
       "<div><style>\n",
       ".dataframe > thead > tr,\n",
       ".dataframe > tbody > tr {\n",
       "  text-align: right;\n",
       "  white-space: pre-wrap;\n",
       "}\n",
       "</style>\n",
       "<small>shape: (5, 2)</small><table border=\"1\" class=\"dataframe\"><thead><tr><th>age_integer</th><th>Fare</th></tr><tr><td>i64</td><td>f64</td></tr></thead><tbody><tr><td>32</td><td>24.04458</td></tr><tr><td>59</td><td>10.375</td></tr><tr><td>43</td><td>59.7975</td></tr><tr><td>64</td><td>144.5</td></tr><tr><td>71</td><td>42.0792</td></tr></tbody></table></div>"
      ],
      "text/plain": [
       "shape: (5, 2)\n",
       "┌─────────────┬──────────┐\n",
       "│ age_integer ┆ Fare     │\n",
       "│ ---         ┆ ---      │\n",
       "│ i64         ┆ f64      │\n",
       "╞═════════════╪══════════╡\n",
       "│ 32          ┆ 24.04458 │\n",
       "│ 59          ┆ 10.375   │\n",
       "│ 43          ┆ 59.7975  │\n",
       "│ 64          ┆ 144.5    │\n",
       "│ 71          ┆ 42.0792  │\n",
       "└─────────────┴──────────┘"
      ]
     },
     "execution_count": 34,
     "metadata": {},
     "output_type": "execute_result"
    }
   ],
   "source": [
    "(\n",
    "    df\n",
    "    .group_by(\n",
    "        age_integer = pl.col(\"Age\").cast(pl.Int64)\n",
    "    )\n",
    "    .agg(\n",
    "        pl.col(\"Fare\").mean()\n",
    "    )\n",
    "    .head()\n",
    ")"
   ]
  },
  {
   "cell_type": "code",
   "execution_count": 35,
   "id": "06434fa8-2ff8-475b-93e7-1539a21447e2",
   "metadata": {},
   "outputs": [
    {
     "name": "stdout",
     "output_type": "stream",
     "text": [
      "AGGREGATE[maintain_order: false]\n",
      "  [col(\"Fare\").mean()] BY [col(\"Pclass\")]\n",
      "  FROM\n",
      "  Csv SCAN [./data/titanic.csv] [id: 6044597230192]\n",
      "  PROJECT 2/12 COLUMNS\n"
     ]
    }
   ],
   "source": [
    "print(\n",
    "    pl.scan_csv(CSV_FILE)\n",
    "    .group_by(\"Pclass\")\n",
    "    .agg(\n",
    "        pl.col(\"Fare\").mean()\n",
    "    )\n",
    "    .explain()\n",
    ")"
   ]
  },
  {
   "cell_type": "code",
   "execution_count": 36,
   "id": "4e1891d5-3a01-4eb8-8712-ca83b09c818d",
   "metadata": {},
   "outputs": [
    {
     "name": "stdout",
     "output_type": "stream",
     "text": [
      "AGGREGATE[maintain_order: false]\n",
      "  [col(\"Fare\").mean()] BY [col(\"Pclass\")]\n",
      "  FROM\n",
      "  Csv SCAN [./data/titanic.csv] [id: 6044597228160]\n",
      "  PROJECT 2/12 COLUMNS\n"
     ]
    }
   ],
   "source": [
    "print(\n",
    "    pl.scan_csv(CSV_FILE)\n",
    "    .group_by(\"Pclass\")\n",
    "    .agg(\n",
    "        pl.col(\"Fare\").mean()\n",
    "    )\n",
    "    .explain(engine=True)\n",
    ")"
   ]
  },
  {
   "cell_type": "code",
   "execution_count": 37,
   "id": "d3b6d803-6cdf-4b4f-b5a2-507efd9c9c17",
   "metadata": {},
   "outputs": [
    {
     "name": "stdout",
     "output_type": "stream",
     "text": [
      "AGGREGATE[maintain_order: false]\n",
      "  [col(\"Fare\").mean().round()] BY [col(\"Pclass\")]\n",
      "  FROM\n",
      "  Csv SCAN [./data/titanic.csv] [id: 6044597223824]\n",
      "  PROJECT 2/12 COLUMNS\n"
     ]
    }
   ],
   "source": [
    "print(\n",
    "    pl.scan_csv(CSV_FILE)\n",
    "    .group_by(\"Pclass\")\n",
    "    .agg(\n",
    "        pl.col(\"Fare\").mean().round(1)\n",
    "    )\n",
    "    .explain(engine=True)\n",
    ")"
   ]
  },
  {
   "cell_type": "code",
   "execution_count": 38,
   "id": "e1088443-4461-40e8-bb6b-38520443a524",
   "metadata": {},
   "outputs": [
    {
     "data": {
      "text/html": [
       "<div><style>\n",
       ".dataframe > thead > tr,\n",
       ".dataframe > tbody > tr {\n",
       "  text-align: right;\n",
       "  white-space: pre-wrap;\n",
       "}\n",
       "</style>\n",
       "<small>shape: (3, 2)</small><table border=\"1\" class=\"dataframe\"><thead><tr><th>Pclass</th><th>Fare</th></tr><tr><td>i64</td><td>f64</td></tr></thead><tbody><tr><td>1</td><td>84.154688</td></tr><tr><td>2</td><td>20.662183</td></tr><tr><td>3</td><td>13.67555</td></tr></tbody></table></div>"
      ],
      "text/plain": [
       "shape: (3, 2)\n",
       "┌────────┬───────────┐\n",
       "│ Pclass ┆ Fare      │\n",
       "│ ---    ┆ ---       │\n",
       "│ i64    ┆ f64       │\n",
       "╞════════╪═══════════╡\n",
       "│ 1      ┆ 84.154688 │\n",
       "│ 2      ┆ 20.662183 │\n",
       "│ 3      ┆ 13.67555  │\n",
       "└────────┴───────────┘"
      ]
     },
     "execution_count": 38,
     "metadata": {},
     "output_type": "execute_result"
    }
   ],
   "source": [
    "pl.Config.set_verbose()\n",
    "(\n",
    "    df\n",
    "    .sort(\"Pclass\")\n",
    "    .group_by(\"Pclass\")\n",
    "    .agg(\n",
    "        pl.col(\"Fare\").mean()\n",
    "    )\n",
    ")"
   ]
  },
  {
   "cell_type": "code",
   "execution_count": 42,
   "id": "7194ca50-686e-490b-96d9-4a4a05d11d98",
   "metadata": {},
   "outputs": [
    {
     "data": {
      "text/html": [
       "<div><style>\n",
       ".dataframe > thead > tr,\n",
       ".dataframe > tbody > tr {\n",
       "  text-align: right;\n",
       "  white-space: pre-wrap;\n",
       "}\n",
       "</style>\n",
       "<small>shape: (3, 12)</small><table border=\"1\" class=\"dataframe\"><thead><tr><th>PassengerId</th><th>Survived</th><th>Pclass</th><th>Name</th><th>Sex</th><th>Age</th><th>SibSp</th><th>Parch</th><th>Ticket</th><th>Fare</th><th>Cabin</th><th>Embarked</th></tr><tr><td>i64</td><td>i64</td><td>i64</td><td>str</td><td>str</td><td>f64</td><td>i64</td><td>i64</td><td>str</td><td>f64</td><td>str</td><td>str</td></tr></thead><tbody><tr><td>1</td><td>0</td><td>3</td><td>&quot;Braund, Mr. Owen Harris&quot;</td><td>&quot;male&quot;</td><td>22.0</td><td>1</td><td>0</td><td>&quot;A/5 21171&quot;</td><td>7.25</td><td>null</td><td>&quot;S&quot;</td></tr><tr><td>2</td><td>1</td><td>1</td><td>&quot;Cumings, Mrs. John Bradley (Fl…</td><td>&quot;female&quot;</td><td>38.0</td><td>1</td><td>0</td><td>&quot;PC 17599&quot;</td><td>71.2833</td><td>&quot;C85&quot;</td><td>&quot;C&quot;</td></tr><tr><td>3</td><td>1</td><td>3</td><td>&quot;Heikkinen, Miss. Laina&quot;</td><td>&quot;female&quot;</td><td>26.0</td><td>0</td><td>0</td><td>&quot;STON/O2. 3101282&quot;</td><td>7.925</td><td>null</td><td>&quot;S&quot;</td></tr></tbody></table></div>"
      ],
      "text/plain": [
       "shape: (3, 12)\n",
       "┌─────────────┬──────────┬────────┬─────────────────────────────────┬───┬──────────────────┬─────────┬───────┬──────────┐\n",
       "│ PassengerId ┆ Survived ┆ Pclass ┆ Name                            ┆ … ┆ Ticket           ┆ Fare    ┆ Cabin ┆ Embarked │\n",
       "│ ---         ┆ ---      ┆ ---    ┆ ---                             ┆   ┆ ---              ┆ ---     ┆ ---   ┆ ---      │\n",
       "│ i64         ┆ i64      ┆ i64    ┆ str                             ┆   ┆ str              ┆ f64     ┆ str   ┆ str      │\n",
       "╞═════════════╪══════════╪════════╪═════════════════════════════════╪═══╪══════════════════╪═════════╪═══════╪══════════╡\n",
       "│ 1           ┆ 0        ┆ 3      ┆ Braund, Mr. Owen Harris         ┆ … ┆ A/5 21171        ┆ 7.25    ┆ null  ┆ S        │\n",
       "│ 2           ┆ 1        ┆ 1      ┆ Cumings, Mrs. John Bradley (Fl… ┆ … ┆ PC 17599         ┆ 71.2833 ┆ C85   ┆ C        │\n",
       "│ 3           ┆ 1        ┆ 3      ┆ Heikkinen, Miss. Laina          ┆ … ┆ STON/O2. 3101282 ┆ 7.925   ┆ null  ┆ S        │\n",
       "└─────────────┴──────────┴────────┴─────────────────────────────────┴───┴──────────────────┴─────────┴───────┴──────────┘"
      ]
     },
     "execution_count": 42,
     "metadata": {},
     "output_type": "execute_result"
    }
   ],
   "source": [
    "df = pl.read_csv(CSV_FILE)\n",
    "df.head(3)"
   ]
  },
  {
   "cell_type": "code",
   "execution_count": 55,
   "id": "88d10225-4b32-4045-bcb5-6728e1716cc6",
   "metadata": {},
   "outputs": [
    {
     "name": "stdout",
     "output_type": "stream",
     "text": [
      "PClass: 3\n",
      "shape: (1, 12)\n",
      "┌─────────────┬──────────┬────────┬──────┬───┬────────┬──────────┬───────┬──────────┐\n",
      "│ PassengerId ┆ Survived ┆ Pclass ┆ Name ┆ … ┆ Ticket ┆ Fare     ┆ Cabin ┆ Embarked │\n",
      "│ ---         ┆ ---      ┆ ---    ┆ ---  ┆   ┆ ---    ┆ ---      ┆ ---   ┆ ---      │\n",
      "│ f64         ┆ f64      ┆ f64    ┆ str  ┆   ┆ str    ┆ f64      ┆ str   ┆ str      │\n",
      "╞═════════════╪══════════╪════════╪══════╪═══╪════════╪══════════╪═══════╪══════════╡\n",
      "│ 439.154786  ┆ 0.242363 ┆ 3.0    ┆ null ┆ … ┆ null   ┆ 13.67555 ┆ null  ┆ null     │\n",
      "└─────────────┴──────────┴────────┴──────┴───┴────────┴──────────┴───────┴──────────┘\n",
      "PClass: 1\n",
      "shape: (1, 12)\n",
      "┌─────────────┬──────────┬────────┬──────┬───┬────────┬───────────┬───────┬──────────┐\n",
      "│ PassengerId ┆ Survived ┆ Pclass ┆ Name ┆ … ┆ Ticket ┆ Fare      ┆ Cabin ┆ Embarked │\n",
      "│ ---         ┆ ---      ┆ ---    ┆ ---  ┆   ┆ ---    ┆ ---       ┆ ---   ┆ ---      │\n",
      "│ f64         ┆ f64      ┆ f64    ┆ str  ┆   ┆ str    ┆ f64       ┆ str   ┆ str      │\n",
      "╞═════════════╪══════════╪════════╪══════╪═══╪════════╪═══════════╪═══════╪══════════╡\n",
      "│ 461.597222  ┆ 0.62963  ┆ 1.0    ┆ null ┆ … ┆ null   ┆ 84.154688 ┆ null  ┆ null     │\n",
      "└─────────────┴──────────┴────────┴──────┴───┴────────┴───────────┴───────┴──────────┘\n",
      "PClass: 2\n",
      "shape: (1, 12)\n",
      "┌─────────────┬──────────┬────────┬──────┬───┬────────┬───────────┬───────┬──────────┐\n",
      "│ PassengerId ┆ Survived ┆ Pclass ┆ Name ┆ … ┆ Ticket ┆ Fare      ┆ Cabin ┆ Embarked │\n",
      "│ ---         ┆ ---      ┆ ---    ┆ ---  ┆   ┆ ---    ┆ ---       ┆ ---   ┆ ---      │\n",
      "│ f64         ┆ f64      ┆ f64    ┆ str  ┆   ┆ str    ┆ f64       ┆ str   ┆ str      │\n",
      "╞═════════════╪══════════╪════════╪══════╪═══╪════════╪═══════════╪═══════╪══════════╡\n",
      "│ 445.956522  ┆ 0.472826 ┆ 2.0    ┆ null ┆ … ┆ null   ┆ 20.662183 ┆ null  ┆ null     │\n",
      "└─────────────┴──────────┴────────┴──────┴───┴────────┴───────────┴───────┴──────────┘\n"
     ]
    }
   ],
   "source": [
    "for (pclass,), group_df in df.group_by([\"Pclass\"]):\n",
    "    print(f\"PClass: {pclass}\")\n",
    "    print(group_df.mean())"
   ]
  },
  {
   "cell_type": "code",
   "execution_count": 56,
   "id": "d6f37264-348f-42bf-93a0-8264cef6b486",
   "metadata": {},
   "outputs": [
    {
     "name": "stdout",
     "output_type": "stream",
     "text": [
      "Pclass: 3, Survived: 0\n",
      "shape: (1, 12)\n",
      "┌─────────────┬──────────┬────────┬──────┬───┬────────┬───────────┬───────┬──────────┐\n",
      "│ PassengerId ┆ Survived ┆ Pclass ┆ Name ┆ … ┆ Ticket ┆ Fare      ┆ Cabin ┆ Embarked │\n",
      "│ ---         ┆ ---      ┆ ---    ┆ ---  ┆   ┆ ---    ┆ ---       ┆ ---   ┆ ---      │\n",
      "│ f64         ┆ f64      ┆ f64    ┆ str  ┆   ┆ str    ┆ f64       ┆ str   ┆ str      │\n",
      "╞═════════════╪══════════╪════════╪══════╪═══╪════════╪═══════════╪═══════╪══════════╡\n",
      "│ 453.580645  ┆ 0.0      ┆ 3.0    ┆ null ┆ … ┆ null   ┆ 13.669364 ┆ null  ┆ null     │\n",
      "└─────────────┴──────────┴────────┴──────┴───┴────────┴───────────┴───────┴──────────┘\n",
      "Pclass: 2, Survived: 1\n",
      "shape: (1, 12)\n",
      "┌─────────────┬──────────┬────────┬──────┬───┬────────┬─────────┬───────┬──────────┐\n",
      "│ PassengerId ┆ Survived ┆ Pclass ┆ Name ┆ … ┆ Ticket ┆ Fare    ┆ Cabin ┆ Embarked │\n",
      "│ ---         ┆ ---      ┆ ---    ┆ ---  ┆   ┆ ---    ┆ ---     ┆ ---   ┆ ---      │\n",
      "│ f64         ┆ f64      ┆ f64    ┆ str  ┆   ┆ str    ┆ f64     ┆ str   ┆ str      │\n",
      "╞═════════════╪══════════╪════════╪══════╪═══╪════════╪═════════╪═══════╪══════════╡\n",
      "│ 439.08046   ┆ 1.0      ┆ 2.0    ┆ null ┆ … ┆ null   ┆ 22.0557 ┆ null  ┆ null     │\n",
      "└─────────────┴──────────┴────────┴──────┴───┴────────┴─────────┴───────┴──────────┘\n",
      "Pclass: 3, Survived: 1\n",
      "shape: (1, 12)\n",
      "┌─────────────┬──────────┬────────┬──────┬───┬────────┬───────────┬───────┬──────────┐\n",
      "│ PassengerId ┆ Survived ┆ Pclass ┆ Name ┆ … ┆ Ticket ┆ Fare      ┆ Cabin ┆ Embarked │\n",
      "│ ---         ┆ ---      ┆ ---    ┆ ---  ┆   ┆ ---    ┆ ---       ┆ ---   ┆ ---      │\n",
      "│ f64         ┆ f64      ┆ f64    ┆ str  ┆   ┆ str    ┆ f64       ┆ str   ┆ str      │\n",
      "╞═════════════╪══════════╪════════╪══════╪═══╪════════╪═══════════╪═══════╪══════════╡\n",
      "│ 394.058824  ┆ 1.0      ┆ 3.0    ┆ null ┆ … ┆ null   ┆ 13.694887 ┆ null  ┆ null     │\n",
      "└─────────────┴──────────┴────────┴──────┴───┴────────┴───────────┴───────┴──────────┘\n",
      "Pclass: 1, Survived: 0\n",
      "shape: (1, 12)\n",
      "┌─────────────┬──────────┬────────┬──────┬───┬────────┬───────────┬───────┬──────────┐\n",
      "│ PassengerId ┆ Survived ┆ Pclass ┆ Name ┆ … ┆ Ticket ┆ Fare      ┆ Cabin ┆ Embarked │\n",
      "│ ---         ┆ ---      ┆ ---    ┆ ---  ┆   ┆ ---    ┆ ---       ┆ ---   ┆ ---      │\n",
      "│ f64         ┆ f64      ┆ f64    ┆ str  ┆   ┆ str    ┆ f64       ┆ str   ┆ str      │\n",
      "╞═════════════╪══════════╪════════╪══════╪═══╪════════╪═══════════╪═══════╪══════════╡\n",
      "│ 410.3       ┆ 0.0      ┆ 1.0    ┆ null ┆ … ┆ null   ┆ 64.684008 ┆ null  ┆ null     │\n",
      "└─────────────┴──────────┴────────┴──────┴───┴────────┴───────────┴───────┴──────────┘\n",
      "Pclass: 2, Survived: 0\n",
      "shape: (1, 12)\n",
      "┌─────────────┬──────────┬────────┬──────┬───┬────────┬───────────┬───────┬──────────┐\n",
      "│ PassengerId ┆ Survived ┆ Pclass ┆ Name ┆ … ┆ Ticket ┆ Fare      ┆ Cabin ┆ Embarked │\n",
      "│ ---         ┆ ---      ┆ ---    ┆ ---  ┆   ┆ ---    ┆ ---       ┆ ---   ┆ ---      │\n",
      "│ f64         ┆ f64      ┆ f64    ┆ str  ┆   ┆ str    ┆ f64       ┆ str   ┆ str      │\n",
      "╞═════════════╪══════════╪════════╪══════╪═══╪════════╪═══════════╪═══════╪══════════╡\n",
      "│ 452.123711  ┆ 0.0      ┆ 2.0    ┆ null ┆ … ┆ null   ┆ 19.412328 ┆ null  ┆ null     │\n",
      "└─────────────┴──────────┴────────┴──────┴───┴────────┴───────────┴───────┴──────────┘\n",
      "Pclass: 1, Survived: 1\n",
      "shape: (1, 12)\n",
      "┌─────────────┬──────────┬────────┬──────┬───┬────────┬───────────┬───────┬──────────┐\n",
      "│ PassengerId ┆ Survived ┆ Pclass ┆ Name ┆ … ┆ Ticket ┆ Fare      ┆ Cabin ┆ Embarked │\n",
      "│ ---         ┆ ---      ┆ ---    ┆ ---  ┆   ┆ ---    ┆ ---       ┆ ---   ┆ ---      │\n",
      "│ f64         ┆ f64      ┆ f64    ┆ str  ┆   ┆ str    ┆ f64       ┆ str   ┆ str      │\n",
      "╞═════════════╪══════════╪════════╪══════╪═══╪════════╪═══════════╪═══════╪══════════╡\n",
      "│ 491.772059  ┆ 1.0      ┆ 1.0    ┆ null ┆ … ┆ null   ┆ 95.608029 ┆ null  ┆ null     │\n",
      "└─────────────┴──────────┴────────┴──────┴───┴────────┴───────────┴───────┴──────────┘\n"
     ]
    }
   ],
   "source": [
    "for (pclass, survived), group_df in df.group_by(\"Pclass\", \"Survived\"):\n",
    "    print(f\"Pclass: {pclass}, Survived: {survived}\")\n",
    "    print(group_df.mean())"
   ]
  },
  {
   "cell_type": "code",
   "execution_count": 58,
   "id": "92faaa90-80af-43b9-befd-c6528ba80a9d",
   "metadata": {},
   "outputs": [
    {
     "data": {
      "text/html": [
       "<div><style>\n",
       ".dataframe > thead > tr,\n",
       ".dataframe > tbody > tr {\n",
       "  text-align: right;\n",
       "  white-space: pre-wrap;\n",
       "}\n",
       "</style>\n",
       "<small>shape: (6, 12)</small><table border=\"1\" class=\"dataframe\"><thead><tr><th>Pclass</th><th>PassengerId</th><th>Survived</th><th>Name</th><th>Sex</th><th>Age</th><th>SibSp</th><th>Parch</th><th>Ticket</th><th>Fare</th><th>Cabin</th><th>Embarked</th></tr><tr><td>i64</td><td>i64</td><td>i64</td><td>str</td><td>str</td><td>f64</td><td>i64</td><td>i64</td><td>str</td><td>f64</td><td>str</td><td>str</td></tr></thead><tbody><tr><td>2</td><td>10</td><td>1</td><td>&quot;Nasser, Mrs. Nicholas (Adele A…</td><td>&quot;female&quot;</td><td>14.0</td><td>1</td><td>0</td><td>&quot;237736&quot;</td><td>30.0708</td><td>null</td><td>&quot;C&quot;</td></tr><tr><td>2</td><td>16</td><td>1</td><td>&quot;Hewlett, Mrs. (Mary D Kingcome…</td><td>&quot;female&quot;</td><td>55.0</td><td>0</td><td>0</td><td>&quot;248706&quot;</td><td>16.0</td><td>null</td><td>&quot;S&quot;</td></tr><tr><td>1</td><td>2</td><td>1</td><td>&quot;Cumings, Mrs. John Bradley (Fl…</td><td>&quot;female&quot;</td><td>38.0</td><td>1</td><td>0</td><td>&quot;PC 17599&quot;</td><td>71.2833</td><td>&quot;C85&quot;</td><td>&quot;C&quot;</td></tr><tr><td>1</td><td>4</td><td>1</td><td>&quot;Futrelle, Mrs. Jacques Heath (…</td><td>&quot;female&quot;</td><td>35.0</td><td>1</td><td>0</td><td>&quot;113803&quot;</td><td>53.1</td><td>&quot;C123&quot;</td><td>&quot;S&quot;</td></tr><tr><td>3</td><td>1</td><td>0</td><td>&quot;Braund, Mr. Owen Harris&quot;</td><td>&quot;male&quot;</td><td>22.0</td><td>1</td><td>0</td><td>&quot;A/5 21171&quot;</td><td>7.25</td><td>null</td><td>&quot;S&quot;</td></tr><tr><td>3</td><td>3</td><td>1</td><td>&quot;Heikkinen, Miss. Laina&quot;</td><td>&quot;female&quot;</td><td>26.0</td><td>0</td><td>0</td><td>&quot;STON/O2. 3101282&quot;</td><td>7.925</td><td>null</td><td>&quot;S&quot;</td></tr></tbody></table></div>"
      ],
      "text/plain": [
       "shape: (6, 12)\n",
       "┌────────┬─────────────┬──────────┬─────────────────────────────────┬───┬──────────────────┬─────────┬───────┬──────────┐\n",
       "│ Pclass ┆ PassengerId ┆ Survived ┆ Name                            ┆ … ┆ Ticket           ┆ Fare    ┆ Cabin ┆ Embarked │\n",
       "│ ---    ┆ ---         ┆ ---      ┆ ---                             ┆   ┆ ---              ┆ ---     ┆ ---   ┆ ---      │\n",
       "│ i64    ┆ i64         ┆ i64      ┆ str                             ┆   ┆ str              ┆ f64     ┆ str   ┆ str      │\n",
       "╞════════╪═════════════╪══════════╪═════════════════════════════════╪═══╪══════════════════╪═════════╪═══════╪══════════╡\n",
       "│ 2      ┆ 10          ┆ 1        ┆ Nasser, Mrs. Nicholas (Adele A… ┆ … ┆ 237736           ┆ 30.0708 ┆ null  ┆ C        │\n",
       "│ 2      ┆ 16          ┆ 1        ┆ Hewlett, Mrs. (Mary D Kingcome… ┆ … ┆ 248706           ┆ 16.0    ┆ null  ┆ S        │\n",
       "│ 1      ┆ 2           ┆ 1        ┆ Cumings, Mrs. John Bradley (Fl… ┆ … ┆ PC 17599         ┆ 71.2833 ┆ C85   ┆ C        │\n",
       "│ 1      ┆ 4           ┆ 1        ┆ Futrelle, Mrs. Jacques Heath (… ┆ … ┆ 113803           ┆ 53.1    ┆ C123  ┆ S        │\n",
       "│ 3      ┆ 1           ┆ 0        ┆ Braund, Mr. Owen Harris         ┆ … ┆ A/5 21171        ┆ 7.25    ┆ null  ┆ S        │\n",
       "│ 3      ┆ 3           ┆ 1        ┆ Heikkinen, Miss. Laina          ┆ … ┆ STON/O2. 3101282 ┆ 7.925   ┆ null  ┆ S        │\n",
       "└────────┴─────────────┴──────────┴─────────────────────────────────┴───┴──────────────────┴─────────┴───────┴──────────┘"
      ]
     },
     "execution_count": 58,
     "metadata": {},
     "output_type": "execute_result"
    }
   ],
   "source": [
    "(\n",
    "    df\n",
    "    .group_by(\"Pclass\")\n",
    "    .head(2)\n",
    ")"
   ]
  },
  {
   "cell_type": "code",
   "execution_count": 59,
   "id": "d3bacf20-039e-434b-a62a-57e0c792dc86",
   "metadata": {},
   "outputs": [
    {
     "data": {
      "text/html": [
       "<div><style>\n",
       ".dataframe > thead > tr,\n",
       ".dataframe > tbody > tr {\n",
       "  text-align: right;\n",
       "  white-space: pre-wrap;\n",
       "}\n",
       "</style>\n",
       "<small>shape: (3, 2)</small><table border=\"1\" class=\"dataframe\"><thead><tr><th>Pclass</th><th>len</th></tr><tr><td>i64</td><td>u32</td></tr></thead><tbody><tr><td>3</td><td>491</td></tr><tr><td>2</td><td>184</td></tr><tr><td>1</td><td>216</td></tr></tbody></table></div>"
      ],
      "text/plain": [
       "shape: (3, 2)\n",
       "┌────────┬─────┐\n",
       "│ Pclass ┆ len │\n",
       "│ ---    ┆ --- │\n",
       "│ i64    ┆ u32 │\n",
       "╞════════╪═════╡\n",
       "│ 3      ┆ 491 │\n",
       "│ 2      ┆ 184 │\n",
       "│ 1      ┆ 216 │\n",
       "└────────┴─────┘"
      ]
     },
     "execution_count": 59,
     "metadata": {},
     "output_type": "execute_result"
    }
   ],
   "source": [
    "(\n",
    "    df\n",
    "    .group_by(\"Pclass\")\n",
    "    .len()\n",
    ")"
   ]
  },
  {
   "cell_type": "code",
   "execution_count": 60,
   "id": "892e3f37-e39c-45a0-b2e9-7985d3680f6f",
   "metadata": {},
   "outputs": [
    {
     "data": {
      "text/html": [
       "<div><style>\n",
       ".dataframe > thead > tr,\n",
       ".dataframe > tbody > tr {\n",
       "  text-align: right;\n",
       "  white-space: pre-wrap;\n",
       "}\n",
       "</style>\n",
       "<small>shape: (3, 5)</small><table border=\"1\" class=\"dataframe\"><thead><tr><th>Pclass</th><th>Age_min</th><th>Fare_min</th><th>Age_max</th><th>Fare_max</th></tr><tr><td>i64</td><td>f64</td><td>f64</td><td>f64</td><td>f64</td></tr></thead><tbody><tr><td>2</td><td>0.67</td><td>0.0</td><td>70.0</td><td>73.5</td></tr><tr><td>3</td><td>0.42</td><td>0.0</td><td>74.0</td><td>69.55</td></tr><tr><td>1</td><td>0.92</td><td>0.0</td><td>80.0</td><td>512.3292</td></tr></tbody></table></div>"
      ],
      "text/plain": [
       "shape: (3, 5)\n",
       "┌────────┬─────────┬──────────┬─────────┬──────────┐\n",
       "│ Pclass ┆ Age_min ┆ Fare_min ┆ Age_max ┆ Fare_max │\n",
       "│ ---    ┆ ---     ┆ ---      ┆ ---     ┆ ---      │\n",
       "│ i64    ┆ f64     ┆ f64      ┆ f64     ┆ f64      │\n",
       "╞════════╪═════════╪══════════╪═════════╪══════════╡\n",
       "│ 2      ┆ 0.67    ┆ 0.0      ┆ 70.0    ┆ 73.5     │\n",
       "│ 3      ┆ 0.42    ┆ 0.0      ┆ 74.0    ┆ 69.55    │\n",
       "│ 1      ┆ 0.92    ┆ 0.0      ┆ 80.0    ┆ 512.3292 │\n",
       "└────────┴─────────┴──────────┴─────────┴──────────┘"
      ]
     },
     "execution_count": 60,
     "metadata": {},
     "output_type": "execute_result"
    }
   ],
   "source": [
    "group_column = \"Pclass\"\n",
    "(\n",
    "    df\n",
    "    .group_by(group_column)\n",
    "    .agg(\n",
    "        pl.col(pl.Float64).min().name.suffix(\"_min\"),\n",
    "        pl.col(pl.Float64).max().name.suffix(\"_max\")\n",
    "    )\n",
    ")"
   ]
  },
  {
   "cell_type": "code",
   "execution_count": 61,
   "id": "400b5d29-0939-4f21-9d14-63fd908f73fc",
   "metadata": {},
   "outputs": [
    {
     "data": {
      "text/html": [
       "<div><style>\n",
       ".dataframe > thead > tr,\n",
       ".dataframe > tbody > tr {\n",
       "  text-align: right;\n",
       "  white-space: pre-wrap;\n",
       "}\n",
       "</style>\n",
       "<small>shape: (3, 5)</small><table border=\"1\" class=\"dataframe\"><thead><tr><th>Pclass</th><th>Age_max</th><th>Age_min</th><th>Fare_max</th><th>Fare_min</th></tr><tr><td>i64</td><td>f64</td><td>f64</td><td>f64</td><td>f64</td></tr></thead><tbody><tr><td>3</td><td>74.0</td><td>0.42</td><td>69.55</td><td>0.0</td></tr><tr><td>1</td><td>80.0</td><td>0.92</td><td>512.3292</td><td>0.0</td></tr><tr><td>2</td><td>70.0</td><td>0.67</td><td>73.5</td><td>0.0</td></tr></tbody></table></div>"
      ],
      "text/plain": [
       "shape: (3, 5)\n",
       "┌────────┬─────────┬─────────┬──────────┬──────────┐\n",
       "│ Pclass ┆ Age_max ┆ Age_min ┆ Fare_max ┆ Fare_min │\n",
       "│ ---    ┆ ---     ┆ ---     ┆ ---      ┆ ---      │\n",
       "│ i64    ┆ f64     ┆ f64     ┆ f64      ┆ f64      │\n",
       "╞════════╪═════════╪═════════╪══════════╪══════════╡\n",
       "│ 3      ┆ 74.0    ┆ 0.42    ┆ 69.55    ┆ 0.0      │\n",
       "│ 1      ┆ 80.0    ┆ 0.92    ┆ 512.3292 ┆ 0.0      │\n",
       "│ 2      ┆ 70.0    ┆ 0.67    ┆ 73.5     ┆ 0.0      │\n",
       "└────────┴─────────┴─────────┴──────────┴──────────┘"
      ]
     },
     "execution_count": 61,
     "metadata": {},
     "output_type": "execute_result"
    }
   ],
   "source": [
    "group_column = \"Pclass\"\n",
    "(\n",
    "    df\n",
    "    .group_by(group_column)\n",
    "    .agg(\n",
    "        pl.col(pl.Float64).min().name.suffix(\"_min\"),\n",
    "        pl.col(pl.Float64).max().name.suffix(\"_max\")\n",
    "    )\n",
    "    .pipe(\n",
    "        lambda df: df.select([group_column] + sorted(df.columns[1:]))\n",
    "    )\n",
    ")"
   ]
  },
  {
   "cell_type": "code",
   "execution_count": 62,
   "id": "b2cd8a0c-5091-4f3b-8f48-932c9a3b713b",
   "metadata": {},
   "outputs": [
    {
     "data": {
      "text/html": [
       "<div><style>\n",
       ".dataframe > thead > tr,\n",
       ".dataframe > tbody > tr {\n",
       "  text-align: right;\n",
       "  white-space: pre-wrap;\n",
       "}\n",
       "</style>\n",
       "<small>shape: (3, 5)</small><table border=\"1\" class=\"dataframe\"><thead><tr><th>Pclass</th><th>Age_max</th><th>Age_min</th><th>Fare_max</th><th>Fare_min</th></tr><tr><td>i64</td><td>f64</td><td>f64</td><td>f64</td><td>f64</td></tr></thead><tbody><tr><td>2</td><td>70.0</td><td>0.67</td><td>73.5</td><td>0.0</td></tr><tr><td>3</td><td>74.0</td><td>0.42</td><td>69.55</td><td>0.0</td></tr><tr><td>1</td><td>80.0</td><td>0.92</td><td>512.3292</td><td>0.0</td></tr></tbody></table></div>"
      ],
      "text/plain": [
       "shape: (3, 5)\n",
       "┌────────┬─────────┬─────────┬──────────┬──────────┐\n",
       "│ Pclass ┆ Age_max ┆ Age_min ┆ Fare_max ┆ Fare_min │\n",
       "│ ---    ┆ ---     ┆ ---     ┆ ---      ┆ ---      │\n",
       "│ i64    ┆ f64     ┆ f64     ┆ f64      ┆ f64      │\n",
       "╞════════╪═════════╪═════════╪══════════╪══════════╡\n",
       "│ 2      ┆ 70.0    ┆ 0.67    ┆ 73.5     ┆ 0.0      │\n",
       "│ 3      ┆ 74.0    ┆ 0.42    ┆ 69.55    ┆ 0.0      │\n",
       "│ 1      ┆ 80.0    ┆ 0.92    ┆ 512.3292 ┆ 0.0      │\n",
       "└────────┴─────────┴─────────┴──────────┴──────────┘"
      ]
     },
     "execution_count": 62,
     "metadata": {},
     "output_type": "execute_result"
    }
   ],
   "source": [
    "group_column = \"Pclass\"\n",
    "(\n",
    "    df\n",
    "    .group_by(group_column)\n",
    "    .agg(\n",
    "        cs.float().min().name.suffix(\"_min\"),\n",
    "        cs.float().max().name.suffix(\"_max\")\n",
    "    )\n",
    "    .pipe(\n",
    "        lambda df: df.select([group_column] + sorted(df.columns[1:]))\n",
    "    )\n",
    ")"
   ]
  },
  {
   "cell_type": "code",
   "execution_count": 63,
   "id": "7a71e1bb-58dc-41c7-a3b7-bc08dcbb67aa",
   "metadata": {},
   "outputs": [
    {
     "data": {
      "text/html": [
       "<div><style>\n",
       ".dataframe > thead > tr,\n",
       ".dataframe > tbody > tr {\n",
       "  text-align: right;\n",
       "  white-space: pre-wrap;\n",
       "}\n",
       "</style>\n",
       "<small>shape: (3, 12)</small><table border=\"1\" class=\"dataframe\"><thead><tr><th>PassengerId</th><th>Survived</th><th>Pclass</th><th>Name</th><th>Sex</th><th>Age</th><th>SibSp</th><th>Parch</th><th>Ticket</th><th>Fare</th><th>Cabin</th><th>Embarked</th></tr><tr><td>i64</td><td>i64</td><td>i64</td><td>str</td><td>str</td><td>f64</td><td>i64</td><td>i64</td><td>str</td><td>f64</td><td>str</td><td>str</td></tr></thead><tbody><tr><td>890</td><td>1</td><td>1</td><td>&quot;Young, Miss. Marie Grice&quot;</td><td>&quot;male&quot;</td><td>80.0</td><td>3</td><td>4</td><td>&quot;WE/P 5735&quot;</td><td>512.3292</td><td>&quot;T&quot;</td><td>&quot;S&quot;</td></tr><tr><td>891</td><td>1</td><td>3</td><td>&quot;van Melkebeke, Mr. Philemon&quot;</td><td>&quot;male&quot;</td><td>74.0</td><td>8</td><td>6</td><td>&quot;W./C. 6609&quot;</td><td>69.55</td><td>&quot;G6&quot;</td><td>&quot;S&quot;</td></tr><tr><td>887</td><td>1</td><td>2</td><td>&quot;del Carlo, Mr. Sebastiano&quot;</td><td>&quot;male&quot;</td><td>70.0</td><td>3</td><td>3</td><td>&quot;W/C 14208&quot;</td><td>73.5</td><td>&quot;F4&quot;</td><td>&quot;S&quot;</td></tr></tbody></table></div>"
      ],
      "text/plain": [
       "shape: (3, 12)\n",
       "┌─────────────┬──────────┬────────┬─────────────────────────────┬───┬────────────┬──────────┬───────┬──────────┐\n",
       "│ PassengerId ┆ Survived ┆ Pclass ┆ Name                        ┆ … ┆ Ticket     ┆ Fare     ┆ Cabin ┆ Embarked │\n",
       "│ ---         ┆ ---      ┆ ---    ┆ ---                         ┆   ┆ ---        ┆ ---      ┆ ---   ┆ ---      │\n",
       "│ i64         ┆ i64      ┆ i64    ┆ str                         ┆   ┆ str        ┆ f64      ┆ str   ┆ str      │\n",
       "╞═════════════╪══════════╪════════╪═════════════════════════════╪═══╪════════════╪══════════╪═══════╪══════════╡\n",
       "│ 890         ┆ 1        ┆ 1      ┆ Young, Miss. Marie Grice    ┆ … ┆ WE/P 5735  ┆ 512.3292 ┆ T     ┆ S        │\n",
       "│ 891         ┆ 1        ┆ 3      ┆ van Melkebeke, Mr. Philemon ┆ … ┆ W./C. 6609 ┆ 69.55    ┆ G6    ┆ S        │\n",
       "│ 887         ┆ 1        ┆ 2      ┆ del Carlo, Mr. Sebastiano   ┆ … ┆ W/C 14208  ┆ 73.5     ┆ F4    ┆ S        │\n",
       "└─────────────┴──────────┴────────┴─────────────────────────────┴───┴────────────┴──────────┴───────┴──────────┘"
      ]
     },
     "execution_count": 63,
     "metadata": {},
     "output_type": "execute_result"
    }
   ],
   "source": [
    "(\n",
    "    df\n",
    "    .group_by(\"Pclass\")\n",
    "    .map_groups(\n",
    "        lambda group_df: group_df.max()        \n",
    "    )\n",
    ")"
   ]
  },
  {
   "cell_type": "code",
   "execution_count": 64,
   "id": "3f895106-7e84-4f3b-85dd-6a88e0a7a9f9",
   "metadata": {},
   "outputs": [
    {
     "data": {
      "text/html": [
       "<div><style>\n",
       ".dataframe > thead > tr,\n",
       ".dataframe > tbody > tr {\n",
       "  text-align: right;\n",
       "  white-space: pre-wrap;\n",
       "}\n",
       "</style>\n",
       "<small>shape: (6, 2)</small><table border=\"1\" class=\"dataframe\"><thead><tr><th>Age</th><th>Fare</th></tr><tr><td>f64</td><td>f64</td></tr></thead><tbody><tr><td>22.0</td><td>7.25</td></tr><tr><td>26.0</td><td>7.925</td></tr><tr><td>38.0</td><td>71.2833</td></tr><tr><td>35.0</td><td>53.1</td></tr><tr><td>14.0</td><td>30.0708</td></tr><tr><td>55.0</td><td>16.0</td></tr></tbody></table></div>"
      ],
      "text/plain": [
       "shape: (6, 2)\n",
       "┌──────┬─────────┐\n",
       "│ Age  ┆ Fare    │\n",
       "│ ---  ┆ ---     │\n",
       "│ f64  ┆ f64     │\n",
       "╞══════╪═════════╡\n",
       "│ 22.0 ┆ 7.25    │\n",
       "│ 26.0 ┆ 7.925   │\n",
       "│ 38.0 ┆ 71.2833 │\n",
       "│ 35.0 ┆ 53.1    │\n",
       "│ 14.0 ┆ 30.0708 │\n",
       "│ 55.0 ┆ 16.0    │\n",
       "└──────┴─────────┘"
      ]
     },
     "execution_count": 64,
     "metadata": {},
     "output_type": "execute_result"
    }
   ],
   "source": [
    "(\n",
    "    df\n",
    "    .group_by(\"Pclass\")\n",
    "    .map_groups(\n",
    "        lambda group_df: group_df.select(pl.col(pl.Float64)).head(2)\n",
    "    )\n",
    ")"
   ]
  }
 ],
 "metadata": {
  "kernelspec": {
   "display_name": "Python 3 (ipykernel)",
   "language": "python",
   "name": "python3"
  },
  "language_info": {
   "codemirror_mode": {
    "name": "ipython",
    "version": 3
   },
   "file_extension": ".py",
   "mimetype": "text/x-python",
   "name": "python",
   "nbconvert_exporter": "python",
   "pygments_lexer": "ipython3",
   "version": "3.11.9"
  }
 },
 "nbformat": 4,
 "nbformat_minor": 5
}
