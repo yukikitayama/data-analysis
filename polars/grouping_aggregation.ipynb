{
 "cells": [
  {
   "cell_type": "markdown",
   "id": "53767c11-bf03-40eb-b44f-91aa3016cc94",
   "metadata": {},
   "source": [
    "# Grouping and Aggregation"
   ]
  },
  {
   "cell_type": "code",
   "execution_count": 1,
   "id": "655be430-c7e1-49fa-9c44-8194c225b0e2",
   "metadata": {},
   "outputs": [],
   "source": [
    "import polars as pl"
   ]
  },
  {
   "cell_type": "code",
   "execution_count": 2,
   "id": "bf8e24a0-9aec-434b-8a31-b8dfdb806e70",
   "metadata": {},
   "outputs": [],
   "source": [
    "CSV_FILE = \"./data/titanic.csv\""
   ]
  },
  {
   "cell_type": "markdown",
   "id": "8ea62a94-8fd0-455c-b73f-1f2122fba8e0",
   "metadata": {},
   "source": [
    "# Statistics"
   ]
  },
  {
   "cell_type": "code",
   "execution_count": 3,
   "id": "212d91dd-6ca6-4424-bf61-007646aa373c",
   "metadata": {},
   "outputs": [
    {
     "data": {
      "text/html": [
       "<div><style>\n",
       ".dataframe > thead > tr,\n",
       ".dataframe > tbody > tr {\n",
       "  text-align: right;\n",
       "  white-space: pre-wrap;\n",
       "}\n",
       "</style>\n",
       "<small>shape: (3, 12)</small><table border=\"1\" class=\"dataframe\"><thead><tr><th>PassengerId</th><th>Survived</th><th>Pclass</th><th>Name</th><th>Sex</th><th>Age</th><th>SibSp</th><th>Parch</th><th>Ticket</th><th>Fare</th><th>Cabin</th><th>Embarked</th></tr><tr><td>i64</td><td>i64</td><td>i64</td><td>str</td><td>str</td><td>f64</td><td>i64</td><td>i64</td><td>str</td><td>f64</td><td>str</td><td>str</td></tr></thead><tbody><tr><td>1</td><td>0</td><td>3</td><td>&quot;Braund, Mr. Owen Harris&quot;</td><td>&quot;male&quot;</td><td>22.0</td><td>1</td><td>0</td><td>&quot;A/5 21171&quot;</td><td>7.25</td><td>null</td><td>&quot;S&quot;</td></tr><tr><td>2</td><td>1</td><td>1</td><td>&quot;Cumings, Mrs. John Bradley (Fl…</td><td>&quot;female&quot;</td><td>38.0</td><td>1</td><td>0</td><td>&quot;PC 17599&quot;</td><td>71.2833</td><td>&quot;C85&quot;</td><td>&quot;C&quot;</td></tr><tr><td>3</td><td>1</td><td>3</td><td>&quot;Heikkinen, Miss. Laina&quot;</td><td>&quot;female&quot;</td><td>26.0</td><td>0</td><td>0</td><td>&quot;STON/O2. 3101282&quot;</td><td>7.925</td><td>null</td><td>&quot;S&quot;</td></tr></tbody></table></div>"
      ],
      "text/plain": [
       "shape: (3, 12)\n",
       "┌─────────────┬──────────┬────────┬─────────────────────────────────┬───┬──────────────────┬─────────┬───────┬──────────┐\n",
       "│ PassengerId ┆ Survived ┆ Pclass ┆ Name                            ┆ … ┆ Ticket           ┆ Fare    ┆ Cabin ┆ Embarked │\n",
       "│ ---         ┆ ---      ┆ ---    ┆ ---                             ┆   ┆ ---              ┆ ---     ┆ ---   ┆ ---      │\n",
       "│ i64         ┆ i64      ┆ i64    ┆ str                             ┆   ┆ str              ┆ f64     ┆ str   ┆ str      │\n",
       "╞═════════════╪══════════╪════════╪═════════════════════════════════╪═══╪══════════════════╪═════════╪═══════╪══════════╡\n",
       "│ 1           ┆ 0        ┆ 3      ┆ Braund, Mr. Owen Harris         ┆ … ┆ A/5 21171        ┆ 7.25    ┆ null  ┆ S        │\n",
       "│ 2           ┆ 1        ┆ 1      ┆ Cumings, Mrs. John Bradley (Fl… ┆ … ┆ PC 17599         ┆ 71.2833 ┆ C85   ┆ C        │\n",
       "│ 3           ┆ 1        ┆ 3      ┆ Heikkinen, Miss. Laina          ┆ … ┆ STON/O2. 3101282 ┆ 7.925   ┆ null  ┆ S        │\n",
       "└─────────────┴──────────┴────────┴─────────────────────────────────┴───┴──────────────────┴─────────┴───────┴──────────┘"
      ]
     },
     "execution_count": 3,
     "metadata": {},
     "output_type": "execute_result"
    }
   ],
   "source": [
    "df = pl.read_csv(CSV_FILE)\n",
    "df.head(3)"
   ]
  },
  {
   "cell_type": "code",
   "execution_count": 4,
   "id": "5254f806-3105-4b35-8898-9b56d42a15d4",
   "metadata": {},
   "outputs": [
    {
     "data": {
      "text/html": [
       "<div><style>\n",
       ".dataframe > thead > tr,\n",
       ".dataframe > tbody > tr {\n",
       "  text-align: right;\n",
       "  white-space: pre-wrap;\n",
       "}\n",
       "</style>\n",
       "<small>shape: (1, 12)</small><table border=\"1\" class=\"dataframe\"><thead><tr><th>PassengerId</th><th>Survived</th><th>Pclass</th><th>Name</th><th>Sex</th><th>Age</th><th>SibSp</th><th>Parch</th><th>Ticket</th><th>Fare</th><th>Cabin</th><th>Embarked</th></tr><tr><td>f64</td><td>f64</td><td>f64</td><td>str</td><td>str</td><td>f64</td><td>f64</td><td>f64</td><td>str</td><td>f64</td><td>str</td><td>str</td></tr></thead><tbody><tr><td>446.0</td><td>0.383838</td><td>2.308642</td><td>null</td><td>null</td><td>29.699118</td><td>0.523008</td><td>0.381594</td><td>null</td><td>32.204208</td><td>null</td><td>null</td></tr></tbody></table></div>"
      ],
      "text/plain": [
       "shape: (1, 12)\n",
       "┌─────────────┬──────────┬──────────┬──────┬───┬────────┬───────────┬───────┬──────────┐\n",
       "│ PassengerId ┆ Survived ┆ Pclass   ┆ Name ┆ … ┆ Ticket ┆ Fare      ┆ Cabin ┆ Embarked │\n",
       "│ ---         ┆ ---      ┆ ---      ┆ ---  ┆   ┆ ---    ┆ ---       ┆ ---   ┆ ---      │\n",
       "│ f64         ┆ f64      ┆ f64      ┆ str  ┆   ┆ str    ┆ f64       ┆ str   ┆ str      │\n",
       "╞═════════════╪══════════╪══════════╪══════╪═══╪════════╪═══════════╪═══════╪══════════╡\n",
       "│ 446.0       ┆ 0.383838 ┆ 2.308642 ┆ null ┆ … ┆ null   ┆ 32.204208 ┆ null  ┆ null     │\n",
       "└─────────────┴──────────┴──────────┴──────┴───┴────────┴───────────┴───────┴──────────┘"
      ]
     },
     "execution_count": 4,
     "metadata": {},
     "output_type": "execute_result"
    }
   ],
   "source": [
    "df.mean()"
   ]
  },
  {
   "cell_type": "code",
   "execution_count": 5,
   "id": "13e959fa-8e7a-4f1a-a07f-bb63d8a52b16",
   "metadata": {},
   "outputs": [
    {
     "data": {
      "text/html": [
       "<div><style>\n",
       ".dataframe > thead > tr,\n",
       ".dataframe > tbody > tr {\n",
       "  text-align: right;\n",
       "  white-space: pre-wrap;\n",
       "}\n",
       "</style>\n",
       "<small>shape: (9, 13)</small><table border=\"1\" class=\"dataframe\"><thead><tr><th>statistic</th><th>PassengerId</th><th>Survived</th><th>Pclass</th><th>Name</th><th>Sex</th><th>Age</th><th>SibSp</th><th>Parch</th><th>Ticket</th><th>Fare</th><th>Cabin</th><th>Embarked</th></tr><tr><td>str</td><td>f64</td><td>f64</td><td>f64</td><td>str</td><td>str</td><td>f64</td><td>f64</td><td>f64</td><td>str</td><td>f64</td><td>str</td><td>str</td></tr></thead><tbody><tr><td>&quot;count&quot;</td><td>891.0</td><td>891.0</td><td>891.0</td><td>&quot;891&quot;</td><td>&quot;891&quot;</td><td>714.0</td><td>891.0</td><td>891.0</td><td>&quot;891&quot;</td><td>891.0</td><td>&quot;204&quot;</td><td>&quot;889&quot;</td></tr><tr><td>&quot;null_count&quot;</td><td>0.0</td><td>0.0</td><td>0.0</td><td>&quot;0&quot;</td><td>&quot;0&quot;</td><td>177.0</td><td>0.0</td><td>0.0</td><td>&quot;0&quot;</td><td>0.0</td><td>&quot;687&quot;</td><td>&quot;2&quot;</td></tr><tr><td>&quot;mean&quot;</td><td>446.0</td><td>0.383838</td><td>2.308642</td><td>null</td><td>null</td><td>29.699118</td><td>0.523008</td><td>0.381594</td><td>null</td><td>32.204208</td><td>null</td><td>null</td></tr><tr><td>&quot;std&quot;</td><td>257.353842</td><td>0.486592</td><td>0.836071</td><td>null</td><td>null</td><td>14.526497</td><td>1.102743</td><td>0.806057</td><td>null</td><td>49.693429</td><td>null</td><td>null</td></tr><tr><td>&quot;min&quot;</td><td>1.0</td><td>0.0</td><td>1.0</td><td>&quot;Abbing, Mr. Anthony&quot;</td><td>&quot;female&quot;</td><td>0.42</td><td>0.0</td><td>0.0</td><td>&quot;110152&quot;</td><td>0.0</td><td>&quot;A10&quot;</td><td>&quot;C&quot;</td></tr><tr><td>&quot;25%&quot;</td><td>224.0</td><td>0.0</td><td>2.0</td><td>null</td><td>null</td><td>20.0</td><td>0.0</td><td>0.0</td><td>null</td><td>7.925</td><td>null</td><td>null</td></tr><tr><td>&quot;50%&quot;</td><td>446.0</td><td>0.0</td><td>3.0</td><td>null</td><td>null</td><td>28.0</td><td>0.0</td><td>0.0</td><td>null</td><td>14.4542</td><td>null</td><td>null</td></tr><tr><td>&quot;75%&quot;</td><td>669.0</td><td>1.0</td><td>3.0</td><td>null</td><td>null</td><td>38.0</td><td>1.0</td><td>0.0</td><td>null</td><td>31.0</td><td>null</td><td>null</td></tr><tr><td>&quot;max&quot;</td><td>891.0</td><td>1.0</td><td>3.0</td><td>&quot;van Melkebeke, Mr. Philemon&quot;</td><td>&quot;male&quot;</td><td>80.0</td><td>8.0</td><td>6.0</td><td>&quot;WE/P 5735&quot;</td><td>512.3292</td><td>&quot;T&quot;</td><td>&quot;S&quot;</td></tr></tbody></table></div>"
      ],
      "text/plain": [
       "shape: (9, 13)\n",
       "┌────────────┬─────────────┬──────────┬──────────┬───┬───────────┬───────────┬───────┬──────────┐\n",
       "│ statistic  ┆ PassengerId ┆ Survived ┆ Pclass   ┆ … ┆ Ticket    ┆ Fare      ┆ Cabin ┆ Embarked │\n",
       "│ ---        ┆ ---         ┆ ---      ┆ ---      ┆   ┆ ---       ┆ ---       ┆ ---   ┆ ---      │\n",
       "│ str        ┆ f64         ┆ f64      ┆ f64      ┆   ┆ str       ┆ f64       ┆ str   ┆ str      │\n",
       "╞════════════╪═════════════╪══════════╪══════════╪═══╪═══════════╪═══════════╪═══════╪══════════╡\n",
       "│ count      ┆ 891.0       ┆ 891.0    ┆ 891.0    ┆ … ┆ 891       ┆ 891.0     ┆ 204   ┆ 889      │\n",
       "│ null_count ┆ 0.0         ┆ 0.0      ┆ 0.0      ┆ … ┆ 0         ┆ 0.0       ┆ 687   ┆ 2        │\n",
       "│ mean       ┆ 446.0       ┆ 0.383838 ┆ 2.308642 ┆ … ┆ null      ┆ 32.204208 ┆ null  ┆ null     │\n",
       "│ std        ┆ 257.353842  ┆ 0.486592 ┆ 0.836071 ┆ … ┆ null      ┆ 49.693429 ┆ null  ┆ null     │\n",
       "│ min        ┆ 1.0         ┆ 0.0      ┆ 1.0      ┆ … ┆ 110152    ┆ 0.0       ┆ A10   ┆ C        │\n",
       "│ 25%        ┆ 224.0       ┆ 0.0      ┆ 2.0      ┆ … ┆ null      ┆ 7.925     ┆ null  ┆ null     │\n",
       "│ 50%        ┆ 446.0       ┆ 0.0      ┆ 3.0      ┆ … ┆ null      ┆ 14.4542   ┆ null  ┆ null     │\n",
       "│ 75%        ┆ 669.0       ┆ 1.0      ┆ 3.0      ┆ … ┆ null      ┆ 31.0      ┆ null  ┆ null     │\n",
       "│ max        ┆ 891.0       ┆ 1.0      ┆ 3.0      ┆ … ┆ WE/P 5735 ┆ 512.3292  ┆ T     ┆ S        │\n",
       "└────────────┴─────────────┴──────────┴──────────┴───┴───────────┴───────────┴───────┴──────────┘"
      ]
     },
     "execution_count": 5,
     "metadata": {},
     "output_type": "execute_result"
    }
   ],
   "source": [
    "df.describe()"
   ]
  },
  {
   "cell_type": "code",
   "execution_count": 6,
   "id": "3bddcbdb-2120-4ff6-9b68-05e9487ece9a",
   "metadata": {},
   "outputs": [
    {
     "data": {
      "text/html": [
       "<div><style>\n",
       ".dataframe > thead > tr,\n",
       ".dataframe > tbody > tr {\n",
       "  text-align: right;\n",
       "  white-space: pre-wrap;\n",
       "}\n",
       "</style>\n",
       "<small>shape: (11, 13)</small><table border=\"1\" class=\"dataframe\"><thead><tr><th>statistic</th><th>PassengerId</th><th>Survived</th><th>Pclass</th><th>Name</th><th>Sex</th><th>Age</th><th>SibSp</th><th>Parch</th><th>Ticket</th><th>Fare</th><th>Cabin</th><th>Embarked</th></tr><tr><td>str</td><td>f64</td><td>f64</td><td>f64</td><td>str</td><td>str</td><td>f64</td><td>f64</td><td>f64</td><td>str</td><td>f64</td><td>str</td><td>str</td></tr></thead><tbody><tr><td>&quot;count&quot;</td><td>891.0</td><td>891.0</td><td>891.0</td><td>&quot;891&quot;</td><td>&quot;891&quot;</td><td>714.0</td><td>891.0</td><td>891.0</td><td>&quot;891&quot;</td><td>891.0</td><td>&quot;204&quot;</td><td>&quot;889&quot;</td></tr><tr><td>&quot;null_count&quot;</td><td>0.0</td><td>0.0</td><td>0.0</td><td>&quot;0&quot;</td><td>&quot;0&quot;</td><td>177.0</td><td>0.0</td><td>0.0</td><td>&quot;0&quot;</td><td>0.0</td><td>&quot;687&quot;</td><td>&quot;2&quot;</td></tr><tr><td>&quot;mean&quot;</td><td>446.0</td><td>0.383838</td><td>2.308642</td><td>null</td><td>null</td><td>29.699118</td><td>0.523008</td><td>0.381594</td><td>null</td><td>32.204208</td><td>null</td><td>null</td></tr><tr><td>&quot;std&quot;</td><td>257.353842</td><td>0.486592</td><td>0.836071</td><td>null</td><td>null</td><td>14.526497</td><td>1.102743</td><td>0.806057</td><td>null</td><td>49.693429</td><td>null</td><td>null</td></tr><tr><td>&quot;min&quot;</td><td>1.0</td><td>0.0</td><td>1.0</td><td>&quot;Abbing, Mr. Anthony&quot;</td><td>&quot;female&quot;</td><td>0.42</td><td>0.0</td><td>0.0</td><td>&quot;110152&quot;</td><td>0.0</td><td>&quot;A10&quot;</td><td>&quot;C&quot;</td></tr><tr><td>&hellip;</td><td>&hellip;</td><td>&hellip;</td><td>&hellip;</td><td>&hellip;</td><td>&hellip;</td><td>&hellip;</td><td>&hellip;</td><td>&hellip;</td><td>&hellip;</td><td>&hellip;</td><td>&hellip;</td><td>&hellip;</td></tr><tr><td>&quot;30%&quot;</td><td>268.0</td><td>0.0</td><td>2.0</td><td>null</td><td>null</td><td>22.0</td><td>0.0</td><td>0.0</td><td>null</td><td>8.05</td><td>null</td><td>null</td></tr><tr><td>&quot;50%&quot;</td><td>446.0</td><td>0.0</td><td>3.0</td><td>null</td><td>null</td><td>28.0</td><td>0.0</td><td>0.0</td><td>null</td><td>14.4542</td><td>null</td><td>null</td></tr><tr><td>&quot;70%&quot;</td><td>624.0</td><td>1.0</td><td>3.0</td><td>null</td><td>null</td><td>36.0</td><td>1.0</td><td>0.0</td><td>null</td><td>27.0</td><td>null</td><td>null</td></tr><tr><td>&quot;90%&quot;</td><td>802.0</td><td>1.0</td><td>3.0</td><td>null</td><td>null</td><td>50.0</td><td>1.0</td><td>2.0</td><td>null</td><td>77.9583</td><td>null</td><td>null</td></tr><tr><td>&quot;max&quot;</td><td>891.0</td><td>1.0</td><td>3.0</td><td>&quot;van Melkebeke, Mr. Philemon&quot;</td><td>&quot;male&quot;</td><td>80.0</td><td>8.0</td><td>6.0</td><td>&quot;WE/P 5735&quot;</td><td>512.3292</td><td>&quot;T&quot;</td><td>&quot;S&quot;</td></tr></tbody></table></div>"
      ],
      "text/plain": [
       "shape: (11, 13)\n",
       "┌────────────┬─────────────┬──────────┬──────────┬───┬───────────┬───────────┬───────┬──────────┐\n",
       "│ statistic  ┆ PassengerId ┆ Survived ┆ Pclass   ┆ … ┆ Ticket    ┆ Fare      ┆ Cabin ┆ Embarked │\n",
       "│ ---        ┆ ---         ┆ ---      ┆ ---      ┆   ┆ ---       ┆ ---       ┆ ---   ┆ ---      │\n",
       "│ str        ┆ f64         ┆ f64      ┆ f64      ┆   ┆ str       ┆ f64       ┆ str   ┆ str      │\n",
       "╞════════════╪═════════════╪══════════╪══════════╪═══╪═══════════╪═══════════╪═══════╪══════════╡\n",
       "│ count      ┆ 891.0       ┆ 891.0    ┆ 891.0    ┆ … ┆ 891       ┆ 891.0     ┆ 204   ┆ 889      │\n",
       "│ null_count ┆ 0.0         ┆ 0.0      ┆ 0.0      ┆ … ┆ 0         ┆ 0.0       ┆ 687   ┆ 2        │\n",
       "│ mean       ┆ 446.0       ┆ 0.383838 ┆ 2.308642 ┆ … ┆ null      ┆ 32.204208 ┆ null  ┆ null     │\n",
       "│ std        ┆ 257.353842  ┆ 0.486592 ┆ 0.836071 ┆ … ┆ null      ┆ 49.693429 ┆ null  ┆ null     │\n",
       "│ min        ┆ 1.0         ┆ 0.0      ┆ 1.0      ┆ … ┆ 110152    ┆ 0.0       ┆ A10   ┆ C        │\n",
       "│ …          ┆ …           ┆ …        ┆ …        ┆ … ┆ …         ┆ …         ┆ …     ┆ …        │\n",
       "│ 30%        ┆ 268.0       ┆ 0.0      ┆ 2.0      ┆ … ┆ null      ┆ 8.05      ┆ null  ┆ null     │\n",
       "│ 50%        ┆ 446.0       ┆ 0.0      ┆ 3.0      ┆ … ┆ null      ┆ 14.4542   ┆ null  ┆ null     │\n",
       "│ 70%        ┆ 624.0       ┆ 1.0      ┆ 3.0      ┆ … ┆ null      ┆ 27.0      ┆ null  ┆ null     │\n",
       "│ 90%        ┆ 802.0       ┆ 1.0      ┆ 3.0      ┆ … ┆ null      ┆ 77.9583   ┆ null  ┆ null     │\n",
       "│ max        ┆ 891.0       ┆ 1.0      ┆ 3.0      ┆ … ┆ WE/P 5735 ┆ 512.3292  ┆ T     ┆ S        │\n",
       "└────────────┴─────────────┴──────────┴──────────┴───┴───────────┴───────────┴───────┴──────────┘"
      ]
     },
     "execution_count": 6,
     "metadata": {},
     "output_type": "execute_result"
    }
   ],
   "source": [
    "df.describe(percentiles=(0.1, 0.3, 0.5, 0.7, 0.9))"
   ]
  },
  {
   "cell_type": "code",
   "execution_count": 7,
   "id": "f4e64c01-6a8c-4fb5-9631-f41dac23a793",
   "metadata": {},
   "outputs": [
    {
     "data": {
      "text/html": [
       "<div><style>\n",
       ".dataframe > thead > tr,\n",
       ".dataframe > tbody > tr {\n",
       "  text-align: right;\n",
       "  white-space: pre-wrap;\n",
       "}\n",
       "</style>\n",
       "<small>shape: (1, 1)</small><table border=\"1\" class=\"dataframe\"><thead><tr><th>Fare</th></tr><tr><td>f64</td></tr></thead><tbody><tr><td>32.204208</td></tr></tbody></table></div>"
      ],
      "text/plain": [
       "shape: (1, 1)\n",
       "┌───────────┐\n",
       "│ Fare      │\n",
       "│ ---       │\n",
       "│ f64       │\n",
       "╞═══════════╡\n",
       "│ 32.204208 │\n",
       "└───────────┘"
      ]
     },
     "execution_count": 7,
     "metadata": {},
     "output_type": "execute_result"
    }
   ],
   "source": [
    "(\n",
    "    df\n",
    "    .select(\n",
    "        pl.col(\"Fare\").mean()\n",
    "    )\n",
    ")"
   ]
  },
  {
   "cell_type": "code",
   "execution_count": 8,
   "id": "814bed32-3d23-4da7-b775-a2d7eefa589a",
   "metadata": {},
   "outputs": [
    {
     "data": {
      "text/html": [
       "<div><style>\n",
       ".dataframe > thead > tr,\n",
       ".dataframe > tbody > tr {\n",
       "  text-align: right;\n",
       "  white-space: pre-wrap;\n",
       "}\n",
       "</style>\n",
       "<small>shape: (12, 1)</small><table border=\"1\" class=\"dataframe\"><thead><tr><th>value</th></tr><tr><td>i64</td></tr></thead><tbody><tr><td>0</td></tr><tr><td>1</td></tr><tr><td>2</td></tr><tr><td>3</td></tr><tr><td>4</td></tr><tr><td>&hellip;</td></tr><tr><td>7</td></tr><tr><td>8</td></tr><tr><td>9</td></tr><tr><td>10</td></tr><tr><td>11</td></tr></tbody></table></div>"
      ],
      "text/plain": [
       "shape: (12, 1)\n",
       "┌───────┐\n",
       "│ value │\n",
       "│ ---   │\n",
       "│ i64   │\n",
       "╞═══════╡\n",
       "│ 0     │\n",
       "│ 1     │\n",
       "│ 2     │\n",
       "│ 3     │\n",
       "│ 4     │\n",
       "│ …     │\n",
       "│ 7     │\n",
       "│ 8     │\n",
       "│ 9     │\n",
       "│ 10    │\n",
       "│ 11    │\n",
       "└───────┘"
      ]
     },
     "execution_count": 8,
     "metadata": {},
     "output_type": "execute_result"
    }
   ],
   "source": [
    "df_rolling = (\n",
    "    pl.DataFrame(\n",
    "        {\n",
    "            \"value\": range(12)\n",
    "        }\n",
    "    )\n",
    ")\n",
    "df_rolling"
   ]
  },
  {
   "cell_type": "code",
   "execution_count": 9,
   "id": "254018be-6d93-4921-b908-6ce71a0f445f",
   "metadata": {},
   "outputs": [
    {
     "data": {
      "text/html": [
       "<div><style>\n",
       ".dataframe > thead > tr,\n",
       ".dataframe > tbody > tr {\n",
       "  text-align: right;\n",
       "  white-space: pre-wrap;\n",
       "}\n",
       "</style>\n",
       "<small>shape: (12, 2)</small><table border=\"1\" class=\"dataframe\"><thead><tr><th>value</th><th>rolling_mean_value</th></tr><tr><td>i64</td><td>f64</td></tr></thead><tbody><tr><td>0</td><td>null</td></tr><tr><td>1</td><td>null</td></tr><tr><td>2</td><td>1.0</td></tr><tr><td>3</td><td>2.0</td></tr><tr><td>4</td><td>3.0</td></tr><tr><td>&hellip;</td><td>&hellip;</td></tr><tr><td>7</td><td>6.0</td></tr><tr><td>8</td><td>7.0</td></tr><tr><td>9</td><td>8.0</td></tr><tr><td>10</td><td>9.0</td></tr><tr><td>11</td><td>10.0</td></tr></tbody></table></div>"
      ],
      "text/plain": [
       "shape: (12, 2)\n",
       "┌───────┬────────────────────┐\n",
       "│ value ┆ rolling_mean_value │\n",
       "│ ---   ┆ ---                │\n",
       "│ i64   ┆ f64                │\n",
       "╞═══════╪════════════════════╡\n",
       "│ 0     ┆ null               │\n",
       "│ 1     ┆ null               │\n",
       "│ 2     ┆ 1.0                │\n",
       "│ 3     ┆ 2.0                │\n",
       "│ 4     ┆ 3.0                │\n",
       "│ …     ┆ …                  │\n",
       "│ 7     ┆ 6.0                │\n",
       "│ 8     ┆ 7.0                │\n",
       "│ 9     ┆ 8.0                │\n",
       "│ 10    ┆ 9.0                │\n",
       "│ 11    ┆ 10.0               │\n",
       "└───────┴────────────────────┘"
      ]
     },
     "execution_count": 9,
     "metadata": {},
     "output_type": "execute_result"
    }
   ],
   "source": [
    "(\n",
    "    df_rolling\n",
    "    .with_columns(\n",
    "        rolling_mean_value = pl.col(\"value\").rolling_mean(window_size=3)\n",
    "    )\n",
    ")"
   ]
  },
  {
   "cell_type": "code",
   "execution_count": 11,
   "id": "d0c860bc-a10e-43ef-8d8b-acfbe648ed14",
   "metadata": {},
   "outputs": [
    {
     "data": {
      "text/html": [
       "<div><style>\n",
       ".dataframe > thead > tr,\n",
       ".dataframe > tbody > tr {\n",
       "  text-align: right;\n",
       "  white-space: pre-wrap;\n",
       "}\n",
       "</style>\n",
       "<small>shape: (12, 3)</small><table border=\"1\" class=\"dataframe\"><thead><tr><th>value</th><th>rolling_mean_value</th><th>rolling_mean_value_min_periods</th></tr><tr><td>i64</td><td>f64</td><td>f64</td></tr></thead><tbody><tr><td>0</td><td>null</td><td>0.0</td></tr><tr><td>1</td><td>null</td><td>0.5</td></tr><tr><td>2</td><td>1.0</td><td>1.0</td></tr><tr><td>3</td><td>2.0</td><td>2.0</td></tr><tr><td>4</td><td>3.0</td><td>3.0</td></tr><tr><td>&hellip;</td><td>&hellip;</td><td>&hellip;</td></tr><tr><td>7</td><td>6.0</td><td>6.0</td></tr><tr><td>8</td><td>7.0</td><td>7.0</td></tr><tr><td>9</td><td>8.0</td><td>8.0</td></tr><tr><td>10</td><td>9.0</td><td>9.0</td></tr><tr><td>11</td><td>10.0</td><td>10.0</td></tr></tbody></table></div>"
      ],
      "text/plain": [
       "shape: (12, 3)\n",
       "┌───────┬────────────────────┬────────────────────────────────┐\n",
       "│ value ┆ rolling_mean_value ┆ rolling_mean_value_min_periods │\n",
       "│ ---   ┆ ---                ┆ ---                            │\n",
       "│ i64   ┆ f64                ┆ f64                            │\n",
       "╞═══════╪════════════════════╪════════════════════════════════╡\n",
       "│ 0     ┆ null               ┆ 0.0                            │\n",
       "│ 1     ┆ null               ┆ 0.5                            │\n",
       "│ 2     ┆ 1.0                ┆ 1.0                            │\n",
       "│ 3     ┆ 2.0                ┆ 2.0                            │\n",
       "│ 4     ┆ 3.0                ┆ 3.0                            │\n",
       "│ …     ┆ …                  ┆ …                              │\n",
       "│ 7     ┆ 6.0                ┆ 6.0                            │\n",
       "│ 8     ┆ 7.0                ┆ 7.0                            │\n",
       "│ 9     ┆ 8.0                ┆ 8.0                            │\n",
       "│ 10    ┆ 9.0                ┆ 9.0                            │\n",
       "│ 11    ┆ 10.0               ┆ 10.0                           │\n",
       "└───────┴────────────────────┴────────────────────────────────┘"
      ]
     },
     "execution_count": 11,
     "metadata": {},
     "output_type": "execute_result"
    }
   ],
   "source": [
    "(\n",
    "    df_rolling\n",
    "    .with_columns(\n",
    "        rolling_mean_value = pl.col(\"value\").rolling_mean(window_size=3),\n",
    "        rolling_mean_value_min_periods = pl.col(\"value\").rolling_mean(window_size=3, min_samples=1)\n",
    "    )\n",
    ")"
   ]
  },
  {
   "cell_type": "code",
   "execution_count": 12,
   "id": "e46ffcfd-2f65-486e-a658-52bd75dc3ad9",
   "metadata": {},
   "outputs": [
    {
     "data": {
      "text/html": [
       "<div><style>\n",
       ".dataframe > thead > tr,\n",
       ".dataframe > tbody > tr {\n",
       "  text-align: right;\n",
       "  white-space: pre-wrap;\n",
       "}\n",
       "</style>\n",
       "<small>shape: (12, 2)</small><table border=\"1\" class=\"dataframe\"><thead><tr><th>value</th><th>rolling_mean_value_center</th></tr><tr><td>i64</td><td>f64</td></tr></thead><tbody><tr><td>0</td><td>null</td></tr><tr><td>1</td><td>1.0</td></tr><tr><td>2</td><td>2.0</td></tr><tr><td>3</td><td>3.0</td></tr><tr><td>4</td><td>4.0</td></tr><tr><td>&hellip;</td><td>&hellip;</td></tr><tr><td>7</td><td>7.0</td></tr><tr><td>8</td><td>8.0</td></tr><tr><td>9</td><td>9.0</td></tr><tr><td>10</td><td>10.0</td></tr><tr><td>11</td><td>null</td></tr></tbody></table></div>"
      ],
      "text/plain": [
       "shape: (12, 2)\n",
       "┌───────┬───────────────────────────┐\n",
       "│ value ┆ rolling_mean_value_center │\n",
       "│ ---   ┆ ---                       │\n",
       "│ i64   ┆ f64                       │\n",
       "╞═══════╪═══════════════════════════╡\n",
       "│ 0     ┆ null                      │\n",
       "│ 1     ┆ 1.0                       │\n",
       "│ 2     ┆ 2.0                       │\n",
       "│ 3     ┆ 3.0                       │\n",
       "│ 4     ┆ 4.0                       │\n",
       "│ …     ┆ …                         │\n",
       "│ 7     ┆ 7.0                       │\n",
       "│ 8     ┆ 8.0                       │\n",
       "│ 9     ┆ 9.0                       │\n",
       "│ 10    ┆ 10.0                      │\n",
       "│ 11    ┆ null                      │\n",
       "└───────┴───────────────────────────┘"
      ]
     },
     "execution_count": 12,
     "metadata": {},
     "output_type": "execute_result"
    }
   ],
   "source": [
    "(\n",
    "    df_rolling\n",
    "    .with_columns(\n",
    "        rolling_mean_value_center = pl.col(\"value\").rolling_mean(window_size=3, center=True)\n",
    "    )\n",
    ")"
   ]
  },
  {
   "cell_type": "code",
   "execution_count": 13,
   "id": "4da313b2-663f-4e09-bceb-02cb86161f15",
   "metadata": {},
   "outputs": [
    {
     "data": {
      "text/html": [
       "<div><style>\n",
       ".dataframe > thead > tr,\n",
       ".dataframe > tbody > tr {\n",
       "  text-align: right;\n",
       "  white-space: pre-wrap;\n",
       "}\n",
       "</style>\n",
       "<small>shape: (12, 4)</small><table border=\"1\" class=\"dataframe\"><thead><tr><th>value</th><th>rolling_mean_value</th><th>ewm_mean_value</th><th>ewm_mean_high_span</th></tr><tr><td>i64</td><td>f64</td><td>f64</td><td>f64</td></tr></thead><tbody><tr><td>0</td><td>null</td><td>0.0</td><td>0.0</td></tr><tr><td>1</td><td>null</td><td>0.666667</td><td>0.6</td></tr><tr><td>2</td><td>1.0</td><td>1.428571</td><td>1.263158</td></tr><tr><td>3</td><td>2.0</td><td>2.266667</td><td>1.984615</td></tr><tr><td>4</td><td>3.0</td><td>3.16129</td><td>2.758294</td></tr><tr><td>&hellip;</td><td>&hellip;</td><td>&hellip;</td><td>&hellip;</td></tr><tr><td>7</td><td>6.0</td><td>6.031373</td><td>5.324822</td></tr><tr><td>8</td><td>7.0</td><td>7.017613</td><td>6.240363</td></tr><tr><td>9</td><td>8.0</td><td>8.009775</td><td>7.176476</td></tr><tr><td>10</td><td>9.0</td><td>9.005374</td><td>8.128659</td></tr><tr><td>11</td><td>10.0</td><td>10.00293</td><td>9.093207</td></tr></tbody></table></div>"
      ],
      "text/plain": [
       "shape: (12, 4)\n",
       "┌───────┬────────────────────┬────────────────┬────────────────────┐\n",
       "│ value ┆ rolling_mean_value ┆ ewm_mean_value ┆ ewm_mean_high_span │\n",
       "│ ---   ┆ ---                ┆ ---            ┆ ---                │\n",
       "│ i64   ┆ f64                ┆ f64            ┆ f64                │\n",
       "╞═══════╪════════════════════╪════════════════╪════════════════════╡\n",
       "│ 0     ┆ null               ┆ 0.0            ┆ 0.0                │\n",
       "│ 1     ┆ null               ┆ 0.666667       ┆ 0.6                │\n",
       "│ 2     ┆ 1.0                ┆ 1.428571       ┆ 1.263158           │\n",
       "│ 3     ┆ 2.0                ┆ 2.266667       ┆ 1.984615           │\n",
       "│ 4     ┆ 3.0                ┆ 3.16129        ┆ 2.758294           │\n",
       "│ …     ┆ …                  ┆ …              ┆ …                  │\n",
       "│ 7     ┆ 6.0                ┆ 6.031373       ┆ 5.324822           │\n",
       "│ 8     ┆ 7.0                ┆ 7.017613       ┆ 6.240363           │\n",
       "│ 9     ┆ 8.0                ┆ 8.009775       ┆ 7.176476           │\n",
       "│ 10    ┆ 9.0                ┆ 9.005374       ┆ 8.128659           │\n",
       "│ 11    ┆ 10.0               ┆ 10.00293       ┆ 9.093207           │\n",
       "└───────┴────────────────────┴────────────────┴────────────────────┘"
      ]
     },
     "execution_count": 13,
     "metadata": {},
     "output_type": "execute_result"
    }
   ],
   "source": [
    "(\n",
    "    df_rolling\n",
    "    .with_columns(\n",
    "        rolling_mean_value = pl.col(\"value\").rolling_mean(window_size=3),\n",
    "        ewm_mean_value = pl.col(\"value\").ewm_mean(span=3),\n",
    "        ewm_mean_high_span = pl.col(\"value\").ewm_mean(span=5)\n",
    "    )\n",
    ")"
   ]
  },
  {
   "cell_type": "code",
   "execution_count": 15,
   "id": "b714cba8-7119-4185-be27-dc6b8b35f68f",
   "metadata": {},
   "outputs": [
    {
     "data": {
      "text/html": [
       "<div><style>\n",
       ".dataframe > thead > tr,\n",
       ".dataframe > tbody > tr {\n",
       "  text-align: right;\n",
       "  white-space: pre-wrap;\n",
       "}\n",
       "</style>\n",
       "<small>shape: (1, 2)</small><table border=\"1\" class=\"dataframe\"><thead><tr><th>value_min</th><th>value_max</th></tr><tr><td>i64</td><td>i64</td></tr></thead><tbody><tr><td>0</td><td>11</td></tr></tbody></table></div>"
      ],
      "text/plain": [
       "shape: (1, 2)\n",
       "┌───────────┬───────────┐\n",
       "│ value_min ┆ value_max │\n",
       "│ ---       ┆ ---       │\n",
       "│ i64       ┆ i64       │\n",
       "╞═══════════╪═══════════╡\n",
       "│ 0         ┆ 11        │\n",
       "└───────────┴───────────┘"
      ]
     },
     "execution_count": 15,
     "metadata": {},
     "output_type": "execute_result"
    }
   ],
   "source": [
    "(\n",
    "    df_rolling\n",
    "    .select(\n",
    "        pl.col(pl.Int64).min().name.suffix(\"_min\"),\n",
    "        pl.col(pl.Int64).max().name.suffix(\"_max\")\n",
    "    )\n",
    ")"
   ]
  },
  {
   "cell_type": "code",
   "execution_count": 17,
   "id": "80fd7aed-0094-4a6a-8eb9-bede11484339",
   "metadata": {},
   "outputs": [
    {
     "data": {
      "text/html": [
       "<div><style>\n",
       ".dataframe > thead > tr,\n",
       ".dataframe > tbody > tr {\n",
       "  text-align: right;\n",
       "  white-space: pre-wrap;\n",
       "}\n",
       "</style>\n",
       "<small>shape: (891, 2)</small><table border=\"1\" class=\"dataframe\"><thead><tr><th>Fare</th><th>Fare_scaled</th></tr><tr><td>f64</td><td>f64</td></tr></thead><tbody><tr><td>512.3292</td><td>1.0</td></tr><tr><td>512.3292</td><td>1.0</td></tr><tr><td>512.3292</td><td>1.0</td></tr><tr><td>263.0</td><td>0.513342</td></tr><tr><td>263.0</td><td>0.513342</td></tr><tr><td>&hellip;</td><td>&hellip;</td></tr><tr><td>0.0</td><td>0.0</td></tr><tr><td>0.0</td><td>0.0</td></tr><tr><td>0.0</td><td>0.0</td></tr><tr><td>0.0</td><td>0.0</td></tr><tr><td>0.0</td><td>0.0</td></tr></tbody></table></div>"
      ],
      "text/plain": [
       "shape: (891, 2)\n",
       "┌──────────┬─────────────┐\n",
       "│ Fare     ┆ Fare_scaled │\n",
       "│ ---      ┆ ---         │\n",
       "│ f64      ┆ f64         │\n",
       "╞══════════╪═════════════╡\n",
       "│ 512.3292 ┆ 1.0         │\n",
       "│ 512.3292 ┆ 1.0         │\n",
       "│ 512.3292 ┆ 1.0         │\n",
       "│ 263.0    ┆ 0.513342    │\n",
       "│ 263.0    ┆ 0.513342    │\n",
       "│ …        ┆ …           │\n",
       "│ 0.0      ┆ 0.0         │\n",
       "│ 0.0      ┆ 0.0         │\n",
       "│ 0.0      ┆ 0.0         │\n",
       "│ 0.0      ┆ 0.0         │\n",
       "│ 0.0      ┆ 0.0         │\n",
       "└──────────┴─────────────┘"
      ]
     },
     "execution_count": 17,
     "metadata": {},
     "output_type": "execute_result"
    }
   ],
   "source": [
    "(\n",
    "    df\n",
    "    .with_columns(\n",
    "        ((pl.col(\"Fare\") - pl.col(\"Fare\").min()) / (pl.col(\"Fare\").max() - pl.col(\"Fare\").min())).name.suffix(\"_scaled\")\n",
    "    )\n",
    "    .select(\"Fare\", \"Fare_scaled\")\n",
    "    .sort(\"Fare\", descending=True)\n",
    ")"
   ]
  },
  {
   "cell_type": "code",
   "execution_count": 18,
   "id": "d4b69c5c-5945-4ae1-a3d9-ba1468431b8b",
   "metadata": {},
   "outputs": [
    {
     "data": {
      "text/html": [
       "<div><style>\n",
       ".dataframe > thead > tr,\n",
       ".dataframe > tbody > tr {\n",
       "  text-align: right;\n",
       "  white-space: pre-wrap;\n",
       "}\n",
       "</style>\n",
       "<small>shape: (3, 2)</small><table border=\"1\" class=\"dataframe\"><thead><tr><th>vals1</th><th>val2</th></tr><tr><td>i64</td><td>i64</td></tr></thead><tbody><tr><td>0</td><td>3</td></tr><tr><td>1</td><td>4</td></tr><tr><td>2</td><td>5</td></tr></tbody></table></div>"
      ],
      "text/plain": [
       "shape: (3, 2)\n",
       "┌───────┬──────┐\n",
       "│ vals1 ┆ val2 │\n",
       "│ ---   ┆ ---  │\n",
       "│ i64   ┆ i64  │\n",
       "╞═══════╪══════╡\n",
       "│ 0     ┆ 3    │\n",
       "│ 1     ┆ 4    │\n",
       "│ 2     ┆ 5    │\n",
       "└───────┴──────┘"
      ]
     },
     "execution_count": 18,
     "metadata": {},
     "output_type": "execute_result"
    }
   ],
   "source": [
    "df_hor = pl.DataFrame(\n",
    "    {\n",
    "        \"vals1\": [0, 1, 2],\n",
    "        \"val2\": [3, 4, 5]\n",
    "    }\n",
    ")\n",
    "df_hor"
   ]
  },
  {
   "cell_type": "code",
   "execution_count": 19,
   "id": "bb690de7-bffc-4303-afda-59e7d673d671",
   "metadata": {},
   "outputs": [
    {
     "data": {
      "text/html": [
       "<div><style>\n",
       ".dataframe > thead > tr,\n",
       ".dataframe > tbody > tr {\n",
       "  text-align: right;\n",
       "  white-space: pre-wrap;\n",
       "}\n",
       "</style>\n",
       "<small>shape: (3, 5)</small><table border=\"1\" class=\"dataframe\"><thead><tr><th>vals1</th><th>val2</th><th>max</th><th>min</th><th>sum</th></tr><tr><td>i64</td><td>i64</td><td>i64</td><td>i64</td><td>i64</td></tr></thead><tbody><tr><td>0</td><td>3</td><td>3</td><td>0</td><td>3</td></tr><tr><td>1</td><td>4</td><td>4</td><td>1</td><td>5</td></tr><tr><td>2</td><td>5</td><td>5</td><td>2</td><td>7</td></tr></tbody></table></div>"
      ],
      "text/plain": [
       "shape: (3, 5)\n",
       "┌───────┬──────┬─────┬─────┬─────┐\n",
       "│ vals1 ┆ val2 ┆ max ┆ min ┆ sum │\n",
       "│ ---   ┆ ---  ┆ --- ┆ --- ┆ --- │\n",
       "│ i64   ┆ i64  ┆ i64 ┆ i64 ┆ i64 │\n",
       "╞═══════╪══════╪═════╪═════╪═════╡\n",
       "│ 0     ┆ 3    ┆ 3   ┆ 0   ┆ 3   │\n",
       "│ 1     ┆ 4    ┆ 4   ┆ 1   ┆ 5   │\n",
       "│ 2     ┆ 5    ┆ 5   ┆ 2   ┆ 7   │\n",
       "└───────┴──────┴─────┴─────┴─────┘"
      ]
     },
     "execution_count": 19,
     "metadata": {},
     "output_type": "execute_result"
    }
   ],
   "source": [
    "(\n",
    "    df_hor\n",
    "    .with_columns(\n",
    "        pl.max_horizontal(pl.all()).alias(\"max\"),\n",
    "        pl.min_horizontal(pl.all()).alias(\"min\"),\n",
    "        pl.sum_horizontal(pl.all()).alias(\"sum\")\n",
    "    )\n",
    ")"
   ]
  },
  {
   "cell_type": "code",
   "execution_count": 20,
   "id": "b6bdf137-82e4-45df-9577-923d13febaca",
   "metadata": {},
   "outputs": [
    {
     "data": {
      "text/html": [
       "<div><style>\n",
       ".dataframe > thead > tr,\n",
       ".dataframe > tbody > tr {\n",
       "  text-align: right;\n",
       "  white-space: pre-wrap;\n",
       "}\n",
       "</style>\n",
       "<small>shape: (3,)</small><table border=\"1\" class=\"dataframe\"><thead><tr><th>max</th></tr><tr><td>i64</td></tr></thead><tbody><tr><td>3</td></tr><tr><td>4</td></tr><tr><td>5</td></tr></tbody></table></div>"
      ],
      "text/plain": [
       "shape: (3,)\n",
       "Series: 'max' [i64]\n",
       "[\n",
       "\t3\n",
       "\t4\n",
       "\t5\n",
       "]"
      ]
     },
     "execution_count": 20,
     "metadata": {},
     "output_type": "execute_result"
    }
   ],
   "source": [
    "(\n",
    "    df_hor\n",
    "    .max_horizontal()\n",
    ")"
   ]
  },
  {
   "cell_type": "code",
   "execution_count": 21,
   "id": "535d69bb-c486-4eff-a91a-e124d5dbc6ef",
   "metadata": {},
   "outputs": [
    {
     "data": {
      "text/html": [
       "<div><style>\n",
       ".dataframe > thead > tr,\n",
       ".dataframe > tbody > tr {\n",
       "  text-align: right;\n",
       "  white-space: pre-wrap;\n",
       "}\n",
       "</style>\n",
       "<small>shape: (3, 3)</small><table border=\"1\" class=\"dataframe\"><thead><tr><th>vals1</th><th>val2</th><th>cum_sum</th></tr><tr><td>i64</td><td>i64</td><td>struct[2]</td></tr></thead><tbody><tr><td>0</td><td>3</td><td>{0,3}</td></tr><tr><td>1</td><td>4</td><td>{1,5}</td></tr><tr><td>2</td><td>5</td><td>{2,7}</td></tr></tbody></table></div>"
      ],
      "text/plain": [
       "shape: (3, 3)\n",
       "┌───────┬──────┬───────────┐\n",
       "│ vals1 ┆ val2 ┆ cum_sum   │\n",
       "│ ---   ┆ ---  ┆ ---       │\n",
       "│ i64   ┆ i64  ┆ struct[2] │\n",
       "╞═══════╪══════╪═══════════╡\n",
       "│ 0     ┆ 3    ┆ {0,3}     │\n",
       "│ 1     ┆ 4    ┆ {1,5}     │\n",
       "│ 2     ┆ 5    ┆ {2,7}     │\n",
       "└───────┴──────┴───────────┘"
      ]
     },
     "execution_count": 21,
     "metadata": {},
     "output_type": "execute_result"
    }
   ],
   "source": [
    "(\n",
    "    df_hor\n",
    "    .with_columns(\n",
    "        pl.cum_sum_horizontal(pl.all())\n",
    "    )\n",
    ")"
   ]
  },
  {
   "cell_type": "code",
   "execution_count": 22,
   "id": "16ef1b46-d96a-4a40-9a1e-6a3a59b39be6",
   "metadata": {},
   "outputs": [
    {
     "data": {
      "text/html": [
       "<div><style>\n",
       ".dataframe > thead > tr,\n",
       ".dataframe > tbody > tr {\n",
       "  text-align: right;\n",
       "  white-space: pre-wrap;\n",
       "}\n",
       "</style>\n",
       "<small>shape: (3, 3)</small><table border=\"1\" class=\"dataframe\"><thead><tr><th>vals1</th><th>val2</th><th>concat</th></tr><tr><td>i64</td><td>i64</td><td>list[i64]</td></tr></thead><tbody><tr><td>0</td><td>3</td><td>[0, 3]</td></tr><tr><td>1</td><td>4</td><td>[1, 4]</td></tr><tr><td>2</td><td>5</td><td>[2, 5]</td></tr></tbody></table></div>"
      ],
      "text/plain": [
       "shape: (3, 3)\n",
       "┌───────┬──────┬───────────┐\n",
       "│ vals1 ┆ val2 ┆ concat    │\n",
       "│ ---   ┆ ---  ┆ ---       │\n",
       "│ i64   ┆ i64  ┆ list[i64] │\n",
       "╞═══════╪══════╪═══════════╡\n",
       "│ 0     ┆ 3    ┆ [0, 3]    │\n",
       "│ 1     ┆ 4    ┆ [1, 4]    │\n",
       "│ 2     ┆ 5    ┆ [2, 5]    │\n",
       "└───────┴──────┴───────────┘"
      ]
     },
     "execution_count": 22,
     "metadata": {},
     "output_type": "execute_result"
    }
   ],
   "source": [
    "(\n",
    "    df_hor\n",
    "    .with_columns(\n",
    "        pl.concat_list(pl.all()).alias(\"concat\")\n",
    "    )\n",
    ")"
   ]
  }
 ],
 "metadata": {
  "kernelspec": {
   "display_name": "Python 3 (ipykernel)",
   "language": "python",
   "name": "python3"
  },
  "language_info": {
   "codemirror_mode": {
    "name": "ipython",
    "version": 3
   },
   "file_extension": ".py",
   "mimetype": "text/x-python",
   "name": "python",
   "nbconvert_exporter": "python",
   "pygments_lexer": "ipython3",
   "version": "3.11.9"
  }
 },
 "nbformat": 4,
 "nbformat_minor": 5
}
