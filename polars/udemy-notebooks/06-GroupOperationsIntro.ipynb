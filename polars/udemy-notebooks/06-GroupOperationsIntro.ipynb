{
 "cells": [
  {
   "cell_type": "markdown",
   "id": "a046a482-3531-4092-8ca5-aa41e534cf38",
   "metadata": {},
   "source": [
    "## Group operations\n",
    "By the end of this lecture you will be able to:\n",
    "- do window operations by a single column\n",
    "- do group operations by multiple columns\n",
    "\n",
    "Expressions typically work on a single row. In some cases we want them to operate on groups of rows. For this we have `over`"
   ]
  },
  {
   "cell_type": "code",
   "execution_count": 1,
   "id": "9ea1ef1f-11b5-4aa5-9d82-8a4a752bcd2f",
   "metadata": {
    "tags": []
   },
   "outputs": [
    {
     "data": {
      "text/plain": [
       "polars.config.Config"
      ]
     },
     "execution_count": 1,
     "metadata": {},
     "output_type": "execute_result"
    }
   ],
   "source": [
    "import polars as pl\n",
    "import polars.selectors as cs\n",
    "pl.Config.set_tbl_rows(8)"
   ]
  },
  {
   "cell_type": "markdown",
   "id": "aa7a7b4e-7e26-4c78-830d-78362ac71b3f",
   "metadata": {},
   "source": [
    "We create a simple `DataFrame` where we have an `id` column - that defines groups of rows - and a values column"
   ]
  },
  {
   "cell_type": "code",
   "execution_count": 2,
   "id": "9591c8b4-474c-45d4-97de-f2e9bdea2352",
   "metadata": {},
   "outputs": [],
   "source": [
    "df = pl.DataFrame(\n",
    "    {\n",
    "        \"id\":[\"a\",\"b\",\"a\",\"b\"],\n",
    "        \"value\":[0,1,2,3]\n",
    "    }\n",
    ")"
   ]
  },
  {
   "cell_type": "markdown",
   "id": "b29e5bf9-cae4-4dd7-a959-9d7205bbce5a",
   "metadata": {},
   "source": [
    "We want to add a column with the maximum `value` in each group where the groups are defined by the `id` column.\n",
    "\n",
    "We tell Polars that we want to apply the `max` expression by group by following it with the `over` expression"
   ]
  },
  {
   "cell_type": "code",
   "execution_count": 3,
   "id": "1d13bc62-1bf4-47ea-b8b1-c336eabadd3e",
   "metadata": {},
   "outputs": [
    {
     "data": {
      "text/html": [
       "<div><style>\n",
       ".dataframe > thead > tr,\n",
       ".dataframe > tbody > tr {\n",
       "  text-align: right;\n",
       "  white-space: pre-wrap;\n",
       "}\n",
       "</style>\n",
       "<small>shape: (4, 3)</small><table border=\"1\" class=\"dataframe\"><thead><tr><th>id</th><th>value</th><th>group_max</th></tr><tr><td>str</td><td>i64</td><td>i64</td></tr></thead><tbody><tr><td>&quot;a&quot;</td><td>0</td><td>2</td></tr><tr><td>&quot;b&quot;</td><td>1</td><td>3</td></tr><tr><td>&quot;a&quot;</td><td>2</td><td>2</td></tr><tr><td>&quot;b&quot;</td><td>3</td><td>3</td></tr></tbody></table></div>"
      ],
      "text/plain": [
       "shape: (4, 3)\n",
       "┌─────┬───────┬───────────┐\n",
       "│ id  ┆ value ┆ group_max │\n",
       "│ --- ┆ ---   ┆ ---       │\n",
       "│ str ┆ i64   ┆ i64       │\n",
       "╞═════╪═══════╪═══════════╡\n",
       "│ a   ┆ 0     ┆ 2         │\n",
       "│ b   ┆ 1     ┆ 3         │\n",
       "│ a   ┆ 2     ┆ 2         │\n",
       "│ b   ┆ 3     ┆ 3         │\n",
       "└─────┴───────┴───────────┘"
      ]
     },
     "execution_count": 3,
     "metadata": {},
     "output_type": "execute_result"
    }
   ],
   "source": [
    "(\n",
    "    df\n",
    "    .with_columns(\n",
    "        group_max = pl.col(\"value\").max().over(\"id\")\n",
    "    )\n",
    ")"
   ]
  },
  {
   "cell_type": "markdown",
   "id": "dc3b544d-66f7-4f53-980d-f3779c372065",
   "metadata": {},
   "source": [
    "Let's break down the syntax here. We've got:\n",
    "- `pl.col(\"value\")` which gives us the **input column**\n",
    "- `.max()` which **aggregates** the values in the input column\n",
    "- `over(\"id\")` which **groups** the rows by `id` **before** we aggregate the input with `max`\n",
    "\n",
    "> The equivalent operation in Pandas is `.groupby.transform`\n",
    "\n",
    "Using `over` is equivalent to:\n",
    "- doing a `group_by` on the `over` column\n",
    "- doing an `agg` with `pl.col(\"value\").max()` to get a grouped `DataFrame` and\n",
    "- left joining the grouped `DataFrame` back to the original `DataFrame`\n",
    "\n"
   ]
  },
  {
   "cell_type": "markdown",
   "id": "94470a75-8363-4c1f-a01c-4df98b34d9a5",
   "metadata": {},
   "source": [
    "Typically we use an an aggregation - such as `sum` to get a scalar value for each group.\n",
    "\n",
    "But we can also use aggregations that produce a `Series` with `over`. For example if we do a `cum_sum` on a column the output is a column rather than a scalar. \n",
    "\n",
    "But if we use `cum_sum` with `over` we get the output we expect - the cumulative sum by group"
   ]
  },
  {
   "cell_type": "code",
   "execution_count": 4,
   "id": "fc6ad304-0bf7-406e-95de-87589485aac8",
   "metadata": {},
   "outputs": [
    {
     "data": {
      "text/html": [
       "<div><style>\n",
       ".dataframe > thead > tr,\n",
       ".dataframe > tbody > tr {\n",
       "  text-align: right;\n",
       "  white-space: pre-wrap;\n",
       "}\n",
       "</style>\n",
       "<small>shape: (4, 3)</small><table border=\"1\" class=\"dataframe\"><thead><tr><th>id</th><th>value</th><th>group_max</th></tr><tr><td>str</td><td>i64</td><td>i64</td></tr></thead><tbody><tr><td>&quot;a&quot;</td><td>0</td><td>0</td></tr><tr><td>&quot;b&quot;</td><td>1</td><td>1</td></tr><tr><td>&quot;a&quot;</td><td>2</td><td>2</td></tr><tr><td>&quot;b&quot;</td><td>3</td><td>4</td></tr></tbody></table></div>"
      ],
      "text/plain": [
       "shape: (4, 3)\n",
       "┌─────┬───────┬───────────┐\n",
       "│ id  ┆ value ┆ group_max │\n",
       "│ --- ┆ ---   ┆ ---       │\n",
       "│ str ┆ i64   ┆ i64       │\n",
       "╞═════╪═══════╪═══════════╡\n",
       "│ a   ┆ 0     ┆ 0         │\n",
       "│ b   ┆ 1     ┆ 1         │\n",
       "│ a   ┆ 2     ┆ 2         │\n",
       "│ b   ┆ 3     ┆ 4         │\n",
       "└─────┴───────┴───────────┘"
      ]
     },
     "execution_count": 4,
     "metadata": {},
     "output_type": "execute_result"
    }
   ],
   "source": [
    "(\n",
    "    df\n",
    "    .with_columns(\n",
    "        group_max = pl.col(\"value\").cum_sum().over(\"id\")\n",
    "    )\n",
    ")"
   ]
  },
  {
   "cell_type": "markdown",
   "id": "374e74ff-9fcb-4203-a1e1-f34530ee28ed",
   "metadata": {},
   "source": [
    "## Multiple columns\n",
    "We can also do `over` with multiple columns - just like doing a `group_by` with multiple columns. \n",
    "\n",
    "We define a new `DataFrame` with two groups. Only the first and third rows are in the same group"
   ]
  },
  {
   "cell_type": "code",
   "execution_count": 5,
   "id": "99e7bac6-fda2-4aca-8530-718a3916c0b2",
   "metadata": {},
   "outputs": [],
   "source": [
    "df_mult = pl.DataFrame(\n",
    "    {\n",
    "        \"id1\":[\"a\",\"b\",\"a\",\"b\"],\n",
    "        \"id2\":[\"x\",\"x\",\"x\",\"y\"],\n",
    "        \"value\":[0,1,2,3]\n",
    "    }\n",
    ")"
   ]
  },
  {
   "cell_type": "markdown",
   "id": "ea334fa7-57be-49b8-9ad1-d4148cb4c2c5",
   "metadata": {},
   "source": [
    "We now get the maximum value by group"
   ]
  },
  {
   "cell_type": "code",
   "execution_count": 6,
   "id": "0809c333-7154-4327-bef6-0a14f93ef15c",
   "metadata": {},
   "outputs": [
    {
     "data": {
      "text/html": [
       "<div><style>\n",
       ".dataframe > thead > tr,\n",
       ".dataframe > tbody > tr {\n",
       "  text-align: right;\n",
       "  white-space: pre-wrap;\n",
       "}\n",
       "</style>\n",
       "<small>shape: (4, 4)</small><table border=\"1\" class=\"dataframe\"><thead><tr><th>id1</th><th>id2</th><th>value</th><th>group_max</th></tr><tr><td>str</td><td>str</td><td>i64</td><td>i64</td></tr></thead><tbody><tr><td>&quot;a&quot;</td><td>&quot;x&quot;</td><td>0</td><td>2</td></tr><tr><td>&quot;b&quot;</td><td>&quot;x&quot;</td><td>1</td><td>1</td></tr><tr><td>&quot;a&quot;</td><td>&quot;x&quot;</td><td>2</td><td>2</td></tr><tr><td>&quot;b&quot;</td><td>&quot;y&quot;</td><td>3</td><td>3</td></tr></tbody></table></div>"
      ],
      "text/plain": [
       "shape: (4, 4)\n",
       "┌─────┬─────┬───────┬───────────┐\n",
       "│ id1 ┆ id2 ┆ value ┆ group_max │\n",
       "│ --- ┆ --- ┆ ---   ┆ ---       │\n",
       "│ str ┆ str ┆ i64   ┆ i64       │\n",
       "╞═════╪═════╪═══════╪═══════════╡\n",
       "│ a   ┆ x   ┆ 0     ┆ 2         │\n",
       "│ b   ┆ x   ┆ 1     ┆ 1         │\n",
       "│ a   ┆ x   ┆ 2     ┆ 2         │\n",
       "│ b   ┆ y   ┆ 3     ┆ 3         │\n",
       "└─────┴─────┴───────┴───────────┘"
      ]
     },
     "execution_count": 6,
     "metadata": {},
     "output_type": "execute_result"
    }
   ],
   "source": [
    "(\n",
    "    df_mult\n",
    "    .with_columns(\n",
    "        group_max = pl.col(\"value\").max().over(\"id1\",\"id2\")\n",
    "    )\n",
    ")"
   ]
  },
  {
   "cell_type": "markdown",
   "id": "467b07df-bdd6-416e-b3ac-310ee4b37440",
   "metadata": {},
   "source": [
    "## Filling missing values by group\n",
    "\n",
    "We can use `over` to fill missing values by group.\n",
    "\n",
    "Here we have a `DataFrame` where the second value in group `a` is missing"
   ]
  },
  {
   "cell_type": "code",
   "execution_count": 7,
   "id": "e0c68478-b40d-49b9-946e-16797d831018",
   "metadata": {},
   "outputs": [],
   "source": [
    "df_missing = pl.DataFrame(\n",
    "    {\n",
    "        \"id\":[\"a\",\"b\",\"a\",\"b\"],\n",
    "        \"value\":[0,1,None,3]\n",
    "    }\n",
    ")"
   ]
  },
  {
   "cell_type": "markdown",
   "id": "d3bbd3c5-b1f8-4ede-a956-9f0d34680d69",
   "metadata": {},
   "source": [
    "We can fill forward from the previous value in group `a` by calling `fill_null.over`"
   ]
  },
  {
   "cell_type": "code",
   "execution_count": 8,
   "id": "0ff764a9-c326-4f9e-b24b-252fa671b2a7",
   "metadata": {},
   "outputs": [
    {
     "data": {
      "text/html": [
       "<div><style>\n",
       ".dataframe > thead > tr,\n",
       ".dataframe > tbody > tr {\n",
       "  text-align: right;\n",
       "  white-space: pre-wrap;\n",
       "}\n",
       "</style>\n",
       "<small>shape: (4, 3)</small><table border=\"1\" class=\"dataframe\"><thead><tr><th>id</th><th>value</th><th>filled_value</th></tr><tr><td>str</td><td>i64</td><td>i64</td></tr></thead><tbody><tr><td>&quot;a&quot;</td><td>0</td><td>0</td></tr><tr><td>&quot;b&quot;</td><td>1</td><td>1</td></tr><tr><td>&quot;a&quot;</td><td>null</td><td>0</td></tr><tr><td>&quot;b&quot;</td><td>3</td><td>3</td></tr></tbody></table></div>"
      ],
      "text/plain": [
       "shape: (4, 3)\n",
       "┌─────┬───────┬──────────────┐\n",
       "│ id  ┆ value ┆ filled_value │\n",
       "│ --- ┆ ---   ┆ ---          │\n",
       "│ str ┆ i64   ┆ i64          │\n",
       "╞═════╪═══════╪══════════════╡\n",
       "│ a   ┆ 0     ┆ 0            │\n",
       "│ b   ┆ 1     ┆ 1            │\n",
       "│ a   ┆ null  ┆ 0            │\n",
       "│ b   ┆ 3     ┆ 3            │\n",
       "└─────┴───────┴──────────────┘"
      ]
     },
     "execution_count": 8,
     "metadata": {},
     "output_type": "execute_result"
    }
   ],
   "source": [
    "(\n",
    "    df_missing\n",
    "    .with_columns(\n",
    "        filled_value = pl.col(\"value\").fill_null(strategy=\"forward\").over(\"id\")\n",
    "    )\n",
    ")"
   ]
  },
  {
   "cell_type": "code",
   "execution_count": 9,
   "id": "da7cea1f-04c6-479e-9563-ca7a78177027",
   "metadata": {
    "tags": []
   },
   "outputs": [],
   "source": [
    "csv_file = \"../data/titanic.csv\""
   ]
  },
  {
   "cell_type": "code",
   "execution_count": 13,
   "id": "52fc6bd9-a102-4fc9-93f4-4ed5a4fb6aa9",
   "metadata": {
    "tags": []
   },
   "outputs": [
    {
     "data": {
      "text/html": [
       "<div><style>\n",
       ".dataframe > thead > tr,\n",
       ".dataframe > tbody > tr {\n",
       "  text-align: right;\n",
       "  white-space: pre-wrap;\n",
       "}\n",
       "</style>\n",
       "<small>shape: (3, 12)</small><table border=\"1\" class=\"dataframe\"><thead><tr><th>PassengerId</th><th>Survived</th><th>Pclass</th><th>Name</th><th>Sex</th><th>Age</th><th>SibSp</th><th>Parch</th><th>Ticket</th><th>Fare</th><th>Cabin</th><th>Embarked</th></tr><tr><td>i64</td><td>i64</td><td>i64</td><td>str</td><td>str</td><td>f64</td><td>i64</td><td>i64</td><td>str</td><td>f64</td><td>str</td><td>str</td></tr></thead><tbody><tr><td>1</td><td>0</td><td>3</td><td>&quot;Braund, Mr. Owen Harris&quot;</td><td>&quot;male&quot;</td><td>22.0</td><td>1</td><td>0</td><td>&quot;A/5 21171&quot;</td><td>7.25</td><td>null</td><td>&quot;S&quot;</td></tr><tr><td>2</td><td>1</td><td>1</td><td>&quot;Cumings, Mrs. John Bradley (Fl…</td><td>&quot;female&quot;</td><td>38.0</td><td>1</td><td>0</td><td>&quot;PC 17599&quot;</td><td>71.2833</td><td>&quot;C85&quot;</td><td>&quot;C&quot;</td></tr><tr><td>3</td><td>1</td><td>3</td><td>&quot;Heikkinen, Miss. Laina&quot;</td><td>&quot;female&quot;</td><td>26.0</td><td>0</td><td>0</td><td>&quot;STON/O2. 3101282&quot;</td><td>7.925</td><td>null</td><td>&quot;S&quot;</td></tr></tbody></table></div>"
      ],
      "text/plain": [
       "shape: (3, 12)\n",
       "┌─────────────┬──────────┬────────┬─────────────────────────────────┬───┬──────────────────┬─────────┬───────┬──────────┐\n",
       "│ PassengerId ┆ Survived ┆ Pclass ┆ Name                            ┆ … ┆ Ticket           ┆ Fare    ┆ Cabin ┆ Embarked │\n",
       "│ ---         ┆ ---      ┆ ---    ┆ ---                             ┆   ┆ ---              ┆ ---     ┆ ---   ┆ ---      │\n",
       "│ i64         ┆ i64      ┆ i64    ┆ str                             ┆   ┆ str              ┆ f64     ┆ str   ┆ str      │\n",
       "╞═════════════╪══════════╪════════╪═════════════════════════════════╪═══╪══════════════════╪═════════╪═══════╪══════════╡\n",
       "│ 1           ┆ 0        ┆ 3      ┆ Braund, Mr. Owen Harris         ┆ … ┆ A/5 21171        ┆ 7.25    ┆ null  ┆ S        │\n",
       "│ 2           ┆ 1        ┆ 1      ┆ Cumings, Mrs. John Bradley (Fl… ┆ … ┆ PC 17599         ┆ 71.2833 ┆ C85   ┆ C        │\n",
       "│ 3           ┆ 1        ┆ 3      ┆ Heikkinen, Miss. Laina          ┆ … ┆ STON/O2. 3101282 ┆ 7.925   ┆ null  ┆ S        │\n",
       "└─────────────┴──────────┴────────┴─────────────────────────────────┴───┴──────────────────┴─────────┴───────┴──────────┘"
      ]
     },
     "execution_count": 13,
     "metadata": {},
     "output_type": "execute_result"
    }
   ],
   "source": [
    "df = pl.read_csv(csv_file)\n",
    "df.head(3)"
   ]
  },
  {
   "cell_type": "markdown",
   "id": "b5b3c65e-750f-4c58-94bb-a05b70f9f2c9",
   "metadata": {},
   "source": [
    "## Arithmetic in group operations\n",
    "We calculate the percentage of the total fare paid for that passenger class by each passenger"
   ]
  },
  {
   "cell_type": "code",
   "execution_count": 15,
   "id": "92f2a7b7-ef40-43ea-867e-86b138ec616d",
   "metadata": {},
   "outputs": [
    {
     "data": {
      "text/html": [
       "<div><style>\n",
       ".dataframe > thead > tr,\n",
       ".dataframe > tbody > tr {\n",
       "  text-align: right;\n",
       "  white-space: pre-wrap;\n",
       "}\n",
       "</style>\n",
       "<small>shape: (891, 13)</small><table border=\"1\" class=\"dataframe\"><thead><tr><th>PassengerId</th><th>Survived</th><th>Pclass</th><th>Name</th><th>Sex</th><th>Age</th><th>SibSp</th><th>Parch</th><th>Ticket</th><th>Fare</th><th>Cabin</th><th>Embarked</th><th>percent</th></tr><tr><td>i64</td><td>i64</td><td>i64</td><td>str</td><td>str</td><td>f64</td><td>i64</td><td>i64</td><td>str</td><td>f64</td><td>str</td><td>str</td><td>f64</td></tr></thead><tbody><tr><td>1</td><td>0</td><td>3</td><td>&quot;Braund, Mr. Owen Harris&quot;</td><td>&quot;male&quot;</td><td>22.0</td><td>1</td><td>0</td><td>&quot;A/5 21171&quot;</td><td>7.25</td><td>null</td><td>&quot;S&quot;</td><td>1.0</td></tr><tr><td>2</td><td>1</td><td>1</td><td>&quot;Cumings, Mrs. John Bradley (Fl…</td><td>&quot;female&quot;</td><td>38.0</td><td>1</td><td>0</td><td>&quot;PC 17599&quot;</td><td>71.2833</td><td>&quot;C85&quot;</td><td>&quot;C&quot;</td><td>1.0</td></tr><tr><td>3</td><td>1</td><td>3</td><td>&quot;Heikkinen, Miss. Laina&quot;</td><td>&quot;female&quot;</td><td>26.0</td><td>0</td><td>0</td><td>&quot;STON/O2. 3101282&quot;</td><td>7.925</td><td>null</td><td>&quot;S&quot;</td><td>1.0</td></tr><tr><td>4</td><td>1</td><td>1</td><td>&quot;Futrelle, Mrs. Jacques Heath (…</td><td>&quot;female&quot;</td><td>35.0</td><td>1</td><td>0</td><td>&quot;113803&quot;</td><td>53.1</td><td>&quot;C123&quot;</td><td>&quot;S&quot;</td><td>1.0</td></tr><tr><td>&hellip;</td><td>&hellip;</td><td>&hellip;</td><td>&hellip;</td><td>&hellip;</td><td>&hellip;</td><td>&hellip;</td><td>&hellip;</td><td>&hellip;</td><td>&hellip;</td><td>&hellip;</td><td>&hellip;</td><td>&hellip;</td></tr><tr><td>888</td><td>1</td><td>1</td><td>&quot;Graham, Miss. Margaret Edith&quot;</td><td>&quot;female&quot;</td><td>19.0</td><td>0</td><td>0</td><td>&quot;112053&quot;</td><td>30.0</td><td>&quot;B42&quot;</td><td>&quot;S&quot;</td><td>1.0</td></tr><tr><td>889</td><td>0</td><td>3</td><td>&quot;Johnston, Miss. Catherine Hele…</td><td>&quot;female&quot;</td><td>null</td><td>1</td><td>2</td><td>&quot;W./C. 6607&quot;</td><td>23.45</td><td>null</td><td>&quot;S&quot;</td><td>1.0</td></tr><tr><td>890</td><td>1</td><td>1</td><td>&quot;Behr, Mr. Karl Howell&quot;</td><td>&quot;male&quot;</td><td>26.0</td><td>0</td><td>0</td><td>&quot;111369&quot;</td><td>30.0</td><td>&quot;C148&quot;</td><td>&quot;C&quot;</td><td>1.0</td></tr><tr><td>891</td><td>0</td><td>3</td><td>&quot;Dooley, Mr. Patrick&quot;</td><td>&quot;male&quot;</td><td>32.0</td><td>0</td><td>0</td><td>&quot;370376&quot;</td><td>7.75</td><td>null</td><td>&quot;Q&quot;</td><td>1.0</td></tr></tbody></table></div>"
      ],
      "text/plain": [
       "shape: (891, 13)\n",
       "┌─────────────┬──────────┬────────┬─────────────────────────────────┬───┬─────────┬───────┬──────────┬─────────┐\n",
       "│ PassengerId ┆ Survived ┆ Pclass ┆ Name                            ┆ … ┆ Fare    ┆ Cabin ┆ Embarked ┆ percent │\n",
       "│ ---         ┆ ---      ┆ ---    ┆ ---                             ┆   ┆ ---     ┆ ---   ┆ ---      ┆ ---     │\n",
       "│ i64         ┆ i64      ┆ i64    ┆ str                             ┆   ┆ f64     ┆ str   ┆ str      ┆ f64     │\n",
       "╞═════════════╪══════════╪════════╪═════════════════════════════════╪═══╪═════════╪═══════╪══════════╪═════════╡\n",
       "│ 1           ┆ 0        ┆ 3      ┆ Braund, Mr. Owen Harris         ┆ … ┆ 7.25    ┆ null  ┆ S        ┆ 1.0     │\n",
       "│ 2           ┆ 1        ┆ 1      ┆ Cumings, Mrs. John Bradley (Fl… ┆ … ┆ 71.2833 ┆ C85   ┆ C        ┆ 1.0     │\n",
       "│ 3           ┆ 1        ┆ 3      ┆ Heikkinen, Miss. Laina          ┆ … ┆ 7.925   ┆ null  ┆ S        ┆ 1.0     │\n",
       "│ 4           ┆ 1        ┆ 1      ┆ Futrelle, Mrs. Jacques Heath (… ┆ … ┆ 53.1    ┆ C123  ┆ S        ┆ 1.0     │\n",
       "│ …           ┆ …        ┆ …      ┆ …                               ┆ … ┆ …       ┆ …     ┆ …        ┆ …       │\n",
       "│ 888         ┆ 1        ┆ 1      ┆ Graham, Miss. Margaret Edith    ┆ … ┆ 30.0    ┆ B42   ┆ S        ┆ 1.0     │\n",
       "│ 889         ┆ 0        ┆ 3      ┆ Johnston, Miss. Catherine Hele… ┆ … ┆ 23.45   ┆ null  ┆ S        ┆ 1.0     │\n",
       "│ 890         ┆ 1        ┆ 1      ┆ Behr, Mr. Karl Howell           ┆ … ┆ 30.0    ┆ C148  ┆ C        ┆ 1.0     │\n",
       "│ 891         ┆ 0        ┆ 3      ┆ Dooley, Mr. Patrick             ┆ … ┆ 7.75    ┆ null  ┆ Q        ┆ 1.0     │\n",
       "└─────────────┴──────────┴────────┴─────────────────────────────────┴───┴─────────┴───────┴──────────┴─────────┘"
      ]
     },
     "execution_count": 15,
     "metadata": {},
     "output_type": "execute_result"
    }
   ],
   "source": [
    "(\n",
    "    df\n",
    "    .with_columns(\n",
    "        (pl.col(\"Fare\") / pl.col(\"Fare\").sum().over(\"PassengerId\")).alias(\"percent\")\n",
    "    )\n",
    ")"
   ]
  },
  {
   "cell_type": "markdown",
   "id": "821c768b-6ec3-4ed4-b64c-bcb9d9801229",
   "metadata": {},
   "source": [
    "## Exercises\n",
    "In the exercises you will develop your understanding of:\n",
    "- doing arithmetic by group\n",
    "- filling nulls by group\n",
    "- doing multiple window expressions in a single `with_columns` statement"
   ]
  },
  {
   "cell_type": "markdown",
   "id": "27fbf11e-79d0-4c54-9a54-fb8997132515",
   "metadata": {},
   "source": [
    "### Exercise 1\n",
    "We want to calculate the *z-score* of the `Age` column normalised by passenger class.\n",
    "\n",
    "Add a new column `Age_mean` with the mean of the `Age` column for passengers by class"
   ]
  },
  {
   "cell_type": "code",
   "execution_count": 16,
   "id": "afdb9812-1833-4041-8b29-3918e646c33d",
   "metadata": {},
   "outputs": [],
   "source": [
    "csv_file = \"../data/titanic.csv\""
   ]
  },
  {
   "cell_type": "code",
   "execution_count": 17,
   "id": "b23bcb16-4230-4699-b9ae-ddaab2aef952",
   "metadata": {
    "tags": []
   },
   "outputs": [
    {
     "ename": "SyntaxError",
     "evalue": "invalid syntax (2581591824.py, line 4)",
     "output_type": "error",
     "traceback": [
      "  \u001b[36mCell\u001b[39m\u001b[36m \u001b[39m\u001b[32mIn[17]\u001b[39m\u001b[32m, line 4\u001b[39m\n\u001b[31m    \u001b[39m\u001b[31m.select(\u001b[39m\n    ^\n\u001b[31mSyntaxError\u001b[39m\u001b[31m:\u001b[39m invalid syntax\n"
     ]
    }
   ],
   "source": [
    "(\n",
    "    pl.read_csv(csv_file)\n",
    "    <blank>\n",
    "    .select(\n",
    "        'Pclass',cs.starts_with(\"Age\")\n",
    "    )\n",
    "    # Use head(6) to see the null on the sixth row\n",
    "    .head(6)\n",
    ")"
   ]
  },
  {
   "cell_type": "markdown",
   "id": "a7e78423-871b-4d0f-ab13-5a89ea43cba6",
   "metadata": {},
   "source": [
    "Continue by replacing the `null` values in the `Age` column with the `median` age for passengers in that class"
   ]
  },
  {
   "cell_type": "code",
   "execution_count": null,
   "id": "0bc2bae5-1c93-4b0a-a375-8771b7f5d706",
   "metadata": {},
   "outputs": [],
   "source": [
    "(\n",
    "    pl.read_csv(csv_file)\n",
    "    <blank>\n",
    "    .select(\n",
    "        'Pclass',cs.starts_with(\"Age\")\n",
    "    )\n",
    "    .head(6)\n",
    ")"
   ]
  },
  {
   "cell_type": "markdown",
   "id": "2ee9f63f-8627-4a13-8610-038ad933451b",
   "metadata": {},
   "source": [
    "Replace `Age_mean` with a new column called `Age_delta` that is the difference between the age and the average age of all passengers in the same class"
   ]
  },
  {
   "cell_type": "code",
   "execution_count": null,
   "id": "10d08758-3932-45bb-86a4-c6d6fa06d681",
   "metadata": {},
   "outputs": [],
   "source": [
    "(\n",
    "    pl.read_csv(csv_file)\n",
    "    .with_columns(\n",
    "        <blank>\n",
    "    )\n",
    "    .select(\n",
    "        'Pclass',cs.starts_with(\"Age\")\n",
    "    )\n",
    "    .head(10)\n",
    ")"
   ]
  },
  {
   "cell_type": "markdown",
   "id": "8d04287c-4339-42b1-8190-741081862d14",
   "metadata": {},
   "source": [
    "Continue by adding another column called `Age_z` that has the z-score for the `Age` where the z-score is the (age - average age of the passengers in that class) divided by the standard deviation of the age column for passengers in that class"
   ]
  },
  {
   "cell_type": "code",
   "execution_count": null,
   "id": "5c19ec70-87b5-4802-b5e9-766b1cf2fa8c",
   "metadata": {},
   "outputs": [],
   "source": [
    "(\n",
    "    pl.read_csv(csv_file)\n",
    "    .with_columns(\n",
    "        <blank>\n",
    "    )\n",
    "    .select(\n",
    "        'Pclass',cs.starts_with(\"Age\")\n",
    "    )\n",
    "    .head(10)\n",
    ")"
   ]
  },
  {
   "cell_type": "markdown",
   "id": "d691b3da-31fb-4743-ba50-0e916e4cdaf0",
   "metadata": {},
   "source": [
    "### Exercise 2\n",
    "\n",
    "Count the number of passengers in each group of: passenger class and survival. Name the column of counts `counts`"
   ]
  },
  {
   "cell_type": "code",
   "execution_count": null,
   "id": "ecc3447f-a305-4f8f-b8f7-0375a7797246",
   "metadata": {},
   "outputs": [],
   "source": [
    "(\n",
    "    pl.read_csv(csv_file)\n",
    "    <blank>\n",
    ")"
   ]
  },
  {
   "cell_type": "markdown",
   "id": "a29b8099-4dfc-40ad-b09b-0fa5595f99ac",
   "metadata": {},
   "source": [
    "Continue by calculating the percentage breakdown of passenger survival within each passenger class group. Call this column `percent`.\n",
    "\n",
    "Sort the output by passenger class and survival"
   ]
  },
  {
   "cell_type": "code",
   "execution_count": null,
   "id": "1064a044-9eba-45f4-93f4-a1f59c8f950d",
   "metadata": {},
   "outputs": [],
   "source": []
  },
  {
   "cell_type": "markdown",
   "id": "b9161a7b-f73d-41eb-89c0-44a1ea2adfef",
   "metadata": {},
   "source": [
    "### Exercise 3\n",
    "Window functions allow us to do multiple groupbys in the same `select` or `with_column`. Polars can cache the groupbys in the same `with_columns` statement.\n",
    "\n",
    "In this exercise we explore the effect of this caching on performance.\n",
    "\n",
    "We begin by creating a `DataFrame` with groups and values"
   ]
  },
  {
   "cell_type": "code",
   "execution_count": null,
   "id": "50a45b7c-0bb2-49db-bcfd-68ecfcab68d2",
   "metadata": {},
   "outputs": [],
   "source": [
    "import numpy as np\n",
    "np.random.seed(0)\n",
    "\n",
    "N = 1_000_000\n",
    "cardinality = N // 2\n",
    "groups = np.random.randint(0,cardinality,N)\n",
    "df = pl.DataFrame(\n",
    "        {\n",
    "            \"groups\":groups,\n",
    "            \"values\":np.random.standard_normal(N)\n",
    "        }\n",
    "    )\n",
    "df.head(3)"
   ]
  },
  {
   "cell_type": "markdown",
   "id": "aafbdb8d-c863-4c06-8c06-7d074099e7b1",
   "metadata": {},
   "source": [
    "We want to add: \n",
    "- a `max` column with the maximum value per group and \n",
    "- a `min` column with the minimum value per group.\n",
    "\n",
    "\n",
    "Time how long this takes with two `with_column` statements"
   ]
  },
  {
   "cell_type": "code",
   "execution_count": null,
   "id": "f075d6fe-808e-4db5-ab88-6686e2358134",
   "metadata": {},
   "outputs": [],
   "source": [
    "%%timeit -n1 -r3\n",
    "(\n",
    "    df\n",
    "    <blank>\n",
    ")"
   ]
  },
  {
   "cell_type": "markdown",
   "id": "07e1229d-a494-4814-abf7-4ac89c988699",
   "metadata": {},
   "source": [
    "Time how long this takes in a single `with_columns` statement"
   ]
  },
  {
   "cell_type": "code",
   "execution_count": null,
   "id": "a9df980d-8fe2-4668-a07a-a5a2aa9ab20e",
   "metadata": {},
   "outputs": [],
   "source": [
    "%%timeit -n1 -r3\n",
    "(\n",
    "    df\n",
    "    <blank>\n",
    ")"
   ]
  },
  {
   "cell_type": "markdown",
   "id": "5b35feef-d8dc-4d74-8e4c-7f51c1e8cd31",
   "metadata": {},
   "source": [
    "Can Polars cache the window expressions across `with_column` statements in lazy mode?"
   ]
  },
  {
   "cell_type": "code",
   "execution_count": null,
   "id": "de8a602c-e79f-4a9d-a4c7-6b8160b6d758",
   "metadata": {},
   "outputs": [],
   "source": [
    "%%timeit -n1 -r3\n",
    "(\n",
    "    pl.scan_csv(csv_file)\n",
    "    <blank>\n",
    ")"
   ]
  },
  {
   "cell_type": "markdown",
   "id": "6cb836d2-c329-4731-abea-0575fd20a487",
   "metadata": {},
   "source": [
    "## Solutions\n",
    "\n",
    "### Solution to exercise 1\n",
    "We want to calculate the *z-score* of the `Age` column for each passenger normalised by their passenger class.\n",
    "\n",
    "Add a new column `Age_mean` with the mean of the `Age` column for passengers by class"
   ]
  },
  {
   "cell_type": "code",
   "execution_count": 18,
   "id": "02feb5d1-9676-49b4-a787-e6a15dc29f3d",
   "metadata": {
    "tags": []
   },
   "outputs": [
    {
     "data": {
      "text/html": [
       "<div><style>\n",
       ".dataframe > thead > tr,\n",
       ".dataframe > tbody > tr {\n",
       "  text-align: right;\n",
       "  white-space: pre-wrap;\n",
       "}\n",
       "</style>\n",
       "<small>shape: (6, 2)</small><table border=\"1\" class=\"dataframe\"><thead><tr><th>Age</th><th>Age_mean</th></tr><tr><td>f64</td><td>f64</td></tr></thead><tbody><tr><td>22.0</td><td>25.14062</td></tr><tr><td>38.0</td><td>38.233441</td></tr><tr><td>26.0</td><td>25.14062</td></tr><tr><td>35.0</td><td>38.233441</td></tr><tr><td>35.0</td><td>25.14062</td></tr><tr><td>null</td><td>25.14062</td></tr></tbody></table></div>"
      ],
      "text/plain": [
       "shape: (6, 2)\n",
       "┌──────┬───────────┐\n",
       "│ Age  ┆ Age_mean  │\n",
       "│ ---  ┆ ---       │\n",
       "│ f64  ┆ f64       │\n",
       "╞══════╪═══════════╡\n",
       "│ 22.0 ┆ 25.14062  │\n",
       "│ 38.0 ┆ 38.233441 │\n",
       "│ 26.0 ┆ 25.14062  │\n",
       "│ 35.0 ┆ 38.233441 │\n",
       "│ 35.0 ┆ 25.14062  │\n",
       "│ null ┆ 25.14062  │\n",
       "└──────┴───────────┘"
      ]
     },
     "execution_count": 18,
     "metadata": {},
     "output_type": "execute_result"
    }
   ],
   "source": [
    "(\n",
    "    pl.read_csv(csv_file)\n",
    "    .with_columns(\n",
    "        Age_mean = pl.col('Age').mean().over('Pclass')\n",
    "    )\n",
    "    .select(\n",
    "        cs.starts_with(\"Age\")\n",
    "    )\n",
    "    .head(6)\n",
    ")"
   ]
  },
  {
   "cell_type": "markdown",
   "id": "f745b326-e8ee-42cd-8e6e-622c12cb4425",
   "metadata": {},
   "source": [
    "Continue by replacing the `null` values in the `Age` column with the `median` age for passengers in that class"
   ]
  },
  {
   "cell_type": "code",
   "execution_count": 19,
   "id": "a3aec425-44df-4701-922b-7c9bb488a116",
   "metadata": {
    "tags": []
   },
   "outputs": [
    {
     "data": {
      "text/html": [
       "<div><style>\n",
       ".dataframe > thead > tr,\n",
       ".dataframe > tbody > tr {\n",
       "  text-align: right;\n",
       "  white-space: pre-wrap;\n",
       "}\n",
       "</style>\n",
       "<small>shape: (6, 3)</small><table border=\"1\" class=\"dataframe\"><thead><tr><th>Pclass</th><th>Age</th><th>Age_mean</th></tr><tr><td>i64</td><td>f64</td><td>f64</td></tr></thead><tbody><tr><td>3</td><td>22.0</td><td>25.14062</td></tr><tr><td>1</td><td>38.0</td><td>38.233441</td></tr><tr><td>3</td><td>26.0</td><td>25.14062</td></tr><tr><td>1</td><td>35.0</td><td>38.233441</td></tr><tr><td>3</td><td>35.0</td><td>25.14062</td></tr><tr><td>3</td><td>24.0</td><td>25.14062</td></tr></tbody></table></div>"
      ],
      "text/plain": [
       "shape: (6, 3)\n",
       "┌────────┬──────┬───────────┐\n",
       "│ Pclass ┆ Age  ┆ Age_mean  │\n",
       "│ ---    ┆ ---  ┆ ---       │\n",
       "│ i64    ┆ f64  ┆ f64       │\n",
       "╞════════╪══════╪═══════════╡\n",
       "│ 3      ┆ 22.0 ┆ 25.14062  │\n",
       "│ 1      ┆ 38.0 ┆ 38.233441 │\n",
       "│ 3      ┆ 26.0 ┆ 25.14062  │\n",
       "│ 1      ┆ 35.0 ┆ 38.233441 │\n",
       "│ 3      ┆ 35.0 ┆ 25.14062  │\n",
       "│ 3      ┆ 24.0 ┆ 25.14062  │\n",
       "└────────┴──────┴───────────┘"
      ]
     },
     "execution_count": 19,
     "metadata": {},
     "output_type": "execute_result"
    }
   ],
   "source": [
    "(\n",
    "    pl.read_csv(csv_file)\n",
    "    .with_columns(\n",
    "        Age_mean = pl.col('Age').mean().over('Pclass')\n",
    "    )\n",
    "    .with_columns(\n",
    "        Age = pl.col('Age').fill_null(pl.col('Age').median().over('Pclass'))\n",
    "    )\n",
    "    .select(\n",
    "        'Pclass',cs.starts_with(\"Age\")\n",
    "    )\n",
    "    .head(6)\n",
    ")"
   ]
  },
  {
   "cell_type": "markdown",
   "id": "ee79ce53-f15a-4398-906d-5c92bfe22c69",
   "metadata": {},
   "source": [
    "Replace `Age_mean` with a new column called `Age_delta` that is the difference between the age and the average age of all passengers in the same class. Keep the `fill_null` step from above"
   ]
  },
  {
   "cell_type": "code",
   "execution_count": 20,
   "id": "78ef9000-50a6-4c64-be0e-6c7c36db0aee",
   "metadata": {
    "tags": []
   },
   "outputs": [
    {
     "data": {
      "text/html": [
       "<div><style>\n",
       ".dataframe > thead > tr,\n",
       ".dataframe > tbody > tr {\n",
       "  text-align: right;\n",
       "  white-space: pre-wrap;\n",
       "}\n",
       "</style>\n",
       "<small>shape: (6, 3)</small><table border=\"1\" class=\"dataframe\"><thead><tr><th>Pclass</th><th>Age</th><th>Age_delta</th></tr><tr><td>i64</td><td>f64</td><td>f64</td></tr></thead><tbody><tr><td>3</td><td>22.0</td><td>-2.824684</td></tr><tr><td>1</td><td>38.0</td><td>-0.06213</td></tr><tr><td>3</td><td>26.0</td><td>1.175316</td></tr><tr><td>1</td><td>35.0</td><td>-3.06213</td></tr><tr><td>3</td><td>35.0</td><td>10.175316</td></tr><tr><td>3</td><td>24.0</td><td>-0.824684</td></tr></tbody></table></div>"
      ],
      "text/plain": [
       "shape: (6, 3)\n",
       "┌────────┬──────┬───────────┐\n",
       "│ Pclass ┆ Age  ┆ Age_delta │\n",
       "│ ---    ┆ ---  ┆ ---       │\n",
       "│ i64    ┆ f64  ┆ f64       │\n",
       "╞════════╪══════╪═══════════╡\n",
       "│ 3      ┆ 22.0 ┆ -2.824684 │\n",
       "│ 1      ┆ 38.0 ┆ -0.06213  │\n",
       "│ 3      ┆ 26.0 ┆ 1.175316  │\n",
       "│ 1      ┆ 35.0 ┆ -3.06213  │\n",
       "│ 3      ┆ 35.0 ┆ 10.175316 │\n",
       "│ 3      ┆ 24.0 ┆ -0.824684 │\n",
       "└────────┴──────┴───────────┘"
      ]
     },
     "execution_count": 20,
     "metadata": {},
     "output_type": "execute_result"
    }
   ],
   "source": [
    "(\n",
    "    pl.read_csv(csv_file)\n",
    "    .with_columns(\n",
    "        Age = pl.col('Age').fill_null(pl.col('Age').median().over('Pclass'))\n",
    "    )\n",
    "    .with_columns(\n",
    "        Age_delta = pl.col('Age') - pl.col('Age').mean().over('Pclass')\n",
    "    )\n",
    "    .select(\n",
    "        'Pclass',cs.starts_with(\"Age\")\n",
    "    )\n",
    "    .head(6)\n",
    ")"
   ]
  },
  {
   "cell_type": "markdown",
   "id": "3faf82e5-39aa-471c-afa1-418f88705525",
   "metadata": {},
   "source": [
    "Continue by adding another column called `Age_z` that has the z-score for the `Age` where the z-score is the (age - average age of the passengers in that class) divided by the standard deviation of the age column for passengers in that class"
   ]
  },
  {
   "cell_type": "code",
   "execution_count": 21,
   "id": "da58a67e-c9e8-47bb-a304-8b8be0fe1bba",
   "metadata": {
    "tags": []
   },
   "outputs": [
    {
     "data": {
      "text/html": [
       "<div><style>\n",
       ".dataframe > thead > tr,\n",
       ".dataframe > tbody > tr {\n",
       "  text-align: right;\n",
       "  white-space: pre-wrap;\n",
       "}\n",
       "</style>\n",
       "<small>shape: (6, 4)</small><table border=\"1\" class=\"dataframe\"><thead><tr><th>Pclass</th><th>Age</th><th>Age_delta</th><th>Age_z</th></tr><tr><td>i64</td><td>f64</td><td>f64</td><td>f64</td></tr></thead><tbody><tr><td>3</td><td>22.0</td><td>-2.824684</td><td>-0.265653</td></tr><tr><td>1</td><td>38.0</td><td>-0.06213</td><td>-0.004522</td></tr><tr><td>3</td><td>26.0</td><td>1.175316</td><td>0.110535</td></tr><tr><td>1</td><td>35.0</td><td>-3.06213</td><td>-0.222895</td></tr><tr><td>3</td><td>35.0</td><td>10.175316</td><td>0.956956</td></tr><tr><td>3</td><td>24.0</td><td>-0.824684</td><td>-0.077559</td></tr></tbody></table></div>"
      ],
      "text/plain": [
       "shape: (6, 4)\n",
       "┌────────┬──────┬───────────┬───────────┐\n",
       "│ Pclass ┆ Age  ┆ Age_delta ┆ Age_z     │\n",
       "│ ---    ┆ ---  ┆ ---       ┆ ---       │\n",
       "│ i64    ┆ f64  ┆ f64       ┆ f64       │\n",
       "╞════════╪══════╪═══════════╪═══════════╡\n",
       "│ 3      ┆ 22.0 ┆ -2.824684 ┆ -0.265653 │\n",
       "│ 1      ┆ 38.0 ┆ -0.06213  ┆ -0.004522 │\n",
       "│ 3      ┆ 26.0 ┆ 1.175316  ┆ 0.110535  │\n",
       "│ 1      ┆ 35.0 ┆ -3.06213  ┆ -0.222895 │\n",
       "│ 3      ┆ 35.0 ┆ 10.175316 ┆ 0.956956  │\n",
       "│ 3      ┆ 24.0 ┆ -0.824684 ┆ -0.077559 │\n",
       "└────────┴──────┴───────────┴───────────┘"
      ]
     },
     "execution_count": 21,
     "metadata": {},
     "output_type": "execute_result"
    }
   ],
   "source": [
    "(\n",
    "    pl.read_csv(csv_file)\n",
    "    .with_columns(\n",
    "        Age = pl.col('Age').fill_null(pl.col('Age').median().over('Pclass'))\n",
    "    )\n",
    "    .with_columns(\n",
    "        Age_delta = pl.col('Age') - pl.col('Age').mean().over('Pclass')\n",
    "    )\n",
    "\n",
    "    .with_columns(\n",
    "        Age_z = ((pl.col('Age') - pl.col('Age').mean().over('Pclass'))/pl.col('Age').std().over('Pclass'))\n",
    "    )\n",
    "    .select(\n",
    "        'Pclass',cs.starts_with(\"Age\")\n",
    "    )\n",
    "    .head(6)\n",
    ")"
   ]
  },
  {
   "cell_type": "markdown",
   "id": "74e851e4-c9cb-4851-b200-a2dc0065ba09",
   "metadata": {},
   "source": [
    "### Solution to exercise 2"
   ]
  },
  {
   "cell_type": "markdown",
   "id": "be87a30b-1219-405b-aba4-939c5ab68d6d",
   "metadata": {},
   "source": [
    "Count the number of passengers in each group of passenger class and survival"
   ]
  },
  {
   "cell_type": "code",
   "execution_count": 22,
   "id": "7f2deea2-a60d-4893-9202-a60dc5b113f1",
   "metadata": {
    "tags": []
   },
   "outputs": [
    {
     "data": {
      "text/html": [
       "<div><style>\n",
       ".dataframe > thead > tr,\n",
       ".dataframe > tbody > tr {\n",
       "  text-align: right;\n",
       "  white-space: pre-wrap;\n",
       "}\n",
       "</style>\n",
       "<small>shape: (6, 3)</small><table border=\"1\" class=\"dataframe\"><thead><tr><th>Pclass</th><th>Survived</th><th>counts</th></tr><tr><td>i64</td><td>i64</td><td>u32</td></tr></thead><tbody><tr><td>3</td><td>1</td><td>119</td></tr><tr><td>2</td><td>0</td><td>97</td></tr><tr><td>1</td><td>1</td><td>136</td></tr><tr><td>3</td><td>0</td><td>372</td></tr><tr><td>2</td><td>1</td><td>87</td></tr><tr><td>1</td><td>0</td><td>80</td></tr></tbody></table></div>"
      ],
      "text/plain": [
       "shape: (6, 3)\n",
       "┌────────┬──────────┬────────┐\n",
       "│ Pclass ┆ Survived ┆ counts │\n",
       "│ ---    ┆ ---      ┆ ---    │\n",
       "│ i64    ┆ i64      ┆ u32    │\n",
       "╞════════╪══════════╪════════╡\n",
       "│ 3      ┆ 1        ┆ 119    │\n",
       "│ 2      ┆ 0        ┆ 97     │\n",
       "│ 1      ┆ 1        ┆ 136    │\n",
       "│ 3      ┆ 0        ┆ 372    │\n",
       "│ 2      ┆ 1        ┆ 87     │\n",
       "│ 1      ┆ 0        ┆ 80     │\n",
       "└────────┴──────────┴────────┘"
      ]
     },
     "execution_count": 22,
     "metadata": {},
     "output_type": "execute_result"
    }
   ],
   "source": [
    "(\n",
    "    pl.read_csv(csv_file)\n",
    "    .group_by([\"Pclass\",\"Survived\"])\n",
    "    .agg(\n",
    "        pl.col(\"Name\").count().alias(\"counts\")\n",
    "    )\n",
    ")"
   ]
  },
  {
   "cell_type": "markdown",
   "id": "5e6ec614-b946-4c86-9fb3-650e8a7e23c1",
   "metadata": {},
   "source": [
    "Calculate the percentage breakdown of passenger survival within each passenger class group. Calculate the percentage as 0-100.\n",
    "\n",
    "Sort the output by passenger class and survival"
   ]
  },
  {
   "cell_type": "code",
   "execution_count": 24,
   "id": "28c7b1b4-52b0-47e0-8dc6-a6d49a16fbb0",
   "metadata": {
    "tags": []
   },
   "outputs": [
    {
     "data": {
      "text/html": [
       "<div><style>\n",
       ".dataframe > thead > tr,\n",
       ".dataframe > tbody > tr {\n",
       "  text-align: right;\n",
       "  white-space: pre-wrap;\n",
       "}\n",
       "</style>\n",
       "<small>shape: (6, 4)</small><table border=\"1\" class=\"dataframe\"><thead><tr><th>Pclass</th><th>Survived</th><th>counts</th><th>literal</th></tr><tr><td>i64</td><td>i64</td><td>u32</td><td>f64</td></tr></thead><tbody><tr><td>1</td><td>0</td><td>80</td><td>37.0</td></tr><tr><td>1</td><td>1</td><td>136</td><td>63.0</td></tr><tr><td>2</td><td>0</td><td>97</td><td>52.7</td></tr><tr><td>2</td><td>1</td><td>87</td><td>47.3</td></tr><tr><td>3</td><td>0</td><td>372</td><td>75.8</td></tr><tr><td>3</td><td>1</td><td>119</td><td>24.2</td></tr></tbody></table></div>"
      ],
      "text/plain": [
       "shape: (6, 4)\n",
       "┌────────┬──────────┬────────┬─────────┐\n",
       "│ Pclass ┆ Survived ┆ counts ┆ literal │\n",
       "│ ---    ┆ ---      ┆ ---    ┆ ---     │\n",
       "│ i64    ┆ i64      ┆ u32    ┆ f64     │\n",
       "╞════════╪══════════╪════════╪═════════╡\n",
       "│ 1      ┆ 0        ┆ 80     ┆ 37.0    │\n",
       "│ 1      ┆ 1        ┆ 136    ┆ 63.0    │\n",
       "│ 2      ┆ 0        ┆ 97     ┆ 52.7    │\n",
       "│ 2      ┆ 1        ┆ 87     ┆ 47.3    │\n",
       "│ 3      ┆ 0        ┆ 372    ┆ 75.8    │\n",
       "│ 3      ┆ 1        ┆ 119    ┆ 24.2    │\n",
       "└────────┴──────────┴────────┴─────────┘"
      ]
     },
     "execution_count": 24,
     "metadata": {},
     "output_type": "execute_result"
    }
   ],
   "source": [
    "(\n",
    "    pl.read_csv(csv_file)\n",
    "    .group_by([\"Pclass\",\"Survived\"])\n",
    "    .agg(\n",
    "        pl.col(\"Name\").count().alias(\"counts\")\n",
    "    )\n",
    "    .with_columns(\n",
    "        100*(pl.col(\"counts\")/pl.col(\"counts\").sum().over(\"Pclass\")).round(3).alias(\"percent\")\n",
    "    )\n",
    "    .sort([\"Pclass\",\"Survived\"])\n",
    ")"
   ]
  },
  {
   "cell_type": "markdown",
   "id": "72ddc670-0676-4261-8f30-e27dccae200d",
   "metadata": {},
   "source": [
    "### Solution to exercise 3\n",
    "\n",
    "Window functions allow us to do multiple groupbys in the same `select` or `with_column`. Polars can cache the groupbys in the same `with_columns` statement.\n",
    "\n",
    "In this exercise we explore the effect of this caching on performance.\n",
    "\n",
    "We begin by creating a `DataFrame` with groups and values"
   ]
  },
  {
   "cell_type": "code",
   "execution_count": 25,
   "id": "78904f1f-7051-424a-8889-80d3d28f5937",
   "metadata": {},
   "outputs": [
    {
     "data": {
      "text/html": [
       "<div><style>\n",
       ".dataframe > thead > tr,\n",
       ".dataframe > tbody > tr {\n",
       "  text-align: right;\n",
       "  white-space: pre-wrap;\n",
       "}\n",
       "</style>\n",
       "<small>shape: (3, 2)</small><table border=\"1\" class=\"dataframe\"><thead><tr><th>groups</th><th>values</th></tr><tr><td>i32</td><td>f64</td></tr></thead><tbody><tr><td>461484</td><td>1.015562</td></tr><tr><td>305711</td><td>0.011931</td></tr><tr><td>435829</td><td>0.972514</td></tr></tbody></table></div>"
      ],
      "text/plain": [
       "shape: (3, 2)\n",
       "┌────────┬──────────┐\n",
       "│ groups ┆ values   │\n",
       "│ ---    ┆ ---      │\n",
       "│ i32    ┆ f64      │\n",
       "╞════════╪══════════╡\n",
       "│ 461484 ┆ 1.015562 │\n",
       "│ 305711 ┆ 0.011931 │\n",
       "│ 435829 ┆ 0.972514 │\n",
       "└────────┴──────────┘"
      ]
     },
     "execution_count": 25,
     "metadata": {},
     "output_type": "execute_result"
    }
   ],
   "source": [
    "import numpy as np\n",
    "np.random.seed(0)\n",
    "\n",
    "N = 1_000_000\n",
    "cardinality = N // 2\n",
    "groups = np.random.randint(0,cardinality,N)\n",
    "df = pl.DataFrame(\n",
    "        {\n",
    "            \"groups\":groups,\n",
    "            \"values\":np.random.standard_normal(N)\n",
    "        }\n",
    "    )\n",
    "df.head(3)"
   ]
  },
  {
   "cell_type": "markdown",
   "id": "9197b506-fca9-4f59-8b06-062601a7edd2",
   "metadata": {},
   "source": [
    "We want to add a `max` column with the maximum value per group and a `min` column with the minimum value per group.\n",
    "\n",
    "\n",
    "Do this with two `with_column` statements"
   ]
  },
  {
   "cell_type": "code",
   "execution_count": null,
   "id": "6861f302-4bc4-4814-9ed4-c3024234b859",
   "metadata": {
    "jupyter": {
     "source_hidden": true
    },
    "tags": []
   },
   "outputs": [],
   "source": [
    "%%timeit -n1 -r3\n",
    "(\n",
    "    df\n",
    "    .with_columns(\n",
    "        pl.col(\"values\").max().over(\"groups\").alias(\"max\")\n",
    "    )\n",
    "    .with_columns(\n",
    "        pl.col(\"values\").min().over(\"groups\").alias(\"min\")\n",
    "    )\n",
    ")"
   ]
  },
  {
   "cell_type": "markdown",
   "id": "0b06faca-5f2e-4245-b49d-ad73a427febf",
   "metadata": {},
   "source": [
    "Do this in a single `with_columns` statement"
   ]
  },
  {
   "cell_type": "code",
   "execution_count": 26,
   "id": "7b6484c0-93af-4ec3-8b77-caee12f80a77",
   "metadata": {
    "tags": []
   },
   "outputs": [
    {
     "name": "stdout",
     "output_type": "stream",
     "text": [
      "74.2 ms ± 4.04 ms per loop (mean ± std. dev. of 3 runs, 1 loop each)\n"
     ]
    }
   ],
   "source": [
    "%%timeit -n1 -r3\n",
    "(\n",
    "    df\n",
    "    .with_columns(\n",
    "        [\n",
    "            pl.col(\"values\").max().over(\"groups\").alias(\"max\"),\n",
    "            pl.col(\"values\").min().over(\"groups\").alias(\"min\")\n",
    "        ]\n",
    "    )\n",
    ")"
   ]
  },
  {
   "cell_type": "markdown",
   "id": "a3d9144a-882e-42dc-9a16-fe9d5c23eb03",
   "metadata": {},
   "source": [
    "Can Polars cache the window expressions across `with_column` statements in lazy mode?"
   ]
  },
  {
   "cell_type": "code",
   "execution_count": 27,
   "id": "072024bc-92aa-4c75-8c31-a008bf471cce",
   "metadata": {
    "tags": []
   },
   "outputs": [
    {
     "name": "stdout",
     "output_type": "stream",
     "text": [
      "76.9 ms ± 6.34 ms per loop (mean ± std. dev. of 3 runs, 1 loop each)\n"
     ]
    }
   ],
   "source": [
    "%%timeit -n1 -r3\n",
    "(\n",
    "    df\n",
    "    .lazy()\n",
    "    .with_columns(\n",
    "        pl.col(\"values\").max().over(\"groups\").alias(\"max\")\n",
    "    )\n",
    "    .with_columns(\n",
    "        pl.col(\"values\").min().over(\"groups\").alias(\"min\")\n",
    "    )\n",
    "    .collect()\n",
    ")"
   ]
  },
  {
   "cell_type": "markdown",
   "id": "c7c24dcd-7229-4bcc-803a-0a0798ed3dbd",
   "metadata": {},
   "source": [
    "Not at this point as there is no speed up!"
   ]
  },
  {
   "cell_type": "code",
   "execution_count": null,
   "id": "d7c508d7-7283-4e8f-824f-03df7206b5ff",
   "metadata": {},
   "outputs": [],
   "source": []
  }
 ],
 "metadata": {
  "kernelspec": {
   "display_name": "Python 3 (ipykernel)",
   "language": "python",
   "name": "python3"
  },
  "language_info": {
   "codemirror_mode": {
    "name": "ipython",
    "version": 3
   },
   "file_extension": ".py",
   "mimetype": "text/x-python",
   "name": "python",
   "nbconvert_exporter": "python",
   "pygments_lexer": "ipython3",
   "version": "3.11.9"
  }
 },
 "nbformat": 4,
 "nbformat_minor": 5
}
