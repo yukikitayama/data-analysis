{
 "cells": [
  {
   "cell_type": "markdown",
   "id": "16f54c0c-43eb-4c4f-8fba-81796df9e817",
   "metadata": {},
   "source": [
    "## Transforming text data\n",
    "By the end of this lecture you will be able to:\n",
    "- to modify text data in Polars\n",
    "- to split text data\n",
    "- to merge text columns to create a new column"
   ]
  },
  {
   "cell_type": "code",
   "execution_count": 1,
   "id": "fd2314da-ec99-4d5f-9cb2-bd81d0b3cf15",
   "metadata": {
    "tags": []
   },
   "outputs": [],
   "source": [
    "import polars as pl"
   ]
  },
  {
   "cell_type": "markdown",
   "id": "5aa7019a-e0d7-49dd-b1d4-2905782e732c",
   "metadata": {},
   "source": [
    "For this lecture we create a `DataFrame` of fake news articles"
   ]
  },
  {
   "cell_type": "code",
   "execution_count": 2,
   "id": "f091171b-95c9-43e4-aa4b-fff9a8f30544",
   "metadata": {
    "tags": []
   },
   "outputs": [],
   "source": [
    "df = pl.DataFrame(\n",
    "    {\n",
    "        \"publication\": [\n",
    "            \"The Daily Deception\",\n",
    "            \"Faux News Network\",\n",
    "            \"The Fabricator\",\n",
    "            \"The Misleader\",\n",
    "            \"The Hoax Herald\",\n",
    "        ],\n",
    "        \"date\": [\n",
    "            \"2022-01-01\",\n",
    "            \"2022-01-03\",\n",
    "            \"2022-01-04\",\n",
    "            \"2022-01-05\",\n",
    "            \"2022-01-06\",\n",
    "        ],\n",
    "        \"title\": [\n",
    "            \"Scientists Discover New Species of Flying Elephant\",\n",
    "            \"Aliens Land on Earth and Offer to Solve All Our Problems\",\n",
    "            \"Study Shows That Eating Pizza Every Day Leads to Longer Life\",\n",
    "            \"New Study Finds That Smoking is Good for You\",\n",
    "            \"World's Largest Iceberg Discovered in Florida\",\n",
    "        ],\n",
    "        \"text\": [\n",
    "            \"In a groundbreaking discovery, scientists have found a new species of elephant that can fly. The flying elephants, which were found in the Amazon rainforest, have wings that span over 50 feet and can reach speeds of up to 100 miles per hour. This is a game-changing discovery that could revolutionize the field of zoology.\",\n",
    "            \"In a historic moment for humanity, aliens have landed on Earth and offered to solve all our problems. The extraterrestrial visitors, who arrived in a giant spaceship that landed in Central Park, have advanced technology that can cure disease, end hunger, and reverse climate change. The world is waiting to see how this incredible offer will play out.\",\n",
    "            \"A new study has found that eating pizza every day can lead to a longer life. The study, which was conducted by a team of Italian researchers, looked at the eating habits of over 10,000 people and found that those who ate pizza regularly lived on average two years longer than those who didn't. The study has been hailed as a breakthrough in the field of nutrition.\",\n",
    "            \"In a surprising twist, a new study has found that smoking is actually good for you. The study, which was conducted by a team of British researchers, looked at the health outcomes of over 100,000 people and found that those who smoked regularly had lower rates of heart disease and cancer than those who didn't. The findings have sparked controversy among health experts.\",\n",
    "            \"In a bizarre turn of events, the world's largest iceberg has been discovered in Florida. The iceberg, which is over 100 miles long and 50 miles wide, was found off the coast of Miami by a group of tourists on a whale-watching tour. Scientists are baffled by the discovery and are scrambling to figure out how an iceberg of this size could have\",\n",
    "        ],\n",
    "    }\n",
    ")"
   ]
  },
  {
   "cell_type": "markdown",
   "id": "fa5d405f-2404-4a83-b995-a0d23d36cc51",
   "metadata": {},
   "source": [
    "We set how many string characters should be printed per column with `set_fmt_str_lengths`"
   ]
  },
  {
   "cell_type": "code",
   "execution_count": 3,
   "id": "3d6ecf37-ef03-4727-8eeb-26021e72ff07",
   "metadata": {},
   "outputs": [
    {
     "data": {
      "text/plain": [
       "polars.config.Config"
      ]
     },
     "execution_count": 3,
     "metadata": {},
     "output_type": "execute_result"
    }
   ],
   "source": [
    "pl.Config.set_fmt_str_lengths(100)"
   ]
  },
  {
   "cell_type": "markdown",
   "id": "4c8db655-4555-4027-8fd1-969449ad458e",
   "metadata": {},
   "source": [
    "## The `.str` namespace\n",
    "Polars has a `.str` namespace to group string expressions together.\n",
    "\n",
    "We can see the full set of string methods in the API pages:\n",
    "https://pola-rs.github.io/polars/py-polars/html/reference/expressions/string.html"
   ]
  },
  {
   "cell_type": "markdown",
   "id": "35c0c57a-4926-4fe0-ad10-f183bf25ec88",
   "metadata": {},
   "source": [
    "## Changing case\n",
    "We can change case of all letters with `str.to_lowercase` and `str.to_uppercase`"
   ]
  },
  {
   "cell_type": "code",
   "execution_count": 4,
   "id": "4966b128-120d-4d42-9b15-d68e42516d2e",
   "metadata": {
    "tags": []
   },
   "outputs": [
    {
     "data": {
      "text/html": [
       "<div><style>\n",
       ".dataframe > thead > tr,\n",
       ".dataframe > tbody > tr {\n",
       "  text-align: right;\n",
       "  white-space: pre-wrap;\n",
       "}\n",
       "</style>\n",
       "<small>shape: (2, 1)</small><table border=\"1\" class=\"dataframe\"><thead><tr><th>title</th></tr><tr><td>str</td></tr></thead><tbody><tr><td>&quot;SCIENTISTS DISCOVER NEW SPECIES OF FLYING ELEPHANT&quot;</td></tr><tr><td>&quot;ALIENS LAND ON EARTH AND OFFER TO SOLVE ALL OUR PROBLEMS&quot;</td></tr></tbody></table></div>"
      ],
      "text/plain": [
       "shape: (2, 1)\n",
       "┌──────────────────────────────────────────────────────────┐\n",
       "│ title                                                    │\n",
       "│ ---                                                      │\n",
       "│ str                                                      │\n",
       "╞══════════════════════════════════════════════════════════╡\n",
       "│ SCIENTISTS DISCOVER NEW SPECIES OF FLYING ELEPHANT       │\n",
       "│ ALIENS LAND ON EARTH AND OFFER TO SOLVE ALL OUR PROBLEMS │\n",
       "└──────────────────────────────────────────────────────────┘"
      ]
     },
     "execution_count": 4,
     "metadata": {},
     "output_type": "execute_result"
    }
   ],
   "source": [
    "(\n",
    "    df\n",
    "    .select(\n",
    "        pl.col('title').str.to_uppercase()\n",
    "    )\n",
    "    .head(2)\n",
    ")"
   ]
  },
  {
   "cell_type": "markdown",
   "id": "337d94c4-72b4-47ce-946c-a8e1f8f8386f",
   "metadata": {},
   "source": [
    "## Length of strings\n",
    "We can get the length of a string either as the number of characters with `len_chars` or as the number or bytes with `len_bytes`"
   ]
  },
  {
   "cell_type": "code",
   "execution_count": 5,
   "id": "79c0ec06-8b10-4a5f-965f-424c3bc80ed7",
   "metadata": {
    "tags": []
   },
   "outputs": [
    {
     "data": {
      "text/html": [
       "<div><style>\n",
       ".dataframe > thead > tr,\n",
       ".dataframe > tbody > tr {\n",
       "  text-align: right;\n",
       "  white-space: pre-wrap;\n",
       "}\n",
       "</style>\n",
       "<small>shape: (5, 2)</small><table border=\"1\" class=\"dataframe\"><thead><tr><th>len_chars</th><th>len_bytes</th></tr><tr><td>u32</td><td>u32</td></tr></thead><tbody><tr><td>50</td><td>50</td></tr><tr><td>56</td><td>56</td></tr><tr><td>60</td><td>60</td></tr><tr><td>44</td><td>44</td></tr><tr><td>45</td><td>45</td></tr></tbody></table></div>"
      ],
      "text/plain": [
       "shape: (5, 2)\n",
       "┌───────────┬───────────┐\n",
       "│ len_chars ┆ len_bytes │\n",
       "│ ---       ┆ ---       │\n",
       "│ u32       ┆ u32       │\n",
       "╞═══════════╪═══════════╡\n",
       "│ 50        ┆ 50        │\n",
       "│ 56        ┆ 56        │\n",
       "│ 60        ┆ 60        │\n",
       "│ 44        ┆ 44        │\n",
       "│ 45        ┆ 45        │\n",
       "└───────────┴───────────┘"
      ]
     },
     "execution_count": 5,
     "metadata": {},
     "output_type": "execute_result"
    }
   ],
   "source": [
    "(\n",
    "    df\n",
    "    .select(\n",
    "        len_chars = pl.col('title').str.len_chars(),\n",
    "        len_bytes = pl.col('title').str.len_bytes(),\n",
    "    )\n",
    ")"
   ]
  },
  {
   "cell_type": "markdown",
   "id": "befc1b8c-3777-43e0-a7eb-eab071c9237a",
   "metadata": {},
   "source": [
    "In this example we see how these metrics differ using the names of some Bon Iver songs with unicode characters"
   ]
  },
  {
   "cell_type": "code",
   "execution_count": 6,
   "id": "544f59c7-eff8-43bc-a471-ecd30dec821e",
   "metadata": {
    "tags": []
   },
   "outputs": [
    {
     "data": {
      "text/html": [
       "<div><style>\n",
       ".dataframe > thead > tr,\n",
       ".dataframe > tbody > tr {\n",
       "  text-align: right;\n",
       "  white-space: pre-wrap;\n",
       "}\n",
       "</style>\n",
       "<small>shape: (2, 2)</small><table border=\"1\" class=\"dataframe\"><thead><tr><th>len_chars</th><th>len_bytes</th></tr><tr><td>u32</td><td>u32</td></tr></thead><tbody><tr><td>8</td><td>8</td></tr><tr><td>14</td><td>18</td></tr></tbody></table></div>"
      ],
      "text/plain": [
       "shape: (2, 2)\n",
       "┌───────────┬───────────┐\n",
       "│ len_chars ┆ len_bytes │\n",
       "│ ---       ┆ ---       │\n",
       "│ u32       ┆ u32       │\n",
       "╞═══════════╪═══════════╡\n",
       "│ 8         ┆ 8         │\n",
       "│ 14        ┆ 18        │\n",
       "└───────────┴───────────┘"
      ]
     },
     "execution_count": 6,
     "metadata": {},
     "output_type": "execute_result"
    }
   ],
   "source": [
    "(\n",
    "    pl.DataFrame(\n",
    "        {'title':['Holocene','22 (OVER S∞∞N)']}\n",
    "                  )\n",
    "    .select(\n",
    "        len_chars = pl.col('title').str.len_chars(),\n",
    "        len_bytes = pl.col('title').str.len_bytes(),\n",
    "    )\n",
    ")"
   ]
  },
  {
   "cell_type": "markdown",
   "id": "711efd31-39a9-4687-a7d9-997d4a78f100",
   "metadata": {},
   "source": [
    "## Remove whitespace\n",
    "\n",
    "We can remove leading whitespace with `strip_chars_start`. Here we define a `DataFrame` with all types of whitespace"
   ]
  },
  {
   "cell_type": "code",
   "execution_count": 8,
   "id": "ff5a3915-3099-4747-89dd-0debf586cbc4",
   "metadata": {
    "tags": []
   },
   "outputs": [
    {
     "data": {
      "text/html": [
       "<div><style>\n",
       ".dataframe > thead > tr,\n",
       ".dataframe > tbody > tr {\n",
       "  text-align: right;\n",
       "  white-space: pre-wrap;\n",
       "}\n",
       "</style>\n",
       "<small>shape: (3, 1)</small><table border=\"1\" class=\"dataframe\"><thead><tr><th>foo</th></tr><tr><td>str</td></tr></thead><tbody><tr><td>&quot;lead&quot;</td></tr><tr><td>&quot;trail &quot;</td></tr><tr><td>&quot;both &quot;</td></tr></tbody></table></div>"
      ],
      "text/plain": [
       "shape: (3, 1)\n",
       "┌────────┐\n",
       "│ foo    │\n",
       "│ ---    │\n",
       "│ str    │\n",
       "╞════════╡\n",
       "│ lead   │\n",
       "│ trail  │\n",
       "│ both   │\n",
       "└────────┘"
      ]
     },
     "execution_count": 8,
     "metadata": {},
     "output_type": "execute_result"
    }
   ],
   "source": [
    "(\n",
    "    pl.DataFrame(\n",
    "        {\"foo\": [\" lead\", \"trail \", \" both \"]}\n",
    "    )\n",
    "    .select(\n",
    "        pl.col(\"foo\").str.strip_chars_start()\n",
    "    )\n",
    ")"
   ]
  },
  {
   "cell_type": "markdown",
   "id": "e376f966-3e40-4ee4-96b0-6e4feab2f986",
   "metadata": {},
   "source": [
    "We can use `strip_chars` to remove leading and trailing whitespace or strip_chars_end to remove trailing whitespace"
   ]
  },
  {
   "cell_type": "markdown",
   "id": "1daf0d0d-0fca-44d1-8a50-323be99324b2",
   "metadata": {},
   "source": [
    "## Justify and padding\n",
    "We can return a string justified to a certain length with a padding character.\n",
    "\n",
    "In this example we left-justify to 6 characters (including whitespace) and pad with a `*`"
   ]
  },
  {
   "cell_type": "code",
   "execution_count": 10,
   "id": "eac73c96-8060-4e58-94cc-4039098dad83",
   "metadata": {
    "tags": []
   },
   "outputs": [
    {
     "data": {
      "text/html": [
       "<div><style>\n",
       ".dataframe > thead > tr,\n",
       ".dataframe > tbody > tr {\n",
       "  text-align: right;\n",
       "  white-space: pre-wrap;\n",
       "}\n",
       "</style>\n",
       "<small>shape: (3, 2)</small><table border=\"1\" class=\"dataframe\"><thead><tr><th>foo</th><th>left_justified</th></tr><tr><td>str</td><td>str</td></tr></thead><tbody><tr><td>&quot; lead&quot;</td><td>&quot; lead*****&quot;</td></tr><tr><td>&quot;trail &quot;</td><td>&quot;trail ****&quot;</td></tr><tr><td>&quot; both &quot;</td><td>&quot; both ****&quot;</td></tr></tbody></table></div>"
      ],
      "text/plain": [
       "shape: (3, 2)\n",
       "┌────────┬────────────────┐\n",
       "│ foo    ┆ left_justified │\n",
       "│ ---    ┆ ---            │\n",
       "│ str    ┆ str            │\n",
       "╞════════╪════════════════╡\n",
       "│  lead  ┆  lead*****     │\n",
       "│ trail  ┆ trail ****     │\n",
       "│  both  ┆  both ****     │\n",
       "└────────┴────────────────┘"
      ]
     },
     "execution_count": 10,
     "metadata": {},
     "output_type": "execute_result"
    }
   ],
   "source": [
    "(\n",
    "    pl.DataFrame(\n",
    "        {\n",
    "            \"foo\": [\" lead\", \"trail \", \" both \"]\n",
    "        }\n",
    "    )\n",
    "    .select(\n",
    "        \"foo\",\n",
    "        left_justified = pl.col(\"foo\").str.pad_end(10,\"*\"),\n",
    "    )\n",
    ")"
   ]
  },
  {
   "cell_type": "markdown",
   "id": "6eced004-5f75-4030-b4bf-9ce8925fefcc",
   "metadata": {},
   "source": [
    "And we can apply zero-padding with `zfill`"
   ]
  },
  {
   "cell_type": "code",
   "execution_count": 11,
   "id": "588efa80-4003-4749-823b-170e080a8c81",
   "metadata": {
    "tags": []
   },
   "outputs": [
    {
     "data": {
      "text/html": [
       "<div><style>\n",
       ".dataframe > thead > tr,\n",
       ".dataframe > tbody > tr {\n",
       "  text-align: right;\n",
       "  white-space: pre-wrap;\n",
       "}\n",
       "</style>\n",
       "<small>shape: (3, 1)</small><table border=\"1\" class=\"dataframe\"><thead><tr><th>foo</th></tr><tr><td>str</td></tr></thead><tbody><tr><td>&quot;001&quot;</td></tr><tr><td>&quot;010&quot;</td></tr><tr><td>&quot;100&quot;</td></tr></tbody></table></div>"
      ],
      "text/plain": [
       "shape: (3, 1)\n",
       "┌─────┐\n",
       "│ foo │\n",
       "│ --- │\n",
       "│ str │\n",
       "╞═════╡\n",
       "│ 001 │\n",
       "│ 010 │\n",
       "│ 100 │\n",
       "└─────┘"
      ]
     },
     "execution_count": 11,
     "metadata": {},
     "output_type": "execute_result"
    }
   ],
   "source": [
    "(\n",
    "    pl.DataFrame(\n",
    "        {\n",
    "            \"foo\": [\"1\", \"10\", \"100\"]\n",
    "        }\n",
    "    )\n",
    "    .select(\n",
    "        pl.col(\"foo\").str.zfill(3)\n",
    "    )\n",
    ")"
   ]
  },
  {
   "cell_type": "markdown",
   "id": "f7129c10-837c-4b7f-a392-1aabf112c117",
   "metadata": {},
   "source": [
    "## Splitting text\n",
    "\n",
    "We can split text into a `pl.List` dtype column with the `str.split` method.\n",
    "\n",
    "In this example we split the text column based on whitespace"
   ]
  },
  {
   "cell_type": "code",
   "execution_count": 12,
   "id": "3812a9aa-40c9-4bcb-8030-8297c75b1a04",
   "metadata": {
    "tags": []
   },
   "outputs": [
    {
     "data": {
      "text/html": [
       "<div><style>\n",
       ".dataframe > thead > tr,\n",
       ".dataframe > tbody > tr {\n",
       "  text-align: right;\n",
       "  white-space: pre-wrap;\n",
       "}\n",
       "</style>\n",
       "<small>shape: (5, 4)</small><table border=\"1\" class=\"dataframe\"><thead><tr><th>publication</th><th>date</th><th>title</th><th>text</th></tr><tr><td>str</td><td>str</td><td>str</td><td>list[str]</td></tr></thead><tbody><tr><td>&quot;The Daily Deception&quot;</td><td>&quot;2022-01-01&quot;</td><td>&quot;Scientists Discover New Species of Flying Elephant&quot;</td><td>[&quot;In&quot;, &quot;a&quot;, … &quot;zoology.&quot;]</td></tr><tr><td>&quot;Faux News Network&quot;</td><td>&quot;2022-01-03&quot;</td><td>&quot;Aliens Land on Earth and Offer to Solve All Our Problems&quot;</td><td>[&quot;In&quot;, &quot;a&quot;, … &quot;out.&quot;]</td></tr><tr><td>&quot;The Fabricator&quot;</td><td>&quot;2022-01-04&quot;</td><td>&quot;Study Shows That Eating Pizza Every Day Leads to Longer Life&quot;</td><td>[&quot;A&quot;, &quot;new&quot;, … &quot;nutrition.&quot;]</td></tr><tr><td>&quot;The Misleader&quot;</td><td>&quot;2022-01-05&quot;</td><td>&quot;New Study Finds That Smoking is Good for You&quot;</td><td>[&quot;In&quot;, &quot;a&quot;, … &quot;experts.&quot;]</td></tr><tr><td>&quot;The Hoax Herald&quot;</td><td>&quot;2022-01-06&quot;</td><td>&quot;World&#x27;s Largest Iceberg Discovered in Florida&quot;</td><td>[&quot;In&quot;, &quot;a&quot;, … &quot;have&quot;]</td></tr></tbody></table></div>"
      ],
      "text/plain": [
       "shape: (5, 4)\n",
       "┌─────────────────────┬────────────┬──────────────────────────────────────────────────────────────┬──────────────────────────────┐\n",
       "│ publication         ┆ date       ┆ title                                                        ┆ text                         │\n",
       "│ ---                 ┆ ---        ┆ ---                                                          ┆ ---                          │\n",
       "│ str                 ┆ str        ┆ str                                                          ┆ list[str]                    │\n",
       "╞═════════════════════╪════════════╪══════════════════════════════════════════════════════════════╪══════════════════════════════╡\n",
       "│ The Daily Deception ┆ 2022-01-01 ┆ Scientists Discover New Species of Flying Elephant           ┆ [\"In\", \"a\", … \"zoology.\"]    │\n",
       "│ Faux News Network   ┆ 2022-01-03 ┆ Aliens Land on Earth and Offer to Solve All Our Problems     ┆ [\"In\", \"a\", … \"out.\"]        │\n",
       "│ The Fabricator      ┆ 2022-01-04 ┆ Study Shows That Eating Pizza Every Day Leads to Longer Life ┆ [\"A\", \"new\", … \"nutrition.\"] │\n",
       "│ The Misleader       ┆ 2022-01-05 ┆ New Study Finds That Smoking is Good for You                 ┆ [\"In\", \"a\", … \"experts.\"]    │\n",
       "│ The Hoax Herald     ┆ 2022-01-06 ┆ World's Largest Iceberg Discovered in Florida                ┆ [\"In\", \"a\", … \"have\"]        │\n",
       "└─────────────────────┴────────────┴──────────────────────────────────────────────────────────────┴──────────────────────────────┘"
      ]
     },
     "execution_count": 12,
     "metadata": {},
     "output_type": "execute_result"
    }
   ],
   "source": [
    "pl.Config.set_tbl_rows(30)\n",
    "(\n",
    "    df\n",
    "    .with_columns(\n",
    "        pl.col('text').str.split(' ')\n",
    "    )\n",
    ")"
   ]
  },
  {
   "cell_type": "markdown",
   "id": "951992f7-9893-47af-b6bb-01f82e88d459",
   "metadata": {},
   "source": [
    "If we want to do further analysis on the individual words it is often easiest to then `explode` the list column to have an entry for each row"
   ]
  },
  {
   "cell_type": "code",
   "execution_count": 13,
   "id": "a17046ef-0e53-4644-9769-617e9825f417",
   "metadata": {
    "tags": []
   },
   "outputs": [
    {
     "data": {
      "text/html": [
       "<div><style>\n",
       ".dataframe > thead > tr,\n",
       ".dataframe > tbody > tr {\n",
       "  text-align: right;\n",
       "  white-space: pre-wrap;\n",
       "}\n",
       "</style>\n",
       "<small>shape: (306, 4)</small><table border=\"1\" class=\"dataframe\"><thead><tr><th>publication</th><th>date</th><th>title</th><th>text</th></tr><tr><td>str</td><td>str</td><td>str</td><td>str</td></tr></thead><tbody><tr><td>&quot;The Daily Deception&quot;</td><td>&quot;2022-01-01&quot;</td><td>&quot;Scientists Discover New Species of Flying Elephant&quot;</td><td>&quot;In&quot;</td></tr><tr><td>&quot;The Daily Deception&quot;</td><td>&quot;2022-01-01&quot;</td><td>&quot;Scientists Discover New Species of Flying Elephant&quot;</td><td>&quot;a&quot;</td></tr><tr><td>&quot;The Daily Deception&quot;</td><td>&quot;2022-01-01&quot;</td><td>&quot;Scientists Discover New Species of Flying Elephant&quot;</td><td>&quot;groundbreaking&quot;</td></tr><tr><td>&hellip;</td><td>&hellip;</td><td>&hellip;</td><td>&hellip;</td></tr><tr><td>&quot;The Hoax Herald&quot;</td><td>&quot;2022-01-06&quot;</td><td>&quot;World&#x27;s Largest Iceberg Discovered in Florida&quot;</td><td>&quot;size&quot;</td></tr><tr><td>&quot;The Hoax Herald&quot;</td><td>&quot;2022-01-06&quot;</td><td>&quot;World&#x27;s Largest Iceberg Discovered in Florida&quot;</td><td>&quot;could&quot;</td></tr><tr><td>&quot;The Hoax Herald&quot;</td><td>&quot;2022-01-06&quot;</td><td>&quot;World&#x27;s Largest Iceberg Discovered in Florida&quot;</td><td>&quot;have&quot;</td></tr></tbody></table></div>"
      ],
      "text/plain": [
       "shape: (306, 4)\n",
       "┌─────────────────────┬────────────┬────────────────────────────────────────────────────┬────────────────┐\n",
       "│ publication         ┆ date       ┆ title                                              ┆ text           │\n",
       "│ ---                 ┆ ---        ┆ ---                                                ┆ ---            │\n",
       "│ str                 ┆ str        ┆ str                                                ┆ str            │\n",
       "╞═════════════════════╪════════════╪════════════════════════════════════════════════════╪════════════════╡\n",
       "│ The Daily Deception ┆ 2022-01-01 ┆ Scientists Discover New Species of Flying Elephant ┆ In             │\n",
       "│ The Daily Deception ┆ 2022-01-01 ┆ Scientists Discover New Species of Flying Elephant ┆ a              │\n",
       "│ The Daily Deception ┆ 2022-01-01 ┆ Scientists Discover New Species of Flying Elephant ┆ groundbreaking │\n",
       "│ …                   ┆ …          ┆ …                                                  ┆ …              │\n",
       "│ The Hoax Herald     ┆ 2022-01-06 ┆ World's Largest Iceberg Discovered in Florida      ┆ size           │\n",
       "│ The Hoax Herald     ┆ 2022-01-06 ┆ World's Largest Iceberg Discovered in Florida      ┆ could          │\n",
       "│ The Hoax Herald     ┆ 2022-01-06 ┆ World's Largest Iceberg Discovered in Florida      ┆ have           │\n",
       "└─────────────────────┴────────────┴────────────────────────────────────────────────────┴────────────────┘"
      ]
     },
     "execution_count": 13,
     "metadata": {},
     "output_type": "execute_result"
    }
   ],
   "source": [
    "pl.Config.set_tbl_rows(6)\n",
    "(\n",
    "    df\n",
    "    .with_columns(\n",
    "        pl.col('text').str.split(' ')\n",
    "    )\n",
    "    .explode('text')\n",
    ")"
   ]
  },
  {
   "cell_type": "markdown",
   "id": "9b8c98b4-f0bc-48bb-a8f8-0618baf9e154",
   "metadata": {},
   "source": [
    "If we want to split by a `regex` instead we use the `str.extract_all` method that we meet in the next Lecture.\n",
    "\n",
    "The output in this case keeps the data in the other columns. For a large `DataFrame` we could reduce memory usage by casting these to categorical as they have many repeated values"
   ]
  },
  {
   "cell_type": "code",
   "execution_count": 14,
   "id": "433d20c6-fd90-42d2-9d2c-350a1191e08b",
   "metadata": {
    "tags": []
   },
   "outputs": [
    {
     "data": {
      "text/html": [
       "<div><style>\n",
       ".dataframe > thead > tr,\n",
       ".dataframe > tbody > tr {\n",
       "  text-align: right;\n",
       "  white-space: pre-wrap;\n",
       "}\n",
       "</style>\n",
       "<small>shape: (306, 4)</small><table border=\"1\" class=\"dataframe\"><thead><tr><th>publication</th><th>date</th><th>title</th><th>text</th></tr><tr><td>cat</td><td>str</td><td>cat</td><td>str</td></tr></thead><tbody><tr><td>&quot;The Daily Deception&quot;</td><td>&quot;2022-01-01&quot;</td><td>&quot;Scientists Discover New Species of Flying Elephant&quot;</td><td>&quot;In&quot;</td></tr><tr><td>&quot;The Daily Deception&quot;</td><td>&quot;2022-01-01&quot;</td><td>&quot;Scientists Discover New Species of Flying Elephant&quot;</td><td>&quot;a&quot;</td></tr><tr><td>&quot;The Daily Deception&quot;</td><td>&quot;2022-01-01&quot;</td><td>&quot;Scientists Discover New Species of Flying Elephant&quot;</td><td>&quot;groundbreaking&quot;</td></tr><tr><td>&hellip;</td><td>&hellip;</td><td>&hellip;</td><td>&hellip;</td></tr><tr><td>&quot;The Hoax Herald&quot;</td><td>&quot;2022-01-06&quot;</td><td>&quot;World&#x27;s Largest Iceberg Discovered in Florida&quot;</td><td>&quot;size&quot;</td></tr><tr><td>&quot;The Hoax Herald&quot;</td><td>&quot;2022-01-06&quot;</td><td>&quot;World&#x27;s Largest Iceberg Discovered in Florida&quot;</td><td>&quot;could&quot;</td></tr><tr><td>&quot;The Hoax Herald&quot;</td><td>&quot;2022-01-06&quot;</td><td>&quot;World&#x27;s Largest Iceberg Discovered in Florida&quot;</td><td>&quot;have&quot;</td></tr></tbody></table></div>"
      ],
      "text/plain": [
       "shape: (306, 4)\n",
       "┌─────────────────────┬────────────┬────────────────────────────────────────────────────┬────────────────┐\n",
       "│ publication         ┆ date       ┆ title                                              ┆ text           │\n",
       "│ ---                 ┆ ---        ┆ ---                                                ┆ ---            │\n",
       "│ cat                 ┆ str        ┆ cat                                                ┆ str            │\n",
       "╞═════════════════════╪════════════╪════════════════════════════════════════════════════╪════════════════╡\n",
       "│ The Daily Deception ┆ 2022-01-01 ┆ Scientists Discover New Species of Flying Elephant ┆ In             │\n",
       "│ The Daily Deception ┆ 2022-01-01 ┆ Scientists Discover New Species of Flying Elephant ┆ a              │\n",
       "│ The Daily Deception ┆ 2022-01-01 ┆ Scientists Discover New Species of Flying Elephant ┆ groundbreaking │\n",
       "│ …                   ┆ …          ┆ …                                                  ┆ …              │\n",
       "│ The Hoax Herald     ┆ 2022-01-06 ┆ World's Largest Iceberg Discovered in Florida      ┆ size           │\n",
       "│ The Hoax Herald     ┆ 2022-01-06 ┆ World's Largest Iceberg Discovered in Florida      ┆ could          │\n",
       "│ The Hoax Herald     ┆ 2022-01-06 ┆ World's Largest Iceberg Discovered in Florida      ┆ have           │\n",
       "└─────────────────────┴────────────┴────────────────────────────────────────────────────┴────────────────┘"
      ]
     },
     "execution_count": 14,
     "metadata": {},
     "output_type": "execute_result"
    }
   ],
   "source": [
    "(\n",
    "    df\n",
    "    .with_columns(\n",
    "        pl.col([\"publication\",\"title\"]).cast(pl.Categorical),\n",
    "        pl.col('text').str.split(' ')\n",
    "    )\n",
    "    .explode('text')\n",
    ")"
   ]
  },
  {
   "cell_type": "markdown",
   "id": "e8f9abd3-467b-4f90-a920-d56755f2b178",
   "metadata": {},
   "source": [
    "With the `explode` method we can now do word-level analysis.\n",
    "\n",
    "In this example we count how often each word occurs (we learn more about `value_counts` in the next Section) "
   ]
  },
  {
   "cell_type": "code",
   "execution_count": 15,
   "id": "ffe1ed5f-b680-4e9f-b48a-399479429f48",
   "metadata": {
    "tags": []
   },
   "outputs": [
    {
     "data": {
      "text/html": [
       "<div><style>\n",
       ".dataframe > thead > tr,\n",
       ".dataframe > tbody > tr {\n",
       "  text-align: right;\n",
       "  white-space: pre-wrap;\n",
       "}\n",
       "</style>\n",
       "<small>shape: (169, 2)</small><table border=\"1\" class=\"dataframe\"><thead><tr><th>text</th><th>count</th></tr><tr><td>str</td><td>u32</td></tr></thead><tbody><tr><td>&quot;a&quot;</td><td>14</td></tr><tr><td>&quot;of&quot;</td><td>13</td></tr><tr><td>&quot;that&quot;</td><td>9</td></tr><tr><td>&hellip;</td><td>&hellip;</td></tr><tr><td>&quot;out&quot;</td><td>1</td></tr><tr><td>&quot;an&quot;</td><td>1</td></tr><tr><td>&quot;size&quot;</td><td>1</td></tr></tbody></table></div>"
      ],
      "text/plain": [
       "shape: (169, 2)\n",
       "┌──────┬───────┐\n",
       "│ text ┆ count │\n",
       "│ ---  ┆ ---   │\n",
       "│ str  ┆ u32   │\n",
       "╞══════╪═══════╡\n",
       "│ a    ┆ 14    │\n",
       "│ of   ┆ 13    │\n",
       "│ that ┆ 9     │\n",
       "│ …    ┆ …     │\n",
       "│ out  ┆ 1     │\n",
       "│ an   ┆ 1     │\n",
       "│ size ┆ 1     │\n",
       "└──────┴───────┘"
      ]
     },
     "execution_count": 15,
     "metadata": {},
     "output_type": "execute_result"
    }
   ],
   "source": [
    "(\n",
    "    df\n",
    "    .with_columns(\n",
    "        pl.col('text').str.split(' ')\n",
    "    )\n",
    "    .explode('text')\n",
    "    ['text']\n",
    "    .value_counts(sort=True)\n",
    ")"
   ]
  },
  {
   "cell_type": "markdown",
   "id": "3f911a92-03c7-4b6f-b861-f3ab209ce246",
   "metadata": {},
   "source": [
    "We can also explode a string column to have each character on its own line"
   ]
  },
  {
   "cell_type": "code",
   "execution_count": 16,
   "id": "0efc990f-4459-411f-8968-4448eafad77c",
   "metadata": {
    "tags": []
   },
   "outputs": [
    {
     "data": {
      "text/html": [
       "<div><style>\n",
       ".dataframe > thead > tr,\n",
       ".dataframe > tbody > tr {\n",
       "  text-align: right;\n",
       "  white-space: pre-wrap;\n",
       "}\n",
       "</style>\n",
       "<small>shape: (6, 1)</small><table border=\"1\" class=\"dataframe\"><thead><tr><th>publication</th></tr><tr><td>str</td></tr></thead><tbody><tr><td>&quot;T&quot;</td></tr><tr><td>&quot;h&quot;</td></tr><tr><td>&quot;e&quot;</td></tr><tr><td>&quot; &quot;</td></tr><tr><td>&quot;D&quot;</td></tr><tr><td>&quot;a&quot;</td></tr></tbody></table></div>"
      ],
      "text/plain": [
       "shape: (6, 1)\n",
       "┌─────────────┐\n",
       "│ publication │\n",
       "│ ---         │\n",
       "│ str         │\n",
       "╞═════════════╡\n",
       "│ T           │\n",
       "│ h           │\n",
       "│ e           │\n",
       "│             │\n",
       "│ D           │\n",
       "│ a           │\n",
       "└─────────────┘"
      ]
     },
     "execution_count": 16,
     "metadata": {},
     "output_type": "execute_result"
    }
   ],
   "source": [
    "(\n",
    "    df\n",
    "    .select(\n",
    "        pl.col('publication').str.split(\"\").explode()\n",
    "    )\n",
    "    .head(6)\n",
    ")"
   ]
  },
  {
   "cell_type": "markdown",
   "id": "7d182fe0-eafa-4783-a533-75ec79461052",
   "metadata": {},
   "source": [
    "If we want to split a regular pattern with the same number of splits on each row we can use `str.split_exact`. See the exercises for an example."
   ]
  },
  {
   "cell_type": "markdown",
   "id": "ecef64ad-8d14-463c-a2d4-7cd62ce74b66",
   "metadata": {},
   "source": [
    "## Merging string columns to create a new column\n",
    "We can merge string columns with the `pl.concat_str` function"
   ]
  },
  {
   "cell_type": "code",
   "execution_count": 17,
   "id": "a07f21ba-7e8c-4ea0-8e80-e7b05656cf80",
   "metadata": {
    "tags": []
   },
   "outputs": [
    {
     "data": {
      "text/html": [
       "<div><style>\n",
       ".dataframe > thead > tr,\n",
       ".dataframe > tbody > tr {\n",
       "  text-align: right;\n",
       "  white-space: pre-wrap;\n",
       "}\n",
       "</style>\n",
       "<small>shape: (2, 5)</small><table border=\"1\" class=\"dataframe\"><thead><tr><th>publication</th><th>date</th><th>title</th><th>text</th><th>title_date</th></tr><tr><td>str</td><td>str</td><td>str</td><td>str</td><td>str</td></tr></thead><tbody><tr><td>&quot;The Daily Deception&quot;</td><td>&quot;2022-01-01&quot;</td><td>&quot;Scientists Discover New Species of Flying Elephant&quot;</td><td>&quot;In a groundbreaking discovery, scientists have found a new species of elephant that can fly. The fly…</td><td>&quot;Scientists Discover New Species of Flying Elephant_2022-01-01&quot;</td></tr><tr><td>&quot;Faux News Network&quot;</td><td>&quot;2022-01-03&quot;</td><td>&quot;Aliens Land on Earth and Offer to Solve All Our Problems&quot;</td><td>&quot;In a historic moment for humanity, aliens have landed on Earth and offered to solve all our problems…</td><td>&quot;Aliens Land on Earth and Offer to Solve All Our Problems_2022-01-03&quot;</td></tr></tbody></table></div>"
      ],
      "text/plain": [
       "shape: (2, 5)\n",
       "┌─────────────────────┬────────────┬─────────────────────────────────┬─────────────────────────────────┬──────────────────────────┐\n",
       "│ publication         ┆ date       ┆ title                           ┆ text                            ┆ title_date               │\n",
       "│ ---                 ┆ ---        ┆ ---                             ┆ ---                             ┆ ---                      │\n",
       "│ str                 ┆ str        ┆ str                             ┆ str                             ┆ str                      │\n",
       "╞═════════════════════╪════════════╪═════════════════════════════════╪═════════════════════════════════╪══════════════════════════╡\n",
       "│ The Daily Deception ┆ 2022-01-01 ┆ Scientists Discover New Species ┆ In a groundbreaking discovery,  ┆ Scientists Discover New  │\n",
       "│                     ┆            ┆ of Flying Elephant              ┆ scientists have found a new     ┆ Species of Flying        │\n",
       "│                     ┆            ┆                                 ┆ species of elephant that can    ┆ Elephant_2022-01-01      │\n",
       "│                     ┆            ┆                                 ┆ fly. The fly…                   ┆                          │\n",
       "│ Faux News Network   ┆ 2022-01-03 ┆ Aliens Land on Earth and Offer  ┆ In a historic moment for        ┆ Aliens Land on Earth and │\n",
       "│                     ┆            ┆ to Solve All Our Problems       ┆ humanity, aliens have landed on ┆ Offer to Solve All Our   │\n",
       "│                     ┆            ┆                                 ┆ Earth and offered to solve all  ┆ Problems_2022-01-03      │\n",
       "│                     ┆            ┆                                 ┆ our problems…                   ┆                          │\n",
       "└─────────────────────┴────────────┴─────────────────────────────────┴─────────────────────────────────┴──────────────────────────┘"
      ]
     },
     "execution_count": 17,
     "metadata": {},
     "output_type": "execute_result"
    }
   ],
   "source": [
    "(\n",
    "    df\n",
    "    .with_columns(\n",
    "        title_date = pl.concat_str(\n",
    "            [\n",
    "                pl.col('title'),\n",
    "                pl.col('date').cast(pl.Utf8)\n",
    "            ],\n",
    "            separator=\"_\"\n",
    "        )\n",
    "    )\n",
    "    .head(2)\n",
    ")"
   ]
  },
  {
   "cell_type": "markdown",
   "id": "ece42dfc-ff49-4a2a-a686-a54eabccec9f",
   "metadata": {},
   "source": [
    "# Exercises\n",
    "\n",
    "## Exercise 1\n",
    "You have been given the following string data with formatting errors.\n",
    "\n",
    "Clean the data so that \n",
    "- the data in the `id` column is homogenous with values `A` and `B`\n",
    "- you can sort the `DataFrame` by zero-padded strings in the `values` column (without casting to integers)\n",
    "- add a column to count how many characters there are in the `values` column"
   ]
  },
  {
   "cell_type": "code",
   "execution_count": null,
   "id": "1a34344b-216c-4db3-a9f5-b18437fb4042",
   "metadata": {
    "tags": []
   },
   "outputs": [],
   "source": [
    "(\n",
    "    pl.DataFrame(\n",
    "        {\n",
    "            \"id\": [\"A\",\"B\",\"a\",\"b\"],\n",
    "            \"values\": [\"20\",\"5\",\" 13\",\"40\"],\n",
    "        })\n",
    "    <blank>\n",
    "    .sort('values')\n",
    ")"
   ]
  },
  {
   "cell_type": "markdown",
   "id": "82d9e5c7-86d9-4782-b195-ac96e2ac68d8",
   "metadata": {},
   "source": [
    "### Exercise 2\n",
    "Clean the `origin` column of this `DataFrame` so that you can count how many records come from each city"
   ]
  },
  {
   "cell_type": "code",
   "execution_count": null,
   "id": "e10409de-607d-4e10-ae39-d985d7ff5eff",
   "metadata": {
    "tags": []
   },
   "outputs": [],
   "source": [
    "df_origin = pl.DataFrame(\n",
    "    [\n",
    "        {\"origin\": \"New York   \", \"age\": 25},\n",
    "        {\"origin\": \"Los Angeles\", \"age\": 31},\n",
    "        {\"origin\": \"  miami\", \"age\": 47},\n",
    "        {\"origin\": \"  Chicago  \", \"age\": 19},\n",
    "        {\"origin\": \"   boston   \", \"age\": 55},\n",
    "        {\"origin\": \" New York   \", \"age\": 28},\n",
    "        {\"origin\": \"los Angeles\", \"age\": 11},\n",
    "        {\"origin\": \"Miami\", \"age\": 27},\n",
    "        {\"origin\": \"  chicago  \", \"age\": 31},\n",
    "        {\"origin\": \"  Boston   \", \"age\": 45},\n",
    "        {\"origin\": \"new york\", \"age\": 25},\n",
    "    ]\n",
    ")"
   ]
  },
  {
   "cell_type": "markdown",
   "id": "3f81cb05-6b99-4550-9d05-1e4c4f9bce16",
   "metadata": {
    "tags": []
   },
   "source": [
    "The output should look like this:"
   ]
  },
  {
   "cell_type": "code",
   "execution_count": null,
   "id": "6692cf40-048e-4efc-804a-371aed13c21e",
   "metadata": {
    "tags": []
   },
   "outputs": [],
   "source": [
    "pl.DataFrame(\n",
    "    [\n",
    "        {\"origin\": \"new york\", \"counts\": 3},\n",
    "        {\"origin\": \"los angeles\", \"counts\": 2},\n",
    "        {\"origin\": \"miami\", \"counts\": 2},\n",
    "        {\"origin\": \"chicago\", \"counts\": 2},\n",
    "        {\"origin\": \"boston\", \"counts\": 2},\n",
    "    ]\n",
    ")\n"
   ]
  },
  {
   "cell_type": "markdown",
   "id": "84fc59fd-ee3e-46ad-ae72-735b247b72d0",
   "metadata": {},
   "source": [
    "### Exercise 3\n",
    "\n",
    "Clean and then justify the text to have 4-digit years.\n",
    "\n",
    "Hint: you can only justify by one character at a time. Examine the data carefully!"
   ]
  },
  {
   "cell_type": "code",
   "execution_count": null,
   "id": "ddd09b05-132a-4bc3-b25a-0208d1d0e7d4",
   "metadata": {
    "tags": []
   },
   "outputs": [],
   "source": [
    "(\n",
    "    pl.DataFrame(\n",
    "        {\"year\": [\"2022\", \"21\", \"22 \"]}\n",
    "    )\n",
    "    .select(\n",
    "        <blank>\n",
    "    )\n",
    ")"
   ]
  },
  {
   "cell_type": "markdown",
   "id": "d35dcbef-b555-4ffe-83a6-aa6b2200dabc",
   "metadata": {},
   "source": [
    "### Exercise 4\n",
    "Split the `id` column into a `pl.Struct` column called `struct_col` with 3 fields. "
   ]
  },
  {
   "cell_type": "code",
   "execution_count": null,
   "id": "7f19552c-4d9b-4bac-8790-fa0b063d0096",
   "metadata": {
    "tags": []
   },
   "outputs": [],
   "source": [
    "(\n",
    "    pl.DataFrame(\n",
    "        [\n",
    "            {\"id\": \"AAA-BBB-2\"},\n",
    "            {\"id\": \"AAA-BBB-3\"},\n",
    "            {\"id\": \"AAA-CCC-2\"},\n",
    "            {\"id\": \"AAA-DDD-3\"},\n",
    "            {\"id\": \"AAA-BBB-4\"},\n",
    "        ]\n",
    "    )\n",
    "    .with_columns(\n",
    "        struct_col = <blank>\n",
    "    )\n",
    ")"
   ]
  },
  {
   "cell_type": "markdown",
   "id": "313ce4d7-2630-460e-9d95-79110b082832",
   "metadata": {},
   "source": [
    "Convert the struct fields into columns of the `DataFrame`"
   ]
  },
  {
   "cell_type": "code",
   "execution_count": null,
   "id": "fffb78d5-8e78-4251-afe9-19b73798d35a",
   "metadata": {
    "tags": []
   },
   "outputs": [],
   "source": []
  },
  {
   "cell_type": "markdown",
   "id": "bbe750da-87b5-47b2-b7fd-ca0fc48dc4ed",
   "metadata": {},
   "source": [
    "## Exercise 5\n",
    "We create a `DataFrame` from the Spotify data"
   ]
  },
  {
   "cell_type": "code",
   "execution_count": null,
   "id": "f4102dac-b6b7-4ffd-b0d4-ee6c91eeb96e",
   "metadata": {
    "tags": []
   },
   "outputs": [],
   "source": [
    "pl.Config.set_fmt_str_lengths(100)\n",
    "pl.Config.set_tbl_rows(10)\n",
    "spotify_csv = \"../data/spotify-charts-2017-2021-global-top200.csv.gz\"\n",
    "spotify_df = pl.read_csv(spotify_csv,try_parse_dates=True)\n",
    "spotify_df.head(3)"
   ]
  },
  {
   "cell_type": "markdown",
   "id": "46327710-bc99-4d73-af3f-5a92507886a3",
   "metadata": {},
   "source": [
    "Let's find out what makes for long track titles.\n",
    "\n",
    "- Keep one row for every unique track (with uniqueness defined by title and artist) \n",
    "- Add columns with the length of the title column in characters (`len_chars`) and bytes (`len_chars`)\n",
    "- Find the 10 tracks with the longest titles by number of characters"
   ]
  },
  {
   "cell_type": "code",
   "execution_count": null,
   "id": "bc1ab19b-bdad-42b9-a860-2c7c8e97cdc5",
   "metadata": {},
   "outputs": [],
   "source": [
    "(\n",
    "    spotify_df\n",
    "    <blank>\n",
    "    .select(\"title\",\"artist\",\"len_chars\",\"len_bytes\")\n",
    ")"
   ]
  },
  {
   "cell_type": "markdown",
   "id": "7953e94b-c4e3-4ef8-9dd7-4f673c989b3a",
   "metadata": {},
   "source": [
    "When do we get the biggest difference between the title representation in characters and bytes?\n",
    "\n",
    "- Add a column called `diff` with the difference in the number of bytes and characters in the title\n",
    "- Keep only tracks where the difference is greater than 0\n",
    "- Show the 10 tracks with the biggest difference"
   ]
  },
  {
   "cell_type": "code",
   "execution_count": null,
   "id": "15ad7295-d8eb-4ac1-b5f2-f3134eb14e77",
   "metadata": {},
   "outputs": [],
   "source": []
  },
  {
   "cell_type": "markdown",
   "id": "9cc88628-7f09-404d-95f3-e5023ba4dc63",
   "metadata": {},
   "source": [
    "## Solutions\n",
    "### Solution to Exercise 1\n",
    "You have been given the following string data with formatting errors.\n",
    "\n",
    "Clean the data so that \n",
    "- the data in the `id` column is homogenous with values `A` and `B`\n",
    "- you can sort the `DataFrame` by zero-padded strings in the values column (without casting to integers)"
   ]
  },
  {
   "cell_type": "code",
   "execution_count": null,
   "id": "bf06e771-9ba2-4d5d-a9cb-1a4175e7f7aa",
   "metadata": {
    "jupyter": {
     "source_hidden": true
    },
    "tags": []
   },
   "outputs": [],
   "source": [
    "(\n",
    "    pl.DataFrame(\n",
    "        {\n",
    "            \"id\": [\"A\",\"B\",\"a\",\"b\"],\n",
    "            \"values\": [\"20\",\"5\",\" 13\",\"40\"],\n",
    "        })\n",
    "    .with_columns(\n",
    "        pl.col('id').str.to_uppercase(),\n",
    "        pl.col('values').str.strip_chars().str.zfill(2)\n",
    "    )       \n",
    "    .with_columns(\n",
    "        pl.col(\"values\").str.len_chars().alias(\"len_chars\")\n",
    "    )\n",
    "    .sort('values')\n",
    ").to_dicts()"
   ]
  },
  {
   "cell_type": "markdown",
   "id": "a4b4dcd8-5820-4469-8346-4e7e194403ca",
   "metadata": {},
   "source": [
    "### Solution to exercise 2\n",
    "Clean the `origin` column of this `DataFrame` so that you can count how many records come from each city"
   ]
  },
  {
   "cell_type": "code",
   "execution_count": null,
   "id": "8f803f12-3349-4f69-bdd6-980995102d42",
   "metadata": {
    "tags": []
   },
   "outputs": [],
   "source": [
    "df_origin = pl.DataFrame(\n",
    "    [\n",
    "        {\"origin\": \"New York   \", \"age\": 25},\n",
    "        {\"origin\": \"Los Angeles\", \"age\": 31},\n",
    "        {\"origin\": \"  miami\", \"age\": 47},\n",
    "        {\"origin\": \"  Chicago  \", \"age\": 19},\n",
    "        {\"origin\": \"   boston   \", \"age\": 55},\n",
    "        {\"origin\": \" New York   \", \"age\": 28},\n",
    "        {\"origin\": \"los Angeles\", \"age\": 11},\n",
    "        {\"origin\": \"Miami\", \"age\": 27},\n",
    "        {\"origin\": \"  chicago  \", \"age\": 31},\n",
    "        {\"origin\": \"  Boston   \", \"age\": 45},\n",
    "        {\"origin\": \"new york\", \"age\": 25},\n",
    "    ]\n",
    ")"
   ]
  },
  {
   "cell_type": "code",
   "execution_count": null,
   "id": "a24a176c-38af-48fa-bd43-c441a684f21c",
   "metadata": {
    "jupyter": {
     "source_hidden": true
    },
    "tags": []
   },
   "outputs": [],
   "source": [
    "(\n",
    "    df_origin\n",
    "    .with_columns(\n",
    "        pl.col(\"origin\").str.strip_chars().str.to_lowercase()\n",
    "    )\n",
    "    [\"origin\"]\n",
    "    .value_counts(sort=True)\n",
    ")"
   ]
  },
  {
   "cell_type": "markdown",
   "id": "a370601e-0a08-4155-8ae1-26b433ca9abe",
   "metadata": {},
   "source": [
    "### Solution to exercise 3\n",
    "\n",
    "Clean and then justify the text to have 4-digit years.\n"
   ]
  },
  {
   "cell_type": "code",
   "execution_count": null,
   "id": "652f32fb-5f76-4cc2-a2ef-61308599f51f",
   "metadata": {
    "jupyter": {
     "source_hidden": true
    },
    "tags": []
   },
   "outputs": [],
   "source": [
    "(\n",
    "    pl.DataFrame(\n",
    "        {\"year\": [\"2022\", \"21\", \"22 \"]}\n",
    "    )\n",
    "    .select(\n",
    "        pl.col(\"year\").str.strip_chars().str.pad_start(3,\"0\").str.pad_start(4,\"2\")\n",
    "    )\n",
    ")"
   ]
  },
  {
   "cell_type": "markdown",
   "id": "fc62e626-d5bf-44b2-b0bd-b4edb2c2e812",
   "metadata": {},
   "source": [
    "### Solution to exercise 4\n",
    "Split the `id` column into a `pl.Struct` column with 3 fields. "
   ]
  },
  {
   "cell_type": "code",
   "execution_count": null,
   "id": "d07df6df-3e18-454e-9555-ff2a649232c0",
   "metadata": {
    "jupyter": {
     "source_hidden": true
    },
    "tags": []
   },
   "outputs": [],
   "source": [
    "(\n",
    "    pl.DataFrame(\n",
    "        [\n",
    "            {\"id\": \"AAA-BBB-2\"},\n",
    "            {\"id\": \"AAA-BBB-3\"},\n",
    "            {\"id\": \"AAA-CCC-2\"},\n",
    "            {\"id\": \"AAA-DDD-3\"},\n",
    "            {\"id\": \"AAA-BBB-4\"},\n",
    "        ]\n",
    "    )\n",
    "    .with_columns(\n",
    "        struct_col = pl.col(\"id\").str.split_exact(\"-\",2)\n",
    "    )\n",
    ")"
   ]
  },
  {
   "cell_type": "markdown",
   "id": "173aa472-a1d6-42d6-9adb-fe14b0eabc8f",
   "metadata": {},
   "source": [
    "Convert the struct fields into columns of the `DataFrame`"
   ]
  },
  {
   "cell_type": "code",
   "execution_count": null,
   "id": "3ef3fcf5-4517-4d38-b430-9b08736f155d",
   "metadata": {
    "jupyter": {
     "source_hidden": true
    },
    "tags": []
   },
   "outputs": [],
   "source": [
    "(\n",
    "    pl.DataFrame(\n",
    "        [\n",
    "            {\"id\": \"AAA-BBB-2\"},\n",
    "            {\"id\": \"AAA-BBB-3\"},\n",
    "            {\"id\": \"AAA-CCC-2\"},\n",
    "            {\"id\": \"AAA-DDD-3\"},\n",
    "            {\"id\": \"AAA-BBB-4\"},\n",
    "        ]\n",
    "    )\n",
    "    .with_columns(\n",
    "        struct_col = pl.col(\"id\").str.split_exact(\"-\",2)\n",
    "    )\n",
    "    .unnest('struct_col')\n",
    ")"
   ]
  },
  {
   "cell_type": "markdown",
   "id": "b5ff4809-9837-4d7f-84a8-8bcc37808ef0",
   "metadata": {},
   "source": [
    "### Solution to exercise 5 \n",
    "\n",
    "Create a `DataFrame` from the Spotify data"
   ]
  },
  {
   "cell_type": "code",
   "execution_count": null,
   "id": "52b11355-3f10-400c-a8d2-3aa1d53f403b",
   "metadata": {
    "tags": []
   },
   "outputs": [],
   "source": [
    "pl.Config.set_fmt_str_lengths(100)\n",
    "pl.Config.set_tbl_rows(10)\n",
    "spotify_csv = \"../data/spotify-charts-2017-2021-global-top200.csv.gz\"\n",
    "spotify_df = pl.read_csv(spotify_csv,try_parse_dates=True)\n",
    "spotify_df.head(3)"
   ]
  },
  {
   "cell_type": "markdown",
   "id": "d3acd03a-aad4-425f-905c-7f2718ac50ee",
   "metadata": {},
   "source": [
    "Let's find out what makes for long track titles.\n",
    "\n",
    "- Keep one row for every unique track (with uniqueness defined by title and artist) \n",
    "- Add columns with the length of the title column in characters (`len_chars`) and bytes (`len_chars`)\n",
    "- Find the 10 tracks with the longest titles by number of characters"
   ]
  },
  {
   "cell_type": "code",
   "execution_count": null,
   "id": "0ac69e3f-0dac-4386-985c-c02c3775aeed",
   "metadata": {
    "jupyter": {
     "source_hidden": true
    }
   },
   "outputs": [],
   "source": [
    "(\n",
    "    spotify_df\n",
    "    .unique(subset=[\"title\",\"artist\"])\n",
    "    .with_columns(\n",
    "        len_chars = pl.col(\"title\").str.len_chars(),\n",
    "        len_bytes = pl.col(\"title\").str.len_bytes(),\n",
    "    )\n",
    "    .sort(\"len_chars\",descending=True)\n",
    "    .head(10)\n",
    "    .select(\"title\",\"artist\",\"len_chars\",\"len_bytes\")\n",
    ")"
   ]
  },
  {
   "cell_type": "markdown",
   "id": "c82c06aa-be8d-4bd0-990e-2d048d53fe1b",
   "metadata": {},
   "source": [
    "When do we get the biggest difference between the title representation in characters and bytes?\n",
    "\n",
    "- Add a column called `diff` with the difference in the number of bytes and characters in the title\n",
    "- Keep only tracks where the difference is greater than 0\n",
    "- Show the 10 tracks with the biggest difference"
   ]
  },
  {
   "cell_type": "code",
   "execution_count": null,
   "id": "cc779fa8-4926-45d0-8e59-cb4b2a487c3f",
   "metadata": {
    "jupyter": {
     "source_hidden": true
    }
   },
   "outputs": [],
   "source": [
    "(\n",
    "    spotify_df\n",
    "    .unique(subset=[\"title\",\"artist\"])\n",
    "    .with_columns(\n",
    "        len_chars = pl.col(\"title\").str.len_chars().cast(pl.Int32),\n",
    "        len_bytes = pl.col(\"title\").str.len_bytes().cast(pl.Int32),\n",
    "    )\n",
    "    .with_columns(\n",
    "        diff = pl.col(\"len_bytes\") - pl.col(\"len_chars\")\n",
    "    )\n",
    "    .filter(pl.col(\"diff\") > 0)\n",
    "    .sort(\"diff\",descending=True)\n",
    "    .head(3)\n",
    "    .select(\"title\",\"artist\",\"len_chars\",\"len_bytes\",\"diff\")\n",
    ")"
   ]
  }
 ],
 "metadata": {
  "kernelspec": {
   "display_name": "Python 3 (ipykernel)",
   "language": "python",
   "name": "python3"
  },
  "language_info": {
   "codemirror_mode": {
    "name": "ipython",
    "version": 3
   },
   "file_extension": ".py",
   "mimetype": "text/x-python",
   "name": "python",
   "nbconvert_exporter": "python",
   "pygments_lexer": "ipython3",
   "version": "3.11.9"
  }
 },
 "nbformat": 4,
 "nbformat_minor": 5
}
