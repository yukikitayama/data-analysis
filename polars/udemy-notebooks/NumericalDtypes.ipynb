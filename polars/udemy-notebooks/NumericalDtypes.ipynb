{
 "cells": [
  {
   "cell_type": "markdown",
   "id": "738a1b1a-752d-478b-82ee-94f6dbf38933",
   "metadata": {},
   "source": [
    "## Numerical dtypes and precision\n",
    "\n",
    "By the end of this lecture you will be able to:\n",
    "- get the upper and lower bounds you can represent at a given precision\n",
    "- estimate the size of a `DataFrame` in memory\n",
    "- compare the effect of working with 32-bit and 64-bit representations\n",
    "\n",
    "In this lecture we examine the affect of varying the numerical precision on computational speed, memory usage and precision. In some use cases this can be a simple way of improving performance and reducing memory usage."
   ]
  },
  {
   "cell_type": "code",
   "execution_count": 1,
   "id": "b40ac037-3cd8-4e18-8595-f61105406f1d",
   "metadata": {},
   "outputs": [],
   "source": [
    "import polars as pl\n",
    "import numpy as np"
   ]
  },
  {
   "cell_type": "markdown",
   "id": "54a9c171-cfd2-4680-b01d-8fe6855f5b82",
   "metadata": {},
   "source": [
    "We create a simple `DataFrame` to see the default dtypes for integers and floats"
   ]
  },
  {
   "cell_type": "code",
   "execution_count": 2,
   "id": "d3c08231-4448-4ae3-8ebd-6d8e3f973766",
   "metadata": {},
   "outputs": [
    {
     "data": {
      "text/html": [
       "<div><style>\n",
       ".dataframe > thead > tr,\n",
       ".dataframe > tbody > tr {\n",
       "  text-align: right;\n",
       "  white-space: pre-wrap;\n",
       "}\n",
       "</style>\n",
       "<small>shape: (3, 2)</small><table border=\"1\" class=\"dataframe\"><thead><tr><th>ints</th><th>floats</th></tr><tr><td>i64</td><td>f64</td></tr></thead><tbody><tr><td>0</td><td>0.0</td></tr><tr><td>1</td><td>1.0</td></tr><tr><td>2</td><td>2.0</td></tr></tbody></table></div>"
      ],
      "text/plain": [
       "shape: (3, 2)\n",
       "┌──────┬────────┐\n",
       "│ ints ┆ floats │\n",
       "│ ---  ┆ ---    │\n",
       "│ i64  ┆ f64    │\n",
       "╞══════╪════════╡\n",
       "│ 0    ┆ 0.0    │\n",
       "│ 1    ┆ 1.0    │\n",
       "│ 2    ┆ 2.0    │\n",
       "└──────┴────────┘"
      ]
     },
     "execution_count": 2,
     "metadata": {},
     "output_type": "execute_result"
    }
   ],
   "source": [
    "df = pl.DataFrame(\n",
    "    {\n",
    "        \"ints\":[0,1,2],\n",
    "        \"floats\":[0.0,1,2]\n",
    "    }\n",
    ")\n",
    "df"
   ]
  },
  {
   "cell_type": "markdown",
   "id": "5b9ff689-5642-40e5-b0af-360ed43a5018",
   "metadata": {},
   "source": [
    "Polars defaults to 64-bit representations for both integers and floats. In this notebook we examine the affect of varying the numerical precision."
   ]
  },
  {
   "cell_type": "markdown",
   "id": "2346223f-7dcc-40a8-81ca-2acf28631c7c",
   "metadata": {},
   "source": [
    "## Integers\n",
    "\n",
    "Polars has the following integer types:\n",
    "\n",
    "`Int8`: 8-bit signed integer\n",
    "\n",
    "`Int16`: 16-bit signed integer\n",
    "\n",
    "`Int32`: 32-bit signed integer\n",
    "\n",
    "`Int64`: 64-bit signed integer\n",
    "\n",
    "`UInt8`: 8-bit unsigned integer\n",
    "\n",
    "`UInt16`: 16-bit unsigned integer\n",
    "\n",
    "`UInt32`: 32-bit unsigned integer\n",
    "\n",
    "`UInt64`: 64-bit unsigned integer\n",
    "\n",
    "The unsigned integers are `0` and positive values only. Polars uses them for things like row indexes.\n",
    "\n",
    "Polars generates an `Exception` if we try to cast a negative integer to an unsigned integer dtype."
   ]
  },
  {
   "cell_type": "markdown",
   "id": "9dbf1fdd-05f5-482e-a401-1bf9a3009e87",
   "metadata": {},
   "source": [
    "## Floats\n",
    "Polars has the following floating point types:\n",
    "\n",
    "`Float32`: 32-bit floating point\n",
    "\n",
    "`Float64`: 64-bit floating point"
   ]
  },
  {
   "cell_type": "markdown",
   "id": "29b49e75-e920-4c0b-8386-552bfa327147",
   "metadata": {},
   "source": [
    "## Constraints of lower precision\n",
    "With a lower precision the range of values we can represent is smaller.\n",
    "\n",
    "The `upper_bound` and `lower_bound` expressions show the maximum and minimum values that can be represented at a given precision."
   ]
  },
  {
   "cell_type": "code",
   "execution_count": 3,
   "id": "9034481c-a1b1-4d45-983f-6d1ca674b05a",
   "metadata": {},
   "outputs": [
    {
     "name": "stderr",
     "output_type": "stream",
     "text": [
      "C:\\Users\\yk279\\AppData\\Local\\Temp\\ipykernel_20964\\3247909448.py:18: DeprecationWarning: `DataFrame.melt` is deprecated; use `DataFrame.unpivot` instead, with `index` instead of `id_vars` and `on` instead of `value_vars`\n",
      "  .melt()\n"
     ]
    },
    {
     "data": {
      "text/html": [
       "<div><style>\n",
       ".dataframe > thead > tr,\n",
       ".dataframe > tbody > tr {\n",
       "  text-align: right;\n",
       "  white-space: pre-wrap;\n",
       "}\n",
       "</style>\n",
       "<small>shape: (8, 2)</small><table border=\"1\" class=\"dataframe\"><thead><tr><th>variable</th><th>value</th></tr><tr><td>str</td><td>i64</td></tr></thead><tbody><tr><td>&quot;pl.Int16_lower&quot;</td><td>-32768</td></tr><tr><td>&quot;pl.Int16_upper&quot;</td><td>32767</td></tr><tr><td>&quot;pl.Int32_lower&quot;</td><td>-2147483648</td></tr><tr><td>&quot;pl.Int32_upper&quot;</td><td>2147483647</td></tr><tr><td>&quot;pl.Int64_lower&quot;</td><td>-9223372036854775808</td></tr><tr><td>&quot;pl.Int64_upper&quot;</td><td>9223372036854775807</td></tr><tr><td>&quot;pl.Int8_lower&quot;</td><td>-128</td></tr><tr><td>&quot;pl.Int8_upper&quot;</td><td>127</td></tr></tbody></table></div>"
      ],
      "text/plain": [
       "shape: (8, 2)\n",
       "┌────────────────┬──────────────────────┐\n",
       "│ variable       ┆ value                │\n",
       "│ ---            ┆ ---                  │\n",
       "│ str            ┆ i64                  │\n",
       "╞════════════════╪══════════════════════╡\n",
       "│ pl.Int16_lower ┆ -32768               │\n",
       "│ pl.Int16_upper ┆ 32767                │\n",
       "│ pl.Int32_lower ┆ -2147483648          │\n",
       "│ pl.Int32_upper ┆ 2147483647           │\n",
       "│ pl.Int64_lower ┆ -9223372036854775808 │\n",
       "│ pl.Int64_upper ┆ 9223372036854775807  │\n",
       "│ pl.Int8_lower  ┆ -128                 │\n",
       "│ pl.Int8_upper  ┆ 127                  │\n",
       "└────────────────┴──────────────────────┘"
      ]
     },
     "execution_count": 3,
     "metadata": {},
     "output_type": "execute_result"
    }
   ],
   "source": [
    "pl.Config.set_fmt_str_lengths(100)\n",
    "dfInts = pl.DataFrame({\"ints\": [1, 2, 3]})\n",
    "(\n",
    "    dfInts\n",
    "    .select(\n",
    "        [\n",
    "            pl.col(\"ints\").upper_bound().alias(\"pl.Int64_upper\"),\n",
    "            pl.col(\"ints\").cast(pl.Int32).upper_bound().alias(\"pl.Int32_upper\"),\n",
    "            pl.col(\"ints\").cast(pl.Int16).upper_bound().alias(\"pl.Int16_upper\"),\n",
    "            pl.col(\"ints\").cast(pl.Int8).upper_bound().alias(\"pl.Int8_upper\"),\n",
    "            \n",
    "            pl.col(\"ints\").lower_bound().alias(\"pl.Int64_lower\"),\n",
    "            pl.col(\"ints\").cast(pl.Int32).lower_bound().alias(\"pl.Int32_lower\"),\n",
    "            pl.col(\"ints\").cast(pl.Int16).lower_bound().alias(\"pl.Int16_lower\"),\n",
    "            pl.col(\"ints\").cast(pl.Int8).lower_bound().alias(\"pl.Int8_lower\"),\n",
    "        ]\n",
    "    )\n",
    "    .melt()\n",
    "    .sort(\"variable\")\n",
    ")"
   ]
  },
  {
   "cell_type": "markdown",
   "id": "12f93273-749e-4030-9616-1c7d8b7555d1",
   "metadata": {},
   "source": [
    "If we try to cast a value outside of the valid range Polars raises an `Exception` - uncomment the following code to test this"
   ]
  },
  {
   "cell_type": "code",
   "execution_count": 5,
   "id": "5c692a04-0572-473c-852e-7c862e0b733c",
   "metadata": {},
   "outputs": [
    {
     "ename": "InvalidOperationError",
     "evalue": "conversion from `i64` to `i8` failed in column 'values' for 1 out of 3 values: [128]",
     "output_type": "error",
     "traceback": [
      "\u001b[31m---------------------------------------------------------------------------\u001b[39m",
      "\u001b[31mInvalidOperationError\u001b[39m                     Traceback (most recent call last)",
      "\u001b[36mCell\u001b[39m\u001b[36m \u001b[39m\u001b[32mIn[5]\u001b[39m\u001b[32m, line 5\u001b[39m\n\u001b[32m      1\u001b[39m (\n\u001b[32m      2\u001b[39m     \u001b[43mpl\u001b[49m\u001b[43m.\u001b[49m\u001b[43mDataFrame\u001b[49m\u001b[43m(\u001b[49m\n\u001b[32m      3\u001b[39m \u001b[43m        \u001b[49m\u001b[43m{\u001b[49m\u001b[33;43m'\u001b[39;49m\u001b[33;43mvalues\u001b[39;49m\u001b[33;43m'\u001b[39;49m\u001b[43m:\u001b[49m\u001b[43m[\u001b[49m\u001b[32;43m126\u001b[39;49m\u001b[43m,\u001b[49m\u001b[32;43m127\u001b[39;49m\u001b[43m,\u001b[49m\u001b[32;43m128\u001b[39;49m\u001b[43m]\u001b[49m\u001b[43m}\u001b[49m\n\u001b[32m      4\u001b[39m \u001b[43m    \u001b[49m\u001b[43m)\u001b[49m\n\u001b[32m----> \u001b[39m\u001b[32m5\u001b[39m \u001b[43m    \u001b[49m\u001b[43m.\u001b[49m\u001b[43mwith_columns\u001b[49m\u001b[43m(\u001b[49m\n\u001b[32m      6\u001b[39m \u001b[43m        \u001b[49m\u001b[43mpl\u001b[49m\u001b[43m.\u001b[49m\u001b[43mcol\u001b[49m\u001b[43m(\u001b[49m\u001b[33;43m\"\u001b[39;49m\u001b[33;43mvalues\u001b[39;49m\u001b[33;43m\"\u001b[39;49m\u001b[43m)\u001b[49m\u001b[43m.\u001b[49m\u001b[43mcast\u001b[49m\u001b[43m(\u001b[49m\u001b[43mpl\u001b[49m\u001b[43m.\u001b[49m\u001b[43mInt8\u001b[49m\u001b[43m)\u001b[49m\u001b[43m.\u001b[49m\u001b[43malias\u001b[49m\u001b[43m(\u001b[49m\u001b[33;43m\"\u001b[39;49m\u001b[33;43mvalues_Int8\u001b[39;49m\u001b[33;43m\"\u001b[39;49m\u001b[43m)\u001b[49m\n\u001b[32m      7\u001b[39m \u001b[43m    \u001b[49m\u001b[43m)\u001b[49m\n\u001b[32m      8\u001b[39m )\n",
      "\u001b[36mFile \u001b[39m\u001b[32m~\\PycharmProjects\\data-analysis\\.venv\\Lib\\site-packages\\polars\\dataframe\\frame.py:10018\u001b[39m, in \u001b[36mDataFrame.with_columns\u001b[39m\u001b[34m(self, *exprs, **named_exprs)\u001b[39m\n\u001b[32m   9872\u001b[39m \u001b[38;5;250m\u001b[39m\u001b[33;03m\"\"\"\u001b[39;00m\n\u001b[32m   9873\u001b[39m \u001b[33;03mAdd columns to this DataFrame.\u001b[39;00m\n\u001b[32m   9874\u001b[39m \n\u001b[32m   (...)\u001b[39m\u001b[32m  10011\u001b[39m \u001b[33;03m└─────┴──────┴─────────────┘\u001b[39;00m\n\u001b[32m  10012\u001b[39m \u001b[33;03m\"\"\"\u001b[39;00m\n\u001b[32m  10013\u001b[39m \u001b[38;5;28;01mfrom\u001b[39;00m\u001b[38;5;250m \u001b[39m\u001b[34;01mpolars\u001b[39;00m\u001b[34;01m.\u001b[39;00m\u001b[34;01mlazyframe\u001b[39;00m\u001b[34;01m.\u001b[39;00m\u001b[34;01mopt_flags\u001b[39;00m\u001b[38;5;250m \u001b[39m\u001b[38;5;28;01mimport\u001b[39;00m QueryOptFlags\n\u001b[32m  10015\u001b[39m \u001b[38;5;28;01mreturn\u001b[39;00m (\n\u001b[32m  10016\u001b[39m     \u001b[38;5;28;43mself\u001b[39;49m\u001b[43m.\u001b[49m\u001b[43mlazy\u001b[49m\u001b[43m(\u001b[49m\u001b[43m)\u001b[49m\n\u001b[32m  10017\u001b[39m \u001b[43m    \u001b[49m\u001b[43m.\u001b[49m\u001b[43mwith_columns\u001b[49m\u001b[43m(\u001b[49m\u001b[43m*\u001b[49m\u001b[43mexprs\u001b[49m\u001b[43m,\u001b[49m\u001b[43m \u001b[49m\u001b[43m*\u001b[49m\u001b[43m*\u001b[49m\u001b[43mnamed_exprs\u001b[49m\u001b[43m)\u001b[49m\n\u001b[32m> \u001b[39m\u001b[32m10018\u001b[39m \u001b[43m    \u001b[49m\u001b[43m.\u001b[49m\u001b[43mcollect\u001b[49m\u001b[43m(\u001b[49m\u001b[43moptimizations\u001b[49m\u001b[43m=\u001b[49m\u001b[43mQueryOptFlags\u001b[49m\u001b[43m.\u001b[49m\u001b[43m_eager\u001b[49m\u001b[43m(\u001b[49m\u001b[43m)\u001b[49m\u001b[43m)\u001b[49m\n\u001b[32m  10019\u001b[39m )\n",
      "\u001b[36mFile \u001b[39m\u001b[32m~\\PycharmProjects\\data-analysis\\.venv\\Lib\\site-packages\\polars\\_utils\\deprecation.py:97\u001b[39m, in \u001b[36mdeprecate_streaming_parameter.<locals>.decorate.<locals>.wrapper\u001b[39m\u001b[34m(*args, **kwargs)\u001b[39m\n\u001b[32m     93\u001b[39m         kwargs[\u001b[33m\"\u001b[39m\u001b[33mengine\u001b[39m\u001b[33m\"\u001b[39m] = \u001b[33m\"\u001b[39m\u001b[33min-memory\u001b[39m\u001b[33m\"\u001b[39m\n\u001b[32m     95\u001b[39m     \u001b[38;5;28;01mdel\u001b[39;00m kwargs[\u001b[33m\"\u001b[39m\u001b[33mstreaming\u001b[39m\u001b[33m\"\u001b[39m]\n\u001b[32m---> \u001b[39m\u001b[32m97\u001b[39m \u001b[38;5;28;01mreturn\u001b[39;00m \u001b[43mfunction\u001b[49m\u001b[43m(\u001b[49m\u001b[43m*\u001b[49m\u001b[43margs\u001b[49m\u001b[43m,\u001b[49m\u001b[43m \u001b[49m\u001b[43m*\u001b[49m\u001b[43m*\u001b[49m\u001b[43mkwargs\u001b[49m\u001b[43m)\u001b[49m\n",
      "\u001b[36mFile \u001b[39m\u001b[32m~\\PycharmProjects\\data-analysis\\.venv\\Lib\\site-packages\\polars\\lazyframe\\opt_flags.py:330\u001b[39m, in \u001b[36mforward_old_opt_flags.<locals>.decorate.<locals>.wrapper\u001b[39m\u001b[34m(*args, **kwargs)\u001b[39m\n\u001b[32m    327\u001b[39m         optflags = cb(optflags, kwargs.pop(key))  \u001b[38;5;66;03m# type: ignore[no-untyped-call,unused-ignore]\u001b[39;00m\n\u001b[32m    329\u001b[39m kwargs[\u001b[33m\"\u001b[39m\u001b[33moptimizations\u001b[39m\u001b[33m\"\u001b[39m] = optflags\n\u001b[32m--> \u001b[39m\u001b[32m330\u001b[39m \u001b[38;5;28;01mreturn\u001b[39;00m \u001b[43mfunction\u001b[49m\u001b[43m(\u001b[49m\u001b[43m*\u001b[49m\u001b[43margs\u001b[49m\u001b[43m,\u001b[49m\u001b[43m \u001b[49m\u001b[43m*\u001b[49m\u001b[43m*\u001b[49m\u001b[43mkwargs\u001b[49m\u001b[43m)\u001b[49m\n",
      "\u001b[36mFile \u001b[39m\u001b[32m~\\PycharmProjects\\data-analysis\\.venv\\Lib\\site-packages\\polars\\lazyframe\\frame.py:2332\u001b[39m, in \u001b[36mLazyFrame.collect\u001b[39m\u001b[34m(self, type_coercion, predicate_pushdown, projection_pushdown, simplify_expression, slice_pushdown, comm_subplan_elim, comm_subexpr_elim, cluster_with_columns, collapse_joins, no_optimization, engine, background, optimizations, **_kwargs)\u001b[39m\n\u001b[32m   2330\u001b[39m \u001b[38;5;66;03m# Only for testing purposes\u001b[39;00m\n\u001b[32m   2331\u001b[39m callback = _kwargs.get(\u001b[33m\"\u001b[39m\u001b[33mpost_opt_callback\u001b[39m\u001b[33m\"\u001b[39m, callback)\n\u001b[32m-> \u001b[39m\u001b[32m2332\u001b[39m \u001b[38;5;28;01mreturn\u001b[39;00m wrap_df(\u001b[43mldf\u001b[49m\u001b[43m.\u001b[49m\u001b[43mcollect\u001b[49m\u001b[43m(\u001b[49m\u001b[43mengine\u001b[49m\u001b[43m,\u001b[49m\u001b[43m \u001b[49m\u001b[43mcallback\u001b[49m\u001b[43m)\u001b[49m)\n",
      "\u001b[31mInvalidOperationError\u001b[39m: conversion from `i64` to `i8` failed in column 'values' for 1 out of 3 values: [128]"
     ]
    }
   ],
   "source": [
    "# (\n",
    "#     pl.DataFrame(\n",
    "#         {'values':[126,127,128]}\n",
    "#     )\n",
    "#     .with_columns(\n",
    "#         pl.col(\"values\").cast(pl.Int8).alias(\"values_Int8\")\n",
    "#     )\n",
    "# )"
   ]
  },
  {
   "cell_type": "markdown",
   "id": "b71c5e0b-5e29-4482-b94b-b76e6afc7d09",
   "metadata": {},
   "source": [
    "## A dtype diet\n",
    "Polars creates integer and float columns as 64-bit by default. Polars can detect if the actual data in a column can fit in a lower precision dtype and cast the column to that dtype with `shrink_dtype`"
   ]
  },
  {
   "cell_type": "code",
   "execution_count": 7,
   "id": "8ec68b91-bb94-404e-be8e-8f13851deb87",
   "metadata": {},
   "outputs": [
    {
     "data": {
      "text/html": [
       "<div><style>\n",
       ".dataframe > thead > tr,\n",
       ".dataframe > tbody > tr {\n",
       "  text-align: right;\n",
       "  white-space: pre-wrap;\n",
       "}\n",
       "</style>\n",
       "<small>shape: (3, 6)</small><table border=\"1\" class=\"dataframe\"><thead><tr><th>a</th><th>b</th><th>c</th><th>d</th><th>e</th><th>f</th></tr><tr><td>i8</td><td>i64</td><td>i32</td><td>i8</td><td>i16</td><td>f32</td></tr></thead><tbody><tr><td>1</td><td>1</td><td>-1</td><td>-112</td><td>-112</td><td>0.1</td></tr><tr><td>2</td><td>2</td><td>2</td><td>2</td><td>2</td><td>1.32</td></tr><tr><td>3</td><td>8589934592</td><td>1073741824</td><td>112</td><td>129</td><td>0.12</td></tr></tbody></table></div>"
      ],
      "text/plain": [
       "shape: (3, 6)\n",
       "┌─────┬────────────┬────────────┬──────┬──────┬──────┐\n",
       "│ a   ┆ b          ┆ c          ┆ d    ┆ e    ┆ f    │\n",
       "│ --- ┆ ---        ┆ ---        ┆ ---  ┆ ---  ┆ ---  │\n",
       "│ i8  ┆ i64        ┆ i32        ┆ i8   ┆ i16  ┆ f32  │\n",
       "╞═════╪════════════╪════════════╪══════╪══════╪══════╡\n",
       "│ 1   ┆ 1          ┆ -1         ┆ -112 ┆ -112 ┆ 0.1  │\n",
       "│ 2   ┆ 2          ┆ 2          ┆ 2    ┆ 2    ┆ 1.32 │\n",
       "│ 3   ┆ 8589934592 ┆ 1073741824 ┆ 112  ┆ 129  ┆ 0.12 │\n",
       "└─────┴────────────┴────────────┴──────┴──────┴──────┘"
      ]
     },
     "execution_count": 7,
     "metadata": {},
     "output_type": "execute_result"
    }
   ],
   "source": [
    "(\n",
    "    pl.DataFrame(\n",
    "         {\n",
    "             \"a\": [1, 2, 3],\n",
    "             \"b\": [1, 2, 2 << 32],\n",
    "             \"c\": [-1, 2, 1 << 30],\n",
    "             \"d\": [-112, 2, 112],\n",
    "             \"e\": [-112, 2, 129],\n",
    "             \"f\": [0.1, 1.32, 0.12],\n",
    "         }\n",
    "     )\n",
    "    .select(\n",
    "        pl.all().shrink_dtype()\n",
    "    )\n",
    ")"
   ]
  },
  {
   "cell_type": "markdown",
   "id": "ae19598e-4c03-416e-85d8-51048622062d",
   "metadata": {},
   "source": [
    "## Effect of a lower precision\n",
    "\n",
    "Working at a lower precision may be more effective for some analysis.\n",
    "\n",
    "### Size in memory\n",
    "We get the estimated size in bytes of the small `DataFrame` we created above with `estimated_size`"
   ]
  },
  {
   "cell_type": "code",
   "execution_count": 8,
   "id": "8ac495b5-00d8-4833-b893-d43b9cab9597",
   "metadata": {},
   "outputs": [
    {
     "data": {
      "text/plain": [
       "48"
      ]
     },
     "execution_count": 8,
     "metadata": {},
     "output_type": "execute_result"
    }
   ],
   "source": [
    "df = pl.DataFrame(\n",
    "    {\n",
    "        \"ints\":[0,1,2],\n",
    "        \"floats\":[0.0,1,2]\n",
    "    }\n",
    ")\n",
    "df.estimated_size(unit=\"b\")"
   ]
  },
  {
   "cell_type": "code",
   "execution_count": 10,
   "id": "fe6341a0-97f7-4a2b-9a18-e72028209361",
   "metadata": {},
   "outputs": [
    {
     "data": {
      "text/html": [
       "<div><style>\n",
       ".dataframe > thead > tr,\n",
       ".dataframe > tbody > tr {\n",
       "  text-align: right;\n",
       "  white-space: pre-wrap;\n",
       "}\n",
       "</style>\n",
       "<small>shape: (3, 2)</small><table border=\"1\" class=\"dataframe\"><thead><tr><th>ints</th><th>floats</th></tr><tr><td>i64</td><td>f64</td></tr></thead><tbody><tr><td>0</td><td>0.0</td></tr><tr><td>1</td><td>1.0</td></tr><tr><td>2</td><td>2.0</td></tr></tbody></table></div>"
      ],
      "text/plain": [
       "shape: (3, 2)\n",
       "┌──────┬────────┐\n",
       "│ ints ┆ floats │\n",
       "│ ---  ┆ ---    │\n",
       "│ i64  ┆ f64    │\n",
       "╞══════╪════════╡\n",
       "│ 0    ┆ 0.0    │\n",
       "│ 1    ┆ 1.0    │\n",
       "│ 2    ┆ 2.0    │\n",
       "└──────┴────────┘"
      ]
     },
     "execution_count": 10,
     "metadata": {},
     "output_type": "execute_result"
    }
   ],
   "source": [
    "df"
   ]
  },
  {
   "cell_type": "markdown",
   "id": "16dd5b99-8df7-4688-9667-8a215d2839ec",
   "metadata": {},
   "source": [
    "We can compare this with a `DataFrame` with both columns cast to 32-bit representations"
   ]
  },
  {
   "cell_type": "code",
   "execution_count": 11,
   "id": "180c9330-dadb-43e1-bf0b-33958b963144",
   "metadata": {},
   "outputs": [
    {
     "data": {
      "text/plain": [
       "24"
      ]
     },
     "execution_count": 11,
     "metadata": {},
     "output_type": "execute_result"
    }
   ],
   "source": [
    "(\n",
    "    df\n",
    "    .with_columns(\n",
    "        [\n",
    "            pl.col(\"ints\").cast(pl.Int32),\n",
    "            pl.col(\"floats\").cast(pl.Float32),\n",
    "        ]\n",
    "    )\n",
    "    .estimated_size(unit=\"b\")\n",
    ")"
   ]
  },
  {
   "cell_type": "markdown",
   "id": "acf49926-7963-4c4f-a1c6-d3fd07310eb7",
   "metadata": {},
   "source": [
    "Memory usage is halved by moving to 32-bit representations.\n",
    "\n",
    "### Performance\n",
    "We explore the effect of reduced precision by creating a larger `DataFrame` of random values"
   ]
  },
  {
   "cell_type": "code",
   "execution_count": 12,
   "id": "bf5d5140-ff82-4a50-bdde-5fba5b3d88aa",
   "metadata": {},
   "outputs": [
    {
     "data": {
      "text/html": [
       "<div><style>\n",
       ".dataframe > thead > tr,\n",
       ".dataframe > tbody > tr {\n",
       "  text-align: right;\n",
       "  white-space: pre-wrap;\n",
       "}\n",
       "</style>\n",
       "<small>shape: (2, 10)</small><table border=\"1\" class=\"dataframe\"><thead><tr><th>column_0</th><th>column_1</th><th>column_2</th><th>column_3</th><th>column_4</th><th>column_5</th><th>column_6</th><th>column_7</th><th>column_8</th><th>column_9</th></tr><tr><td>f64</td><td>f64</td><td>f64</td><td>f64</td><td>f64</td><td>f64</td><td>f64</td><td>f64</td><td>f64</td><td>f64</td></tr></thead><tbody><tr><td>-1.406553</td><td>1.213161</td><td>-1.561127</td><td>-0.666049</td><td>-2.81073</td><td>-1.051621</td><td>-0.98585</td><td>0.176216</td><td>-0.915251</td><td>0.170166</td></tr><tr><td>-0.293885</td><td>-0.385279</td><td>0.296935</td><td>1.06458</td><td>-1.025486</td><td>0.022931</td><td>-0.729966</td><td>0.40874</td><td>0.393684</td><td>1.002975</td></tr></tbody></table></div>"
      ],
      "text/plain": [
       "shape: (2, 10)\n",
       "┌───────────┬───────────┬───────────┬───────────┬───┬───────────┬──────────┬───────────┬──────────┐\n",
       "│ column_0  ┆ column_1  ┆ column_2  ┆ column_3  ┆ … ┆ column_6  ┆ column_7 ┆ column_8  ┆ column_9 │\n",
       "│ ---       ┆ ---       ┆ ---       ┆ ---       ┆   ┆ ---       ┆ ---      ┆ ---       ┆ ---      │\n",
       "│ f64       ┆ f64       ┆ f64       ┆ f64       ┆   ┆ f64       ┆ f64      ┆ f64       ┆ f64      │\n",
       "╞═══════════╪═══════════╪═══════════╪═══════════╪═══╪═══════════╪══════════╪═══════════╪══════════╡\n",
       "│ -1.406553 ┆ 1.213161  ┆ -1.561127 ┆ -0.666049 ┆ … ┆ -0.98585  ┆ 0.176216 ┆ -0.915251 ┆ 0.170166 │\n",
       "│ -0.293885 ┆ -0.385279 ┆ 0.296935  ┆ 1.06458   ┆ … ┆ -0.729966 ┆ 0.40874  ┆ 0.393684  ┆ 1.002975 │\n",
       "└───────────┴───────────┴───────────┴───────────┴───┴───────────┴──────────┴───────────┴──────────┘"
      ]
     },
     "execution_count": 12,
     "metadata": {},
     "output_type": "execute_result"
    }
   ],
   "source": [
    "NRows = 1_000_000\n",
    "NColumns = 10\n",
    "dfNum = pl.DataFrame(np.random.standard_normal((NRows,NColumns)))\n",
    "dfNum.head(2)"
   ]
  },
  {
   "cell_type": "markdown",
   "id": "0ed6fcf9-0502-4aca-bfc6-fac3ef225f8c",
   "metadata": {},
   "source": [
    "These columns all have dtype `pl.Float64`"
   ]
  },
  {
   "cell_type": "code",
   "execution_count": 13,
   "id": "2d774c2c-4fdc-421f-926e-b2f3c2cd834a",
   "metadata": {},
   "outputs": [
    {
     "data": {
      "text/plain": [
       "Float64"
      ]
     },
     "execution_count": 13,
     "metadata": {},
     "output_type": "execute_result"
    }
   ],
   "source": [
    "dfNum.dtypes[0]"
   ]
  },
  {
   "cell_type": "markdown",
   "id": "22234952-226f-4fa4-ab79-803e86350268",
   "metadata": {},
   "source": [
    "We create a new `DataFrame` where we cast values to 32-bit"
   ]
  },
  {
   "cell_type": "code",
   "execution_count": 14,
   "id": "17223b94-ed85-40fc-b070-d44d66ee8fcb",
   "metadata": {},
   "outputs": [
    {
     "data": {
      "text/plain": [
       "Float32"
      ]
     },
     "execution_count": 14,
     "metadata": {},
     "output_type": "execute_result"
    }
   ],
   "source": [
    "dfNum32 = (\n",
    "        dfNum\n",
    "        .select(\n",
    "            pl.all().cast(pl.Float32)\n",
    "        )\n",
    ")\n",
    "dfNum32.dtypes[0]"
   ]
  },
  {
   "cell_type": "markdown",
   "id": "b8cfafca-b956-4b62-ab99-c916104a0a52",
   "metadata": {},
   "source": [
    "### Memory usage at lower precision\n",
    "The 32-bit `DataFrame` uses half as much memory"
   ]
  },
  {
   "cell_type": "code",
   "execution_count": 15,
   "id": "9399e7c9-201f-4244-b7ba-a2dc88a5c73e",
   "metadata": {},
   "outputs": [
    {
     "name": "stdout",
     "output_type": "stream",
     "text": [
      "64-bit DataFrame: 76 Mb\n",
      "32-bit DataFrame: 38 Mb\n"
     ]
    }
   ],
   "source": [
    "print(f\"64-bit DataFrame: {round(dfNum.estimated_size(unit='mb'))} Mb\")\n",
    "print(f\"32-bit DataFrame: {round(dfNum32.estimated_size(unit='mb'))} Mb\")"
   ]
  },
  {
   "cell_type": "markdown",
   "id": "79beebf4-f5f2-4160-990e-2076ff8968de",
   "metadata": {},
   "source": [
    "### Computational speed at lower precision\n",
    "\n",
    "Some calculations are faster with 32-bit data.\n",
    "\n",
    "\n",
    "In this example we:\n",
    "- subtract the mean of each column and \n",
    "- divide by the standard deviation"
   ]
  },
  {
   "cell_type": "code",
   "execution_count": 16,
   "id": "4598e2f9-6ea7-4ad0-9628-e3f166f350d1",
   "metadata": {},
   "outputs": [
    {
     "name": "stdout",
     "output_type": "stream",
     "text": [
      "27.6 ms ± 5.85 ms per loop (mean ± std. dev. of 7 runs, 1 loop each)\n"
     ]
    }
   ],
   "source": [
    "%%timeit -n1\n",
    "(\n",
    "    dfNum\n",
    "    .select( \n",
    "        (pl.all()-pl.all().mean())/(pl.all().std())\n",
    "    )\n",
    ")"
   ]
  },
  {
   "cell_type": "code",
   "execution_count": 17,
   "id": "38b7ada0-1d32-49b8-9463-213752fcc17f",
   "metadata": {},
   "outputs": [
    {
     "name": "stdout",
     "output_type": "stream",
     "text": [
      "13.3 ms ± 3.47 ms per loop (mean ± std. dev. of 7 runs, 1 loop each)\n"
     ]
    }
   ],
   "source": [
    "%%timeit -n1 \n",
    "(\n",
    "    dfNum32\n",
    "    .select( \n",
    "        (pl.all()-pl.all().mean())/(pl.all().std())\n",
    "    )\n",
    ")"
   ]
  },
  {
   "cell_type": "markdown",
   "id": "e7fd0cfc-5a30-4012-9be9-6100e4da9943",
   "metadata": {},
   "source": [
    "In this case the operation on 32-bit data is almost twice as fast. Operations at 32-bit are not always twice as fast, the difference depends on the transformations applied.\n",
    "\n",
    "## Effect on outputs\n",
    "We can check the size of the differences between the outputs"
   ]
  },
  {
   "cell_type": "code",
   "execution_count": 18,
   "id": "ad209734-be0e-4c7e-8f79-a6b2f49d4da0",
   "metadata": {},
   "outputs": [],
   "source": [
    "output64 = (\n",
    "    dfNum\n",
    "    .select( \n",
    "        (pl.all()-pl.all().mean())/(pl.all().std())\n",
    "    )\n",
    ")\n",
    "output32 = (\n",
    "    dfNum32\n",
    "    .select( \n",
    "        (pl.all()-pl.all().mean())/(pl.all().std())\n",
    "    )\n",
    ")"
   ]
  },
  {
   "cell_type": "markdown",
   "id": "c876720c-c993-49c2-b755-a311fe57841b",
   "metadata": {},
   "source": [
    "We can see the size of the differences in the first two rows"
   ]
  },
  {
   "cell_type": "code",
   "execution_count": 19,
   "id": "59947db7-96dd-40fa-96ca-1c983ea0ae81",
   "metadata": {},
   "outputs": [
    {
     "data": {
      "text/html": [
       "<div><style>\n",
       ".dataframe > thead > tr,\n",
       ".dataframe > tbody > tr {\n",
       "  text-align: right;\n",
       "  white-space: pre-wrap;\n",
       "}\n",
       "</style>\n",
       "<small>shape: (2, 10)</small><table border=\"1\" class=\"dataframe\"><thead><tr><th>column_0</th><th>column_1</th><th>column_2</th><th>column_3</th><th>column_4</th><th>column_5</th><th>column_6</th><th>column_7</th><th>column_8</th><th>column_9</th></tr><tr><td>f64</td><td>f64</td><td>f64</td><td>f64</td><td>f64</td><td>f64</td><td>f64</td><td>f64</td><td>f64</td><td>f64</td></tr></thead><tbody><tr><td>1.1300e-8</td><td>-7.5152e-10</td><td>8.5989e-8</td><td>2.1262e-8</td><td>-1.7564e-7</td><td>1.0352e-7</td><td>-5.5529e-9</td><td>-1.2932e-8</td><td>3.2987e-8</td><td>5.2527e-9</td></tr><tr><td>-3.8103e-9</td><td>-4.4610e-9</td><td>-2.1783e-8</td><td>2.0316e-8</td><td>-4.2109e-8</td><td>-1.7714e-9</td><td>1.6190e-8</td><td>-1.1164e-8</td><td>-2.2823e-8</td><td>4.4444e-8</td></tr></tbody></table></div>"
      ],
      "text/plain": [
       "shape: (2, 10)\n",
       "┌────────────┬─────────────┬────────────┬───────────┬───┬────────────┬────────────┬────────────┬───────────┐\n",
       "│ column_0   ┆ column_1    ┆ column_2   ┆ column_3  ┆ … ┆ column_6   ┆ column_7   ┆ column_8   ┆ column_9  │\n",
       "│ ---        ┆ ---         ┆ ---        ┆ ---       ┆   ┆ ---        ┆ ---        ┆ ---        ┆ ---       │\n",
       "│ f64        ┆ f64         ┆ f64        ┆ f64       ┆   ┆ f64        ┆ f64        ┆ f64        ┆ f64       │\n",
       "╞════════════╪═════════════╪════════════╪═══════════╪═══╪════════════╪════════════╪════════════╪═══════════╡\n",
       "│ 1.1300e-8  ┆ -7.5152e-10 ┆ 8.5989e-8  ┆ 2.1262e-8 ┆ … ┆ -5.5529e-9 ┆ -1.2932e-8 ┆ 3.2987e-8  ┆ 5.2527e-9 │\n",
       "│ -3.8103e-9 ┆ -4.4610e-9  ┆ -2.1783e-8 ┆ 2.0316e-8 ┆ … ┆ 1.6190e-8  ┆ -1.1164e-8 ┆ -2.2823e-8 ┆ 4.4444e-8 │\n",
       "└────────────┴─────────────┴────────────┴───────────┴───┴────────────┴────────────┴────────────┴───────────┘"
      ]
     },
     "execution_count": 19,
     "metadata": {},
     "output_type": "execute_result"
    }
   ],
   "source": [
    "(output64 - output32).head(2)"
   ]
  },
  {
   "cell_type": "markdown",
   "id": "c03fb2fb-48ab-46c0-9515-134398dfc267",
   "metadata": {},
   "source": [
    "The overall maximum difference in this case is order `10^-5` or smaller"
   ]
  },
  {
   "cell_type": "code",
   "execution_count": 20,
   "id": "c1c09af7-6b16-4efd-bcd9-e7d45736f6df",
   "metadata": {},
   "outputs": [
    {
     "ename": "TypeError",
     "evalue": "DataFrame.max() got an unexpected keyword argument 'axis'",
     "output_type": "error",
     "traceback": [
      "\u001b[31m---------------------------------------------------------------------------\u001b[39m",
      "\u001b[31mTypeError\u001b[39m                                 Traceback (most recent call last)",
      "\u001b[36mCell\u001b[39m\u001b[36m \u001b[39m\u001b[32mIn[20]\u001b[39m\u001b[32m, line 1\u001b[39m\n\u001b[32m----> \u001b[39m\u001b[32m1\u001b[39m \u001b[43m(\u001b[49m\u001b[43moutput64\u001b[49m\u001b[43m \u001b[49m\u001b[43m-\u001b[49m\u001b[43m \u001b[49m\u001b[43moutput32\u001b[49m\u001b[43m)\u001b[49m\u001b[43m.\u001b[49m\u001b[43mmax\u001b[49m\u001b[43m(\u001b[49m\u001b[43maxis\u001b[49m\u001b[43m=\u001b[49m\u001b[32;43m1\u001b[39;49m\u001b[43m)\u001b[49m.max()\n",
      "\u001b[31mTypeError\u001b[39m: DataFrame.max() got an unexpected keyword argument 'axis'"
     ]
    }
   ],
   "source": [
    "(output64 - output32).max(axis=1).max()"
   ]
  },
  {
   "cell_type": "markdown",
   "id": "ed31e2e5-7ebd-47e3-9516-2372f70f55be",
   "metadata": {},
   "source": [
    "Always **check that the size of the difference between outputs is negligible** for your analysis before moving to a lower precision!\n",
    "\n",
    "Moving to a lower precision than 32-bit does not always lead to faster performance. Many CPUs do not have native support for 8-bit and 16-bit operations and so they emulate it with 32-bit operations. See the exercises for an example of lowering precision below 32-bit.\n",
    "\n",
    "## Exercises\n",
    "\n",
    "In the exercises you will develop your understanding of:\n",
    "- getting the upper and lower bounds for a dtype\n",
    "- getting the estimated size of a `DataFrame`\n",
    "- comparing performance between different precisions \n",
    "\n",
    "### Exercise `\n",
    "We create a `DataFrame` with 10 columns of random integers between 1 and 10"
   ]
  },
  {
   "cell_type": "code",
   "execution_count": null,
   "id": "2762dd8a-012f-4f34-bf9c-13811c564c9f",
   "metadata": {},
   "outputs": [],
   "source": [
    "NRows = 1_000_000\n",
    "NColumns = 10\n",
    "dfInts64 = pl.DataFrame(np.random.randint(1,10,(NRows,NColumns)))\n",
    "dfInts64.head(2)"
   ]
  },
  {
   "cell_type": "markdown",
   "id": "6d037b49-1eba-4576-a094-b25d0d65895f",
   "metadata": {},
   "source": [
    "Create a `DataFrame` called `dfInts8` where all the values in `dfInts64` are cast to `pl.Int8'"
   ]
  },
  {
   "cell_type": "code",
   "execution_count": null,
   "id": "56133f54-0290-4289-b9bf-df4daabfb070",
   "metadata": {},
   "outputs": [],
   "source": [
    "dfInts8 = (\n",
    "    <blank>\n",
    ")\n"
   ]
  },
  {
   "cell_type": "markdown",
   "id": "e8baf524-05e0-4028-bf8e-195c72acfa35",
   "metadata": {},
   "source": [
    "Compare the size of these `DataFrames` in memory in Mb"
   ]
  },
  {
   "cell_type": "code",
   "execution_count": null,
   "id": "7c0d6b98-95ca-4de4-b6f7-b5d98aca27e8",
   "metadata": {},
   "outputs": [],
   "source": [
    "print(f\"64-bit DataFrame: {} Mb\")\n",
    "print(f\"8-bit DataFrame: {} Mb\")"
   ]
  },
  {
   "cell_type": "markdown",
   "id": "7b0bfc57-a447-43a9-80ac-a5704eb49c32",
   "metadata": {},
   "source": [
    "Compare how long it takes to do a cumulative sum on all the columns of the `DataFrames`"
   ]
  },
  {
   "cell_type": "code",
   "execution_count": null,
   "id": "64f4b0eb-797f-4273-9abf-c85684ccdd24",
   "metadata": {},
   "outputs": [],
   "source": [
    "%%timeit -n1\n",
    "(\n",
    "    dfInts64\n",
    ")"
   ]
  },
  {
   "cell_type": "code",
   "execution_count": null,
   "id": "7e8d97a0-38d6-41ca-9dd0-e47ed5dc12c4",
   "metadata": {},
   "outputs": [],
   "source": [
    "%%timeit -n1\n",
    "(\n",
    "    dfInts8\n",
    ")"
   ]
  },
  {
   "cell_type": "markdown",
   "id": "9c4f0da9-ca67-40e9-9a5c-faef1f8cebe5",
   "metadata": {},
   "source": [
    "Compare how long it takes at 16- and 32-bit precision.\n",
    "\n",
    "Which precision is fastest?"
   ]
  },
  {
   "cell_type": "code",
   "execution_count": null,
   "id": "6db932e8-59ee-453a-80df-d6338b4b6527",
   "metadata": {},
   "outputs": [],
   "source": []
  },
  {
   "cell_type": "markdown",
   "id": "a20092f5-a3ce-4ba2-ad2c-19105c147323",
   "metadata": {},
   "source": [
    "## Solutions\n",
    "\n",
    "### Solution to exercise 1\n",
    "We create a `DataFrame` with 10 columns of random integers between 1 and 10"
   ]
  },
  {
   "cell_type": "code",
   "execution_count": null,
   "id": "ec60bfec-6d19-4f38-8340-344177a57beb",
   "metadata": {},
   "outputs": [],
   "source": [
    "NRows = 1_000_000\n",
    "NColumns = 10\n",
    "dfInts64 = pl.DataFrame(np.random.randint(1,10,(NRows,NColumns)))\n",
    "dfInts64.head(2)"
   ]
  },
  {
   "cell_type": "markdown",
   "id": "4eba3ab4-ad1a-4218-a030-00de14ddc8f6",
   "metadata": {},
   "source": [
    "Create a `DataFrame` called `dfInts8` where all the values in `dfInts` are cast to `pl.Int8'"
   ]
  },
  {
   "cell_type": "code",
   "execution_count": null,
   "id": "61962bee-3d63-4422-a36d-c9903773afb3",
   "metadata": {
    "jupyter": {
     "source_hidden": true
    },
    "tags": []
   },
   "outputs": [],
   "source": [
    "dfInts8 = (\n",
    "    dfInts64\n",
    "    .select(\n",
    "        pl.all().cast(pl.Int8)\n",
    "    )\n",
    ")\n"
   ]
  },
  {
   "cell_type": "markdown",
   "id": "577f0a0e-c9c8-4b8e-9a4d-955443976f0d",
   "metadata": {},
   "source": [
    "Compare the size of these `DataFrames` in memory in Mb"
   ]
  },
  {
   "cell_type": "code",
   "execution_count": null,
   "id": "fade4481-e785-459c-a001-0bebc7522ac5",
   "metadata": {
    "jupyter": {
     "source_hidden": true
    },
    "tags": []
   },
   "outputs": [],
   "source": [
    "print(f\"64-bit DataFrame: {round(dfInts64.estimated_size(unit='mb'))} Mb\")\n",
    "print(f\"8-bit DataFrame: {round(dfInts8.estimated_size(unit='mb'))} Mb\")"
   ]
  },
  {
   "cell_type": "markdown",
   "id": "8801b1aa-b613-44c7-b014-379d350f490f",
   "metadata": {},
   "source": [
    "Compare how long it takes to do a cumulative sum on all the columns of the `DataFrames`"
   ]
  },
  {
   "cell_type": "code",
   "execution_count": null,
   "id": "e51c0eea-fb22-46cb-a8be-957a398d0590",
   "metadata": {
    "jupyter": {
     "source_hidden": true
    },
    "tags": []
   },
   "outputs": [],
   "source": [
    "%%timeit -n1\n",
    "(\n",
    "    dfInts64\n",
    "    .select( \n",
    "        pl.all().cumsum()\n",
    "    )\n",
    ")"
   ]
  },
  {
   "cell_type": "code",
   "execution_count": null,
   "id": "ae890780-e12c-44aa-9ecf-eba4d5b41a3e",
   "metadata": {
    "jupyter": {
     "source_hidden": true
    },
    "tags": []
   },
   "outputs": [],
   "source": [
    "%%timeit -n1\n",
    "(\n",
    "    dfInts8\n",
    "    .select( \n",
    "        pl.all().cumsum()\n",
    "    )\n",
    ")"
   ]
  },
  {
   "cell_type": "markdown",
   "id": "ec616654-7125-44ef-ad70-d47a943bb889",
   "metadata": {},
   "source": [
    "Compare how long it takes at 16- and 32-bit precision.\n",
    "\n",
    "Which precision is fastest?"
   ]
  },
  {
   "cell_type": "code",
   "execution_count": null,
   "id": "01991e95-3c20-487b-b84f-94ecd6416b56",
   "metadata": {
    "jupyter": {
     "source_hidden": true
    },
    "tags": []
   },
   "outputs": [],
   "source": [
    "dfInts16 = (\n",
    "    dfInts64\n",
    "    .select(\n",
    "        pl.all().cast(pl.Int16)\n",
    "    )\n",
    ")\n",
    "dfInts32 = (\n",
    "    dfInts64\n",
    "    .select(\n",
    "        pl.all().cast(pl.Int32)\n",
    "    )\n",
    ")\n"
   ]
  },
  {
   "cell_type": "code",
   "execution_count": null,
   "id": "c58f8d85-2b37-4a80-908f-2225fedc556a",
   "metadata": {
    "jupyter": {
     "source_hidden": true
    },
    "tags": []
   },
   "outputs": [],
   "source": [
    "%%timeit -n1\n",
    "(\n",
    "    dfInts16\n",
    "    .select( \n",
    "        pl.all().cumsum()\n",
    "    )\n",
    ")"
   ]
  },
  {
   "cell_type": "code",
   "execution_count": null,
   "id": "04e743bf-82a1-4bdc-98a5-0c6f4d08a0ca",
   "metadata": {
    "jupyter": {
     "source_hidden": true
    },
    "tags": []
   },
   "outputs": [],
   "source": [
    "%%timeit -n1\n",
    "(\n",
    "    dfInts32\n",
    "    .select( \n",
    "        pl.all().cumsum()\n",
    "    )\n",
    ")"
   ]
  },
  {
   "cell_type": "markdown",
   "id": "55a15d9a-30f8-4526-9143-4a0f3552f562",
   "metadata": {},
   "source": [
    "Many CPUs do not have native support for 8-bit and 16-bit calculations and so calculations at these precisions may not be faster than at 32-bit."
   ]
  }
 ],
 "metadata": {
  "kernelspec": {
   "display_name": "Python 3 (ipykernel)",
   "language": "python",
   "name": "python3"
  },
  "language_info": {
   "codemirror_mode": {
    "name": "ipython",
    "version": 3
   },
   "file_extension": ".py",
   "mimetype": "text/x-python",
   "name": "python",
   "nbconvert_exporter": "python",
   "pygments_lexer": "ipython3",
   "version": "3.11.9"
  }
 },
 "nbformat": 4,
 "nbformat_minor": 5
}
