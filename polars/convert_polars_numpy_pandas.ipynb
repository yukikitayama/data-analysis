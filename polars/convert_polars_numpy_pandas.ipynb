{
 "cells": [
  {
   "cell_type": "code",
   "execution_count": 5,
   "id": "dbecde81-4e48-4ae4-8036-6321d0abb8db",
   "metadata": {},
   "outputs": [],
   "source": [
    "import polars as pl\n",
    "import numpy as np\n",
    "import pandas as pd"
   ]
  },
  {
   "cell_type": "code",
   "execution_count": 6,
   "id": "4e10fb2c-a674-4b52-bea5-bbecd63e045f",
   "metadata": {},
   "outputs": [
    {
     "name": "stdout",
     "output_type": "stream",
     "text": [
      "--------Version info---------\n",
      "Polars:              1.31.0\n",
      "Index type:          UInt32\n",
      "Platform:            Windows-10-10.0.26100-SP0\n",
      "Python:              3.11.9 (tags/v3.11.9:de54cf5, Apr  2 2024, 10:12:12) [MSC v.1938 64 bit (AMD64)]\n",
      "LTS CPU:             False\n",
      "\n",
      "----Optional dependencies----\n",
      "Azure CLI            <not installed>\n",
      "adbc_driver_manager  <not installed>\n",
      "altair               <not installed>\n",
      "azure.identity       <not installed>\n",
      "boto3                <not installed>\n",
      "cloudpickle          <not installed>\n",
      "connectorx           <not installed>\n",
      "deltalake            <not installed>\n",
      "fastexcel            <not installed>\n",
      "fsspec               <not installed>\n",
      "gevent               <not installed>\n",
      "google.auth          <not installed>\n",
      "great_tables         <not installed>\n",
      "matplotlib           <not installed>\n",
      "numpy                2.3.2\n",
      "openpyxl             <not installed>\n",
      "pandas               2.3.1\n",
      "polars_cloud         <not installed>\n",
      "pyarrow              21.0.0\n",
      "pydantic             <not installed>\n",
      "pyiceberg            <not installed>\n",
      "sqlalchemy           <not installed>\n",
      "torch                <not installed>\n",
      "xlsx2csv             <not installed>\n",
      "xlsxwriter           <not installed>\n"
     ]
    }
   ],
   "source": [
    "pl.show_versions()"
   ]
  },
  {
   "cell_type": "code",
   "execution_count": 7,
   "id": "88f9be32-fa93-4245-8aee-307f9fd5367b",
   "metadata": {},
   "outputs": [
    {
     "data": {
      "text/html": [
       "<div><style>\n",
       ".dataframe > thead > tr,\n",
       ".dataframe > tbody > tr {\n",
       "  text-align: right;\n",
       "  white-space: pre-wrap;\n",
       "}\n",
       "</style>\n",
       "<small>shape: (3, 12)</small><table border=\"1\" class=\"dataframe\"><thead><tr><th>PassengerId</th><th>Survived</th><th>Pclass</th><th>Name</th><th>Sex</th><th>Age</th><th>SibSp</th><th>Parch</th><th>Ticket</th><th>Fare</th><th>Cabin</th><th>Embarked</th></tr><tr><td>i64</td><td>i64</td><td>i64</td><td>str</td><td>str</td><td>f64</td><td>i64</td><td>i64</td><td>str</td><td>f64</td><td>str</td><td>str</td></tr></thead><tbody><tr><td>1</td><td>0</td><td>3</td><td>&quot;Braund, Mr. Owen Harris&quot;</td><td>&quot;male&quot;</td><td>22.0</td><td>1</td><td>0</td><td>&quot;A/5 21171&quot;</td><td>7.25</td><td>null</td><td>&quot;S&quot;</td></tr><tr><td>2</td><td>1</td><td>1</td><td>&quot;Cumings, Mrs. John Bradley (Fl…</td><td>&quot;female&quot;</td><td>38.0</td><td>1</td><td>0</td><td>&quot;PC 17599&quot;</td><td>71.2833</td><td>&quot;C85&quot;</td><td>&quot;C&quot;</td></tr><tr><td>3</td><td>1</td><td>3</td><td>&quot;Heikkinen, Miss. Laina&quot;</td><td>&quot;female&quot;</td><td>26.0</td><td>0</td><td>0</td><td>&quot;STON/O2. 3101282&quot;</td><td>7.925</td><td>null</td><td>&quot;S&quot;</td></tr></tbody></table></div>"
      ],
      "text/plain": [
       "shape: (3, 12)\n",
       "┌─────────────┬──────────┬────────┬─────────────────────────────────┬───┬──────────────────┬─────────┬───────┬──────────┐\n",
       "│ PassengerId ┆ Survived ┆ Pclass ┆ Name                            ┆ … ┆ Ticket           ┆ Fare    ┆ Cabin ┆ Embarked │\n",
       "│ ---         ┆ ---      ┆ ---    ┆ ---                             ┆   ┆ ---              ┆ ---     ┆ ---   ┆ ---      │\n",
       "│ i64         ┆ i64      ┆ i64    ┆ str                             ┆   ┆ str              ┆ f64     ┆ str   ┆ str      │\n",
       "╞═════════════╪══════════╪════════╪═════════════════════════════════╪═══╪══════════════════╪═════════╪═══════╪══════════╡\n",
       "│ 1           ┆ 0        ┆ 3      ┆ Braund, Mr. Owen Harris         ┆ … ┆ A/5 21171        ┆ 7.25    ┆ null  ┆ S        │\n",
       "│ 2           ┆ 1        ┆ 1      ┆ Cumings, Mrs. John Bradley (Fl… ┆ … ┆ PC 17599         ┆ 71.2833 ┆ C85   ┆ C        │\n",
       "│ 3           ┆ 1        ┆ 3      ┆ Heikkinen, Miss. Laina          ┆ … ┆ STON/O2. 3101282 ┆ 7.925   ┆ null  ┆ S        │\n",
       "└─────────────┴──────────┴────────┴─────────────────────────────────┴───┴──────────────────┴─────────┴───────┴──────────┘"
      ]
     },
     "execution_count": 7,
     "metadata": {},
     "output_type": "execute_result"
    }
   ],
   "source": [
    "csvFile = \"data/titanic.csv\"\n",
    "df = pl.read_csv(csvFile)\n",
    "df.head(3)"
   ]
  },
  {
   "cell_type": "code",
   "execution_count": 8,
   "id": "6c9253f5-4cd4-412e-a831-d4dd96852730",
   "metadata": {},
   "outputs": [
    {
     "data": {
      "text/plain": [
       "array([[1, 0, 3, ..., 7.25, None, 'S'],\n",
       "       [2, 1, 1, ..., 71.2833, 'C85', 'C'],\n",
       "       [3, 1, 3, ..., 7.925, None, 'S'],\n",
       "       ...,\n",
       "       [889, 0, 3, ..., 23.45, None, 'S'],\n",
       "       [890, 1, 1, ..., 30.0, 'C148', 'C'],\n",
       "       [891, 0, 3, ..., 7.75, None, 'Q']], shape=(891, 12), dtype=object)"
      ]
     },
     "execution_count": 8,
     "metadata": {},
     "output_type": "execute_result"
    }
   ],
   "source": [
    "arr = df.to_numpy()\n",
    "arr"
   ]
  },
  {
   "cell_type": "code",
   "execution_count": 9,
   "id": "718b4785-f113-45c8-8651-dea40fb4e591",
   "metadata": {},
   "outputs": [
    {
     "data": {
      "text/plain": [
       "dtype('float64')"
      ]
     },
     "execution_count": 9,
     "metadata": {},
     "output_type": "execute_result"
    }
   ],
   "source": [
    "floats_array = (\n",
    "    df\n",
    "    .select(\n",
    "        pl.col(pl.Float64)\n",
    "    )\n",
    "    .to_numpy()\n",
    ")\n",
    "floats_array.dtype"
   ]
  }
 ],
 "metadata": {
  "kernelspec": {
   "display_name": "Python 3 (ipykernel)",
   "language": "python",
   "name": "python3"
  },
  "language_info": {
   "codemirror_mode": {
    "name": "ipython",
    "version": 3
   },
   "file_extension": ".py",
   "mimetype": "text/x-python",
   "name": "python",
   "nbconvert_exporter": "python",
   "pygments_lexer": "ipython3",
   "version": "3.11.9"
  }
 },
 "nbformat": 4,
 "nbformat_minor": 5
}
