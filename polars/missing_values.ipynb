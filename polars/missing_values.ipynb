{
 "cells": [
  {
   "cell_type": "markdown",
   "id": "8b1fbb74-7b5f-41df-be09-1a6fbb39c74b",
   "metadata": {},
   "source": [
    "# Missing values"
   ]
  },
  {
   "cell_type": "code",
   "execution_count": 1,
   "id": "3d70334c-187a-42b2-82e7-9053b80cd6ad",
   "metadata": {},
   "outputs": [],
   "source": [
    "import polars as pl\n",
    "import polars.selectors as cs"
   ]
  },
  {
   "cell_type": "code",
   "execution_count": 2,
   "id": "730d83ed-e233-4aff-b3eb-52f4cff97521",
   "metadata": {},
   "outputs": [
    {
     "data": {
      "text/html": [
       "<div><style>\n",
       ".dataframe > thead > tr,\n",
       ".dataframe > tbody > tr {\n",
       "  text-align: right;\n",
       "  white-space: pre-wrap;\n",
       "}\n",
       "</style>\n",
       "<small>shape: (4, 2)</small><table border=\"1\" class=\"dataframe\"><thead><tr><th>col1</th><th>col2</th></tr><tr><td>i64</td><td>str</td></tr></thead><tbody><tr><td>null</td><td>null</td></tr><tr><td>2</td><td>null</td></tr><tr><td>3</td><td>&quot;a&quot;</td></tr><tr><td>4</td><td>&quot;b&quot;</td></tr></tbody></table></div>"
      ],
      "text/plain": [
       "shape: (4, 2)\n",
       "┌──────┬──────┐\n",
       "│ col1 ┆ col2 │\n",
       "│ ---  ┆ ---  │\n",
       "│ i64  ┆ str  │\n",
       "╞══════╪══════╡\n",
       "│ null ┆ null │\n",
       "│ 2    ┆ null │\n",
       "│ 3    ┆ a    │\n",
       "│ 4    ┆ b    │\n",
       "└──────┴──────┘"
      ]
     },
     "execution_count": 2,
     "metadata": {},
     "output_type": "execute_result"
    }
   ],
   "source": [
    "df = pl.DataFrame(\n",
    "    {\n",
    "        \"col1\": [None, 2, 3, 4],\n",
    "        \"col2\": [None, None, \"a\", \"b\"]\n",
    "    }\n",
    ")\n",
    "df"
   ]
  },
  {
   "cell_type": "code",
   "execution_count": 3,
   "id": "79686a87-7543-4f1a-88f3-444005c5122f",
   "metadata": {},
   "outputs": [
    {
     "data": {
      "text/html": [
       "<div><style>\n",
       ".dataframe > thead > tr,\n",
       ".dataframe > tbody > tr {\n",
       "  text-align: right;\n",
       "  white-space: pre-wrap;\n",
       "}\n",
       "</style>\n",
       "<small>shape: (1, 2)</small><table border=\"1\" class=\"dataframe\"><thead><tr><th>col1</th><th>col2</th></tr><tr><td>u32</td><td>u32</td></tr></thead><tbody><tr><td>1</td><td>2</td></tr></tbody></table></div>"
      ],
      "text/plain": [
       "shape: (1, 2)\n",
       "┌──────┬──────┐\n",
       "│ col1 ┆ col2 │\n",
       "│ ---  ┆ ---  │\n",
       "│ u32  ┆ u32  │\n",
       "╞══════╪══════╡\n",
       "│ 1    ┆ 2    │\n",
       "└──────┴──────┘"
      ]
     },
     "execution_count": 3,
     "metadata": {},
     "output_type": "execute_result"
    }
   ],
   "source": [
    "df.null_count()"
   ]
  },
  {
   "cell_type": "code",
   "execution_count": 4,
   "id": "7469042a-229a-4a2e-99fc-3c2657ca351a",
   "metadata": {},
   "outputs": [
    {
     "data": {
      "text/html": [
       "<div><style>\n",
       ".dataframe > thead > tr,\n",
       ".dataframe > tbody > tr {\n",
       "  text-align: right;\n",
       "  white-space: pre-wrap;\n",
       "}\n",
       "</style>\n",
       "<small>shape: (4, 3)</small><table border=\"1\" class=\"dataframe\"><thead><tr><th>col1</th><th>is_null</th><th>is_not_null</th></tr><tr><td>i64</td><td>bool</td><td>bool</td></tr></thead><tbody><tr><td>null</td><td>true</td><td>false</td></tr><tr><td>2</td><td>false</td><td>true</td></tr><tr><td>3</td><td>false</td><td>true</td></tr><tr><td>4</td><td>false</td><td>true</td></tr></tbody></table></div>"
      ],
      "text/plain": [
       "shape: (4, 3)\n",
       "┌──────┬─────────┬─────────────┐\n",
       "│ col1 ┆ is_null ┆ is_not_null │\n",
       "│ ---  ┆ ---     ┆ ---         │\n",
       "│ i64  ┆ bool    ┆ bool        │\n",
       "╞══════╪═════════╪═════════════╡\n",
       "│ null ┆ true    ┆ false       │\n",
       "│ 2    ┆ false   ┆ true        │\n",
       "│ 3    ┆ false   ┆ true        │\n",
       "│ 4    ┆ false   ┆ true        │\n",
       "└──────┴─────────┴─────────────┘"
      ]
     },
     "execution_count": 4,
     "metadata": {},
     "output_type": "execute_result"
    }
   ],
   "source": [
    "(\n",
    "    df\n",
    "    .select(\n",
    "        [\n",
    "            pl.col(\"col1\"),\n",
    "            pl.col(\"col1\").is_null().alias(\"is_null\"),\n",
    "            pl.col(\"col1\").is_not_null().alias(\"is_not_null\")\n",
    "        ]\n",
    "    )\n",
    ")"
   ]
  },
  {
   "cell_type": "code",
   "execution_count": 5,
   "id": "8ffacffa-f1d7-47ce-a30e-59b944cce82e",
   "metadata": {},
   "outputs": [
    {
     "data": {
      "text/html": [
       "<div><style>\n",
       ".dataframe > thead > tr,\n",
       ".dataframe > tbody > tr {\n",
       "  text-align: right;\n",
       "  white-space: pre-wrap;\n",
       "}\n",
       "</style>\n",
       "<small>shape: (3, 2)</small><table border=\"1\" class=\"dataframe\"><thead><tr><th>col1</th><th>col2</th></tr><tr><td>i64</td><td>str</td></tr></thead><tbody><tr><td>2</td><td>null</td></tr><tr><td>3</td><td>&quot;a&quot;</td></tr><tr><td>4</td><td>&quot;b&quot;</td></tr></tbody></table></div>"
      ],
      "text/plain": [
       "shape: (3, 2)\n",
       "┌──────┬──────┐\n",
       "│ col1 ┆ col2 │\n",
       "│ ---  ┆ ---  │\n",
       "│ i64  ┆ str  │\n",
       "╞══════╪══════╡\n",
       "│ 2    ┆ null │\n",
       "│ 3    ┆ a    │\n",
       "│ 4    ┆ b    │\n",
       "└──────┴──────┘"
      ]
     },
     "execution_count": 5,
     "metadata": {},
     "output_type": "execute_result"
    }
   ],
   "source": [
    "(\n",
    "    df\n",
    "    .filter(\n",
    "        pl.col(\"col1\").is_not_null()\n",
    "    )\n",
    ")"
   ]
  },
  {
   "cell_type": "code",
   "execution_count": 6,
   "id": "1ce95e59-8274-4b63-9ff2-05266e0ec43a",
   "metadata": {},
   "outputs": [
    {
     "data": {
      "text/html": [
       "<div><style>\n",
       ".dataframe > thead > tr,\n",
       ".dataframe > tbody > tr {\n",
       "  text-align: right;\n",
       "  white-space: pre-wrap;\n",
       "}\n",
       "</style>\n",
       "<small>shape: (3, 2)</small><table border=\"1\" class=\"dataframe\"><thead><tr><th>col1</th><th>col2</th></tr><tr><td>i64</td><td>str</td></tr></thead><tbody><tr><td>2</td><td>null</td></tr><tr><td>3</td><td>&quot;a&quot;</td></tr><tr><td>4</td><td>&quot;b&quot;</td></tr></tbody></table></div>"
      ],
      "text/plain": [
       "shape: (3, 2)\n",
       "┌──────┬──────┐\n",
       "│ col1 ┆ col2 │\n",
       "│ ---  ┆ ---  │\n",
       "│ i64  ┆ str  │\n",
       "╞══════╪══════╡\n",
       "│ 2    ┆ null │\n",
       "│ 3    ┆ a    │\n",
       "│ 4    ┆ b    │\n",
       "└──────┴──────┘"
      ]
     },
     "execution_count": 6,
     "metadata": {},
     "output_type": "execute_result"
    }
   ],
   "source": [
    "(\n",
    "    df\n",
    "    .filter(\n",
    "        pl.any_horizontal(pl.all().is_not_null())\n",
    "    )\n",
    ")"
   ]
  },
  {
   "cell_type": "code",
   "execution_count": 7,
   "id": "95d28479-d7ed-4ef4-ad26-19b3ad2ca382",
   "metadata": {},
   "outputs": [
    {
     "data": {
      "text/html": [
       "<div><style>\n",
       ".dataframe > thead > tr,\n",
       ".dataframe > tbody > tr {\n",
       "  text-align: right;\n",
       "  white-space: pre-wrap;\n",
       "}\n",
       "</style>\n",
       "<small>shape: (2, 2)</small><table border=\"1\" class=\"dataframe\"><thead><tr><th>col1</th><th>col2</th></tr><tr><td>i64</td><td>str</td></tr></thead><tbody><tr><td>3</td><td>&quot;a&quot;</td></tr><tr><td>4</td><td>&quot;b&quot;</td></tr></tbody></table></div>"
      ],
      "text/plain": [
       "shape: (2, 2)\n",
       "┌──────┬──────┐\n",
       "│ col1 ┆ col2 │\n",
       "│ ---  ┆ ---  │\n",
       "│ i64  ┆ str  │\n",
       "╞══════╪══════╡\n",
       "│ 3    ┆ a    │\n",
       "│ 4    ┆ b    │\n",
       "└──────┴──────┘"
      ]
     },
     "execution_count": 7,
     "metadata": {},
     "output_type": "execute_result"
    }
   ],
   "source": [
    "(\n",
    "    df\n",
    "    .filter(\n",
    "        pl.all_horizontal(pl.all().is_not_null())\n",
    "    )\n",
    ")"
   ]
  },
  {
   "cell_type": "code",
   "execution_count": 8,
   "id": "5c04a2e0-dc66-46ed-93fe-5bdc5701f653",
   "metadata": {},
   "outputs": [
    {
     "data": {
      "text/html": [
       "<div><style>\n",
       ".dataframe > thead > tr,\n",
       ".dataframe > tbody > tr {\n",
       "  text-align: right;\n",
       "  white-space: pre-wrap;\n",
       "}\n",
       "</style>\n",
       "<small>shape: (2, 2)</small><table border=\"1\" class=\"dataframe\"><thead><tr><th>col1</th><th>col2</th></tr><tr><td>i64</td><td>str</td></tr></thead><tbody><tr><td>3</td><td>&quot;a&quot;</td></tr><tr><td>4</td><td>&quot;b&quot;</td></tr></tbody></table></div>"
      ],
      "text/plain": [
       "shape: (2, 2)\n",
       "┌──────┬──────┐\n",
       "│ col1 ┆ col2 │\n",
       "│ ---  ┆ ---  │\n",
       "│ i64  ┆ str  │\n",
       "╞══════╪══════╡\n",
       "│ 3    ┆ a    │\n",
       "│ 4    ┆ b    │\n",
       "└──────┴──────┘"
      ]
     },
     "execution_count": 8,
     "metadata": {},
     "output_type": "execute_result"
    }
   ],
   "source": [
    "(\n",
    "    df\n",
    "    .drop_nulls()\n",
    ")"
   ]
  },
  {
   "cell_type": "code",
   "execution_count": 9,
   "id": "05a05892-72b5-4382-b286-ea142ed0b053",
   "metadata": {},
   "outputs": [
    {
     "data": {
      "text/html": [
       "<div><style>\n",
       ".dataframe > thead > tr,\n",
       ".dataframe > tbody > tr {\n",
       "  text-align: right;\n",
       "  white-space: pre-wrap;\n",
       "}\n",
       "</style>\n",
       "<small>shape: (3, 2)</small><table border=\"1\" class=\"dataframe\"><thead><tr><th>col1</th><th>col2</th></tr><tr><td>i64</td><td>str</td></tr></thead><tbody><tr><td>2</td><td>null</td></tr><tr><td>3</td><td>&quot;a&quot;</td></tr><tr><td>4</td><td>&quot;b&quot;</td></tr></tbody></table></div>"
      ],
      "text/plain": [
       "shape: (3, 2)\n",
       "┌──────┬──────┐\n",
       "│ col1 ┆ col2 │\n",
       "│ ---  ┆ ---  │\n",
       "│ i64  ┆ str  │\n",
       "╞══════╪══════╡\n",
       "│ 2    ┆ null │\n",
       "│ 3    ┆ a    │\n",
       "│ 4    ┆ b    │\n",
       "└──────┴──────┘"
      ]
     },
     "execution_count": 9,
     "metadata": {},
     "output_type": "execute_result"
    }
   ],
   "source": [
    "(\n",
    "    df\n",
    "    .drop_nulls(subset=[\"col1\"])\n",
    ")"
   ]
  },
  {
   "cell_type": "code",
   "execution_count": 10,
   "id": "8bef7fdb-1371-4e74-b497-cd53982dde45",
   "metadata": {},
   "outputs": [
    {
     "data": {
      "text/html": [
       "<div><style>\n",
       ".dataframe > thead > tr,\n",
       ".dataframe > tbody > tr {\n",
       "  text-align: right;\n",
       "  white-space: pre-wrap;\n",
       "}\n",
       "</style>\n",
       "<small>shape: (4, 3)</small><table border=\"1\" class=\"dataframe\"><thead><tr><th>col1</th><th>col2</th><th>col3</th></tr><tr><td>i64</td><td>i64</td><td>str</td></tr></thead><tbody><tr><td>0</td><td>0</td><td>&quot;a&quot;</td></tr><tr><td>null</td><td>null</td><td>null</td></tr><tr><td>2</td><td>null</td><td>&quot;c&quot;</td></tr><tr><td>3</td><td>3</td><td>&quot;d&quot;</td></tr></tbody></table></div>"
      ],
      "text/plain": [
       "shape: (4, 3)\n",
       "┌──────┬──────┬──────┐\n",
       "│ col1 ┆ col2 ┆ col3 │\n",
       "│ ---  ┆ ---  ┆ ---  │\n",
       "│ i64  ┆ i64  ┆ str  │\n",
       "╞══════╪══════╪══════╡\n",
       "│ 0    ┆ 0    ┆ a    │\n",
       "│ null ┆ null ┆ null │\n",
       "│ 2    ┆ null ┆ c    │\n",
       "│ 3    ┆ 3    ┆ d    │\n",
       "└──────┴──────┴──────┘"
      ]
     },
     "execution_count": 10,
     "metadata": {},
     "output_type": "execute_result"
    }
   ],
   "source": [
    "df = pl.DataFrame(\n",
    "    {\n",
    "        \"col1\": [0, None, 2, 3],\n",
    "        \"col2\": [0, None, None, 3],\n",
    "        \"col3\": [\"a\", None, \"c\", \"d\"]\n",
    "    }\n",
    ")\n",
    "df"
   ]
  },
  {
   "cell_type": "code",
   "execution_count": 13,
   "id": "c7263a01-4cf4-480e-93f6-258b6469c6da",
   "metadata": {},
   "outputs": [
    {
     "data": {
      "text/html": [
       "<div><style>\n",
       ".dataframe > thead > tr,\n",
       ".dataframe > tbody > tr {\n",
       "  text-align: right;\n",
       "  white-space: pre-wrap;\n",
       "}\n",
       "</style>\n",
       "<small>shape: (4, 6)</small><table border=\"1\" class=\"dataframe\"><thead><tr><th>col1</th><th>col2</th><th>col3</th><th>col1_new</th><th>col2_new</th><th>col3_new</th></tr><tr><td>i64</td><td>i64</td><td>str</td><td>i64</td><td>i64</td><td>str</td></tr></thead><tbody><tr><td>0</td><td>0</td><td>&quot;a&quot;</td><td>0</td><td>0</td><td>&quot;a&quot;</td></tr><tr><td>null</td><td>null</td><td>null</td><td>0</td><td>0</td><td>&quot;0&quot;</td></tr><tr><td>2</td><td>null</td><td>&quot;c&quot;</td><td>2</td><td>0</td><td>&quot;c&quot;</td></tr><tr><td>3</td><td>3</td><td>&quot;d&quot;</td><td>3</td><td>3</td><td>&quot;d&quot;</td></tr></tbody></table></div>"
      ],
      "text/plain": [
       "shape: (4, 6)\n",
       "┌──────┬──────┬──────┬──────────┬──────────┬──────────┐\n",
       "│ col1 ┆ col2 ┆ col3 ┆ col1_new ┆ col2_new ┆ col3_new │\n",
       "│ ---  ┆ ---  ┆ ---  ┆ ---      ┆ ---      ┆ ---      │\n",
       "│ i64  ┆ i64  ┆ str  ┆ i64      ┆ i64      ┆ str      │\n",
       "╞══════╪══════╪══════╪══════════╪══════════╪══════════╡\n",
       "│ 0    ┆ 0    ┆ a    ┆ 0        ┆ 0        ┆ a        │\n",
       "│ null ┆ null ┆ null ┆ 0        ┆ 0        ┆ 0        │\n",
       "│ 2    ┆ null ┆ c    ┆ 2        ┆ 0        ┆ c        │\n",
       "│ 3    ┆ 3    ┆ d    ┆ 3        ┆ 3        ┆ d        │\n",
       "└──────┴──────┴──────┴──────────┴──────────┴──────────┘"
      ]
     },
     "execution_count": 13,
     "metadata": {},
     "output_type": "execute_result"
    }
   ],
   "source": [
    "(\n",
    "    df\n",
    "    .with_columns(\n",
    "        pl.all().fill_null(0).name.suffix(\"_new\")\n",
    "    )\n",
    ")"
   ]
  },
  {
   "cell_type": "code",
   "execution_count": 14,
   "id": "52e0dc52-6dbb-4901-967f-699d39bf73af",
   "metadata": {},
   "outputs": [
    {
     "data": {
      "text/html": [
       "<div><style>\n",
       ".dataframe > thead > tr,\n",
       ".dataframe > tbody > tr {\n",
       "  text-align: right;\n",
       "  white-space: pre-wrap;\n",
       "}\n",
       "</style>\n",
       "<small>shape: (4, 6)</small><table border=\"1\" class=\"dataframe\"><thead><tr><th>col1</th><th>col2</th><th>col3</th><th>col1_new</th><th>col2_new</th><th>col3_new</th></tr><tr><td>i64</td><td>i64</td><td>str</td><td>str</td><td>str</td><td>str</td></tr></thead><tbody><tr><td>0</td><td>0</td><td>&quot;a&quot;</td><td>&quot;0&quot;</td><td>&quot;0&quot;</td><td>&quot;a&quot;</td></tr><tr><td>null</td><td>null</td><td>null</td><td>&quot;missing&quot;</td><td>&quot;missing&quot;</td><td>&quot;missing&quot;</td></tr><tr><td>2</td><td>null</td><td>&quot;c&quot;</td><td>&quot;2&quot;</td><td>&quot;missing&quot;</td><td>&quot;c&quot;</td></tr><tr><td>3</td><td>3</td><td>&quot;d&quot;</td><td>&quot;3&quot;</td><td>&quot;3&quot;</td><td>&quot;d&quot;</td></tr></tbody></table></div>"
      ],
      "text/plain": [
       "shape: (4, 6)\n",
       "┌──────┬──────┬──────┬──────────┬──────────┬──────────┐\n",
       "│ col1 ┆ col2 ┆ col3 ┆ col1_new ┆ col2_new ┆ col3_new │\n",
       "│ ---  ┆ ---  ┆ ---  ┆ ---      ┆ ---      ┆ ---      │\n",
       "│ i64  ┆ i64  ┆ str  ┆ str      ┆ str      ┆ str      │\n",
       "╞══════╪══════╪══════╪══════════╪══════════╪══════════╡\n",
       "│ 0    ┆ 0    ┆ a    ┆ 0        ┆ 0        ┆ a        │\n",
       "│ null ┆ null ┆ null ┆ missing  ┆ missing  ┆ missing  │\n",
       "│ 2    ┆ null ┆ c    ┆ 2        ┆ missing  ┆ c        │\n",
       "│ 3    ┆ 3    ┆ d    ┆ 3        ┆ 3        ┆ d        │\n",
       "└──────┴──────┴──────┴──────────┴──────────┴──────────┘"
      ]
     },
     "execution_count": 14,
     "metadata": {},
     "output_type": "execute_result"
    }
   ],
   "source": [
    "(\n",
    "    df\n",
    "    .with_columns(\n",
    "        pl.all().fill_null(\"missing\").name.suffix(\"_new\")\n",
    "    )\n",
    ")"
   ]
  },
  {
   "cell_type": "code",
   "execution_count": 15,
   "id": "17101860-40a4-4ad7-859b-8c3435aeb4a8",
   "metadata": {},
   "outputs": [
    {
     "data": {
      "text/html": [
       "<div><style>\n",
       ".dataframe > thead > tr,\n",
       ".dataframe > tbody > tr {\n",
       "  text-align: right;\n",
       "  white-space: pre-wrap;\n",
       "}\n",
       "</style>\n",
       "<small>shape: (4, 6)</small><table border=\"1\" class=\"dataframe\"><thead><tr><th>col1</th><th>col2</th><th>col3</th><th>col1_new</th><th>col2_new</th><th>col3_new</th></tr><tr><td>i64</td><td>i64</td><td>str</td><td>i64</td><td>i64</td><td>str</td></tr></thead><tbody><tr><td>0</td><td>0</td><td>&quot;a&quot;</td><td>0</td><td>0</td><td>&quot;a&quot;</td></tr><tr><td>null</td><td>null</td><td>null</td><td>0</td><td>0</td><td>&quot;a&quot;</td></tr><tr><td>2</td><td>null</td><td>&quot;c&quot;</td><td>2</td><td>0</td><td>&quot;c&quot;</td></tr><tr><td>3</td><td>3</td><td>&quot;d&quot;</td><td>3</td><td>3</td><td>&quot;d&quot;</td></tr></tbody></table></div>"
      ],
      "text/plain": [
       "shape: (4, 6)\n",
       "┌──────┬──────┬──────┬──────────┬──────────┬──────────┐\n",
       "│ col1 ┆ col2 ┆ col3 ┆ col1_new ┆ col2_new ┆ col3_new │\n",
       "│ ---  ┆ ---  ┆ ---  ┆ ---      ┆ ---      ┆ ---      │\n",
       "│ i64  ┆ i64  ┆ str  ┆ i64      ┆ i64      ┆ str      │\n",
       "╞══════╪══════╪══════╪══════════╪══════════╪══════════╡\n",
       "│ 0    ┆ 0    ┆ a    ┆ 0        ┆ 0        ┆ a        │\n",
       "│ null ┆ null ┆ null ┆ 0        ┆ 0        ┆ a        │\n",
       "│ 2    ┆ null ┆ c    ┆ 2        ┆ 0        ┆ c        │\n",
       "│ 3    ┆ 3    ┆ d    ┆ 3        ┆ 3        ┆ d        │\n",
       "└──────┴──────┴──────┴──────────┴──────────┴──────────┘"
      ]
     },
     "execution_count": 15,
     "metadata": {},
     "output_type": "execute_result"
    }
   ],
   "source": [
    "(\n",
    "    df\n",
    "    .with_columns(\n",
    "        pl.all().fill_null(strategy=\"forward\").name.suffix(\"_new\")\n",
    "    )\n",
    ")"
   ]
  },
  {
   "cell_type": "code",
   "execution_count": 16,
   "id": "7ba60104-09a6-4694-ad34-b80933fbe49f",
   "metadata": {},
   "outputs": [
    {
     "data": {
      "text/html": [
       "<div><style>\n",
       ".dataframe > thead > tr,\n",
       ".dataframe > tbody > tr {\n",
       "  text-align: right;\n",
       "  white-space: pre-wrap;\n",
       "}\n",
       "</style>\n",
       "<small>shape: (6, 2)</small><table border=\"1\" class=\"dataframe\"><thead><tr><th>group</th><th>col1</th></tr><tr><td>str</td><td>i64</td></tr></thead><tbody><tr><td>&quot;A&quot;</td><td>0</td></tr><tr><td>&quot;B&quot;</td><td>1</td></tr><tr><td>&quot;A&quot;</td><td>null</td></tr><tr><td>&quot;B&quot;</td><td>1</td></tr><tr><td>&quot;A&quot;</td><td>2</td></tr><tr><td>&quot;B&quot;</td><td>null</td></tr></tbody></table></div>"
      ],
      "text/plain": [
       "shape: (6, 2)\n",
       "┌───────┬──────┐\n",
       "│ group ┆ col1 │\n",
       "│ ---   ┆ ---  │\n",
       "│ str   ┆ i64  │\n",
       "╞═══════╪══════╡\n",
       "│ A     ┆ 0    │\n",
       "│ B     ┆ 1    │\n",
       "│ A     ┆ null │\n",
       "│ B     ┆ 1    │\n",
       "│ A     ┆ 2    │\n",
       "│ B     ┆ null │\n",
       "└───────┴──────┘"
      ]
     },
     "execution_count": 16,
     "metadata": {},
     "output_type": "execute_result"
    }
   ],
   "source": [
    "df = pl.DataFrame(\n",
    "    {\n",
    "        \"group\": [\"A\", \"B\", \"A\", \"B\", \"A\", \"B\"],\n",
    "        \"col1\": [0, 1, None, 1, 2, None]\n",
    "    }\n",
    ")\n",
    "df"
   ]
  },
  {
   "cell_type": "code",
   "execution_count": 17,
   "id": "a1457f56-d44a-4ce0-b5da-6194327e3d53",
   "metadata": {},
   "outputs": [
    {
     "data": {
      "text/html": [
       "<div><style>\n",
       ".dataframe > thead > tr,\n",
       ".dataframe > tbody > tr {\n",
       "  text-align: right;\n",
       "  white-space: pre-wrap;\n",
       "}\n",
       "</style>\n",
       "<small>shape: (6, 3)</small><table border=\"1\" class=\"dataframe\"><thead><tr><th>group</th><th>col1</th><th>col1_filled</th></tr><tr><td>str</td><td>i64</td><td>i64</td></tr></thead><tbody><tr><td>&quot;A&quot;</td><td>0</td><td>0</td></tr><tr><td>&quot;B&quot;</td><td>1</td><td>1</td></tr><tr><td>&quot;A&quot;</td><td>null</td><td>0</td></tr><tr><td>&quot;B&quot;</td><td>1</td><td>1</td></tr><tr><td>&quot;A&quot;</td><td>2</td><td>2</td></tr><tr><td>&quot;B&quot;</td><td>null</td><td>1</td></tr></tbody></table></div>"
      ],
      "text/plain": [
       "shape: (6, 3)\n",
       "┌───────┬──────┬─────────────┐\n",
       "│ group ┆ col1 ┆ col1_filled │\n",
       "│ ---   ┆ ---  ┆ ---         │\n",
       "│ str   ┆ i64  ┆ i64         │\n",
       "╞═══════╪══════╪═════════════╡\n",
       "│ A     ┆ 0    ┆ 0           │\n",
       "│ B     ┆ 1    ┆ 1           │\n",
       "│ A     ┆ null ┆ 0           │\n",
       "│ B     ┆ 1    ┆ 1           │\n",
       "│ A     ┆ 2    ┆ 2           │\n",
       "│ B     ┆ null ┆ 1           │\n",
       "└───────┴──────┴─────────────┘"
      ]
     },
     "execution_count": 17,
     "metadata": {},
     "output_type": "execute_result"
    }
   ],
   "source": [
    "(\n",
    "    df\n",
    "    .with_columns(\n",
    "        pl.col(\"col1\").fill_null(strategy=\"forward\").over(\"group\").name.suffix(\"_filled\")\n",
    "    )\n",
    ")"
   ]
  }
 ],
 "metadata": {
  "kernelspec": {
   "display_name": "Python 3 (ipykernel)",
   "language": "python",
   "name": "python3"
  },
  "language_info": {
   "codemirror_mode": {
    "name": "ipython",
    "version": 3
   },
   "file_extension": ".py",
   "mimetype": "text/x-python",
   "name": "python",
   "nbconvert_exporter": "python",
   "pygments_lexer": "ipython3",
   "version": "3.11.9"
  }
 },
 "nbformat": 4,
 "nbformat_minor": 5
}
