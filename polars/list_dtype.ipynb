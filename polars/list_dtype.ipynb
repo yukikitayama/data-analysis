{
 "cells": [
  {
   "cell_type": "markdown",
   "id": "9d1f89a0-9c97-4ea8-a0de-4857d4be5048",
   "metadata": {},
   "source": [
    "# List Dtypes"
   ]
  },
  {
   "cell_type": "code",
   "execution_count": 1,
   "id": "7f588163-d725-4498-9c7f-16f0227c1d14",
   "metadata": {},
   "outputs": [],
   "source": [
    "import polars as pl"
   ]
  },
  {
   "cell_type": "code",
   "execution_count": 2,
   "id": "dcde9ce4-6c0e-481c-b079-d00d47dfde42",
   "metadata": {},
   "outputs": [
    {
     "data": {
      "text/html": [
       "<div><style>\n",
       ".dataframe > thead > tr,\n",
       ".dataframe > tbody > tr {\n",
       "  text-align: right;\n",
       "  white-space: pre-wrap;\n",
       "}\n",
       "</style>\n",
       "<small>shape: (2, 3)</small><table border=\"1\" class=\"dataframe\"><thead><tr><th>ints</th><th>floats</th><th>strings</th></tr><tr><td>list[i64]</td><td>list[f64]</td><td>list[str]</td></tr></thead><tbody><tr><td>[0, 1]</td><td>[0.0, 1.0]</td><td>[&quot;0&quot;, &quot;1&quot;]</td></tr><tr><td>[2, 3]</td><td>[2.0, 3.0]</td><td>[&quot;2&quot;, &quot;3&quot;]</td></tr></tbody></table></div>"
      ],
      "text/plain": [
       "shape: (2, 3)\n",
       "┌───────────┬────────────┬────────────┐\n",
       "│ ints      ┆ floats     ┆ strings    │\n",
       "│ ---       ┆ ---        ┆ ---        │\n",
       "│ list[i64] ┆ list[f64]  ┆ list[str]  │\n",
       "╞═══════════╪════════════╪════════════╡\n",
       "│ [0, 1]    ┆ [0.0, 1.0] ┆ [\"0\", \"1\"] │\n",
       "│ [2, 3]    ┆ [2.0, 3.0] ┆ [\"2\", \"3\"] │\n",
       "└───────────┴────────────┴────────────┘"
      ]
     },
     "execution_count": 2,
     "metadata": {},
     "output_type": "execute_result"
    }
   ],
   "source": [
    "df_lists = pl.DataFrame({\n",
    "    \"ints\": [[0, 1], [2, 3]],\n",
    "    \"floats\": [[0.0, 1], [2, 3]],\n",
    "    \"strings\": [[\"0\", \"1\"], [\"2\", \"3\"]]\n",
    "}, strict=False)\n",
    "df_lists"
   ]
  },
  {
   "cell_type": "code",
   "execution_count": 3,
   "id": "1f74da48-8e63-43fa-8aba-f84ef7fde219",
   "metadata": {},
   "outputs": [
    {
     "data": {
      "text/html": [
       "<div><style>\n",
       ".dataframe > thead > tr,\n",
       ".dataframe > tbody > tr {\n",
       "  text-align: right;\n",
       "  white-space: pre-wrap;\n",
       "}\n",
       "</style>\n",
       "<small>shape: (2,)</small><table border=\"1\" class=\"dataframe\"><thead><tr><th></th></tr><tr><td>i64</td></tr></thead><tbody><tr><td>0</td></tr><tr><td>1</td></tr></tbody></table></div>"
      ],
      "text/plain": [
       "shape: (2,)\n",
       "Series: '' [i64]\n",
       "[\n",
       "\t0\n",
       "\t1\n",
       "]"
      ]
     },
     "execution_count": 3,
     "metadata": {},
     "output_type": "execute_result"
    }
   ],
   "source": [
    "df_lists[0, \"ints\"]"
   ]
  },
  {
   "cell_type": "code",
   "execution_count": 4,
   "id": "7bcf5466-d113-48b3-a7a9-57bb17582d14",
   "metadata": {},
   "outputs": [
    {
     "data": {
      "text/plain": [
       "polars.config.Config"
      ]
     },
     "execution_count": 4,
     "metadata": {},
     "output_type": "execute_result"
    }
   ],
   "source": [
    "pl.Config.set_fmt_table_cell_list_len(20)"
   ]
  },
  {
   "cell_type": "code",
   "execution_count": 5,
   "id": "ce59dece-e258-4ab0-9e50-694077e3cb0e",
   "metadata": {},
   "outputs": [
    {
     "data": {
      "text/html": [
       "<div><style>\n",
       ".dataframe > thead > tr,\n",
       ".dataframe > tbody > tr {\n",
       "  text-align: right;\n",
       "  white-space: pre-wrap;\n",
       "}\n",
       "</style>\n",
       "<small>shape: (2, 1)</small><table border=\"1\" class=\"dataframe\"><thead><tr><th>ints</th></tr><tr><td>list[i64]</td></tr></thead><tbody><tr><td>[0, 1]</td></tr><tr><td>[2, 3]</td></tr></tbody></table></div>"
      ],
      "text/plain": [
       "shape: (2, 1)\n",
       "┌───────────┐\n",
       "│ ints      │\n",
       "│ ---       │\n",
       "│ list[i64] │\n",
       "╞═══════════╡\n",
       "│ [0, 1]    │\n",
       "│ [2, 3]    │\n",
       "└───────────┘"
      ]
     },
     "execution_count": 5,
     "metadata": {},
     "output_type": "execute_result"
    }
   ],
   "source": [
    "(\n",
    "    df_lists\n",
    "    .select(\n",
    "        pl.col(pl.List(pl.Int64))\n",
    "    )\n",
    ")"
   ]
  },
  {
   "cell_type": "code",
   "execution_count": 6,
   "id": "1d26cf13-b307-404f-9401-a478cffbf93e",
   "metadata": {},
   "outputs": [
    {
     "data": {
      "text/html": [
       "<div><style>\n",
       ".dataframe > thead > tr,\n",
       ".dataframe > tbody > tr {\n",
       "  text-align: right;\n",
       "  white-space: pre-wrap;\n",
       "}\n",
       "</style>\n",
       "<small>shape: (3, 1)</small><table border=\"1\" class=\"dataframe\"><thead><tr><th>values</th></tr><tr><td>list[i64]</td></tr></thead><tbody><tr><td>[0, 1]</td></tr><tr><td>[2, 3, 4]</td></tr><tr><td>[4, 5, 6, 7, 8]</td></tr></tbody></table></div>"
      ],
      "text/plain": [
       "shape: (3, 1)\n",
       "┌─────────────────┐\n",
       "│ values          │\n",
       "│ ---             │\n",
       "│ list[i64]       │\n",
       "╞═════════════════╡\n",
       "│ [0, 1]          │\n",
       "│ [2, 3, 4]       │\n",
       "│ [4, 5, 6, 7, 8] │\n",
       "└─────────────────┘"
      ]
     },
     "execution_count": 6,
     "metadata": {},
     "output_type": "execute_result"
    }
   ],
   "source": [
    "(\n",
    "    pl.DataFrame(\n",
    "        {\n",
    "            \"values\": [\n",
    "                [0, 1],\n",
    "                [2, 3, 4],\n",
    "                [4, 5, 6, 7, 8]\n",
    "            ]\n",
    "        }\n",
    "    )\n",
    ")"
   ]
  },
  {
   "cell_type": "code",
   "execution_count": 7,
   "id": "73d003e0-a254-40c3-90a3-11ddedb8376f",
   "metadata": {},
   "outputs": [
    {
     "name": "stderr",
     "output_type": "stream",
     "text": [
      "C:\\Users\\yk279\\AppData\\Local\\Temp\\ipykernel_22416\\2374781562.py:4: DeprecationWarning: the `width` parameter for `Array` is deprecated. Use `shape` instead.\n",
      "(Deprecated in version 0.20.31)\n",
      "  ints_array = pl.col(\"ints\").cast(pl.Array(width=2, inner=pl.Int64))\n"
     ]
    },
    {
     "data": {
      "text/html": [
       "<div><style>\n",
       ".dataframe > thead > tr,\n",
       ".dataframe > tbody > tr {\n",
       "  text-align: right;\n",
       "  white-space: pre-wrap;\n",
       "}\n",
       "</style>\n",
       "<small>shape: (2, 2)</small><table border=\"1\" class=\"dataframe\"><thead><tr><th>ints</th><th>ints_array</th></tr><tr><td>list[i64]</td><td>array[i64, 2]</td></tr></thead><tbody><tr><td>[0, 1]</td><td>[0, 1]</td></tr><tr><td>[2, 3]</td><td>[2, 3]</td></tr></tbody></table></div>"
      ],
      "text/plain": [
       "shape: (2, 2)\n",
       "┌───────────┬───────────────┐\n",
       "│ ints      ┆ ints_array    │\n",
       "│ ---       ┆ ---           │\n",
       "│ list[i64] ┆ array[i64, 2] │\n",
       "╞═══════════╪═══════════════╡\n",
       "│ [0, 1]    ┆ [0, 1]        │\n",
       "│ [2, 3]    ┆ [2, 3]        │\n",
       "└───────────┴───────────────┘"
      ]
     },
     "execution_count": 7,
     "metadata": {},
     "output_type": "execute_result"
    }
   ],
   "source": [
    "(\n",
    "    df_lists\n",
    "    .with_columns(\n",
    "        ints_array = pl.col(\"ints\").cast(pl.Array(width=2, inner=pl.Int64))\n",
    "    )\n",
    "    .select(\"ints\", \"ints_array\")\n",
    ")"
   ]
  },
  {
   "cell_type": "code",
   "execution_count": 9,
   "id": "84c63c94-8e6a-416a-88c1-ba33b3f959fa",
   "metadata": {},
   "outputs": [
    {
     "data": {
      "text/html": [
       "<div><style>\n",
       ".dataframe > thead > tr,\n",
       ".dataframe > tbody > tr {\n",
       "  text-align: right;\n",
       "  white-space: pre-wrap;\n",
       "}\n",
       "</style>\n",
       "<small>shape: (2, 2)</small><table border=\"1\" class=\"dataframe\"><thead><tr><th>id</th><th>values</th></tr><tr><td>str</td><td>list[i64]</td></tr></thead><tbody><tr><td>&quot;a&quot;</td><td>[0, 1]</td></tr><tr><td>&quot;b&quot;</td><td>[2, 3, 4]</td></tr></tbody></table></div>"
      ],
      "text/plain": [
       "shape: (2, 2)\n",
       "┌─────┬───────────┐\n",
       "│ id  ┆ values    │\n",
       "│ --- ┆ ---       │\n",
       "│ str ┆ list[i64] │\n",
       "╞═════╪═══════════╡\n",
       "│ a   ┆ [0, 1]    │\n",
       "│ b   ┆ [2, 3, 4] │\n",
       "└─────┴───────────┘"
      ]
     },
     "execution_count": 9,
     "metadata": {},
     "output_type": "execute_result"
    }
   ],
   "source": [
    "df_list = pl.DataFrame(\n",
    "    {\n",
    "        \"id\": [\"a\", \"b\"],\n",
    "        \"values\": [\n",
    "            [0, 1],\n",
    "            [2, 3, 4]\n",
    "        ]\n",
    "    }\n",
    ")\n",
    "df_list"
   ]
  },
  {
   "cell_type": "code",
   "execution_count": 10,
   "id": "bda9c9a8-ed52-4ad3-97c4-2cdc6efb32ff",
   "metadata": {},
   "outputs": [
    {
     "data": {
      "text/html": [
       "<div><style>\n",
       ".dataframe > thead > tr,\n",
       ".dataframe > tbody > tr {\n",
       "  text-align: right;\n",
       "  white-space: pre-wrap;\n",
       "}\n",
       "</style>\n",
       "<small>shape: (5, 2)</small><table border=\"1\" class=\"dataframe\"><thead><tr><th>id</th><th>values</th></tr><tr><td>str</td><td>i64</td></tr></thead><tbody><tr><td>&quot;a&quot;</td><td>0</td></tr><tr><td>&quot;a&quot;</td><td>1</td></tr><tr><td>&quot;b&quot;</td><td>2</td></tr><tr><td>&quot;b&quot;</td><td>3</td></tr><tr><td>&quot;b&quot;</td><td>4</td></tr></tbody></table></div>"
      ],
      "text/plain": [
       "shape: (5, 2)\n",
       "┌─────┬────────┐\n",
       "│ id  ┆ values │\n",
       "│ --- ┆ ---    │\n",
       "│ str ┆ i64    │\n",
       "╞═════╪════════╡\n",
       "│ a   ┆ 0      │\n",
       "│ a   ┆ 1      │\n",
       "│ b   ┆ 2      │\n",
       "│ b   ┆ 3      │\n",
       "│ b   ┆ 4      │\n",
       "└─────┴────────┘"
      ]
     },
     "execution_count": 10,
     "metadata": {},
     "output_type": "execute_result"
    }
   ],
   "source": [
    "(\n",
    "    df_list\n",
    "    .explode(\"values\")\n",
    ")"
   ]
  },
  {
   "cell_type": "code",
   "execution_count": 11,
   "id": "1c2a9b67-b92e-4e6f-8d68-6319171739e8",
   "metadata": {},
   "outputs": [
    {
     "data": {
      "text/html": [
       "<div><style>\n",
       ".dataframe > thead > tr,\n",
       ".dataframe > tbody > tr {\n",
       "  text-align: right;\n",
       "  white-space: pre-wrap;\n",
       "}\n",
       "</style>\n",
       "<small>shape: (5, 3)</small><table border=\"1\" class=\"dataframe\"><thead><tr><th>id</th><th>values</th><th>rank</th></tr><tr><td>str</td><td>i64</td><td>i32</td></tr></thead><tbody><tr><td>&quot;a&quot;</td><td>0</td><td>1</td></tr><tr><td>&quot;a&quot;</td><td>1</td><td>2</td></tr><tr><td>&quot;b&quot;</td><td>2</td><td>1</td></tr><tr><td>&quot;b&quot;</td><td>3</td><td>2</td></tr><tr><td>&quot;b&quot;</td><td>4</td><td>3</td></tr></tbody></table></div>"
      ],
      "text/plain": [
       "shape: (5, 3)\n",
       "┌─────┬────────┬──────┐\n",
       "│ id  ┆ values ┆ rank │\n",
       "│ --- ┆ ---    ┆ ---  │\n",
       "│ str ┆ i64    ┆ i32  │\n",
       "╞═════╪════════╪══════╡\n",
       "│ a   ┆ 0      ┆ 1    │\n",
       "│ a   ┆ 1      ┆ 2    │\n",
       "│ b   ┆ 2      ┆ 1    │\n",
       "│ b   ┆ 3      ┆ 2    │\n",
       "│ b   ┆ 4      ┆ 3    │\n",
       "└─────┴────────┴──────┘"
      ]
     },
     "execution_count": 11,
     "metadata": {},
     "output_type": "execute_result"
    }
   ],
   "source": [
    "(\n",
    "    df_list\n",
    "    .explode(\"values\")\n",
    "    .with_columns(\n",
    "        pl.col(\"values\").rank().over(\"id\").cast(pl.Int32).alias(\"rank\")\n",
    "    )\n",
    ")"
   ]
  },
  {
   "cell_type": "code",
   "execution_count": 13,
   "id": "c56e9ead-fc51-44ca-a59c-85b39481db6a",
   "metadata": {},
   "outputs": [
    {
     "data": {
      "text/html": [
       "<div><style>\n",
       ".dataframe > thead > tr,\n",
       ".dataframe > tbody > tr {\n",
       "  text-align: right;\n",
       "  white-space: pre-wrap;\n",
       "}\n",
       "</style>\n",
       "<small>shape: (2, 3)</small><table border=\"1\" class=\"dataframe\"><thead><tr><th>id</th><th>values</th><th>rank</th></tr><tr><td>str</td><td>list[i64]</td><td>list[i32]</td></tr></thead><tbody><tr><td>&quot;a&quot;</td><td>[0, 1]</td><td>[1, 2]</td></tr><tr><td>&quot;b&quot;</td><td>[2, 3, 4]</td><td>[1, 2, 3]</td></tr></tbody></table></div>"
      ],
      "text/plain": [
       "shape: (2, 3)\n",
       "┌─────┬───────────┬───────────┐\n",
       "│ id  ┆ values    ┆ rank      │\n",
       "│ --- ┆ ---       ┆ ---       │\n",
       "│ str ┆ list[i64] ┆ list[i32] │\n",
       "╞═════╪═══════════╪═══════════╡\n",
       "│ a   ┆ [0, 1]    ┆ [1, 2]    │\n",
       "│ b   ┆ [2, 3, 4] ┆ [1, 2, 3] │\n",
       "└─────┴───────────┴───────────┘"
      ]
     },
     "execution_count": 13,
     "metadata": {},
     "output_type": "execute_result"
    }
   ],
   "source": [
    "(\n",
    "    df_list\n",
    "    .explode(\"values\")\n",
    "    .with_columns(\n",
    "        pl.col(\"values\").rank().over(\"id\").cast(pl.Int32).alias(\"rank\")\n",
    "    )\n",
    "    .group_by(\"id\")\n",
    "    .agg(\n",
    "        pl.col(\"values\"),\n",
    "        pl.col(\"rank\")\n",
    "    )\n",
    ")"
   ]
  },
  {
   "cell_type": "code",
   "execution_count": 14,
   "id": "b52d1767-88eb-4b9a-a7f7-1900d9852458",
   "metadata": {},
   "outputs": [
    {
     "data": {
      "text/html": [
       "<div><style>\n",
       ".dataframe > thead > tr,\n",
       ".dataframe > tbody > tr {\n",
       "  text-align: right;\n",
       "  white-space: pre-wrap;\n",
       "}\n",
       "</style>\n",
       "<small>shape: (2, 3)</small><table border=\"1\" class=\"dataframe\"><thead><tr><th>id</th><th>id2</th><th>values</th></tr><tr><td>str</td><td>str</td><td>list[i64]</td></tr></thead><tbody><tr><td>&quot;a&quot;</td><td>&quot;c&quot;</td><td>[0, 1]</td></tr><tr><td>&quot;b&quot;</td><td>&quot;d&quot;</td><td>[2, 3, 4]</td></tr></tbody></table></div>"
      ],
      "text/plain": [
       "shape: (2, 3)\n",
       "┌─────┬─────┬───────────┐\n",
       "│ id  ┆ id2 ┆ values    │\n",
       "│ --- ┆ --- ┆ ---       │\n",
       "│ str ┆ str ┆ list[i64] │\n",
       "╞═════╪═════╪═══════════╡\n",
       "│ a   ┆ c   ┆ [0, 1]    │\n",
       "│ b   ┆ d   ┆ [2, 3, 4] │\n",
       "└─────┴─────┴───────────┘"
      ]
     },
     "execution_count": 14,
     "metadata": {},
     "output_type": "execute_result"
    }
   ],
   "source": [
    "df_list_extra_column = pl.DataFrame(\n",
    "    {\n",
    "        \"id\": [\"a\", \"b\"],\n",
    "        \"id2\": [\"c\", \"d\"],\n",
    "        \"values\": [\n",
    "            [0, 1],\n",
    "            [2, 3, 4]\n",
    "        ]\n",
    "    }\n",
    ")\n",
    "df_list_extra_column"
   ]
  },
  {
   "cell_type": "code",
   "execution_count": 15,
   "id": "cab25d3a-4a77-48f8-9185-73c748d128dd",
   "metadata": {},
   "outputs": [
    {
     "data": {
      "text/html": [
       "<div><style>\n",
       ".dataframe > thead > tr,\n",
       ".dataframe > tbody > tr {\n",
       "  text-align: right;\n",
       "  white-space: pre-wrap;\n",
       "}\n",
       "</style>\n",
       "<small>shape: (2, 4)</small><table border=\"1\" class=\"dataframe\"><thead><tr><th>id</th><th>id2</th><th>values</th><th>rank</th></tr><tr><td>str</td><td>str</td><td>list[i64]</td><td>list[i32]</td></tr></thead><tbody><tr><td>&quot;a&quot;</td><td>&quot;c&quot;</td><td>[0, 1]</td><td>[1, 2]</td></tr><tr><td>&quot;b&quot;</td><td>&quot;d&quot;</td><td>[2, 3, 4]</td><td>[1, 2, 3]</td></tr></tbody></table></div>"
      ],
      "text/plain": [
       "shape: (2, 4)\n",
       "┌─────┬─────┬───────────┬───────────┐\n",
       "│ id  ┆ id2 ┆ values    ┆ rank      │\n",
       "│ --- ┆ --- ┆ ---       ┆ ---       │\n",
       "│ str ┆ str ┆ list[i64] ┆ list[i32] │\n",
       "╞═════╪═════╪═══════════╪═══════════╡\n",
       "│ a   ┆ c   ┆ [0, 1]    ┆ [1, 2]    │\n",
       "│ b   ┆ d   ┆ [2, 3, 4] ┆ [1, 2, 3] │\n",
       "└─────┴─────┴───────────┴───────────┘"
      ]
     },
     "execution_count": 15,
     "metadata": {},
     "output_type": "execute_result"
    }
   ],
   "source": [
    "(\n",
    "    df_list_extra_column\n",
    "    .join(\n",
    "        df_list_extra_column.pipe(\n",
    "            lambda df: (\n",
    "                df\n",
    "                .select(\"id\", \"values\")\n",
    "                .explode(\"values\")\n",
    "                .with_columns(\n",
    "                    pl.col(\"values\").rank().over(\"id\").cast(pl.Int32).alias(\"rank\")\n",
    "                )\n",
    "                .group_by(\"id\")\n",
    "                .agg(\n",
    "                    pl.col(\"rank\")\n",
    "                )\n",
    "            )\n",
    "        ),\n",
    "        on=\"id\",\n",
    "        how=\"left\"\n",
    "    )\n",
    ")"
   ]
  },
  {
   "cell_type": "code",
   "execution_count": 16,
   "id": "2d525682-1878-4dbd-8ab9-b2205db139f7",
   "metadata": {},
   "outputs": [
    {
     "data": {
      "text/html": [
       "<div><style>\n",
       ".dataframe > thead > tr,\n",
       ".dataframe > tbody > tr {\n",
       "  text-align: right;\n",
       "  white-space: pre-wrap;\n",
       "}\n",
       "</style>\n",
       "<small>shape: (2, 2)</small><table border=\"1\" class=\"dataframe\"><thead><tr><th>id</th><th>values</th></tr><tr><td>str</td><td>list[i64]</td></tr></thead><tbody><tr><td>&quot;a&quot;</td><td>[0, 1]</td></tr><tr><td>&quot;b&quot;</td><td>[2, 3, 4]</td></tr></tbody></table></div>"
      ],
      "text/plain": [
       "shape: (2, 2)\n",
       "┌─────┬───────────┐\n",
       "│ id  ┆ values    │\n",
       "│ --- ┆ ---       │\n",
       "│ str ┆ list[i64] │\n",
       "╞═════╪═══════════╡\n",
       "│ a   ┆ [0, 1]    │\n",
       "│ b   ┆ [2, 3, 4] │\n",
       "└─────┴───────────┘"
      ]
     },
     "execution_count": 16,
     "metadata": {},
     "output_type": "execute_result"
    }
   ],
   "source": [
    "df_list"
   ]
  },
  {
   "cell_type": "code",
   "execution_count": 17,
   "id": "d8f6f1ad-a4e1-4d64-bc74-23d027ebaa85",
   "metadata": {},
   "outputs": [
    {
     "name": "stderr",
     "output_type": "stream",
     "text": [
      "C:\\Users\\yk279\\AppData\\Local\\Temp\\ipykernel_22416\\3796179463.py:4: UserWarning: `to_struct()` should be passed a list of field names to avoid query errors in subsequent operations (e.g. <struct operation> not supported for dtype Unknown)\n",
      "  pl.col(\"values\").list.to_struct().alias(\"value_struct\")\n"
     ]
    },
    {
     "data": {
      "text/html": [
       "<div><style>\n",
       ".dataframe > thead > tr,\n",
       ".dataframe > tbody > tr {\n",
       "  text-align: right;\n",
       "  white-space: pre-wrap;\n",
       "}\n",
       "</style>\n",
       "<small>shape: (2, 3)</small><table border=\"1\" class=\"dataframe\"><thead><tr><th>id</th><th>values</th><th>value_struct</th></tr><tr><td>str</td><td>list[i64]</td><td>struct[2]</td></tr></thead><tbody><tr><td>&quot;a&quot;</td><td>[0, 1]</td><td>{0,1}</td></tr><tr><td>&quot;b&quot;</td><td>[2, 3, 4]</td><td>{2,3}</td></tr></tbody></table></div>"
      ],
      "text/plain": [
       "shape: (2, 3)\n",
       "┌─────┬───────────┬──────────────┐\n",
       "│ id  ┆ values    ┆ value_struct │\n",
       "│ --- ┆ ---       ┆ ---          │\n",
       "│ str ┆ list[i64] ┆ struct[2]    │\n",
       "╞═════╪═══════════╪══════════════╡\n",
       "│ a   ┆ [0, 1]    ┆ {0,1}        │\n",
       "│ b   ┆ [2, 3, 4] ┆ {2,3}        │\n",
       "└─────┴───────────┴──────────────┘"
      ]
     },
     "execution_count": 17,
     "metadata": {},
     "output_type": "execute_result"
    }
   ],
   "source": [
    "(\n",
    "    df_list\n",
    "    .with_columns(\n",
    "        pl.col(\"values\").list.to_struct().alias(\"value_struct\")\n",
    "    )\n",
    ")"
   ]
  },
  {
   "cell_type": "code",
   "execution_count": 18,
   "id": "b76ed2fa-ca67-4d01-860b-158cb689adee",
   "metadata": {},
   "outputs": [
    {
     "name": "stderr",
     "output_type": "stream",
     "text": [
      "C:\\Users\\yk279\\AppData\\Local\\Temp\\ipykernel_22416\\1010148370.py:4: UserWarning: `to_struct()` should be passed a list of field names to avoid query errors in subsequent operations (e.g. <struct operation> not supported for dtype Unknown)\n",
      "  pl.col(\"values\").list.to_struct().alias(\"value_struct\")\n"
     ]
    },
    {
     "data": {
      "text/html": [
       "<div><style>\n",
       ".dataframe > thead > tr,\n",
       ".dataframe > tbody > tr {\n",
       "  text-align: right;\n",
       "  white-space: pre-wrap;\n",
       "}\n",
       "</style>\n",
       "<small>shape: (2, 4)</small><table border=\"1\" class=\"dataframe\"><thead><tr><th>id</th><th>values</th><th>field_0</th><th>field_1</th></tr><tr><td>str</td><td>list[i64]</td><td>i64</td><td>i64</td></tr></thead><tbody><tr><td>&quot;a&quot;</td><td>[0, 1]</td><td>0</td><td>1</td></tr><tr><td>&quot;b&quot;</td><td>[2, 3, 4]</td><td>2</td><td>3</td></tr></tbody></table></div>"
      ],
      "text/plain": [
       "shape: (2, 4)\n",
       "┌─────┬───────────┬─────────┬─────────┐\n",
       "│ id  ┆ values    ┆ field_0 ┆ field_1 │\n",
       "│ --- ┆ ---       ┆ ---     ┆ ---     │\n",
       "│ str ┆ list[i64] ┆ i64     ┆ i64     │\n",
       "╞═════╪═══════════╪═════════╪═════════╡\n",
       "│ a   ┆ [0, 1]    ┆ 0       ┆ 1       │\n",
       "│ b   ┆ [2, 3, 4] ┆ 2       ┆ 3       │\n",
       "└─────┴───────────┴─────────┴─────────┘"
      ]
     },
     "execution_count": 18,
     "metadata": {},
     "output_type": "execute_result"
    }
   ],
   "source": [
    "(\n",
    "    df_list\n",
    "    .with_columns(\n",
    "        pl.col(\"values\").list.to_struct().alias(\"value_struct\")\n",
    "    )\n",
    "    .unnest(\"value_struct\")\n",
    ")"
   ]
  },
  {
   "cell_type": "code",
   "execution_count": 20,
   "id": "cca926c2-36aa-4262-8b5c-8f1d08a6b706",
   "metadata": {},
   "outputs": [
    {
     "data": {
      "text/html": [
       "<div><style>\n",
       ".dataframe > thead > tr,\n",
       ".dataframe > tbody > tr {\n",
       "  text-align: right;\n",
       "  white-space: pre-wrap;\n",
       "}\n",
       "</style>\n",
       "<small>shape: (3, 1)</small><table border=\"1\" class=\"dataframe\"><thead><tr><th>embeddings</th></tr><tr><td>list[f64]</td></tr></thead><tbody><tr><td>[0.0, 1.0]</td></tr><tr><td>[2.0, 3.0]</td></tr><tr><td>[4.0, 5.0]</td></tr></tbody></table></div>"
      ],
      "text/plain": [
       "shape: (3, 1)\n",
       "┌────────────┐\n",
       "│ embeddings │\n",
       "│ ---        │\n",
       "│ list[f64]  │\n",
       "╞════════════╡\n",
       "│ [0.0, 1.0] │\n",
       "│ [2.0, 3.0] │\n",
       "│ [4.0, 5.0] │\n",
       "└────────────┘"
      ]
     },
     "execution_count": 20,
     "metadata": {},
     "output_type": "execute_result"
    }
   ],
   "source": [
    "df_embeddings = (\n",
    "    pl.DataFrame(\n",
    "        {\n",
    "            \"embeddings\": [\n",
    "                [0.0, 1],\n",
    "                [2, 3],\n",
    "                [4, 5]\n",
    "            ]\n",
    "        },\n",
    "        strict=False\n",
    "    )\n",
    ")\n",
    "df_embeddings"
   ]
  },
  {
   "cell_type": "code",
   "execution_count": 21,
   "id": "93247c7b-8cdf-43e7-a74b-f48d982165ae",
   "metadata": {},
   "outputs": [
    {
     "data": {
      "text/plain": [
       "array([array([0., 1.]), array([2., 3.]), array([4., 5.])], dtype=object)"
      ]
     },
     "execution_count": 21,
     "metadata": {},
     "output_type": "execute_result"
    }
   ],
   "source": [
    "df_embeddings[\"embeddings\"].to_numpy()"
   ]
  },
  {
   "cell_type": "code",
   "execution_count": 23,
   "id": "9eced3d7-d997-49c0-a1bb-c758521bec5b",
   "metadata": {},
   "outputs": [
    {
     "data": {
      "text/plain": [
       "array([[0., 1.],\n",
       "       [2., 3.],\n",
       "       [4., 5.]])"
      ]
     },
     "execution_count": 23,
     "metadata": {},
     "output_type": "execute_result"
    }
   ],
   "source": [
    "(\n",
    "    df_embeddings[\"embeddings\"]\n",
    "    .explode()\n",
    "    .to_numpy()\n",
    "    .reshape(len(df_embeddings), -1)\n",
    ")"
   ]
  },
  {
   "cell_type": "code",
   "execution_count": 24,
   "id": "41a40456-0e04-4374-935d-64c29c684278",
   "metadata": {},
   "outputs": [
    {
     "name": "stderr",
     "output_type": "stream",
     "text": [
      "C:\\Users\\yk279\\AppData\\Local\\Temp\\ipykernel_22416\\816135705.py:4: DeprecationWarning: the `width` parameter for `Array` is deprecated. Use `shape` instead.\n",
      "(Deprecated in version 0.20.31)\n",
      "  pl.col(\"embeddings\").cast(pl.Array(width=2, inner=pl.Float64))\n"
     ]
    },
    {
     "data": {
      "text/plain": [
       "array([[0., 1.],\n",
       "       [2., 3.],\n",
       "       [4., 5.]])"
      ]
     },
     "execution_count": 24,
     "metadata": {},
     "output_type": "execute_result"
    }
   ],
   "source": [
    "(\n",
    "    df_embeddings\n",
    "    .with_columns(\n",
    "        pl.col(\"embeddings\").cast(pl.Array(width=2, inner=pl.Float64))\n",
    "    )\n",
    "    [\"embeddings\"].to_numpy()\n",
    ")"
   ]
  }
 ],
 "metadata": {
  "kernelspec": {
   "display_name": "Python 3 (ipykernel)",
   "language": "python",
   "name": "python3"
  },
  "language_info": {
   "codemirror_mode": {
    "name": "ipython",
    "version": 3
   },
   "file_extension": ".py",
   "mimetype": "text/x-python",
   "name": "python",
   "nbconvert_exporter": "python",
   "pygments_lexer": "ipython3",
   "version": "3.11.9"
  }
 },
 "nbformat": 4,
 "nbformat_minor": 5
}
