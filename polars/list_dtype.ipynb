{
 "cells": [
  {
   "cell_type": "markdown",
   "id": "9d1f89a0-9c97-4ea8-a0de-4857d4be5048",
   "metadata": {},
   "source": [
    "# List Dtypes"
   ]
  },
  {
   "cell_type": "code",
   "execution_count": 1,
   "id": "7f588163-d725-4498-9c7f-16f0227c1d14",
   "metadata": {},
   "outputs": [],
   "source": [
    "import polars as pl"
   ]
  },
  {
   "cell_type": "code",
   "execution_count": 3,
   "id": "dcde9ce4-6c0e-481c-b079-d00d47dfde42",
   "metadata": {},
   "outputs": [
    {
     "data": {
      "text/html": [
       "<div><style>\n",
       ".dataframe > thead > tr,\n",
       ".dataframe > tbody > tr {\n",
       "  text-align: right;\n",
       "  white-space: pre-wrap;\n",
       "}\n",
       "</style>\n",
       "<small>shape: (2, 3)</small><table border=\"1\" class=\"dataframe\"><thead><tr><th>ints</th><th>floats</th><th>strings</th></tr><tr><td>list[i64]</td><td>list[f64]</td><td>list[str]</td></tr></thead><tbody><tr><td>[0, 1]</td><td>[0.0, 1.0]</td><td>[&quot;0&quot;, &quot;1&quot;]</td></tr><tr><td>[2, 3]</td><td>[2.0, 3.0]</td><td>[&quot;2&quot;, &quot;3&quot;]</td></tr></tbody></table></div>"
      ],
      "text/plain": [
       "shape: (2, 3)\n",
       "┌───────────┬────────────┬────────────┐\n",
       "│ ints      ┆ floats     ┆ strings    │\n",
       "│ ---       ┆ ---        ┆ ---        │\n",
       "│ list[i64] ┆ list[f64]  ┆ list[str]  │\n",
       "╞═══════════╪════════════╪════════════╡\n",
       "│ [0, 1]    ┆ [0.0, 1.0] ┆ [\"0\", \"1\"] │\n",
       "│ [2, 3]    ┆ [2.0, 3.0] ┆ [\"2\", \"3\"] │\n",
       "└───────────┴────────────┴────────────┘"
      ]
     },
     "execution_count": 3,
     "metadata": {},
     "output_type": "execute_result"
    }
   ],
   "source": [
    "df_lists = pl.DataFrame({\n",
    "    \"ints\": [[0, 1], [2, 3]],\n",
    "    \"floats\": [[0.0, 1], [2, 3]],\n",
    "    \"strings\": [[\"0\", \"1\"], [\"2\", \"3\"]]\n",
    "}, strict=False)\n",
    "df_lists"
   ]
  },
  {
   "cell_type": "code",
   "execution_count": 4,
   "id": "1f74da48-8e63-43fa-8aba-f84ef7fde219",
   "metadata": {},
   "outputs": [
    {
     "data": {
      "text/html": [
       "<div><style>\n",
       ".dataframe > thead > tr,\n",
       ".dataframe > tbody > tr {\n",
       "  text-align: right;\n",
       "  white-space: pre-wrap;\n",
       "}\n",
       "</style>\n",
       "<small>shape: (2,)</small><table border=\"1\" class=\"dataframe\"><thead><tr><th></th></tr><tr><td>i64</td></tr></thead><tbody><tr><td>0</td></tr><tr><td>1</td></tr></tbody></table></div>"
      ],
      "text/plain": [
       "shape: (2,)\n",
       "Series: '' [i64]\n",
       "[\n",
       "\t0\n",
       "\t1\n",
       "]"
      ]
     },
     "execution_count": 4,
     "metadata": {},
     "output_type": "execute_result"
    }
   ],
   "source": [
    "df_lists[0, \"ints\"]"
   ]
  },
  {
   "cell_type": "code",
   "execution_count": 5,
   "id": "7bcf5466-d113-48b3-a7a9-57bb17582d14",
   "metadata": {},
   "outputs": [
    {
     "data": {
      "text/plain": [
       "polars.config.Config"
      ]
     },
     "execution_count": 5,
     "metadata": {},
     "output_type": "execute_result"
    }
   ],
   "source": [
    "pl.Config.set_fmt_table_cell_list_len(20)"
   ]
  },
  {
   "cell_type": "code",
   "execution_count": 7,
   "id": "ce59dece-e258-4ab0-9e50-694077e3cb0e",
   "metadata": {},
   "outputs": [
    {
     "data": {
      "text/html": [
       "<div><style>\n",
       ".dataframe > thead > tr,\n",
       ".dataframe > tbody > tr {\n",
       "  text-align: right;\n",
       "  white-space: pre-wrap;\n",
       "}\n",
       "</style>\n",
       "<small>shape: (2, 1)</small><table border=\"1\" class=\"dataframe\"><thead><tr><th>ints</th></tr><tr><td>list[i64]</td></tr></thead><tbody><tr><td>[0, 1]</td></tr><tr><td>[2, 3]</td></tr></tbody></table></div>"
      ],
      "text/plain": [
       "shape: (2, 1)\n",
       "┌───────────┐\n",
       "│ ints      │\n",
       "│ ---       │\n",
       "│ list[i64] │\n",
       "╞═══════════╡\n",
       "│ [0, 1]    │\n",
       "│ [2, 3]    │\n",
       "└───────────┘"
      ]
     },
     "execution_count": 7,
     "metadata": {},
     "output_type": "execute_result"
    }
   ],
   "source": [
    "(\n",
    "    df_lists\n",
    "    .select(\n",
    "        pl.col(pl.List(pl.Int64))\n",
    "    )\n",
    ")"
   ]
  },
  {
   "cell_type": "code",
   "execution_count": 8,
   "id": "1d26cf13-b307-404f-9401-a478cffbf93e",
   "metadata": {},
   "outputs": [
    {
     "data": {
      "text/html": [
       "<div><style>\n",
       ".dataframe > thead > tr,\n",
       ".dataframe > tbody > tr {\n",
       "  text-align: right;\n",
       "  white-space: pre-wrap;\n",
       "}\n",
       "</style>\n",
       "<small>shape: (3, 1)</small><table border=\"1\" class=\"dataframe\"><thead><tr><th>values</th></tr><tr><td>list[i64]</td></tr></thead><tbody><tr><td>[0, 1]</td></tr><tr><td>[2, 3, 4]</td></tr><tr><td>[4, 5, 6, 7, 8]</td></tr></tbody></table></div>"
      ],
      "text/plain": [
       "shape: (3, 1)\n",
       "┌─────────────────┐\n",
       "│ values          │\n",
       "│ ---             │\n",
       "│ list[i64]       │\n",
       "╞═════════════════╡\n",
       "│ [0, 1]          │\n",
       "│ [2, 3, 4]       │\n",
       "│ [4, 5, 6, 7, 8] │\n",
       "└─────────────────┘"
      ]
     },
     "execution_count": 8,
     "metadata": {},
     "output_type": "execute_result"
    }
   ],
   "source": [
    "(\n",
    "    pl.DataFrame(\n",
    "        {\n",
    "            \"values\": [\n",
    "                [0, 1],\n",
    "                [2, 3, 4],\n",
    "                [4, 5, 6, 7, 8]\n",
    "            ]\n",
    "        }\n",
    "    )\n",
    ")"
   ]
  },
  {
   "cell_type": "code",
   "execution_count": 9,
   "id": "73d003e0-a254-40c3-90a3-11ddedb8376f",
   "metadata": {},
   "outputs": [
    {
     "name": "stderr",
     "output_type": "stream",
     "text": [
      "C:\\Users\\yk279\\AppData\\Local\\Temp\\ipykernel_12104\\2374781562.py:4: DeprecationWarning: the `width` parameter for `Array` is deprecated. Use `shape` instead.\n",
      "(Deprecated in version 0.20.31)\n",
      "  ints_array = pl.col(\"ints\").cast(pl.Array(width=2, inner=pl.Int64))\n"
     ]
    },
    {
     "data": {
      "text/html": [
       "<div><style>\n",
       ".dataframe > thead > tr,\n",
       ".dataframe > tbody > tr {\n",
       "  text-align: right;\n",
       "  white-space: pre-wrap;\n",
       "}\n",
       "</style>\n",
       "<small>shape: (2, 2)</small><table border=\"1\" class=\"dataframe\"><thead><tr><th>ints</th><th>ints_array</th></tr><tr><td>list[i64]</td><td>array[i64, 2]</td></tr></thead><tbody><tr><td>[0, 1]</td><td>[0, 1]</td></tr><tr><td>[2, 3]</td><td>[2, 3]</td></tr></tbody></table></div>"
      ],
      "text/plain": [
       "shape: (2, 2)\n",
       "┌───────────┬───────────────┐\n",
       "│ ints      ┆ ints_array    │\n",
       "│ ---       ┆ ---           │\n",
       "│ list[i64] ┆ array[i64, 2] │\n",
       "╞═══════════╪═══════════════╡\n",
       "│ [0, 1]    ┆ [0, 1]        │\n",
       "│ [2, 3]    ┆ [2, 3]        │\n",
       "└───────────┴───────────────┘"
      ]
     },
     "execution_count": 9,
     "metadata": {},
     "output_type": "execute_result"
    }
   ],
   "source": [
    "(\n",
    "    df_lists\n",
    "    .with_columns(\n",
    "        ints_array = pl.col(\"ints\").cast(pl.Array(width=2, inner=pl.Int64))\n",
    "    )\n",
    "    .select(\"ints\", \"ints_array\")\n",
    ")"
   ]
  },
  {
   "cell_type": "code",
   "execution_count": null,
   "id": "84c63c94-8e6a-416a-88c1-ba33b3f959fa",
   "metadata": {},
   "outputs": [],
   "source": [
    "#explode"
   ]
  }
 ],
 "metadata": {
  "kernelspec": {
   "display_name": "Python 3 (ipykernel)",
   "language": "python",
   "name": "python3"
  },
  "language_info": {
   "codemirror_mode": {
    "name": "ipython",
    "version": 3
   },
   "file_extension": ".py",
   "mimetype": "text/x-python",
   "name": "python",
   "nbconvert_exporter": "python",
   "pygments_lexer": "ipython3",
   "version": "3.11.9"
  }
 },
 "nbformat": 4,
 "nbformat_minor": 5
}
