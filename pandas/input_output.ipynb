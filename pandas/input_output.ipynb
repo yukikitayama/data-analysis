{
 "cells": [
  {
   "cell_type": "markdown",
   "id": "dd17c60b-60aa-43e3-abbe-8fc1018d9107",
   "metadata": {},
   "source": [
    "# Input and Output"
   ]
  },
  {
   "cell_type": "code",
   "execution_count": 1,
   "id": "479e855b-715b-4642-aaed-e778b24e7a44",
   "metadata": {},
   "outputs": [],
   "source": [
    "import pandas as pd"
   ]
  },
  {
   "cell_type": "code",
   "execution_count": 2,
   "id": "2394c440-46ef-4ca1-b1a1-34b6c002586d",
   "metadata": {},
   "outputs": [],
   "source": [
    "url = \"https://data.cityofnewyork.us/api/views/25th-nujf/rows.csv\""
   ]
  },
  {
   "cell_type": "code",
   "execution_count": 3,
   "id": "cb061e1b-67d2-466f-83cc-69c7b38d0b64",
   "metadata": {},
   "outputs": [],
   "source": [
    "baby_names = pd.read_csv(url)"
   ]
  },
  {
   "cell_type": "code",
   "execution_count": 4,
   "id": "787cb1ef-2acd-4f2c-a760-d68dd0e1ee71",
   "metadata": {},
   "outputs": [
    {
     "data": {
      "text/html": [
       "<div>\n",
       "<style scoped>\n",
       "    .dataframe tbody tr th:only-of-type {\n",
       "        vertical-align: middle;\n",
       "    }\n",
       "\n",
       "    .dataframe tbody tr th {\n",
       "        vertical-align: top;\n",
       "    }\n",
       "\n",
       "    .dataframe thead th {\n",
       "        text-align: right;\n",
       "    }\n",
       "</style>\n",
       "<table border=\"1\" class=\"dataframe\">\n",
       "  <thead>\n",
       "    <tr style=\"text-align: right;\">\n",
       "      <th></th>\n",
       "      <th>Year of Birth</th>\n",
       "      <th>Gender</th>\n",
       "      <th>Ethnicity</th>\n",
       "      <th>Child's First Name</th>\n",
       "      <th>Count</th>\n",
       "      <th>Rank</th>\n",
       "    </tr>\n",
       "  </thead>\n",
       "  <tbody>\n",
       "    <tr>\n",
       "      <th>0</th>\n",
       "      <td>2011</td>\n",
       "      <td>FEMALE</td>\n",
       "      <td>HISPANIC</td>\n",
       "      <td>GERALDINE</td>\n",
       "      <td>13</td>\n",
       "      <td>75</td>\n",
       "    </tr>\n",
       "    <tr>\n",
       "      <th>1</th>\n",
       "      <td>2011</td>\n",
       "      <td>FEMALE</td>\n",
       "      <td>HISPANIC</td>\n",
       "      <td>GIA</td>\n",
       "      <td>21</td>\n",
       "      <td>67</td>\n",
       "    </tr>\n",
       "    <tr>\n",
       "      <th>2</th>\n",
       "      <td>2011</td>\n",
       "      <td>FEMALE</td>\n",
       "      <td>HISPANIC</td>\n",
       "      <td>GIANNA</td>\n",
       "      <td>49</td>\n",
       "      <td>42</td>\n",
       "    </tr>\n",
       "    <tr>\n",
       "      <th>3</th>\n",
       "      <td>2011</td>\n",
       "      <td>FEMALE</td>\n",
       "      <td>HISPANIC</td>\n",
       "      <td>GISELLE</td>\n",
       "      <td>38</td>\n",
       "      <td>51</td>\n",
       "    </tr>\n",
       "    <tr>\n",
       "      <th>4</th>\n",
       "      <td>2011</td>\n",
       "      <td>FEMALE</td>\n",
       "      <td>HISPANIC</td>\n",
       "      <td>GRACE</td>\n",
       "      <td>36</td>\n",
       "      <td>53</td>\n",
       "    </tr>\n",
       "  </tbody>\n",
       "</table>\n",
       "</div>"
      ],
      "text/plain": [
       "   Year of Birth  Gender Ethnicity Child's First Name  Count  Rank\n",
       "0           2011  FEMALE  HISPANIC          GERALDINE     13    75\n",
       "1           2011  FEMALE  HISPANIC                GIA     21    67\n",
       "2           2011  FEMALE  HISPANIC             GIANNA     49    42\n",
       "3           2011  FEMALE  HISPANIC            GISELLE     38    51\n",
       "4           2011  FEMALE  HISPANIC              GRACE     36    53"
      ]
     },
     "execution_count": 4,
     "metadata": {},
     "output_type": "execute_result"
    }
   ],
   "source": [
    "baby_names.head()"
   ]
  },
  {
   "cell_type": "code",
   "execution_count": 6,
   "id": "97e78311-5b6a-49e3-8c17-170641da3899",
   "metadata": {},
   "outputs": [],
   "source": [
    "baby_names.to_csv(\"baby_names.csv\")\n",
    "baby_names.to_csv(\"baby_names.csv\", index=False)\n",
    "baby_names.to_csv(\"baby_names.csv\", index=False, columns=[\"Year of Birth\", \"Child's First Name\", \"Count\"])"
   ]
  },
  {
   "cell_type": "code",
   "execution_count": 7,
   "id": "8d9fae7b-c19e-4d47-8748-844a1d5ebccc",
   "metadata": {},
   "outputs": [
    {
     "data": {
      "text/html": [
       "<div>\n",
       "<style scoped>\n",
       "    .dataframe tbody tr th:only-of-type {\n",
       "        vertical-align: middle;\n",
       "    }\n",
       "\n",
       "    .dataframe tbody tr th {\n",
       "        vertical-align: top;\n",
       "    }\n",
       "\n",
       "    .dataframe thead th {\n",
       "        text-align: right;\n",
       "    }\n",
       "</style>\n",
       "<table border=\"1\" class=\"dataframe\">\n",
       "  <thead>\n",
       "    <tr style=\"text-align: right;\">\n",
       "      <th></th>\n",
       "      <th>First Name</th>\n",
       "      <th>Last Name</th>\n",
       "      <th>City</th>\n",
       "      <th>Gender</th>\n",
       "    </tr>\n",
       "  </thead>\n",
       "  <tbody>\n",
       "    <tr>\n",
       "      <th>0</th>\n",
       "      <td>Parker</td>\n",
       "      <td>Power</td>\n",
       "      <td>Raleigh</td>\n",
       "      <td>F</td>\n",
       "    </tr>\n",
       "    <tr>\n",
       "      <th>1</th>\n",
       "      <td>Preston</td>\n",
       "      <td>Prescott</td>\n",
       "      <td>Philadelphia</td>\n",
       "      <td>F</td>\n",
       "    </tr>\n",
       "    <tr>\n",
       "      <th>2</th>\n",
       "      <td>Ronaldo</td>\n",
       "      <td>Donaldo</td>\n",
       "      <td>Bangor</td>\n",
       "      <td>M</td>\n",
       "    </tr>\n",
       "    <tr>\n",
       "      <th>3</th>\n",
       "      <td>Megan</td>\n",
       "      <td>Stiller</td>\n",
       "      <td>San Francisco</td>\n",
       "      <td>M</td>\n",
       "    </tr>\n",
       "    <tr>\n",
       "      <th>4</th>\n",
       "      <td>Bustin</td>\n",
       "      <td>Jieber</td>\n",
       "      <td>Austin</td>\n",
       "      <td>F</td>\n",
       "    </tr>\n",
       "  </tbody>\n",
       "</table>\n",
       "</div>"
      ],
      "text/plain": [
       "  First Name Last Name           City Gender\n",
       "0     Parker     Power        Raleigh      F\n",
       "1    Preston  Prescott   Philadelphia      F\n",
       "2    Ronaldo   Donaldo         Bangor      M\n",
       "3      Megan   Stiller  San Francisco      M\n",
       "4     Bustin    Jieber         Austin      F"
      ]
     },
     "execution_count": 7,
     "metadata": {},
     "output_type": "execute_result"
    }
   ],
   "source": [
    "pd.read_excel(\"Data - Single Worksheet.xlsx\")\n",
    "pd.read_excel(\"Data - Multiple Worksheets.xlsx\", sheet_name=\"Data 2\")\n",
    "pd.read_excel(\"Data - Multiple Worksheets.xlsx\", sheet_name=1)\n",
    "\n",
    "type(pd.read_excel(\"Data - Multiple Worksheets.xlsx\", sheet_name=[\"Data 1\", \"Data 2\"]))\n",
    "type(pd.read_excel(\"Data - Multiple Worksheets.xlsx\", sheet_name=[0, 1]))\n",
    "data = pd.read_excel(\"Data - Multiple Worksheets.xlsx\", sheet_name=None)\n",
    "data[\"Data 1\"]\n",
    "data[\"Data 2\"]"
   ]
  },
  {
   "cell_type": "code",
   "execution_count": 19,
   "id": "bd3112ab-4265-4983-91be-4d39988e192b",
   "metadata": {},
   "outputs": [],
   "source": [
    "baby_names.head()\n",
    "females = baby_names[baby_names[\"Gender\"] == \"FEMALE\"]\n",
    "males = baby_names[baby_names[\"Gender\"] == \"MALE\"]\n",
    "\n",
    "with pd.ExcelWriter(\"NYC Baby Data.xlsx\") as excel_file:\n",
    "    females.to_excel(excel_file, sheet_name=\"Females\", index=False)\n",
    "    males.to_excel(\n",
    "        excel_file, \n",
    "        sheet_name=\"Males\", \n",
    "        index=False, \n",
    "        columns=[\"Year of Birth\", \"Child's First Name\", \"Rank\"]\n",
    "    )"
   ]
  },
  {
   "cell_type": "code",
   "execution_count": null,
   "id": "afd35559-df04-4180-8309-a3d3427c0d01",
   "metadata": {},
   "outputs": [],
   "source": []
  }
 ],
 "metadata": {
  "kernelspec": {
   "display_name": "Python 3 (ipykernel)",
   "language": "python",
   "name": "python3"
  },
  "language_info": {
   "codemirror_mode": {
    "name": "ipython",
    "version": 3
   },
   "file_extension": ".py",
   "mimetype": "text/x-python",
   "name": "python",
   "nbconvert_exporter": "python",
   "pygments_lexer": "ipython3",
   "version": "3.11.9"
  }
 },
 "nbformat": 4,
 "nbformat_minor": 5
}
